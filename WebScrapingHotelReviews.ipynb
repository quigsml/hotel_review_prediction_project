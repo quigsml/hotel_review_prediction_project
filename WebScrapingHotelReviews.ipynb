{
 "cells": [
  {
   "cell_type": "markdown",
   "id": "278bed39",
   "metadata": {},
   "source": [
    "# Web Scraping Hotel and Review Data"
   ]
  },
  {
   "cell_type": "markdown",
   "id": "509e5e89",
   "metadata": {},
   "source": [
    "### Import Libraries"
   ]
  },
  {
   "cell_type": "code",
   "execution_count": 1,
   "id": "tutorial-transsexual",
   "metadata": {},
   "outputs": [],
   "source": [
    "import numpy as np\n",
    "import pandas as pd\n",
    "import matplotlib as plt\n",
    "import json"
   ]
  },
  {
   "cell_type": "code",
   "execution_count": 2,
   "id": "spatial-supplier",
   "metadata": {},
   "outputs": [],
   "source": [
    "import requests\n",
    "import bs4\n",
    "from bs4 import BeautifulSoup\n",
    "from tqdm import tqdm\n",
    "import time\n",
    "import re"
   ]
  },
  {
   "cell_type": "code",
   "execution_count": 3,
   "id": "0902b838",
   "metadata": {},
   "outputs": [],
   "source": [
    "from selenium import webdriver\n",
    "from webdriver_manager.chrome import ChromeDriverManager\n",
    "from time import time, sleep"
   ]
  },
  {
   "cell_type": "code",
   "execution_count": 6,
   "id": "d4c8ddf3",
   "metadata": {},
   "outputs": [],
   "source": [
    "import os"
   ]
  },
  {
   "cell_type": "markdown",
   "id": "5121ac43",
   "metadata": {},
   "source": [
    "### Sections\n",
    "1.0 Hotel Links\n",
    "- 1.1 [Code for scraping hotel data links for London Hotels](#scrape_links)\n",
    "- 1.2 [Save link data to CSV file](#link_save)\n",
    "- 1.3 [Load link data from CSV file](#link_load)\n",
    "\n",
    "2.0 Functions to extract data\n",
    "- 2.1 [Hotel data functions](#hotel_func)\n",
    "- 2.2 [Review data functions](#review_func)\n",
    "\n",
    "3.0 Scraping Hotel Data\n",
    "- 3.1 [Code to scrape hotel data](#hotel_scrape)\n",
    "- 3.2 [Load hotel data from CSV](#hotel_load)\n",
    "- 3.2.1 [Add approximate time to scrape reviews column](#hotel_tts)\n",
    "\n",
    "4.0 Scraping Review Data\n",
    "- 4.1 [Code to scrape review data](#review_scrape)\n",
    "- 4.2 [Load review data from CSV](#review_load)"
   ]
  },
  {
   "cell_type": "markdown",
   "id": "c5f2dfd2",
   "metadata": {},
   "source": [
    "## 1.0 Hotel Links"
   ]
  },
  {
   "cell_type": "markdown",
   "id": "48329592",
   "metadata": {},
   "source": [
    "<a name='scrape_links'></a>\n",
    "### 1.1 Code for scraping hotel data links for London Hotels"
   ]
  },
  {
   "cell_type": "code",
   "execution_count": 38,
   "id": "503a6dcb",
   "metadata": {
    "scrolled": false
   },
   "outputs": [
    {
     "name": "stderr",
     "output_type": "stream",
     "text": [
      " 10%|█         | 1/10 [01:16<11:28, 76.52s/it]"
     ]
    },
    {
     "name": "stdout",
     "output_type": "stream",
     "text": [
      "3600 1890\n"
     ]
    },
    {
     "name": "stderr",
     "output_type": "stream",
     "text": [
      "\r",
      " 20%|██        | 2/10 [02:34<10:18, 77.33s/it]"
     ]
    },
    {
     "name": "stdout",
     "output_type": "stream",
     "text": [
      "3630 1920\n"
     ]
    },
    {
     "name": "stderr",
     "output_type": "stream",
     "text": [
      "\r",
      " 30%|███       | 3/10 [03:39<08:22, 71.84s/it]"
     ]
    },
    {
     "name": "stdout",
     "output_type": "stream",
     "text": [
      "3660 1950\n",
      "error with links\n"
     ]
    },
    {
     "name": "stderr",
     "output_type": "stream",
     "text": [
      "\r",
      " 40%|████      | 4/10 [06:35<11:17, 112.98s/it]"
     ]
    },
    {
     "name": "stdout",
     "output_type": "stream",
     "text": [
      "3690 1950\n"
     ]
    },
    {
     "name": "stderr",
     "output_type": "stream",
     "text": [
      "\r",
      " 50%|█████     | 5/10 [07:53<08:21, 100.30s/it]"
     ]
    },
    {
     "name": "stdout",
     "output_type": "stream",
     "text": [
      "3720 1980\n",
      "error with links\n"
     ]
    },
    {
     "name": "stderr",
     "output_type": "stream",
     "text": [
      "\r",
      " 60%|██████    | 6/10 [10:55<08:32, 128.13s/it]"
     ]
    },
    {
     "name": "stdout",
     "output_type": "stream",
     "text": [
      "3750 1980\n",
      "error with links\n"
     ]
    },
    {
     "name": "stderr",
     "output_type": "stream",
     "text": [
      "\r",
      " 70%|███████   | 7/10 [13:38<06:57, 139.28s/it]"
     ]
    },
    {
     "name": "stdout",
     "output_type": "stream",
     "text": [
      "3780 1980\n",
      "error with links\n"
     ]
    },
    {
     "name": "stderr",
     "output_type": "stream",
     "text": [
      "\r",
      " 80%|████████  | 8/10 [17:26<05:35, 167.54s/it]"
     ]
    },
    {
     "name": "stdout",
     "output_type": "stream",
     "text": [
      "3810 1980\n",
      "error with links\n"
     ]
    },
    {
     "name": "stderr",
     "output_type": "stream",
     "text": [
      "\r",
      " 90%|█████████ | 9/10 [20:10<02:46, 166.55s/it]"
     ]
    },
    {
     "name": "stdout",
     "output_type": "stream",
     "text": [
      "3840 1980\n",
      "error with links\n"
     ]
    },
    {
     "name": "stderr",
     "output_type": "stream",
     "text": [
      "100%|██████████| 10/10 [23:41<00:00, 142.15s/it]"
     ]
    },
    {
     "name": "stdout",
     "output_type": "stream",
     "text": [
      "3870 1980\n",
      "big sleep\n"
     ]
    },
    {
     "name": "stderr",
     "output_type": "stream",
     "text": [
      "\n"
     ]
    }
   ],
   "source": [
    "# Set up initial scrape to get all London hotel links from website\n",
    "status = []\n",
    "links = []\n",
    "for i in range(0, 900, 900):\n",
    "    for page in tqdm(range(3600,3900,30)):\n",
    "        sleep(np.random.randint(25,45))\n",
    "        try:\n",
    "            r = requests.get(f'https://www.tripadvisor.co.uk/Hotels-g186338-oa{page}-London_England-Hotels.html')\n",
    "        except:\n",
    "            print('page not found')\n",
    "        status.append(r.status_code)\n",
    "        soup = BeautifulSoup(r.text, 'html.parser')\n",
    "        \n",
    "        try: \n",
    "            links = links + [link['href'] for link in soup.find_all('a', attrs={\"class\":\"review_count\"})]\n",
    "            sleep(np.random.randint(25,45))\n",
    "        except:\n",
    "            print('error with links')\n",
    "            sleep(np.random.randint(100,200))\n",
    "    \n",
    "        print(page, len(links))\n",
    "    \n",
    "    print('big sleep')\n",
    "    #sleep(np.random.randint(100,150))"
   ]
  },
  {
   "cell_type": "markdown",
   "id": "82f40dbb",
   "metadata": {},
   "source": [
    "<a name='link_save'></a>\n",
    "### 1.2 Save link data to CSV file"
   ]
  },
  {
   "cell_type": "code",
   "execution_count": 17,
   "id": "a9d587e3",
   "metadata": {},
   "outputs": [],
   "source": [
    "# save links to csv\n",
    "# df = pd.DataFrame(links, columns=['links'])\n",
    "# df.to_csv(f'./TripAdvisor_ReviewLinks_London_')"
   ]
  },
  {
   "cell_type": "markdown",
   "id": "178e4879",
   "metadata": {},
   "source": [
    "<a name='link_load'></a>\n",
    "### 1.3 Load link data from CSV file"
   ]
  },
  {
   "cell_type": "code",
   "execution_count": 12,
   "id": "e8d56d2e",
   "metadata": {},
   "outputs": [],
   "source": [
    "# load links csv into dataframe\n",
    "links = [link for link in os.listdir() if 'Links' in link]\n",
    "df_links = pd.DataFrame()\n",
    "for link in links:\n",
    "    df_link = pd.read_csv(link)\n",
    "    df_links = pd.concat([df_links, df_link], ignore_index=True)\n",
    "\n",
    "# drop duplicates\n",
    "df_links = df_links.drop('Unnamed: 0', axis=1).drop_duplicates(ignore_index=True)"
   ]
  },
  {
   "cell_type": "markdown",
   "id": "eea0242f",
   "metadata": {},
   "source": [
    "## 2.0 Functions to extract data"
   ]
  },
  {
   "cell_type": "markdown",
   "id": "2f857823",
   "metadata": {},
   "source": [
    "<a name='hotel_func'></a>\n",
    "### 2.1 Hotel data functions"
   ]
  },
  {
   "cell_type": "code",
   "execution_count": null,
   "id": "8260ff6c",
   "metadata": {},
   "outputs": [],
   "source": [
    "# extract html from an hotel to test functions\n",
    "url_review = 'https://www.tripadvisor.co.uk/Hotel_Review-g186338-d193660-Reviews-London_Marriott_Hotel_Kensington-London_England.html'\n",
    "\n",
    "r_review = requests.get(url_review)\n",
    "soup_review = BeautifulSoup(r_review.text, 'html.parser')"
   ]
  },
  {
   "cell_type": "code",
   "execution_count": null,
   "id": "f5d76f74",
   "metadata": {},
   "outputs": [],
   "source": [
    "# get the hotel name\n",
    "def get_hotel_name(result):\n",
    "    try:\n",
    "        return result.find('h1').text\n",
    "    except:\n",
    "        return 'None'"
   ]
  },
  {
   "cell_type": "code",
   "execution_count": 22,
   "id": "0cefc777",
   "metadata": {},
   "outputs": [
    {
     "data": {
      "text/plain": [
       "'London Marriott Hotel Kensington Reviews'"
      ]
     },
     "execution_count": 22,
     "metadata": {},
     "output_type": "execute_result"
    }
   ],
   "source": [
    "get_hotel_name(soup_review)"
   ]
  },
  {
   "cell_type": "code",
   "execution_count": null,
   "id": "0e11c9e8",
   "metadata": {},
   "outputs": [],
   "source": [
    "# get the average score\n",
    "def get_hotel_avg_score(result):\n",
    "    try:\n",
    "        return result.find(class_='_3cjYfwwQ').text\n",
    "    except:\n",
    "        return 'None'"
   ]
  },
  {
   "cell_type": "code",
   "execution_count": null,
   "id": "0d8813fa",
   "metadata": {},
   "outputs": [],
   "source": [
    "get_hotel_avg_score(soup_review)"
   ]
  },
  {
   "cell_type": "code",
   "execution_count": 25,
   "id": "0d277657",
   "metadata": {},
   "outputs": [],
   "source": [
    "# get the total number of reviews for hotel\n",
    "def get_hotel_num_reviews(result):\n",
    "    try:\n",
    "        return int(result.find(class_='_3jEYFo-z').text.split(' ')[0].replace(',', ''))\n",
    "    except:\n",
    "        return 'None'"
   ]
  },
  {
   "cell_type": "code",
   "execution_count": 26,
   "id": "f89ae0f9",
   "metadata": {},
   "outputs": [
    {
     "data": {
      "text/plain": [
       "1942"
      ]
     },
     "execution_count": 26,
     "metadata": {},
     "output_type": "execute_result"
    }
   ],
   "source": [
    "get_hotel_num_reviews(soup_review)"
   ]
  },
  {
   "cell_type": "code",
   "execution_count": 27,
   "id": "88db3308",
   "metadata": {},
   "outputs": [],
   "source": [
    "# get the hotel review number (may/may not be useful)\n",
    "def get_hotel_review_number(result):\n",
    "    try:\n",
    "        return result.find('span', class_='_28eYYeHH').text\n",
    "    except:\n",
    "        return 'None'"
   ]
  },
  {
   "cell_type": "code",
   "execution_count": 28,
   "id": "a3519a8a",
   "metadata": {},
   "outputs": [
    {
     "data": {
      "text/plain": [
       "'#415 of 1,173 hotels in London'"
      ]
     },
     "execution_count": 28,
     "metadata": {},
     "output_type": "execute_result"
    }
   ],
   "source": [
    "get_hotel_review_number(soup_review)"
   ]
  },
  {
   "cell_type": "code",
   "execution_count": 29,
   "id": "a38be0c6",
   "metadata": {},
   "outputs": [],
   "source": [
    "# get the breakdon of the review score, returns dictionary\n",
    "def get_hotel_avg_score_breakdown(result):\n",
    "    try:\n",
    "        return {div.text: int(div.span['class'][1][-2:])/10 for div in result.find_all('div', class_='_1krg1t5y')}\n",
    "    except:\n",
    "        return 'None'"
   ]
  },
  {
   "cell_type": "code",
   "execution_count": 30,
   "id": "bb097f75",
   "metadata": {},
   "outputs": [
    {
     "data": {
      "text/plain": [
       "{'Location': 4.5, 'Cleanliness': 4.5, 'Service': 4.5, 'Value': 4.0}"
      ]
     },
     "execution_count": 30,
     "metadata": {},
     "output_type": "execute_result"
    }
   ],
   "source": [
    "get_hotel_avg_score_breakdown(soup_review)"
   ]
  },
  {
   "cell_type": "code",
   "execution_count": 31,
   "id": "1e16432a",
   "metadata": {},
   "outputs": [],
   "source": [
    "# extract the hotel description\n",
    "def get_hotel_desc(result):\n",
    "    try:\n",
    "        return result.find('div', class_='cPQsENeY').text\n",
    "    except:\n",
    "        return 'None'"
   ]
  },
  {
   "cell_type": "code",
   "execution_count": 32,
   "id": "9a4ca7b7",
   "metadata": {},
   "outputs": [
    {
     "data": {
      "text/plain": [
       "\"Discover sophisticated comfort at London Marriott Hotel Kensington. Set in an ideal location, our hotel in Kensington, England offers easy access to London's most celebrated landmarks, including Hyde Park, the Natural History Museum and Kensington Palace.\""
      ]
     },
     "execution_count": 32,
     "metadata": {},
     "output_type": "execute_result"
    }
   ],
   "source": [
    "get_hotel_desc(soup_review)"
   ]
  },
  {
   "cell_type": "code",
   "execution_count": 38,
   "id": "d536420e",
   "metadata": {},
   "outputs": [],
   "source": [
    "# extract the hotel \"style\" information, returns data as a list\n",
    "def get_hotel_style(result):\n",
    "    try:\n",
    "        return [div.get_text() for div in result.find_all('div', class_='_2dtF3ueh')]\n",
    "    except:\n",
    "        return 'None'"
   ]
  },
  {
   "cell_type": "code",
   "execution_count": 39,
   "id": "cca05600",
   "metadata": {},
   "outputs": [
    {
     "data": {
      "text/plain": [
       "['', 'Green', 'Business']"
      ]
     },
     "execution_count": 39,
     "metadata": {},
     "output_type": "execute_result"
    }
   ],
   "source": [
    "get_hotel_style(soup_review)"
   ]
  },
  {
   "cell_type": "code",
   "execution_count": 40,
   "id": "fda29ab8",
   "metadata": {},
   "outputs": [],
   "source": [
    "# get the hotel star rating\n",
    "def get_hotel_star_rating(result):\n",
    "    try:\n",
    "        return float(result.find('svg', class_='AZd6Ff4E')['title'].split(' ')[0])\n",
    "    except:\n",
    "        return 'None'"
   ]
  },
  {
   "cell_type": "code",
   "execution_count": 41,
   "id": "ceef6c0e",
   "metadata": {},
   "outputs": [
    {
     "data": {
      "text/plain": [
       "4.0"
      ]
     },
     "execution_count": 41,
     "metadata": {},
     "output_type": "execute_result"
    }
   ],
   "source": [
    "get_hotel_star_rating(soup_review)"
   ]
  },
  {
   "cell_type": "code",
   "execution_count": 42,
   "id": "8fd5e79b",
   "metadata": {},
   "outputs": [],
   "source": [
    "# get the hotel location details, returns data in a list\n",
    "def get_hotel_location_details(result):\n",
    "    try:\n",
    "        return [div.get_text() for div in result.find_all('div', class_='_27i_rL5x ui_column is-4')]\n",
    "    except:\n",
    "        return 'None'"
   ]
  },
  {
   "cell_type": "code",
   "execution_count": 43,
   "id": "354a3d0b",
   "metadata": {},
   "outputs": [
    {
     "data": {
      "text/plain": [
       "['100Great for walkersGrade: 100 out of 100',\n",
       " '104Restaurantswithin 0.3 miles',\n",
       " '8Attractionswithin 0.3 miles']"
      ]
     },
     "execution_count": 43,
     "metadata": {},
     "output_type": "execute_result"
    }
   ],
   "source": [
    "get_hotel_location_details(soup_review)"
   ]
  },
  {
   "cell_type": "code",
   "execution_count": 44,
   "id": "83cad525",
   "metadata": {},
   "outputs": [],
   "source": [
    "# extract the address\n",
    "def get_hotel_address(result):\n",
    "    try:\n",
    "        return result.find(class_='_1sPw_t0w _2oAeY-0w').text\n",
    "    except:\n",
    "        return 'None'"
   ]
  },
  {
   "cell_type": "code",
   "execution_count": 45,
   "id": "79c19e2d",
   "metadata": {},
   "outputs": [
    {
     "data": {
      "text/plain": [
       "'147C Cromwell Road Kensington, London SW5 0TH England'"
      ]
     },
     "execution_count": 45,
     "metadata": {},
     "output_type": "execute_result"
    }
   ],
   "source": [
    "get_hotel_address(soup_review)"
   ]
  },
  {
   "cell_type": "code",
   "execution_count": 46,
   "id": "adf710be",
   "metadata": {},
   "outputs": [],
   "source": [
    "# extract details of hotel amenities\n",
    "def get_hotel_amenities(result):\n",
    "    try:\n",
    "        return ', '.join([div.text for div in result.find_all(class_='_2rdvbNSg')])\n",
    "    except:\n",
    "        return 'None'"
   ]
  },
  {
   "cell_type": "code",
   "execution_count": 47,
   "id": "b2bd7eb9",
   "metadata": {},
   "outputs": [
    {
     "data": {
      "text/plain": [
       "'Paid private parking on-site, Wifi, Fitness Centre with Gym / Workout Room, Bar / lounge, Car hire, Conference facilities, Meeting rooms, Baggage storage, Secured parking, Paid wifi, Restaurant, Breakfast buffet, Breakfast in the room, Complimentary instant cofffee, Concierge, Currency exchange, Newspaper, Non-smoking hotel, ATM on site, 24-hour front desk, Express check-in / check-out, Dry cleaning, Allergy-free room, Air conditioning, Housekeeping, Room service, Safe, VIP room facilities, Flatscreen TV, Non-smoking rooms, Suites, Family rooms'"
      ]
     },
     "execution_count": 47,
     "metadata": {},
     "output_type": "execute_result"
    }
   ],
   "source": [
    "get_hotel_amenities(soup_review)"
   ]
  },
  {
   "cell_type": "code",
   "execution_count": 48,
   "id": "9f34e5fd",
   "metadata": {},
   "outputs": [],
   "source": [
    "# get the overall number of reviews split by rating - list ordered [5, 4, 3, 2, 1]\n",
    "def get_hotel_overall_review_ratings(result):\n",
    "    try:\n",
    "        return [int(span.text) for span in result.find_all(class_='_3fVK8yi6')]\n",
    "    except:\n",
    "        return 'None'"
   ]
  },
  {
   "cell_type": "code",
   "execution_count": 49,
   "id": "4f8b8584",
   "metadata": {},
   "outputs": [
    {
     "data": {
      "text/plain": [
       "[796, 704, 295, 89, 58]"
      ]
     },
     "execution_count": 49,
     "metadata": {},
     "output_type": "execute_result"
    }
   ],
   "source": [
    "get_hotel_overall_review_ratings(soup_review)"
   ]
  },
  {
   "cell_type": "code",
   "execution_count": 51,
   "id": "ac502b1c",
   "metadata": {},
   "outputs": [],
   "source": [
    "# get the total number of reviews split by language, returns dictionary\n",
    "def get_hotel_top_language_reviews(result):\n",
    "    try:\n",
    "        return dict(zip([i.text for i in result.find_all(class_='_1wk-I7LS')], \n",
    "                        [int(i.text.replace('(','').replace(')','').replace(',', '')) for i in result.find_all(class_='mxlinKbW')]))\n",
    "    except:\n",
    "        return 'None'"
   ]
  },
  {
   "cell_type": "code",
   "execution_count": 52,
   "id": "861fb3e6",
   "metadata": {},
   "outputs": [
    {
     "data": {
      "text/plain": [
       "{'All languages': 1942,\n",
       " 'English': 1774,\n",
       " 'Chinese (Sim.)': 140,\n",
       " 'Chinese (Trad.)': 130}"
      ]
     },
     "execution_count": 52,
     "metadata": {},
     "output_type": "execute_result"
    }
   ],
   "source": [
    "get_hotel_top_language_reviews(soup_review)"
   ]
  },
  {
   "cell_type": "code",
   "execution_count": 53,
   "id": "4a082bd5",
   "metadata": {},
   "outputs": [],
   "source": [
    "# miscellaneous extra details including average room rates, returns data as a list\n",
    "def get_hotel_extra_details(result):\n",
    "    try:\n",
    "        return [i.text for i in result.find_all(class_='_1NHwuRzF')]\n",
    "    except:\n",
    "        return 'None'"
   ]
  },
  {
   "cell_type": "code",
   "execution_count": 54,
   "id": "05d50543",
   "metadata": {},
   "outputs": [
    {
     "data": {
      "text/plain": [
       "['£119 - £253 (Based on Average Rates for a Standard Room) ',\n",
       " 'marriott london, london marriott',\n",
       " 'United KingdomEnglandLondonEarls Court / South Kensington',\n",
       " '226']"
      ]
     },
     "execution_count": 54,
     "metadata": {},
     "output_type": "execute_result"
    }
   ],
   "source": [
    "get_hotel_extra_details(soup_review)"
   ]
  },
  {
   "cell_type": "markdown",
   "id": "33ac073b",
   "metadata": {},
   "source": [
    "<a name='review_func'></a>\n",
    "### 2.2 Review data functions"
   ]
  },
  {
   "cell_type": "code",
   "execution_count": 55,
   "id": "a962e96d",
   "metadata": {},
   "outputs": [],
   "source": [
    "# get all reviews on page (maximum of 5 per page) and return as list\n",
    "def get_reviews(result):\n",
    "    try:\n",
    "        return result.find_all(class_='_2wrUUKlw _3hFEdNs8')\n",
    "    except:\n",
    "        return 'None'"
   ]
  },
  {
   "cell_type": "code",
   "execution_count": 67,
   "id": "c50307bc",
   "metadata": {},
   "outputs": [
    {
     "data": {
      "text/plain": [
       "5"
      ]
     },
     "execution_count": 67,
     "metadata": {},
     "output_type": "execute_result"
    }
   ],
   "source": [
    "len(get_reviews(soup_review))"
   ]
  },
  {
   "cell_type": "code",
   "execution_count": 57,
   "id": "f1b3e738",
   "metadata": {},
   "outputs": [],
   "source": [
    "# function to extract review headline from review list\n",
    "def review_headline(result):\n",
    "    try:\n",
    "        return result.find(class_='glasR4aX').text\n",
    "    except:\n",
    "        return 'None'"
   ]
  },
  {
   "cell_type": "code",
   "execution_count": 58,
   "id": "1e3e63ab",
   "metadata": {},
   "outputs": [
    {
     "data": {
      "text/plain": [
       "'Great'"
      ]
     },
     "execution_count": 58,
     "metadata": {},
     "output_type": "execute_result"
    }
   ],
   "source": [
    "review_headline(get_reviews(soup_review)[0])"
   ]
  },
  {
   "cell_type": "code",
   "execution_count": 60,
   "id": "c939a274",
   "metadata": {},
   "outputs": [],
   "source": [
    "# function to extract main body of review from review list\n",
    "def review(result):\n",
    "    try:\n",
    "        return result.find(class_='IRsGHoPm').text\n",
    "    except:\n",
    "        return 'None'"
   ]
  },
  {
   "cell_type": "code",
   "execution_count": 68,
   "id": "c080ba35",
   "metadata": {},
   "outputs": [
    {
     "data": {
      "text/plain": [
       "'The team really couldn’t have done more for us. Lovely welcome. Our room was nice and clean all amenities spot on Marriott quality. All Covid protocols were followed very well and we felt safe.  Breakfast was great . At checkout the team were very helpful and again above abs beyond. . We look forward to returning'"
      ]
     },
     "execution_count": 68,
     "metadata": {},
     "output_type": "execute_result"
    }
   ],
   "source": [
    "review(get_reviews(soup_review)[0])"
   ]
  },
  {
   "cell_type": "code",
   "execution_count": 69,
   "id": "1242534d",
   "metadata": {},
   "outputs": [],
   "source": [
    "# function to extract review date from review list\n",
    "def review_date(result):\n",
    "    try:\n",
    "        return result.find(class_='_34Xs-BQm').text\n",
    "    except:\n",
    "        return 'None'"
   ]
  },
  {
   "cell_type": "code",
   "execution_count": 70,
   "id": "3e35bbb6",
   "metadata": {},
   "outputs": [
    {
     "data": {
      "text/plain": [
       "'Date of stay: May 2021'"
      ]
     },
     "execution_count": 70,
     "metadata": {},
     "output_type": "execute_result"
    }
   ],
   "source": [
    "review_date(get_reviews(soup_review)[0])"
   ]
  },
  {
   "cell_type": "code",
   "execution_count": 71,
   "id": "37eaecde",
   "metadata": {},
   "outputs": [],
   "source": [
    "# function to extract review score from review list\n",
    "def review_score(result):\n",
    "    try:\n",
    "        return int(result.find(class_='nf9vGX55').span['class'][1][-2:])/10\n",
    "    except:\n",
    "        return 'None'"
   ]
  },
  {
   "cell_type": "code",
   "execution_count": 72,
   "id": "c796e23c",
   "metadata": {},
   "outputs": [
    {
     "data": {
      "text/plain": [
       "5.0"
      ]
     },
     "execution_count": 72,
     "metadata": {},
     "output_type": "execute_result"
    }
   ],
   "source": [
    "review_score(get_reviews(soup_review)[0])"
   ]
  },
  {
   "cell_type": "markdown",
   "id": "4af32285",
   "metadata": {},
   "source": [
    "## 3.0 Scraping Hotel Data"
   ]
  },
  {
   "cell_type": "code",
   "execution_count": 78,
   "id": "c187979a",
   "metadata": {},
   "outputs": [
    {
     "data": {
      "text/plain": [
       "1924"
      ]
     },
     "execution_count": 78,
     "metadata": {},
     "output_type": "execute_result"
    }
   ],
   "source": [
    "# total number of hotels to scrape\n",
    "df = df_links.copy()\n",
    "len(df.links)"
   ]
  },
  {
   "cell_type": "markdown",
   "id": "4c156485",
   "metadata": {},
   "source": [
    "<a name='hotel_scrape'></a>\n",
    "### 3.1 Code to scrape hotel data"
   ]
  },
  {
   "cell_type": "code",
   "execution_count": 120,
   "id": "dd194d05",
   "metadata": {
    "scrolled": true
   },
   "outputs": [
    {
     "name": "stderr",
     "output_type": "stream",
     "text": [
      "  0%|          | 1/924 [00:15<3:55:44, 15.32s/it]"
     ]
    },
    {
     "name": "stdout",
     "output_type": "stream",
     "text": [
      "/Hotel_Review-g186338-d288609-Reviews-Sundial_Court-London_England.html#REVIEWS Sundial Court Hostel Reviews, London\n"
     ]
    },
    {
     "name": "stderr",
     "output_type": "stream",
     "text": [
      "\r",
      "  0%|          | 2/924 [00:29<3:44:25, 14.61s/it]"
     ]
    },
    {
     "name": "stdout",
     "output_type": "stream",
     "text": [
      "/Hotel_Review-g186338-d14053698-Reviews-A_L_Lodgings-London_England.html#REVIEWS A & L Lodgings Guesthouse Reviews, London\n"
     ]
    },
    {
     "name": "stderr",
     "output_type": "stream",
     "text": [
      "\r",
      "  0%|          | 3/924 [00:43<3:40:17, 14.35s/it]"
     ]
    },
    {
     "name": "stdout",
     "output_type": "stream",
     "text": [
      "/Hotel_Review-g186338-d12370335-Reviews-Last_Minute_Rooms-London_England.html#REVIEWS Last Minute Rooms Guesthouse Reviews, London\n"
     ]
    },
    {
     "name": "stderr",
     "output_type": "stream",
     "text": [
      "\r",
      "  0%|          | 4/924 [00:57<3:40:51, 14.40s/it]"
     ]
    },
    {
     "name": "stdout",
     "output_type": "stream",
     "text": [
      "/Hotel_Review-g186338-d14800055-Reviews-Frances_Gardner_House-London_England.html#REVIEWS Frances Gardner House Lodge Reviews, London\n"
     ]
    },
    {
     "name": "stderr",
     "output_type": "stream",
     "text": [
      "\r",
      "  1%|          | 5/924 [01:05<3:05:25, 12.11s/it]"
     ]
    },
    {
     "name": "stdout",
     "output_type": "stream",
     "text": [
      "/Hotel_Review-g186338-d15357746-Reviews-Bray_Apartment-London_England.html#REVIEWS Bray Apartment Lodging Reviews, London\n"
     ]
    },
    {
     "name": "stderr",
     "output_type": "stream",
     "text": [
      "\r",
      "  1%|          | 6/924 [01:21<3:23:42, 13.31s/it]"
     ]
    },
    {
     "name": "stdout",
     "output_type": "stream",
     "text": [
      "/Hotel_Review-g186338-d504952-Reviews-International_House-London_England.html#REVIEWS International House Hostel Reviews, London\n"
     ]
    },
    {
     "name": "stderr",
     "output_type": "stream",
     "text": [
      "\r",
      "  1%|          | 7/924 [01:48<4:29:18, 17.62s/it]"
     ]
    },
    {
     "name": "stdout",
     "output_type": "stream",
     "text": [
      "/Hotel_Review-g186338-d12852950-Reviews-Traditional_British_House-London_England.html#REVIEWS Traditional British House Specialty Inn Reviews, London\n"
     ]
    },
    {
     "name": "stderr",
     "output_type": "stream",
     "text": [
      "\r",
      "  1%|          | 8/924 [01:55<3:37:26, 14.24s/it]"
     ]
    },
    {
     "name": "stdout",
     "output_type": "stream",
     "text": [
      "/Hotel_Review-g186338-d13323491-Reviews-Guest_House_Brick_Lane-London_England.html#REVIEWS Guest House Brick Lane Reviews, London\n"
     ]
    },
    {
     "name": "stderr",
     "output_type": "stream",
     "text": [
      "\r",
      "  1%|          | 9/924 [02:06<3:24:08, 13.39s/it]"
     ]
    },
    {
     "name": "stdout",
     "output_type": "stream",
     "text": [
      "/Hotel_Review-g186338-d2326324-Reviews-Oakwood_Great_Suffolk_Street-London_England.html#REVIEWS Oakwood Great Suffolk Street Apartment Reviews, London\n"
     ]
    },
    {
     "name": "stderr",
     "output_type": "stream",
     "text": [
      "\r",
      "  1%|          | 10/924 [02:35<4:37:41, 18.23s/it]"
     ]
    },
    {
     "name": "stdout",
     "output_type": "stream",
     "text": [
      "/Hotel_Review-g186338-d2297858-Reviews-Beaconsfield_Studios_Apartments-London_England.html#REVIEWS Beaconsfield Studios & Apartments Reviews, London\n"
     ]
    },
    {
     "name": "stderr",
     "output_type": "stream",
     "text": [
      "\r",
      "  1%|          | 11/924 [02:51<4:23:38, 17.33s/it]"
     ]
    },
    {
     "name": "stdout",
     "output_type": "stream",
     "text": [
      "/Hotel_Review-g186338-d1199827-Reviews-The_Regal_Guest_House-London_England.html#REVIEWS The Regal Guest House Reviews, London\n"
     ]
    },
    {
     "name": "stderr",
     "output_type": "stream",
     "text": [
      "\r",
      "  1%|▏         | 12/924 [03:18<5:10:46, 20.45s/it]"
     ]
    },
    {
     "name": "stdout",
     "output_type": "stream",
     "text": [
      "/Hotel_Review-g186338-d12196210-Reviews-Paddington_Rob_Roy_Hotel-London_England.html#REVIEWS Paddington Rob-Roy Hotel Apartment Reviews, London\n"
     ]
    },
    {
     "name": "stderr",
     "output_type": "stream",
     "text": [
      "\r",
      "  1%|▏         | 13/924 [03:40<5:19:27, 21.04s/it]"
     ]
    },
    {
     "name": "stdout",
     "output_type": "stream",
     "text": [
      "/Hotel_Review-g186338-d16666824-Reviews-River_Side_Apartments-London_England.html#REVIEWS River Side Apartments Lodging Reviews, London\n"
     ]
    },
    {
     "name": "stderr",
     "output_type": "stream",
     "text": [
      "\r",
      "  2%|▏         | 14/924 [04:03<5:23:45, 21.35s/it]"
     ]
    },
    {
     "name": "stdout",
     "output_type": "stream",
     "text": [
      "/Hotel_Review-g186338-d15679870-Reviews-Hyde_Park_Central_Apartments-London_England.html#REVIEWS Hyde Park Central Apartments Lodging Reviews, London\n"
     ]
    },
    {
     "name": "stderr",
     "output_type": "stream",
     "text": [
      "\r",
      "  2%|▏         | 15/924 [04:15<4:41:19, 18.57s/it]"
     ]
    },
    {
     "name": "stdout",
     "output_type": "stream",
     "text": [
      "/Hotel_Review-g186338-d15837440-Reviews-1810_Georgian_House-London_England.html#REVIEWS 1810 Georgian House Lodging Reviews, London\n"
     ]
    },
    {
     "name": "stderr",
     "output_type": "stream",
     "text": [
      "\r",
      "  2%|▏         | 16/924 [04:46<5:37:18, 22.29s/it]"
     ]
    },
    {
     "name": "stdout",
     "output_type": "stream",
     "text": [
      "/Hotel_Review-g186338-d7394731-Reviews-Grove_Hotel-London_England.html#REVIEWS Grove Hotel Apartment Reviews, London\n"
     ]
    },
    {
     "name": "stderr",
     "output_type": "stream",
     "text": [
      "\r",
      "  2%|▏         | 17/924 [05:12<5:56:12, 23.56s/it]"
     ]
    },
    {
     "name": "stdout",
     "output_type": "stream",
     "text": [
      "/Hotel_Review-g186338-d645548-Reviews-Chumleigh_Lodge_Hotel-London_England.html#REVIEWS Chumleigh Lodge Hotel Inn Reviews, London\n"
     ]
    },
    {
     "name": "stderr",
     "output_type": "stream",
     "text": [
      "\r",
      "  2%|▏         | 18/924 [05:33<5:41:57, 22.65s/it]"
     ]
    },
    {
     "name": "stdout",
     "output_type": "stream",
     "text": [
      "/Hotel_Review-g186338-d483431-Reviews-Pembury_Hotel-London_England.html#REVIEWS Pembury Hotel Reviews, London\n"
     ]
    },
    {
     "name": "stderr",
     "output_type": "stream",
     "text": [
      "\r",
      "  2%|▏         | 19/924 [05:45<4:53:27, 19.46s/it]"
     ]
    },
    {
     "name": "stdout",
     "output_type": "stream",
     "text": [
      "/Hotel_Review-g186338-d265569-Reviews-Arriva_Hotel-London_England.html#REVIEWS Arriva Hotel Reviews, London\n"
     ]
    },
    {
     "name": "stderr",
     "output_type": "stream",
     "text": [
      "\r",
      "  2%|▏         | 20/924 [06:00<4:33:20, 18.14s/it]"
     ]
    },
    {
     "name": "stdout",
     "output_type": "stream",
     "text": [
      "/Hotel_Review-g186338-d15835838-Reviews-House176-London_England.html#REVIEWS House176 Lodging Reviews, London\n"
     ]
    },
    {
     "name": "stderr",
     "output_type": "stream",
     "text": [
      "\r",
      "  2%|▏         | 21/924 [06:07<3:43:05, 14.82s/it]"
     ]
    },
    {
     "name": "stdout",
     "output_type": "stream",
     "text": [
      "/Hotel_Review-g186338-d15668286-Reviews-Angel_Apartments_Islington-London_England.html#REVIEWS Angel Apartments - Islington Lodging Reviews, London\n"
     ]
    },
    {
     "name": "stderr",
     "output_type": "stream",
     "text": [
      "\r",
      "  2%|▏         | 22/924 [06:26<4:02:21, 16.12s/it]"
     ]
    },
    {
     "name": "stdout",
     "output_type": "stream",
     "text": [
      "/Hotel_Review-g186338-d15345727-Reviews-Paddington_Southwick_Street_Apartment-London_England.html#REVIEWS Paddington Southwick Street Apartment Lodging Reviews, London\n"
     ]
    },
    {
     "name": "stderr",
     "output_type": "stream",
     "text": [
      "\r",
      "  2%|▏         | 23/924 [06:51<4:41:37, 18.75s/it]"
     ]
    },
    {
     "name": "stdout",
     "output_type": "stream",
     "text": [
      "/Hotel_Review-g186338-d18971070-Reviews-Andrew_Superior_Apartments-London_England.html#REVIEWS Andrew Superior Apartments Lodging Reviews, London\n"
     ]
    },
    {
     "name": "stderr",
     "output_type": "stream",
     "text": [
      "\r",
      "  3%|▎         | 24/924 [07:21<5:34:00, 22.27s/it]"
     ]
    },
    {
     "name": "stdout",
     "output_type": "stream",
     "text": [
      "/Hotel_Review-g186338-d17515179-Reviews-Cromarty_House_Deluxe_Guest_Room-London_England.html#REVIEWS Cromarty House Deluxe Guest Room Lodging Reviews, London\n"
     ]
    },
    {
     "name": "stderr",
     "output_type": "stream",
     "text": [
      "\r",
      "  3%|▎         | 25/924 [07:42<5:28:32, 21.93s/it]"
     ]
    },
    {
     "name": "stdout",
     "output_type": "stream",
     "text": [
      "/Hotel_Review-g186338-d18849926-Reviews-Club_Living_Liverpool_St_Apartments-London_England.html#REVIEWS Club Living - Liverpool St. Apartments Lodge Reviews, London\n"
     ]
    },
    {
     "name": "stderr",
     "output_type": "stream",
     "text": [
      "\r",
      "  3%|▎         | 26/924 [08:00<5:07:05, 20.52s/it]"
     ]
    },
    {
     "name": "stdout",
     "output_type": "stream",
     "text": [
      "/Hotel_Review-g186338-d15208419-Reviews-Oneroom-London_England.html#REVIEWS Oneroom Lodging Reviews, London\n"
     ]
    },
    {
     "name": "stderr",
     "output_type": "stream",
     "text": [
      "\r",
      "  3%|▎         | 27/924 [08:06<4:03:20, 16.28s/it]"
     ]
    },
    {
     "name": "stdout",
     "output_type": "stream",
     "text": [
      "/Hotel_Review-g186338-d17512022-Reviews-Cosy_Apartment_in_Central_London-London_England.html#REVIEWS Cosy Apartment in Central London Lodging Reviews\n"
     ]
    },
    {
     "name": "stderr",
     "output_type": "stream",
     "text": [
      "\r",
      "  3%|▎         | 28/924 [08:35<5:01:11, 20.17s/it]"
     ]
    },
    {
     "name": "stdout",
     "output_type": "stream",
     "text": [
      "/Hotel_Review-g186338-d19709290-Reviews-Corporate_River_View_Apartments-London_England.html#REVIEWS Corporate River View Apartments Reviews, London\n"
     ]
    },
    {
     "name": "stderr",
     "output_type": "stream",
     "text": [
      "\r",
      "  3%|▎         | 29/924 [08:45<4:13:42, 17.01s/it]"
     ]
    },
    {
     "name": "stdout",
     "output_type": "stream",
     "text": [
      "/Hotel_Review-g186338-d17385931-Reviews-OYO_Home_Canary_Wharf-London_England.html#REVIEWS OYO Home Canary Wharf Hotel Reviews, London\n"
     ]
    },
    {
     "name": "stderr",
     "output_type": "stream",
     "text": [
      "\r",
      "  3%|▎         | 30/924 [09:14<5:08:13, 20.69s/it]"
     ]
    },
    {
     "name": "stdout",
     "output_type": "stream",
     "text": [
      "/Hotel_Review-g186338-d15689976-Reviews-Aldgate_Superior_Apartments-London_England.html#REVIEWS Aldgate Superior Apartments Lodging Reviews, London\n"
     ]
    },
    {
     "name": "stderr",
     "output_type": "stream",
     "text": [
      "\r",
      "  3%|▎         | 31/924 [09:37<5:14:55, 21.16s/it]"
     ]
    },
    {
     "name": "stdout",
     "output_type": "stream",
     "text": [
      "/Hotel_Review-g186338-d17531197-Reviews-Aldgate_Rooms-London_England.html#REVIEWS Aldgate Rooms Lodging Reviews, London\n"
     ]
    },
    {
     "name": "stderr",
     "output_type": "stream",
     "text": [
      "\r",
      "  3%|▎         | 32/924 [09:55<5:01:46, 20.30s/it]"
     ]
    },
    {
     "name": "stdout",
     "output_type": "stream",
     "text": [
      "/Hotel_Review-g186338-d17551564-Reviews-Lordshiplane_Shared_House-London_England.html#REVIEWS Lordshiplane Shared House Lodging Reviews, London\n"
     ]
    },
    {
     "name": "stderr",
     "output_type": "stream",
     "text": [
      "\r",
      "  4%|▎         | 33/924 [10:19<5:18:38, 21.46s/it]"
     ]
    },
    {
     "name": "stdout",
     "output_type": "stream",
     "text": [
      "/Hotel_Review-g186338-d17518150-Reviews-Al_Iram_Guest_House_London-London_England.html#REVIEWS Al Iram Guest House London Specialty Inn Reviews\n"
     ]
    },
    {
     "name": "stderr",
     "output_type": "stream",
     "text": [
      "\r",
      "  4%|▎         | 34/924 [10:26<4:15:29, 17.22s/it]"
     ]
    },
    {
     "name": "stdout",
     "output_type": "stream",
     "text": [
      "/Hotel_Review-g186338-d15634288-Reviews-London_Victoria_Apartment-London_England.html#REVIEWS London Victoria Apartment Reviews\n"
     ]
    },
    {
     "name": "stderr",
     "output_type": "stream",
     "text": [
      "\r",
      "  4%|▍         | 35/924 [10:37<3:47:21, 15.34s/it]"
     ]
    },
    {
     "name": "stdout",
     "output_type": "stream",
     "text": [
      "/Hotel_Review-g186338-d19825423-Reviews-Primestate_Holborn_Apartments-London_England.html#REVIEWS Primestate Holborn Apartments Lodging Reviews, London\n"
     ]
    },
    {
     "name": "stderr",
     "output_type": "stream",
     "text": [
      "\r",
      "  4%|▍         | 36/924 [10:59<4:14:32, 17.20s/it]"
     ]
    },
    {
     "name": "stdout",
     "output_type": "stream",
     "text": [
      "/Hotel_Review-g186338-d15851842-Reviews-New_Spacious_Studio_Zone_2-London_England.html#REVIEWS New Spacious Studio Zone 2 Lodging Reviews, London\n"
     ]
    },
    {
     "name": "stderr",
     "output_type": "stream",
     "text": [
      "\r",
      "  4%|▍         | 37/924 [11:22<4:40:22, 18.97s/it]"
     ]
    },
    {
     "name": "stdout",
     "output_type": "stream",
     "text": [
      "/Hotel_Review-g186338-d15697568-Reviews-Kings_Cross_Apartment-London_England.html#REVIEWS Kings Cross Apartment Lodging Reviews, London\n"
     ]
    },
    {
     "name": "stderr",
     "output_type": "stream",
     "text": [
      "\r",
      "  4%|▍         | 38/924 [11:38<4:26:58, 18.08s/it]"
     ]
    },
    {
     "name": "stdout",
     "output_type": "stream",
     "text": [
      "/Hotel_Review-g186338-d192110-Reviews-West_Cromwell_Hotel-London_England.html#REVIEWS West Cromwell Hotel Reviews, London\n"
     ]
    },
    {
     "name": "stderr",
     "output_type": "stream",
     "text": [
      "\r",
      "  4%|▍         | 39/924 [11:55<4:22:39, 17.81s/it]"
     ]
    },
    {
     "name": "stdout",
     "output_type": "stream",
     "text": [
      "/Hotel_Review-g186338-d15638219-Reviews-CanguroProperties_Pembridge_Villas-London_England.html#REVIEWS CanguroProperties - Pembridge Villas Lodging Reviews, London\n"
     ]
    },
    {
     "name": "stderr",
     "output_type": "stream",
     "text": [
      "\r",
      "  4%|▍         | 40/924 [12:20<4:53:58, 19.95s/it]"
     ]
    },
    {
     "name": "stdout",
     "output_type": "stream",
     "text": [
      "/Hotel_Review-g186338-d20123974-Reviews-The_Old_Vicarage_London-London_England.html#REVIEWS The Old Vicarage London Guesthouse Reviews\n"
     ]
    },
    {
     "name": "stderr",
     "output_type": "stream",
     "text": [
      "\r",
      "  4%|▍         | 41/924 [12:29<4:05:49, 16.70s/it]"
     ]
    },
    {
     "name": "stdout",
     "output_type": "stream",
     "text": [
      "/Hotel_Review-g186338-d15689357-Reviews-Victoria_Station_Apartment-London_England.html#REVIEWS Victoria Station Apartment Lodging Reviews, London\n"
     ]
    },
    {
     "name": "stderr",
     "output_type": "stream",
     "text": [
      "\r",
      "  5%|▍         | 42/924 [12:47<4:12:48, 17.20s/it]"
     ]
    },
    {
     "name": "stdout",
     "output_type": "stream",
     "text": [
      "/Hotel_Review-g186338-d20062951-Reviews-Stay_In_Apartments_Queensway-London_England.html#REVIEWS Stay-In Apartments Queensway Guesthouse Reviews, London\n"
     ]
    },
    {
     "name": "stderr",
     "output_type": "stream",
     "text": [
      "\r",
      "  5%|▍         | 43/924 [12:54<3:24:50, 13.95s/it]"
     ]
    },
    {
     "name": "stdout",
     "output_type": "stream",
     "text": [
      "/Hotel_Review-g186338-d192162-Reviews-OYO_Townhouse_New_England_Victoria-London_England.html#REVIEWS OYO Townhouse New England Victoria Hotel Reviews, London\n"
     ]
    },
    {
     "name": "stderr",
     "output_type": "stream",
     "text": [
      "\r",
      "  5%|▍         | 44/924 [13:19<4:11:50, 17.17s/it]"
     ]
    },
    {
     "name": "stdout",
     "output_type": "stream",
     "text": [
      "/Hotel_Review-g186338-d209138-Reviews-The_Tophams_Hotel_Belgravia-London_England.html#REVIEWS The Tophams Hotel Belgravia Reviews, London\n"
     ]
    },
    {
     "name": "stderr",
     "output_type": "stream",
     "text": [
      "\r",
      "  5%|▍         | 45/924 [13:27<3:32:50, 14.53s/it]"
     ]
    },
    {
     "name": "stdout",
     "output_type": "stream",
     "text": [
      "/Hotel_Review-g186338-d16844646-Reviews-London_City_Apartments-London_England.html#REVIEWS London City Apartments Lodging Reviews\n"
     ]
    },
    {
     "name": "stderr",
     "output_type": "stream",
     "text": [
      "\r",
      "  5%|▍         | 46/924 [13:37<3:13:33, 13.23s/it]"
     ]
    },
    {
     "name": "stdout",
     "output_type": "stream",
     "text": [
      "/Hotel_Review-g186338-d17810858-Reviews-PML_Apartments-London_England.html#REVIEWS PML Apartments Reviews, London\n"
     ]
    },
    {
     "name": "stderr",
     "output_type": "stream",
     "text": [
      "\r",
      "  5%|▌         | 47/924 [14:07<4:27:23, 18.29s/it]"
     ]
    },
    {
     "name": "stdout",
     "output_type": "stream",
     "text": [
      "/Hotel_Review-g186338-d15263024-Reviews-StayIn_Apartments_Marble_Arch-London_England.html#REVIEWS StayIn Apartments Marble Arch Reviews, London\n"
     ]
    },
    {
     "name": "stderr",
     "output_type": "stream",
     "text": [
      "\r",
      "  5%|▌         | 48/924 [14:19<3:58:24, 16.33s/it]"
     ]
    },
    {
     "name": "stdout",
     "output_type": "stream",
     "text": [
      "/Hotel_Review-g186338-d12710910-Reviews-Lux_London_South_Kensington-London_England.html#REVIEWS Lux London South Kensington Apartment Reviews\n"
     ]
    },
    {
     "name": "stderr",
     "output_type": "stream",
     "text": [
      "\r",
      "  5%|▌         | 49/924 [14:48<4:53:29, 20.12s/it]"
     ]
    },
    {
     "name": "stdout",
     "output_type": "stream",
     "text": [
      "/Hotel_Review-g186338-d12423950-Reviews-The_Cameron_Hotel-London_England.html#REVIEWS The Cameron Hotel Guesthouse Reviews, London\n"
     ]
    },
    {
     "name": "stderr",
     "output_type": "stream",
     "text": [
      "\r",
      "  5%|▌         | 50/924 [15:04<4:35:01, 18.88s/it]"
     ]
    },
    {
     "name": "stdout",
     "output_type": "stream",
     "text": [
      "/Hotel_Review-g186338-d5788400-Reviews-Piccadilly_Circus_Apartments-London_England.html#REVIEWS Piccadilly Circus Apartments Reviews, London\n"
     ]
    },
    {
     "name": "stderr",
     "output_type": "stream",
     "text": [
      "\r",
      "  6%|▌         | 51/924 [15:16<4:04:22, 16.80s/it]"
     ]
    },
    {
     "name": "stdout",
     "output_type": "stream",
     "text": [
      "/Hotel_Review-g186338-d7206821-Reviews-New_Globe_Hotel-London_England.html#REVIEWS New Globe Hotel Apartment Reviews, London\n"
     ]
    },
    {
     "name": "stderr",
     "output_type": "stream",
     "text": [
      "\r",
      "  6%|▌         | 52/924 [15:46<5:03:25, 20.88s/it]"
     ]
    },
    {
     "name": "stdout",
     "output_type": "stream",
     "text": [
      "/Hotel_Review-g186338-d12288241-Reviews-ABC_Bed_Breakfast-London_England.html#REVIEWS ABC Bed & Breakfast Villa Reviews, London\n"
     ]
    },
    {
     "name": "stderr",
     "output_type": "stream",
     "text": [
      "\r",
      "  6%|▌         | 53/924 [16:05<4:52:03, 20.12s/it]"
     ]
    },
    {
     "name": "stdout",
     "output_type": "stream",
     "text": [
      "/Hotel_Review-g186338-d13121672-Reviews-The_Private_Apartments_The_Strand_Covent_Garden-London_England.html#REVIEWS The Private Apartments - The Strand - Covent Garden Reviews, London\n"
     ]
    },
    {
     "name": "stderr",
     "output_type": "stream",
     "text": [
      "\r",
      "  6%|▌         | 54/924 [16:21<4:34:42, 18.94s/it]"
     ]
    },
    {
     "name": "stdout",
     "output_type": "stream",
     "text": [
      "/Hotel_Review-g186338-d12693526-Reviews-Citygate_Tower_Bridge-London_England.html#REVIEWS Citygate Tower Bridge Apartment Reviews, London\n"
     ]
    },
    {
     "name": "stderr",
     "output_type": "stream",
     "text": [
      "\r",
      "  6%|▌         | 55/924 [16:42<4:45:17, 19.70s/it]"
     ]
    },
    {
     "name": "stdout",
     "output_type": "stream",
     "text": [
      "/Hotel_Review-g186338-d15336865-Reviews-Kensington_Hotel_Apartments-London_England.html#REVIEWS Kensington Hotel Apartments Reviews, London\n"
     ]
    },
    {
     "name": "stderr",
     "output_type": "stream",
     "text": [
      "\r",
      "  6%|▌         | 56/924 [16:57<4:22:26, 18.14s/it]"
     ]
    },
    {
     "name": "stdout",
     "output_type": "stream",
     "text": [
      "/Hotel_Review-g186338-d5626972-Reviews-Apartments_Of_London-London_England.html#REVIEWS Apartments Of London Reviews\n"
     ]
    },
    {
     "name": "stderr",
     "output_type": "stream",
     "text": [
      "\r",
      "  6%|▌         | 57/924 [17:24<5:01:39, 20.88s/it]"
     ]
    },
    {
     "name": "stdout",
     "output_type": "stream",
     "text": [
      "/Hotel_Review-g186338-d11858106-Reviews-The_Welcome_Inn-London_England.html#REVIEWS The Welcome Inn Guesthouse Reviews, London\n"
     ]
    },
    {
     "name": "stderr",
     "output_type": "stream",
     "text": [
      "\r",
      "  6%|▋         | 58/924 [17:48<5:16:10, 21.91s/it]"
     ]
    },
    {
     "name": "stdout",
     "output_type": "stream",
     "text": [
      "/Hotel_Review-g186338-d4967449-Reviews-The_White_Horse-London_England.html#REVIEWS The White Horse B&B Reviews, London\n"
     ]
    },
    {
     "name": "stderr",
     "output_type": "stream",
     "text": [
      "\r",
      "  6%|▋         | 59/924 [18:04<4:48:04, 19.98s/it]"
     ]
    },
    {
     "name": "stdout",
     "output_type": "stream",
     "text": [
      "/Hotel_Review-g186338-d551171-Reviews-Forest_Gate_Hotel-London_England.html#REVIEWS Forest Gate Hotel Reviews, London\n"
     ]
    },
    {
     "name": "stderr",
     "output_type": "stream",
     "text": [
      "\r",
      "  6%|▋         | 60/924 [18:24<4:48:31, 20.04s/it]"
     ]
    },
    {
     "name": "stdout",
     "output_type": "stream",
     "text": [
      "/Hotel_Review-g186338-d645091-Reviews-OYO_Royal_Park_Hotel-London_England.html#REVIEWS OYO Royal Park Hotel Reviews, London\n"
     ]
    },
    {
     "name": "stderr",
     "output_type": "stream",
     "text": [
      "\r",
      "  7%|▋         | 61/924 [18:51<5:19:52, 22.24s/it]"
     ]
    },
    {
     "name": "stdout",
     "output_type": "stream",
     "text": [
      "/Hotel_Review-g186338-d17676184-Reviews-Shoreditch_Studios_by_Allo_Housing-London_England.html#REVIEWS Shoreditch Studios by Allo Housing Apartment Reviews, London\n"
     ]
    },
    {
     "name": "stderr",
     "output_type": "stream",
     "text": [
      "\r",
      "  7%|▋         | 62/924 [19:16<5:28:03, 22.83s/it]"
     ]
    },
    {
     "name": "stdout",
     "output_type": "stream",
     "text": [
      "/Hotel_Review-g186338-d257238-Reviews-OYO_Somerset_Hotel-London_England.html#REVIEWS OYO Somerset Hotel B&B Reviews, London\n"
     ]
    },
    {
     "name": "stderr",
     "output_type": "stream",
     "text": [
      "\r",
      "  7%|▋         | 63/924 [19:29<4:46:30, 19.97s/it]"
     ]
    },
    {
     "name": "stdout",
     "output_type": "stream",
     "text": [
      "/Hotel_Review-g186338-d16866752-Reviews-Rooms_At_5_Hammersmith_Road-London_England.html#REVIEWS Rooms At 5 Hammersmith Road Specialty Hotel Reviews, London\n"
     ]
    },
    {
     "name": "stderr",
     "output_type": "stream",
     "text": [
      "\r",
      "  7%|▋         | 64/924 [19:59<5:29:51, 23.01s/it]"
     ]
    },
    {
     "name": "stdout",
     "output_type": "stream",
     "text": [
      "/Hotel_Review-g186338-d1625983-Reviews-Northfields_Hostel-London_England.html#REVIEWS Northfields Hostel Reviews, London\n"
     ]
    },
    {
     "name": "stderr",
     "output_type": "stream",
     "text": [
      "\r",
      "  7%|▋         | 65/924 [20:30<6:05:52, 25.56s/it]"
     ]
    },
    {
     "name": "stdout",
     "output_type": "stream",
     "text": [
      "/Hotel_Review-g186338-d12367387-Reviews-City_View_Hotel-London_England.html#REVIEWS City View Hotel Reviews, London\n"
     ]
    },
    {
     "name": "stderr",
     "output_type": "stream",
     "text": [
      "\r",
      "  7%|▋         | 66/924 [20:41<4:59:20, 20.93s/it]"
     ]
    },
    {
     "name": "stdout",
     "output_type": "stream",
     "text": [
      "/Hotel_Review-g186338-d651343-Reviews-Aquarius_Hotel-London_England.html#REVIEWS Aquarius Hotel Reviews, London\n"
     ]
    },
    {
     "name": "stderr",
     "output_type": "stream",
     "text": [
      "\r",
      "  7%|▋         | 67/924 [21:12<5:42:32, 23.98s/it]"
     ]
    },
    {
     "name": "stdout",
     "output_type": "stream",
     "text": [
      "/Hotel_Review-g186338-d1087979-Reviews-Hollingbury_Hotel-London_England.html#REVIEWS Hollingbury Hotel Reviews, London\n"
     ]
    },
    {
     "name": "stderr",
     "output_type": "stream",
     "text": [
      "\r",
      "  7%|▋         | 68/924 [21:41<6:03:54, 25.51s/it]"
     ]
    },
    {
     "name": "stdout",
     "output_type": "stream",
     "text": [
      "/Hotel_Review-g186338-d3217518-Reviews-Travel_Inn-London_England.html#REVIEWS Travel Inn Hotel Reviews, London\n"
     ]
    },
    {
     "name": "stderr",
     "output_type": "stream",
     "text": [
      "\r",
      "  7%|▋         | 69/924 [22:05<5:58:05, 25.13s/it]"
     ]
    },
    {
     "name": "stdout",
     "output_type": "stream",
     "text": [
      "/Hotel_Review-g186338-d243536-Reviews-Regency_Court_Hotel-London_England.html#REVIEWS Regency Court Hotel Reviews, London\n"
     ]
    },
    {
     "name": "stderr",
     "output_type": "stream",
     "text": [
      "\r",
      "  8%|▊         | 70/924 [22:16<4:59:12, 21.02s/it]"
     ]
    },
    {
     "name": "stdout",
     "output_type": "stream",
     "text": [
      "/Hotel_Review-g186338-d583505-Reviews-London_Shelton_Hotel-London_England.html#REVIEWS London Shelton Hotel Reviews\n"
     ]
    },
    {
     "name": "stderr",
     "output_type": "stream",
     "text": [
      "\r",
      "  8%|▊         | 71/924 [22:33<4:38:13, 19.57s/it]"
     ]
    },
    {
     "name": "stdout",
     "output_type": "stream",
     "text": [
      "/Hotel_Review-g186338-d9853200-Reviews-Metro_London_City_Airport-London_England.html#REVIEWS Metro London City Airport Hotel Reviews\n"
     ]
    },
    {
     "name": "stderr",
     "output_type": "stream",
     "text": [
      "\r",
      "  8%|▊         | 72/924 [22:44<4:03:59, 17.18s/it]"
     ]
    },
    {
     "name": "stdout",
     "output_type": "stream",
     "text": [
      "/Hotel_Review-g186338-d15319425-Reviews-Room_In_Central_London-London_England.html#REVIEWS Room In Central London Lodging Reviews\n"
     ]
    },
    {
     "name": "stderr",
     "output_type": "stream",
     "text": [
      "\r",
      "  8%|▊         | 73/924 [22:59<3:51:46, 16.34s/it]"
     ]
    },
    {
     "name": "stdout",
     "output_type": "stream",
     "text": [
      "/Hotel_Review-g186338-d15655687-Reviews-3B_Camden_Road-London_England.html#REVIEWS 3B Camden Road Lodging Reviews, London\n"
     ]
    },
    {
     "name": "stderr",
     "output_type": "stream",
     "text": [
      "\r",
      "  8%|▊         | 74/924 [23:12<3:37:57, 15.39s/it]"
     ]
    },
    {
     "name": "stdout",
     "output_type": "stream",
     "text": [
      "/Hotel_Review-g186338-d15684281-Reviews-Ss_Property_Hub_Apartment_Close_To_Hyde_Park-London_England.html#REVIEWS Ss Property Hub - Apartment Close To Hyde Park Lodging Reviews, London\n"
     ]
    },
    {
     "name": "stderr",
     "output_type": "stream",
     "text": [
      "\r",
      "  8%|▊         | 75/924 [23:37<4:20:03, 18.38s/it]"
     ]
    },
    {
     "name": "stdout",
     "output_type": "stream",
     "text": [
      "/Hotel_Review-g186338-d14800096-Reviews-Upton_Park_Guest_House-London_England.html#REVIEWS Upton Park Guest House Specialty B&B Reviews, London\n"
     ]
    },
    {
     "name": "stderr",
     "output_type": "stream",
     "text": [
      "\r",
      "  8%|▊         | 76/924 [23:59<4:36:11, 19.54s/it]"
     ]
    },
    {
     "name": "stdout",
     "output_type": "stream",
     "text": [
      "/Hotel_Review-g186338-d15684044-Reviews-Urban_Apartments-London_England.html#REVIEWS Urban Apartments Lodging Reviews, London\n"
     ]
    },
    {
     "name": "stderr",
     "output_type": "stream",
     "text": [
      "\r",
      "  8%|▊         | 77/924 [24:10<3:56:09, 16.73s/it]"
     ]
    },
    {
     "name": "stdout",
     "output_type": "stream",
     "text": [
      "/Hotel_Review-g186338-d13126259-Reviews-Vintry_Mercer-London_England.html#REVIEWS Vintry & Mercer Hotel Reviews, London\n"
     ]
    },
    {
     "name": "stderr",
     "output_type": "stream",
     "text": [
      "\r",
      "  8%|▊         | 78/924 [24:27<3:58:13, 16.90s/it]"
     ]
    },
    {
     "name": "stdout",
     "output_type": "stream",
     "text": [
      "/Hotel_Review-g186338-d15749031-Reviews-Boutique_Apartments-London_England.html#REVIEWS Boutique Apartments Lodging Reviews, London\n"
     ]
    },
    {
     "name": "stderr",
     "output_type": "stream",
     "text": [
      "\r",
      "  9%|▊         | 79/924 [24:33<3:13:13, 13.72s/it]"
     ]
    },
    {
     "name": "stdout",
     "output_type": "stream",
     "text": [
      "/Hotel_Review-g186338-d15300242-Reviews-Whitechapel_Rooms-London_England.html#REVIEWS Whitechapel Rooms Lodging Reviews, London\n"
     ]
    },
    {
     "name": "stderr",
     "output_type": "stream",
     "text": [
      "\r",
      "  9%|▊         | 80/924 [24:50<3:27:25, 14.75s/it]"
     ]
    },
    {
     "name": "stdout",
     "output_type": "stream",
     "text": [
      "/Hotel_Review-g186338-d15842598-Reviews-West_Kensington_Apartment-London_England.html#REVIEWS West Kensington Apartment Lodging Reviews, London\n"
     ]
    },
    {
     "name": "stderr",
     "output_type": "stream",
     "text": [
      "\r",
      "  9%|▉         | 81/924 [25:20<4:28:24, 19.10s/it]"
     ]
    },
    {
     "name": "stdout",
     "output_type": "stream",
     "text": [
      "/Hotel_Review-g186338-d16647811-Reviews-London_Finsbury_Park_Luxury_Apartments-London_England.html#REVIEWS London Finsbury Park Luxury Apartments Lodging Reviews\n"
     ]
    },
    {
     "name": "stderr",
     "output_type": "stream",
     "text": [
      "\r",
      "  9%|▉         | 82/924 [25:39<4:29:08, 19.18s/it]"
     ]
    },
    {
     "name": "stdout",
     "output_type": "stream",
     "text": [
      "/Hotel_Review-g186338-d13392044-Reviews-Oasis_77-London_England.html#REVIEWS Oasis 77 B&B Reviews, London\n"
     ]
    },
    {
     "name": "stderr",
     "output_type": "stream",
     "text": [
      "\r",
      "  9%|▉         | 83/924 [25:50<3:55:36, 16.81s/it]"
     ]
    },
    {
     "name": "stdout",
     "output_type": "stream",
     "text": [
      "/Hotel_Review-g186338-d17482017-Reviews-King_s_Cross_Central_Apartments-London_England.html#REVIEWS King's Cross Central Apartments Lodging Reviews, London\n"
     ]
    },
    {
     "name": "stderr",
     "output_type": "stream",
     "text": [
      "\r",
      "  9%|▉         | 84/924 [26:00<3:27:36, 14.83s/it]"
     ]
    },
    {
     "name": "stdout",
     "output_type": "stream",
     "text": [
      "/Hotel_Review-g186338-d15686431-Reviews-Arsenal_123-London_England.html#REVIEWS Arsenal 123 Specialty Inn Reviews, London\n"
     ]
    },
    {
     "name": "stderr",
     "output_type": "stream",
     "text": [
      "\r",
      "  9%|▉         | 85/924 [26:29<4:26:54, 19.09s/it]"
     ]
    },
    {
     "name": "stdout",
     "output_type": "stream",
     "text": [
      "/Hotel_Review-g186338-d15469310-Reviews-Guest_Apartment_Braintree-London_England.html#REVIEWS Guest Apartment Braintree Lodging Reviews, London\n"
     ]
    },
    {
     "name": "stderr",
     "output_type": "stream",
     "text": [
      "\r",
      "  9%|▉         | 86/924 [26:36<3:32:36, 15.22s/it]"
     ]
    },
    {
     "name": "stdout",
     "output_type": "stream",
     "text": [
      "/Hotel_Review-g186338-d2322185-Reviews-Pearl_Hotel_London-London_England.html#REVIEWS Pearl Hotel London Reviews\n"
     ]
    },
    {
     "name": "stderr",
     "output_type": "stream",
     "text": [
      "\r",
      "  9%|▉         | 87/924 [27:06<4:34:40, 19.69s/it]"
     ]
    },
    {
     "name": "stdout",
     "output_type": "stream",
     "text": [
      "/Hotel_Review-g186338-d632319-Reviews-The_Grainstore_Apartments-London_England.html#REVIEWS The Grainstore Apartments Reviews, London\n"
     ]
    },
    {
     "name": "stderr",
     "output_type": "stream",
     "text": [
      "\r",
      " 10%|▉         | 88/924 [27:29<4:49:48, 20.80s/it]"
     ]
    },
    {
     "name": "stdout",
     "output_type": "stream",
     "text": [
      "/Hotel_Review-g186338-d15746272-Reviews-Longridge_Road_Apartments-London_England.html#REVIEWS Longridge Road Apartments Specialty Inn Reviews, London\n"
     ]
    },
    {
     "name": "stderr",
     "output_type": "stream",
     "text": [
      "\r",
      " 10%|▉         | 89/924 [27:44<4:25:16, 19.06s/it]"
     ]
    },
    {
     "name": "stdout",
     "output_type": "stream",
     "text": [
      "/Hotel_Review-g186338-d12896520-Reviews-The_Lord_Stanley-London_England.html#REVIEWS The Lord Stanley Specialty Inn Reviews, London\n"
     ]
    },
    {
     "name": "stderr",
     "output_type": "stream",
     "text": [
      "\r",
      " 10%|▉         | 90/924 [27:58<4:01:55, 17.41s/it]"
     ]
    },
    {
     "name": "stdout",
     "output_type": "stream",
     "text": [
      "/Hotel_Review-g186338-d17531928-Reviews-Casablanca-London_England.html#REVIEWS Casablanca Specialty B&B Reviews, London\n"
     ]
    },
    {
     "name": "stderr",
     "output_type": "stream",
     "text": [
      "\r",
      " 10%|▉         | 91/924 [28:09<3:35:24, 15.52s/it]"
     ]
    },
    {
     "name": "stdout",
     "output_type": "stream",
     "text": [
      "/Hotel_Review-g186338-d15239234-Reviews-Whitechapel_Grand-London_England.html#REVIEWS Whitechapel Grand Guesthouse Reviews, London\n"
     ]
    },
    {
     "name": "stderr",
     "output_type": "stream",
     "text": [
      "\r",
      " 10%|▉         | 92/924 [28:16<2:58:54, 12.90s/it]"
     ]
    },
    {
     "name": "stdout",
     "output_type": "stream",
     "text": [
      "/Hotel_Review-g186338-d17757708-Reviews-Donatello_Apartments_Brick_Lane-London_England.html#REVIEWS Donatello Apartments Brick Lane Lodging Reviews, London\n"
     ]
    },
    {
     "name": "stderr",
     "output_type": "stream",
     "text": [
      "\r",
      " 10%|█         | 93/924 [28:29<2:58:55, 12.92s/it]"
     ]
    },
    {
     "name": "stdout",
     "output_type": "stream",
     "text": [
      "/Hotel_Review-g186338-d19452321-Reviews-Hashtag_South_Bank_Campus_Accommodation-London_England.html#REVIEWS Hashtag South Bank Campus Accommodation Specialty Inn Reviews, London\n"
     ]
    },
    {
     "name": "stderr",
     "output_type": "stream",
     "text": [
      "\r",
      " 10%|█         | 94/924 [28:51<3:36:46, 15.67s/it]"
     ]
    },
    {
     "name": "stdout",
     "output_type": "stream",
     "text": [
      "/Hotel_Review-g186338-d11661803-Reviews-Commercial_House-London_England.html#REVIEWS Commercial House Apartment Reviews, London\n"
     ]
    },
    {
     "name": "stderr",
     "output_type": "stream",
     "text": [
      "\r",
      " 10%|█         | 95/924 [29:02<3:18:44, 14.38s/it]"
     ]
    },
    {
     "name": "stdout",
     "output_type": "stream",
     "text": [
      "/Hotel_Review-g186338-d8524463-Reviews-Canary_Heights-London_England.html#REVIEWS Canary Heights Apartment Reviews, London\n"
     ]
    },
    {
     "name": "stderr",
     "output_type": "stream",
     "text": [
      "\r",
      " 10%|█         | 96/924 [29:14<3:09:29, 13.73s/it]"
     ]
    },
    {
     "name": "stdout",
     "output_type": "stream",
     "text": [
      "/Hotel_Review-g186338-d1233082-Reviews-Smart_Hostel_Russell_Square-London_England.html#REVIEWS Smart Hostel Russell Square Reviews, London\n"
     ]
    },
    {
     "name": "stderr",
     "output_type": "stream",
     "text": [
      "\r",
      " 10%|█         | 97/924 [29:21<2:38:25, 11.49s/it]"
     ]
    },
    {
     "name": "stdout",
     "output_type": "stream",
     "text": [
      "/Hotel_Review-g186338-d1162423-Reviews-Access_Earls_Court-London_England.html#REVIEWS Access Earls Court Apartment Reviews, London\n"
     ]
    },
    {
     "name": "stderr",
     "output_type": "stream",
     "text": [
      "\r",
      " 11%|█         | 98/924 [29:49<3:47:06, 16.50s/it]"
     ]
    },
    {
     "name": "stdout",
     "output_type": "stream",
     "text": [
      "/Hotel_Review-g186338-d6979946-Reviews-Kensington_Serviced_Apartments-London_England.html#REVIEWS Kensington Serviced Apartments Reviews, London\n"
     ]
    },
    {
     "name": "stderr",
     "output_type": "stream",
     "text": [
      "\r",
      " 11%|█         | 99/924 [30:07<3:53:20, 16.97s/it]"
     ]
    },
    {
     "name": "stdout",
     "output_type": "stream",
     "text": [
      "/Hotel_Review-g186338-d11705988-Reviews-Stay_Club_Colindale-London_England.html#REVIEWS Stay Club Colindale Apartment Reviews, London\n"
     ]
    },
    {
     "name": "stderr",
     "output_type": "stream",
     "text": [
      "\r",
      " 11%|█         | 100/924 [30:22<3:45:47, 16.44s/it]"
     ]
    },
    {
     "name": "stdout",
     "output_type": "stream",
     "text": [
      "/Hotel_Review-g186338-d15684250-Reviews-Forset_Court-London_England.html#REVIEWS Forset Court Specialty Hotel Reviews, London\n"
     ]
    },
    {
     "name": "stderr",
     "output_type": "stream",
     "text": [
      "\r",
      " 11%|█         | 101/924 [30:45<4:13:11, 18.46s/it]"
     ]
    },
    {
     "name": "stdout",
     "output_type": "stream",
     "text": [
      "/Hotel_Review-g186338-d193669-Reviews-Tria-London_England.html#REVIEWS Tria Hotel Reviews, London\n"
     ]
    },
    {
     "name": "stderr",
     "output_type": "stream",
     "text": [
      "\r",
      " 11%|█         | 102/924 [30:59<3:51:57, 16.93s/it]"
     ]
    },
    {
     "name": "stdout",
     "output_type": "stream",
     "text": [
      "/Hotel_Review-g186338-d1162176-Reviews-Access_City-London_England.html#REVIEWS Access City Apartment Reviews, London\n"
     ]
    },
    {
     "name": "stderr",
     "output_type": "stream",
     "text": [
      "\r",
      " 11%|█         | 103/924 [31:23<4:22:15, 19.17s/it]"
     ]
    },
    {
     "name": "stdout",
     "output_type": "stream",
     "text": [
      "/Hotel_Review-g186338-d2238134-Reviews-Mapesbury_Hostel-London_England.html#REVIEWS Mapesbury Hostel Reviews, London\n"
     ]
    },
    {
     "name": "stderr",
     "output_type": "stream",
     "text": [
      "\r",
      " 11%|█▏        | 104/924 [31:53<5:07:57, 22.53s/it]"
     ]
    },
    {
     "name": "stdout",
     "output_type": "stream",
     "text": [
      "/Hotel_Review-g186338-d199115-Reviews-Berjaya_Eden_Park_London_Hotel-London_England.html#REVIEWS Berjaya Eden Park London Hotel Reviews\n"
     ]
    },
    {
     "name": "stderr",
     "output_type": "stream",
     "text": [
      "\r",
      " 11%|█▏        | 105/924 [32:18<5:15:07, 23.09s/it]"
     ]
    },
    {
     "name": "stdout",
     "output_type": "stream",
     "text": [
      "/Hotel_Review-g186338-d15232308-Reviews-Cosy_Edgware_Road_Apartments_Marylebone_Paddington-London_England.html#REVIEWS Cosy Edgware Road Apartments - Marylebone - Paddington Lodging Reviews, London\n"
     ]
    },
    {
     "name": "stderr",
     "output_type": "stream",
     "text": [
      "\r",
      " 11%|█▏        | 106/924 [32:24<4:06:17, 18.07s/it]"
     ]
    },
    {
     "name": "stdout",
     "output_type": "stream",
     "text": [
      "/Hotel_Review-g186338-d1202885-Reviews-Platt_Hall_and_Writtle_House-London_England.html#REVIEWS Platt Hall and Writtle House Inn Reviews, London\n"
     ]
    },
    {
     "name": "stderr",
     "output_type": "stream",
     "text": [
      "\r",
      " 12%|█▏        | 107/924 [32:38<3:51:10, 16.98s/it]"
     ]
    },
    {
     "name": "stdout",
     "output_type": "stream",
     "text": [
      "/Hotel_Review-g186338-d15354172-Reviews-Super_Friendly_Rooms_in_London-London_England.html#REVIEWS Super Friendly Rooms in London Lodging Reviews\n"
     ]
    },
    {
     "name": "stderr",
     "output_type": "stream",
     "text": [
      "\r",
      " 12%|█▏        | 108/924 [32:49<3:24:36, 15.04s/it]"
     ]
    },
    {
     "name": "stdout",
     "output_type": "stream",
     "text": [
      "/Hotel_Review-g186338-d13134549-Reviews-London_Holiday_stay-London_England.html#REVIEWS London Holiday stay Lodge Reviews\n"
     ]
    },
    {
     "name": "stderr",
     "output_type": "stream",
     "text": [
      "\r",
      " 12%|█▏        | 109/924 [33:03<3:20:57, 14.79s/it]"
     ]
    },
    {
     "name": "stdout",
     "output_type": "stream",
     "text": [
      "/Hotel_Review-g186338-d275448-Reviews-OYO_New_Dome_Hotel-London_England.html#REVIEWS OYO New Dome Hotel Reviews, London\n"
     ]
    },
    {
     "name": "stderr",
     "output_type": "stream",
     "text": [
      "\r",
      " 12%|█▏        | 110/924 [33:33<4:22:56, 19.38s/it]"
     ]
    },
    {
     "name": "stdout",
     "output_type": "stream",
     "text": [
      "/Hotel_Review-g186338-d1929580-Reviews-Osborne_Hotel-London_England.html#REVIEWS Osborne Hotel Reviews, London\n"
     ]
    },
    {
     "name": "stderr",
     "output_type": "stream",
     "text": [
      "\r",
      " 12%|█▏        | 111/924 [33:50<4:13:09, 18.68s/it]"
     ]
    },
    {
     "name": "stdout",
     "output_type": "stream",
     "text": [
      "/Hotel_Review-g186338-d10243092-Reviews-City_Duplex_Apartments-London_England.html#REVIEWS City Duplex Apartments Reviews, London\n"
     ]
    },
    {
     "name": "stderr",
     "output_type": "stream",
     "text": [
      "\r",
      " 12%|█▏        | 112/924 [34:12<4:23:22, 19.46s/it]"
     ]
    },
    {
     "name": "stdout",
     "output_type": "stream",
     "text": [
      "/Hotel_Review-g186338-d502984-Reviews-YourStay_Paddington_Apartments-London_England.html#REVIEWS YourStay Paddington Apartments Hotel Reviews, London\n"
     ]
    },
    {
     "name": "stderr",
     "output_type": "stream",
     "text": [
      "\r",
      " 12%|█▏        | 113/924 [34:34<4:35:15, 20.36s/it]"
     ]
    },
    {
     "name": "stdout",
     "output_type": "stream",
     "text": [
      "/Hotel_Review-g186338-d614558-Reviews-WooGo_Piccadilly_Apartments-London_England.html#REVIEWS WooGo -Piccadilly Apartments Villa Reviews, London\n"
     ]
    },
    {
     "name": "stderr",
     "output_type": "stream",
     "text": [
      "\r",
      " 12%|█▏        | 114/924 [35:01<5:02:18, 22.39s/it]"
     ]
    },
    {
     "name": "stdout",
     "output_type": "stream",
     "text": [
      "/Hotel_Review-g186338-d13819931-Reviews-Smart_City_Apartments_London_Bridge-London_England.html#REVIEWS Smart City Apartments London Bridge Reviews\n"
     ]
    },
    {
     "name": "stderr",
     "output_type": "stream",
     "text": [
      "\r",
      " 12%|█▏        | 115/924 [35:17<4:35:30, 20.43s/it]"
     ]
    },
    {
     "name": "stdout",
     "output_type": "stream",
     "text": [
      "/Hotel_Review-g186338-d12545202-Reviews-Bloomfield_Court-London_England.html#REVIEWS Bloomfield Court Apartment Reviews, London\n"
     ]
    },
    {
     "name": "stderr",
     "output_type": "stream",
     "text": [
      "\r",
      " 13%|█▎        | 116/924 [35:24<3:41:14, 16.43s/it]"
     ]
    },
    {
     "name": "stdout",
     "output_type": "stream",
     "text": [
      "/Hotel_Review-g186338-d15679905-Reviews-Safran_House-London_England.html#REVIEWS Safran House Lodging Reviews, London\n"
     ]
    },
    {
     "name": "stderr",
     "output_type": "stream",
     "text": [
      "\r",
      " 13%|█▎        | 117/924 [35:34<3:15:39, 14.55s/it]"
     ]
    },
    {
     "name": "stdout",
     "output_type": "stream",
     "text": [
      "/Hotel_Review-g186338-d15078798-Reviews-Poplar_Guest_House-London_England.html#REVIEWS Poplar Guest House Lodge Reviews, London\n"
     ]
    },
    {
     "name": "stderr",
     "output_type": "stream",
     "text": [
      "\r",
      " 13%|█▎        | 118/924 [35:50<3:18:31, 14.78s/it]"
     ]
    },
    {
     "name": "stdout",
     "output_type": "stream",
     "text": [
      "/Hotel_Review-g186338-d14119414-Reviews-Carlton_Kensington_Apartments-London_England.html#REVIEWS Carlton Kensington Apartments Reviews, London\n"
     ]
    },
    {
     "name": "stderr",
     "output_type": "stream",
     "text": [
      "\r",
      " 13%|█▎        | 119/924 [36:02<3:08:26, 14.05s/it]"
     ]
    },
    {
     "name": "stdout",
     "output_type": "stream",
     "text": [
      "/Hotel_Review-g186338-d12967226-Reviews-The_Apartments_Chelsea-London_England.html#REVIEWS The Apartments Chelsea Reviews, London\n"
     ]
    },
    {
     "name": "stderr",
     "output_type": "stream",
     "text": [
      "\r",
      " 13%|█▎        | 120/924 [36:12<2:50:48, 12.75s/it]"
     ]
    },
    {
     "name": "stdout",
     "output_type": "stream",
     "text": [
      "/Hotel_Review-g186338-d15192235-Reviews-The_Residence_London_City-London_England.html#REVIEWS The Residence London City Specialty Hotel Reviews\n"
     ]
    },
    {
     "name": "stderr",
     "output_type": "stream",
     "text": [
      "\r",
      " 13%|█▎        | 121/924 [36:40<3:52:18, 17.36s/it]"
     ]
    },
    {
     "name": "stdout",
     "output_type": "stream",
     "text": [
      "/Hotel_Review-g186338-d15456380-Reviews-Private_Apartments_Covent_Garden_Theatre_District-London_England.html#REVIEWS Private Apartments - Covent Garden - Theatre District Lodging Reviews, London\n"
     ]
    },
    {
     "name": "stderr",
     "output_type": "stream",
     "text": [
      "\r",
      " 13%|█▎        | 122/924 [36:48<3:13:43, 14.49s/it]"
     ]
    },
    {
     "name": "stdout",
     "output_type": "stream",
     "text": [
      "/Hotel_Review-g186338-d15337661-Reviews-Camden_Road_Private_Rooms-London_England.html#REVIEWS Camden Road Private Rooms Lodging Reviews, London\n"
     ]
    },
    {
     "name": "stderr",
     "output_type": "stream",
     "text": [
      "\r",
      " 13%|█▎        | 123/924 [37:13<3:57:40, 17.80s/it]"
     ]
    },
    {
     "name": "stdout",
     "output_type": "stream",
     "text": [
      "/Hotel_Review-g186338-d3831105-Reviews-Collingham_Place_Apartments-London_England.html#REVIEWS Collingham Place Apartments Reviews, London\n"
     ]
    },
    {
     "name": "stderr",
     "output_type": "stream",
     "text": [
      "\r",
      " 13%|█▎        | 124/924 [37:26<3:35:51, 16.19s/it]"
     ]
    },
    {
     "name": "stdout",
     "output_type": "stream",
     "text": [
      "/Hotel_Review-g186338-d15511685-Reviews-Central_London_Concept_Aparthotel-London_England.html#REVIEWS Central London Concept Aparthotel Lodging Reviews\n"
     ]
    },
    {
     "name": "stderr",
     "output_type": "stream",
     "text": [
      "\r",
      " 14%|█▎        | 125/924 [37:56<4:30:58, 20.35s/it]"
     ]
    },
    {
     "name": "stdout",
     "output_type": "stream",
     "text": [
      "/Hotel_Review-g186338-d214642-Reviews-Fairways_Hotel-London_England.html#REVIEWS Fairways Hotel Reviews, London\n"
     ]
    },
    {
     "name": "stderr",
     "output_type": "stream",
     "text": [
      "\r",
      " 14%|█▎        | 126/924 [38:20<4:45:24, 21.46s/it]"
     ]
    },
    {
     "name": "stdout",
     "output_type": "stream",
     "text": [
      "/Hotel_Review-g186338-d15031561-Reviews-Lingwell_Concept_Flat-London_England.html#REVIEWS Lingwell Concept Flat Specialty Inn Reviews, London\n"
     ]
    },
    {
     "name": "stderr",
     "output_type": "stream",
     "text": [
      "\r",
      " 14%|█▎        | 127/924 [38:30<3:59:34, 18.04s/it]"
     ]
    },
    {
     "name": "stdout",
     "output_type": "stream",
     "text": [
      "/Hotel_Review-g186338-d15128259-Reviews-Destination_43-London_England.html#REVIEWS Destination 43 Hostel Reviews, London\n"
     ]
    },
    {
     "name": "stderr",
     "output_type": "stream",
     "text": [
      "\r",
      " 14%|█▍        | 128/924 [38:58<4:38:40, 21.01s/it]"
     ]
    },
    {
     "name": "stdout",
     "output_type": "stream",
     "text": [
      "/Hotel_Review-g186338-d11898924-Reviews-The_Kensington_Residences-London_England.html#REVIEWS The Kensington Residences Apartment Reviews, London\n"
     ]
    },
    {
     "name": "stderr",
     "output_type": "stream",
     "text": [
      "\r",
      " 14%|█▍        | 129/924 [39:27<5:10:41, 23.45s/it]"
     ]
    },
    {
     "name": "stdout",
     "output_type": "stream",
     "text": [
      "/Hotel_Review-g186338-d14206031-Reviews-EastEnd_Beds-London_England.html#REVIEWS EastEnd Beds Hostel Reviews, London\n"
     ]
    },
    {
     "name": "stderr",
     "output_type": "stream",
     "text": [
      "\r",
      " 14%|█▍        | 130/924 [39:39<4:25:09, 20.04s/it]"
     ]
    },
    {
     "name": "stdout",
     "output_type": "stream",
     "text": [
      "/Hotel_Review-g186338-d14533874-Reviews-CitySpace_Borough-London_England.html#REVIEWS CitySpace. Borough Specialty Hotel Reviews, London\n"
     ]
    },
    {
     "name": "stderr",
     "output_type": "stream",
     "text": [
      "\r",
      " 14%|█▍        | 131/924 [39:59<4:24:04, 19.98s/it]"
     ]
    },
    {
     "name": "stdout",
     "output_type": "stream",
     "text": [
      "/Hotel_Review-g186338-d3256658-Reviews-Camden_High_Street_Apartments-London_England.html#REVIEWS Camden High Street Apartments Reviews, London\n"
     ]
    },
    {
     "name": "stderr",
     "output_type": "stream",
     "text": [
      "\r",
      " 14%|█▍        | 132/924 [40:23<4:39:15, 21.16s/it]"
     ]
    },
    {
     "name": "stdout",
     "output_type": "stream",
     "text": [
      "/Hotel_Review-g186338-d12502062-Reviews-Central_London_Budget_Hotel-London_England.html#REVIEWS Central London Budget Hotel Reviews\n"
     ]
    },
    {
     "name": "stderr",
     "output_type": "stream",
     "text": [
      "\r",
      " 14%|█▍        | 133/924 [40:46<4:49:31, 21.96s/it]"
     ]
    },
    {
     "name": "stdout",
     "output_type": "stream",
     "text": [
      "/Hotel_Review-g186338-d15686649-Reviews-High_Street_Service_Apartment-London_England.html#REVIEWS High Street Service Apartment Lodging Reviews, London\n"
     ]
    },
    {
     "name": "stderr",
     "output_type": "stream",
     "text": [
      "\r",
      " 15%|█▍        | 134/924 [40:53<3:49:36, 17.44s/it]"
     ]
    },
    {
     "name": "stdout",
     "output_type": "stream",
     "text": [
      "/Hotel_Review-g186338-d17536677-Reviews-My_London_Private_Room-London_England.html#REVIEWS My London Private Room Lodging Reviews\n"
     ]
    },
    {
     "name": "stderr",
     "output_type": "stream",
     "text": [
      "\r",
      " 15%|█▍        | 135/924 [41:16<4:11:28, 19.12s/it]"
     ]
    },
    {
     "name": "stdout",
     "output_type": "stream",
     "text": [
      "/Hotel_Review-g186338-d17604110-Reviews-Cosy_Stay_Apartments-London_England.html#REVIEWS Cosy Stay Apartments Lodging Reviews, London\n"
     ]
    },
    {
     "name": "stderr",
     "output_type": "stream",
     "text": [
      "\r",
      " 15%|█▍        | 136/924 [41:45<4:48:04, 21.93s/it]"
     ]
    },
    {
     "name": "stdout",
     "output_type": "stream",
     "text": [
      "/Hotel_Review-g186338-d15680539-Reviews-Protem_Cannon_Street-London_England.html#REVIEWS Protem Cannon Street Lodging Reviews, London\n"
     ]
    },
    {
     "name": "stderr",
     "output_type": "stream",
     "text": [
      "\r",
      " 15%|█▍        | 137/924 [41:52<3:50:13, 17.55s/it]"
     ]
    },
    {
     "name": "stdout",
     "output_type": "stream",
     "text": [
      "/Hotel_Review-g186338-d15213749-Reviews-Veeve_Boteco_Bohemia-London_England.html#REVIEWS Veeve Boteco Bohemia Lodging Reviews, London\n"
     ]
    },
    {
     "name": "stderr",
     "output_type": "stream",
     "text": [
      "\r",
      " 15%|█▍        | 138/924 [42:18<4:20:30, 19.89s/it]"
     ]
    },
    {
     "name": "stdout",
     "output_type": "stream",
     "text": [
      "/Hotel_Review-g186338-d1533417-Reviews-Palace_Court_Studios-London_England.html#REVIEWS Palace Court Studios Apartment Reviews, London\n"
     ]
    },
    {
     "name": "stderr",
     "output_type": "stream",
     "text": [
      "\r",
      " 15%|█▌        | 139/924 [42:42<4:36:55, 21.17s/it]"
     ]
    },
    {
     "name": "stdout",
     "output_type": "stream",
     "text": [
      "/Hotel_Review-g186338-d17612160-Reviews-Victoria_Style_Flat_Near_Victoria_station-London_England.html#REVIEWS Victoria Style Flat Near Victoria station Specialty B&B Reviews, London\n"
     ]
    },
    {
     "name": "stderr",
     "output_type": "stream",
     "text": [
      "\r",
      " 15%|█▌        | 140/924 [42:55<4:04:07, 18.68s/it]"
     ]
    },
    {
     "name": "stdout",
     "output_type": "stream",
     "text": [
      "/Hotel_Review-g186338-d17707354-Reviews-104_Malmesbury_Road-London_England.html#REVIEWS 104 Malmesbury Road Lodging Reviews, London\n"
     ]
    },
    {
     "name": "stderr",
     "output_type": "stream",
     "text": [
      "\r",
      " 15%|█▌        | 141/924 [43:17<4:17:38, 19.74s/it]"
     ]
    },
    {
     "name": "stdout",
     "output_type": "stream",
     "text": [
      "/Hotel_Review-g186338-d17538468-Reviews-Chancery_Hub_Rooms-London_England.html#REVIEWS Chancery Hub Rooms Lodging Reviews, London\n"
     ]
    },
    {
     "name": "stderr",
     "output_type": "stream",
     "text": [
      "\r",
      " 15%|█▌        | 142/924 [43:28<3:45:18, 17.29s/it]"
     ]
    },
    {
     "name": "stdout",
     "output_type": "stream",
     "text": [
      "/Hotel_Review-g186338-d15802159-Reviews-House147-London_England.html#REVIEWS House147 Lodging Reviews, London\n"
     ]
    },
    {
     "name": "stderr",
     "output_type": "stream",
     "text": [
      "\r",
      " 15%|█▌        | 143/924 [43:51<4:04:36, 18.79s/it]"
     ]
    },
    {
     "name": "stdout",
     "output_type": "stream",
     "text": [
      "/Hotel_Review-g186338-d19247892-Reviews-Grand_Apartments_Hammersmith-London_England.html#REVIEWS Grand Apartments - Hammersmith Lodge Reviews, London\n"
     ]
    },
    {
     "name": "stderr",
     "output_type": "stream",
     "text": [
      "\r",
      " 16%|█▌        | 144/924 [44:20<4:46:09, 22.01s/it]"
     ]
    },
    {
     "name": "stdout",
     "output_type": "stream",
     "text": [
      "/Hotel_Review-g186338-d1068240-Reviews-Access_Maida_Vale-London_England.html#REVIEWS Access Maida Vale Apartment Reviews, London\n"
     ]
    },
    {
     "name": "stderr",
     "output_type": "stream",
     "text": [
      "\r",
      " 16%|█▌        | 145/924 [44:27<3:45:05, 17.34s/it]"
     ]
    },
    {
     "name": "stdout",
     "output_type": "stream",
     "text": [
      "/Hotel_Review-g186338-d1800923-Reviews-Royal_Dock_Apartments-London_England.html#REVIEWS Royal Dock Apartments Lodge Reviews, London\n"
     ]
    },
    {
     "name": "stderr",
     "output_type": "stream",
     "text": [
      "\r",
      " 16%|█▌        | 146/924 [44:34<3:04:44, 14.25s/it]"
     ]
    },
    {
     "name": "stdout",
     "output_type": "stream",
     "text": [
      "/Hotel_Review-g186338-d1196380-Reviews-Goldsmiths_House-London_England.html#REVIEWS Goldsmiths House Inn Reviews, London\n"
     ]
    },
    {
     "name": "stderr",
     "output_type": "stream",
     "text": [
      "\r",
      " 16%|█▌        | 147/924 [44:56<3:35:04, 16.61s/it]"
     ]
    },
    {
     "name": "stdout",
     "output_type": "stream",
     "text": [
      "/Hotel_Review-g186338-d15646050-Reviews-Caledonian_Studio_Flats-London_England.html#REVIEWS Caledonian Studio Flats Guesthouse Reviews, London\n"
     ]
    },
    {
     "name": "stderr",
     "output_type": "stream",
     "text": [
      "\r",
      " 16%|█▌        | 148/924 [45:25<4:24:34, 20.46s/it]"
     ]
    },
    {
     "name": "stdout",
     "output_type": "stream",
     "text": [
      "/Hotel_Review-g186338-d528661-Reviews-Wake_up-London_England.html#REVIEWS Wake up! Hostel Reviews, London\n"
     ]
    },
    {
     "name": "stderr",
     "output_type": "stream",
     "text": [
      "\r",
      " 16%|█▌        | 149/924 [45:46<4:25:43, 20.57s/it]"
     ]
    },
    {
     "name": "stdout",
     "output_type": "stream",
     "text": [
      "/Hotel_Review-g186338-d10771919-Reviews-The_Queens_Hostel-London_England.html#REVIEWS The Queens Hostel Reviews, London\n"
     ]
    },
    {
     "name": "stderr",
     "output_type": "stream",
     "text": [
      "\r",
      " 16%|█▌        | 150/924 [46:09<4:34:39, 21.29s/it]"
     ]
    },
    {
     "name": "stdout",
     "output_type": "stream",
     "text": [
      "/Hotel_Review-g186338-d19842579-Reviews-Messina_Studios-London_England.html#REVIEWS Messina Studios Lodging Reviews, London\n"
     ]
    },
    {
     "name": "stderr",
     "output_type": "stream",
     "text": [
      "\r",
      " 16%|█▋        | 151/924 [46:25<4:15:38, 19.84s/it]"
     ]
    },
    {
     "name": "stdout",
     "output_type": "stream",
     "text": [
      "/Hotel_Review-g186338-d20817797-Reviews-London_City_Gate_Kings_Cross_St_Pancras-London_England.html#REVIEWS London City Gate - Kings Cross - St Pancras Lodging Reviews\n"
     ]
    },
    {
     "name": "stderr",
     "output_type": "stream",
     "text": [
      "\r",
      " 16%|█▋        | 152/924 [46:35<3:34:13, 16.65s/it]"
     ]
    },
    {
     "name": "stdout",
     "output_type": "stream",
     "text": [
      "/Hotel_Review-g186338-d9977481-Reviews-Access_Bloomsbury-London_England.html#REVIEWS Access Bloomsbury Apartment Reviews, London\n"
     ]
    },
    {
     "name": "stderr",
     "output_type": "stream",
     "text": [
      "\r",
      " 17%|█▋        | 153/924 [46:57<3:55:15, 18.31s/it]"
     ]
    },
    {
     "name": "stdout",
     "output_type": "stream",
     "text": [
      "/Hotel_Review-g186338-d15511513-Reviews-The_Dome_Hyde_Park-London_England.html#REVIEWS The Dome Hyde Park Apartment Reviews, London\n"
     ]
    },
    {
     "name": "stderr",
     "output_type": "stream",
     "text": [
      "\r",
      " 17%|█▋        | 154/924 [47:27<4:40:01, 21.82s/it]"
     ]
    },
    {
     "name": "stdout",
     "output_type": "stream",
     "text": [
      "/Hotel_Review-g186338-d12834062-Reviews-Regents_Park_One_Apartments-London_England.html#REVIEWS Regents Park One Apartments Reviews, London\n"
     ]
    },
    {
     "name": "stderr",
     "output_type": "stream",
     "text": [
      "\r",
      " 17%|█▋        | 155/924 [47:44<4:21:48, 20.43s/it]"
     ]
    },
    {
     "name": "stdout",
     "output_type": "stream",
     "text": [
      "/Hotel_Review-g186338-d19609765-Reviews-TLK_Apartments_Hotel_Peckham-London_England.html#REVIEWS TLK Apartments & Hotel - Peckham Guesthouse Reviews, London\n"
     ]
    },
    {
     "name": "stderr",
     "output_type": "stream",
     "text": [
      "\r",
      " 17%|█▋        | 156/924 [47:53<3:39:04, 17.12s/it]"
     ]
    },
    {
     "name": "stdout",
     "output_type": "stream",
     "text": [
      "/Hotel_Review-g186338-d7983805-Reviews-Access_Camden-London_England.html#REVIEWS Access Camden Apartment Reviews, London\n"
     ]
    },
    {
     "name": "stderr",
     "output_type": "stream",
     "text": [
      "\r",
      " 17%|█▋        | 157/924 [48:22<4:23:06, 20.58s/it]"
     ]
    },
    {
     "name": "stdout",
     "output_type": "stream",
     "text": [
      "/Hotel_Review-g186338-d17467644-Reviews-Tower_Bridge_City_Apartments-London_England.html#REVIEWS Tower Bridge City Apartments Lodging Reviews, London\n"
     ]
    },
    {
     "name": "stderr",
     "output_type": "stream",
     "text": [
      "\r",
      " 17%|█▋        | 158/924 [48:51<4:56:11, 23.20s/it]"
     ]
    },
    {
     "name": "stdout",
     "output_type": "stream",
     "text": [
      "/Hotel_Review-g186338-d242999-Reviews-Enrico_Hotel-London_England.html#REVIEWS Enrico Hotel Reviews, London\n"
     ]
    },
    {
     "name": "stderr",
     "output_type": "stream",
     "text": [
      "\r",
      " 17%|█▋        | 159/924 [49:03<4:09:50, 19.59s/it]"
     ]
    },
    {
     "name": "stdout",
     "output_type": "stream",
     "text": [
      "/Hotel_Review-g186338-d21236514-Reviews-Grand_Mill_Premium_Apartments-London_England.html#REVIEWS Grand Mill Premium Apartments Lodging Reviews, London\n"
     ]
    },
    {
     "name": "stderr",
     "output_type": "stream",
     "text": [
      "\r",
      " 17%|█▋        | 160/924 [49:25<4:21:22, 20.53s/it]"
     ]
    },
    {
     "name": "stdout",
     "output_type": "stream",
     "text": [
      "/Hotel_Review-g186338-d21156247-Reviews-Capital_Stay_London_Excel-London_England.html#REVIEWS Capital Stay London Excel Apartment Reviews\n"
     ]
    },
    {
     "name": "stderr",
     "output_type": "stream",
     "text": [
      "\r",
      " 17%|█▋        | 161/924 [49:39<3:56:23, 18.59s/it]"
     ]
    },
    {
     "name": "stdout",
     "output_type": "stream",
     "text": [
      "/Hotel_Review-g186338-d19907354-Reviews-Axo_New_Cross-London_England.html#REVIEWS Axo New Cross Apartment Reviews, London\n"
     ]
    },
    {
     "name": "stderr",
     "output_type": "stream",
     "text": [
      "\r",
      " 18%|█▊        | 162/924 [49:56<3:50:23, 18.14s/it]"
     ]
    },
    {
     "name": "stdout",
     "output_type": "stream",
     "text": [
      "/Hotel_Review-g186338-d13356048-Reviews-Haringey_Victorian_House-London_England.html#REVIEWS Haringey Victorian House Specialty Inn Reviews, London\n"
     ]
    },
    {
     "name": "stderr",
     "output_type": "stream",
     "text": [
      "\r",
      " 18%|█▊        | 163/924 [50:18<4:04:16, 19.26s/it]"
     ]
    },
    {
     "name": "stdout",
     "output_type": "stream",
     "text": [
      "/Hotel_Review-g186338-d7625725-Reviews-Fulham_Guesthouse-London_England.html#REVIEWS Fulham Guesthouse Specialty Inn Reviews, London\n"
     ]
    },
    {
     "name": "stderr",
     "output_type": "stream",
     "text": [
      "\r",
      " 18%|█▊        | 164/924 [50:40<4:11:13, 19.83s/it]"
     ]
    },
    {
     "name": "stdout",
     "output_type": "stream",
     "text": [
      "/Hotel_Review-g186338-d3936150-Reviews-Mortham_Cottage-London_England.html#REVIEWS Mortham Cottage Guesthouse Reviews, London\n"
     ]
    },
    {
     "name": "stderr",
     "output_type": "stream",
     "text": [
      "\r",
      " 18%|█▊        | 165/924 [51:05<4:31:43, 21.48s/it]"
     ]
    },
    {
     "name": "stdout",
     "output_type": "stream",
     "text": [
      "/Hotel_Review-g186338-d7255021-Reviews-Top_Night_Hotel-London_England.html#REVIEWS Top Night Hotel Reviews, London\n"
     ]
    },
    {
     "name": "stderr",
     "output_type": "stream",
     "text": [
      "\r",
      " 18%|█▊        | 166/924 [51:17<3:56:38, 18.73s/it]"
     ]
    },
    {
     "name": "stdout",
     "output_type": "stream",
     "text": [
      "/Hotel_Review-g186338-d21106465-Reviews-Amber_Hotel-London_England.html#REVIEWS Amber Hotel Lodge Reviews, London\n"
     ]
    },
    {
     "name": "stderr",
     "output_type": "stream",
     "text": [
      "\r",
      " 18%|█▊        | 167/924 [51:34<3:51:03, 18.31s/it]"
     ]
    },
    {
     "name": "stdout",
     "output_type": "stream",
     "text": [
      "/Hotel_Review-g186338-d15811220-Reviews-The_Shelton_Covent_Garden_Apartments-London_England.html#REVIEWS The Shelton, Covent Garden Apartments Lodging Reviews, London\n"
     ]
    },
    {
     "name": "stderr",
     "output_type": "stream",
     "text": [
      "\r",
      " 18%|█▊        | 168/924 [51:59<4:12:51, 20.07s/it]"
     ]
    },
    {
     "name": "stdout",
     "output_type": "stream",
     "text": [
      "/Hotel_Review-g186338-d599913-Reviews-Excelsior_Hotel_London-London_England.html#REVIEWS Excelsior Hotel London B&B Reviews\n"
     ]
    },
    {
     "name": "stderr",
     "output_type": "stream",
     "text": [
      "\r",
      " 18%|█▊        | 169/924 [52:19<4:12:28, 20.06s/it]"
     ]
    },
    {
     "name": "stdout",
     "output_type": "stream",
     "text": [
      "/Hotel_Review-g186338-d192111-Reviews-Griffin_House_Hotel-London_England.html#REVIEWS Griffin House Hotel Reviews, London\n"
     ]
    },
    {
     "name": "stderr",
     "output_type": "stream",
     "text": [
      "\r",
      " 18%|█▊        | 170/924 [52:35<3:59:33, 19.06s/it]"
     ]
    },
    {
     "name": "stdout",
     "output_type": "stream",
     "text": [
      "/Hotel_Review-g186338-d21248025-Reviews-Urban_Chic_Covent_Garden-London_England.html#REVIEWS Urban Chic Covent Garden Lodging Reviews, London\n"
     ]
    },
    {
     "name": "stderr",
     "output_type": "stream",
     "text": [
      "\r",
      " 19%|█▊        | 171/924 [53:03<4:31:56, 21.67s/it]"
     ]
    },
    {
     "name": "stdout",
     "output_type": "stream",
     "text": [
      "/Hotel_Review-g186338-d15647149-Reviews-Deluxe_Central_London_Apartment-London_England.html#REVIEWS Deluxe Central London Apartment Lodging Reviews\n"
     ]
    },
    {
     "name": "stderr",
     "output_type": "stream",
     "text": [
      "\r",
      " 19%|█▊        | 172/924 [53:21<4:15:23, 20.38s/it]"
     ]
    },
    {
     "name": "stdout",
     "output_type": "stream",
     "text": [
      "/Hotel_Review-g186338-d3947909-Reviews-Gallery_Hyde_Park-London_England.html#REVIEWS Gallery Hyde Park Hostel Reviews, London\n"
     ]
    },
    {
     "name": "stderr",
     "output_type": "stream",
     "text": [
      "\r",
      " 19%|█▊        | 173/924 [53:36<3:56:03, 18.86s/it]"
     ]
    },
    {
     "name": "stdout",
     "output_type": "stream",
     "text": [
      "/Hotel_Review-g186338-d21400833-Reviews-Hotel_Henry_VIII-London_England.html#REVIEWS Hotel Henry VIII Reviews, London\n"
     ]
    },
    {
     "name": "stderr",
     "output_type": "stream",
     "text": [
      "\r",
      " 19%|█▉        | 174/924 [53:57<4:04:12, 19.54s/it]"
     ]
    },
    {
     "name": "stdout",
     "output_type": "stream",
     "text": [
      "/Hotel_Review-g186338-d13821462-Reviews-Wesley_Avenue-London_England.html#REVIEWS Wesley Avenue Specialty Inn Reviews, London\n"
     ]
    },
    {
     "name": "stderr",
     "output_type": "stream",
     "text": [
      "\r",
      " 19%|█▉        | 175/924 [54:06<3:24:59, 16.42s/it]"
     ]
    },
    {
     "name": "stdout",
     "output_type": "stream",
     "text": [
      "/Hotel_Review-g186338-d15323143-Reviews-Thirsk_Tooting_Concept_Studios-London_England.html#REVIEWS Thirsk Tooting Concept Studios Lodging Reviews, London\n"
     ]
    },
    {
     "name": "stderr",
     "output_type": "stream",
     "text": [
      "\r",
      " 19%|█▉        | 176/924 [54:36<4:16:28, 20.57s/it]"
     ]
    },
    {
     "name": "stdout",
     "output_type": "stream",
     "text": [
      "/Hotel_Review-g186338-d1153751-Reviews-OYO_Flagship_30372_Discovery_Dock-London_England.html#REVIEWS OYO Flagship 30372 Discovery Dock Apartment Reviews, London\n"
     ]
    },
    {
     "name": "stderr",
     "output_type": "stream",
     "text": [
      "\r",
      " 19%|█▉        | 177/924 [54:50<3:49:15, 18.41s/it]"
     ]
    },
    {
     "name": "stdout",
     "output_type": "stream",
     "text": [
      "/Hotel_Review-g186338-d12673042-Reviews-Maple_Street_Apartments-London_England.html#REVIEWS Maple Street Apartments Reviews, London\n"
     ]
    },
    {
     "name": "stderr",
     "output_type": "stream",
     "text": [
      "\r",
      " 19%|█▉        | 178/924 [55:20<4:33:54, 22.03s/it]"
     ]
    },
    {
     "name": "stdout",
     "output_type": "stream",
     "text": [
      "/Hotel_Review-g186338-d15674985-Reviews-Mora_Apartments-London_England.html#REVIEWS Mora Apartments Lodging Reviews, London\n"
     ]
    },
    {
     "name": "stderr",
     "output_type": "stream",
     "text": [
      "\r",
      " 19%|█▉        | 179/924 [55:48<4:56:11, 23.85s/it]"
     ]
    },
    {
     "name": "stdout",
     "output_type": "stream",
     "text": [
      "/Hotel_Review-g186338-d2229215-Reviews-Hyde_Park_Apartments-London_England.html#REVIEWS Hyde Park Apartments Reviews, London\n"
     ]
    },
    {
     "name": "stderr",
     "output_type": "stream",
     "text": [
      "\r",
      " 19%|█▉        | 180/924 [55:55<3:51:08, 18.64s/it]"
     ]
    },
    {
     "name": "stdout",
     "output_type": "stream",
     "text": [
      "/Hotel_Review-g186338-d1023603-Reviews-Victoria_Station_Hotel-London_England.html#REVIEWS Victoria Station Hotel Reviews, London\n"
     ]
    },
    {
     "name": "stderr",
     "output_type": "stream",
     "text": [
      "\r",
      " 20%|█▉        | 181/924 [56:26<4:36:26, 22.32s/it]"
     ]
    },
    {
     "name": "stdout",
     "output_type": "stream",
     "text": [
      "/Hotel_Review-g186338-d12009209-Reviews-Belvedere_Olympic_One_Eighty_Apartments-London_England.html#REVIEWS Belvedere Olympic One Eighty Apartments Reviews, London\n"
     ]
    },
    {
     "name": "stderr",
     "output_type": "stream",
     "text": [
      "\r",
      " 20%|█▉        | 182/924 [56:38<3:57:30, 19.21s/it]"
     ]
    },
    {
     "name": "stdout",
     "output_type": "stream",
     "text": [
      "/Hotel_Review-g186338-d15223147-Reviews-Tourian_Lounge_Hotel-London_England.html#REVIEWS Tourian Lounge Hotel Lodging Reviews, London\n"
     ]
    },
    {
     "name": "stderr",
     "output_type": "stream",
     "text": [
      "\r",
      " 20%|█▉        | 183/924 [56:50<3:30:46, 17.07s/it]"
     ]
    },
    {
     "name": "stdout",
     "output_type": "stream",
     "text": [
      "/Hotel_Review-g186338-d15665797-Reviews-Stylish_Apartment_In_Victoria-London_England.html#REVIEWS Stylish Apartment In Victoria Lodging Reviews, London\n"
     ]
    },
    {
     "name": "stderr",
     "output_type": "stream",
     "text": [
      "\r",
      " 20%|█▉        | 184/924 [56:59<3:00:31, 14.64s/it]"
     ]
    },
    {
     "name": "stdout",
     "output_type": "stream",
     "text": [
      "/Hotel_Review-g186338-d17732416-Reviews-Modern_Rooms_In_Central_London-London_England.html#REVIEWS Modern Rooms In Central London Lodging Reviews\n"
     ]
    },
    {
     "name": "stderr",
     "output_type": "stream",
     "text": [
      "\r",
      " 20%|██        | 185/924 [57:28<3:53:36, 18.97s/it]"
     ]
    },
    {
     "name": "stdout",
     "output_type": "stream",
     "text": [
      "/Hotel_Review-g186338-d17803328-Reviews-Acorn_Apartments-London_England.html#REVIEWS Acorn  Apartments Lodging Reviews, London\n"
     ]
    },
    {
     "name": "stderr",
     "output_type": "stream",
     "text": [
      "\r",
      " 20%|██        | 186/924 [57:58<4:35:17, 22.38s/it]"
     ]
    },
    {
     "name": "stdout",
     "output_type": "stream",
     "text": [
      "/Hotel_Review-g186338-d4082330-Reviews-Compton_Guest_House-London_England.html#REVIEWS Compton Guest House Reviews, London\n"
     ]
    },
    {
     "name": "stderr",
     "output_type": "stream",
     "text": [
      "\r",
      " 20%|██        | 187/924 [58:20<4:31:11, 22.08s/it]"
     ]
    },
    {
     "name": "stdout",
     "output_type": "stream",
     "text": [
      "/Hotel_Review-g186338-d17551492-Reviews-Ecclectic_Nights-London_England.html#REVIEWS Ecclectic Nights Lodging Reviews, London\n"
     ]
    },
    {
     "name": "stderr",
     "output_type": "stream",
     "text": [
      "\r",
      " 20%|██        | 188/924 [58:32<3:54:26, 19.11s/it]"
     ]
    },
    {
     "name": "stdout",
     "output_type": "stream",
     "text": [
      "/Hotel_Review-g186338-d3672342-Reviews-Lanterns_Court_Canary_Wharf_Serviced_Apartments-London_England.html#REVIEWS Lanterns Court, Canary Wharf Serviced Apartments Reviews, London\n"
     ]
    },
    {
     "name": "stderr",
     "output_type": "stream",
     "text": [
      "\r",
      " 20%|██        | 189/924 [59:03<4:38:37, 22.74s/it]"
     ]
    },
    {
     "name": "stdout",
     "output_type": "stream",
     "text": [
      "/Hotel_Review-g186338-d17616419-Reviews-The_Royal_London_Luxury_Apartments-London_England.html#REVIEWS The Royal London Luxury Apartments Lodging Reviews\n"
     ]
    },
    {
     "name": "stderr",
     "output_type": "stream",
     "text": [
      "\r",
      " 21%|██        | 190/924 [59:25<4:35:16, 22.50s/it]"
     ]
    },
    {
     "name": "stdout",
     "output_type": "stream",
     "text": [
      "/Hotel_Review-g186338-d9460839-Reviews-Vintage_Central_London_Apartment-London_England.html#REVIEWS Vintage Central London Apartment Reviews\n"
     ]
    },
    {
     "name": "stderr",
     "output_type": "stream",
     "text": [
      "\r",
      " 21%|██        | 191/924 [59:41<4:11:01, 20.55s/it]"
     ]
    },
    {
     "name": "stdout",
     "output_type": "stream",
     "text": [
      "/Hotel_Review-g186338-d17796424-Reviews-OYO_Home_Shoreditch_Executive_Deluxe_3_Bedroom-London_England.html#REVIEWS OYO Home Shoreditch Executive Deluxe 3 Bedroom Hotel Reviews, London\n"
     ]
    },
    {
     "name": "stderr",
     "output_type": "stream",
     "text": [
      "\r",
      " 21%|██        | 192/924 [1:00:05<4:22:25, 21.51s/it]"
     ]
    },
    {
     "name": "stdout",
     "output_type": "stream",
     "text": [
      "/Hotel_Review-g186338-d243189-Reviews-Glendale_Hyde_Park_Hotel-London_England.html#REVIEWS Glendale Hyde Park Hotel Reviews, London\n"
     ]
    },
    {
     "name": "stderr",
     "output_type": "stream",
     "text": [
      "\r",
      " 21%|██        | 193/924 [1:00:35<4:54:20, 24.16s/it]"
     ]
    },
    {
     "name": "stdout",
     "output_type": "stream",
     "text": [
      "/Hotel_Review-g186338-d15278000-Reviews-Cosy_Rooms_Sidney_Square-London_England.html#REVIEWS Cosy Rooms Sidney Square Lodging Reviews, London\n"
     ]
    },
    {
     "name": "stderr",
     "output_type": "stream",
     "text": [
      "\r",
      " 21%|██        | 194/924 [1:00:55<4:39:26, 22.97s/it]"
     ]
    },
    {
     "name": "stdout",
     "output_type": "stream",
     "text": [
      "/Hotel_Review-g186338-d7399136-Reviews-Oxford_Street_Apartments-London_England.html#REVIEWS Oxford Street Apartments Reviews, London\n"
     ]
    },
    {
     "name": "stderr",
     "output_type": "stream",
     "text": [
      "\r",
      " 21%|██        | 195/924 [1:01:14<4:25:26, 21.85s/it]"
     ]
    },
    {
     "name": "stdout",
     "output_type": "stream",
     "text": [
      "/Hotel_Review-g186338-d13341765-Reviews-Roman_Flat_Near_Excel-London_England.html#REVIEWS Roman Flat Near Excel Specialty Inn Reviews, London\n"
     ]
    },
    {
     "name": "stderr",
     "output_type": "stream",
     "text": [
      "\r",
      " 21%|██        | 196/924 [1:01:31<4:05:24, 20.23s/it]"
     ]
    },
    {
     "name": "stdout",
     "output_type": "stream",
     "text": [
      "/Hotel_Review-g186338-d193166-Reviews-Pembridge_Palace_Hotel-London_England.html#REVIEWS Pembridge Palace Hotel Reviews, London\n"
     ]
    },
    {
     "name": "stderr",
     "output_type": "stream",
     "text": [
      "\r",
      " 21%|██▏       | 197/924 [1:02:01<4:39:43, 23.09s/it]"
     ]
    },
    {
     "name": "stdout",
     "output_type": "stream",
     "text": [
      "/Hotel_Review-g186338-d11914843-Reviews-Finding_My_Palace-London_England.html#REVIEWS Finding My Palace Hostel Reviews, London\n"
     ]
    },
    {
     "name": "stderr",
     "output_type": "stream",
     "text": [
      "\r",
      " 21%|██▏       | 198/924 [1:02:28<4:54:10, 24.31s/it]"
     ]
    },
    {
     "name": "stdout",
     "output_type": "stream",
     "text": [
      "/Hotel_Review-g186338-d15618213-Reviews-London_Apartments_Holborn-London_England.html#REVIEWS London Apartments Holborn Lodging Reviews\n"
     ]
    },
    {
     "name": "stderr",
     "output_type": "stream",
     "text": [
      "\r",
      " 22%|██▏       | 199/924 [1:02:43<4:20:07, 21.53s/it]"
     ]
    },
    {
     "name": "stdout",
     "output_type": "stream",
     "text": [
      "/Hotel_Review-g186338-d15141891-Reviews-Brick_Lane_Apartment_Guesthouse-London_England.html#REVIEWS Brick Lane Apartment Guesthouse Reviews, London\n"
     ]
    },
    {
     "name": "stderr",
     "output_type": "stream",
     "text": [
      "\r",
      " 22%|██▏       | 200/924 [1:02:58<3:57:55, 19.72s/it]"
     ]
    },
    {
     "name": "stdout",
     "output_type": "stream",
     "text": [
      "/Hotel_Review-g186338-d15680528-Reviews-Seven_Dials_Apartments-London_England.html#REVIEWS Seven Dials Apartments Lodging Reviews, London\n"
     ]
    },
    {
     "name": "stderr",
     "output_type": "stream",
     "text": [
      "\r",
      " 22%|██▏       | 201/924 [1:03:21<4:07:19, 20.52s/it]"
     ]
    },
    {
     "name": "stdout",
     "output_type": "stream",
     "text": [
      "/Hotel_Review-g186338-d17753686-Reviews-Maddox_Street-London_England.html#REVIEWS Maddox Street Lodging Reviews, London\n"
     ]
    },
    {
     "name": "stderr",
     "output_type": "stream",
     "text": [
      "\r",
      " 22%|██▏       | 202/924 [1:03:42<4:08:51, 20.68s/it]"
     ]
    },
    {
     "name": "stdout",
     "output_type": "stream",
     "text": [
      "/Hotel_Review-g186338-d2085240-Reviews-MyStayInn-London_England.html#REVIEWS MyStayInn Hotel Reviews, London\n"
     ]
    },
    {
     "name": "stderr",
     "output_type": "stream",
     "text": [
      "\r",
      " 22%|██▏       | 203/924 [1:04:02<4:06:25, 20.51s/it]"
     ]
    },
    {
     "name": "stdout",
     "output_type": "stream",
     "text": [
      "/Hotel_Review-g186338-d3476472-Reviews-Kensington_Aparthotel-London_England.html#REVIEWS Kensington Aparthotel Reviews, London\n"
     ]
    },
    {
     "name": "stderr",
     "output_type": "stream",
     "text": [
      "\r",
      " 22%|██▏       | 204/924 [1:04:31<4:38:53, 23.24s/it]"
     ]
    },
    {
     "name": "stdout",
     "output_type": "stream",
     "text": [
      "/Hotel_Review-g186338-d17482158-Reviews-Kensingtoncourt_Aparthotel-London_England.html#REVIEWS Kensingtoncourt Aparthotel Lodging Reviews, London\n"
     ]
    },
    {
     "name": "stderr",
     "output_type": "stream",
     "text": [
      "\r",
      " 22%|██▏       | 205/924 [1:04:38<3:37:27, 18.15s/it]"
     ]
    },
    {
     "name": "stdout",
     "output_type": "stream",
     "text": [
      "/Hotel_Review-g186338-d17499824-Reviews-Valet_Apartments_Kensington_Gardens-London_England.html#REVIEWS Valet Apartments Kensington Gardens Lodging Reviews, London\n"
     ]
    },
    {
     "name": "stderr",
     "output_type": "stream",
     "text": [
      "\r",
      " 22%|██▏       | 206/924 [1:05:06<4:13:36, 21.19s/it]"
     ]
    },
    {
     "name": "stdout",
     "output_type": "stream",
     "text": [
      "/Hotel_Review-g186338-d15684271-Reviews-Map_Residential_Apartments-London_England.html#REVIEWS Map Residential Apartments Lodging Reviews, London\n"
     ]
    },
    {
     "name": "stderr",
     "output_type": "stream",
     "text": [
      "\r",
      " 22%|██▏       | 207/924 [1:05:17<3:35:24, 18.03s/it]"
     ]
    },
    {
     "name": "stdout",
     "output_type": "stream",
     "text": [
      "/Hotel_Review-g186338-d15323489-Reviews-Last_Minute_Accomodation-London_England.html#REVIEWS Last Minute Accomodation Lodging Reviews, London\n"
     ]
    },
    {
     "name": "stderr",
     "output_type": "stream",
     "text": [
      "\r",
      " 23%|██▎       | 208/924 [1:05:44<4:09:23, 20.90s/it]"
     ]
    },
    {
     "name": "stdout",
     "output_type": "stream",
     "text": [
      "/Hotel_Review-g186338-d14194029-Reviews-101_Stay-London_England.html#REVIEWS 101 Stay Guesthouse Reviews, London\n"
     ]
    },
    {
     "name": "stderr",
     "output_type": "stream",
     "text": [
      "\r",
      " 23%|██▎       | 209/924 [1:05:51<3:20:09, 16.80s/it]"
     ]
    },
    {
     "name": "stdout",
     "output_type": "stream",
     "text": [
      "/Hotel_Review-g186338-d15735554-Reviews-The_Soho_Mandeville-London_England.html#REVIEWS The Soho Mandeville Lodging Reviews, London\n"
     ]
    },
    {
     "name": "stderr",
     "output_type": "stream",
     "text": [
      "\r",
      " 23%|██▎       | 210/924 [1:06:00<2:51:19, 14.40s/it]"
     ]
    },
    {
     "name": "stdout",
     "output_type": "stream",
     "text": [
      "/Hotel_Review-g186338-d15709347-Reviews-Tower_Hill_Apartments-London_England.html#REVIEWS Tower Hill Apartments Lodging Reviews, London\n"
     ]
    },
    {
     "name": "stderr",
     "output_type": "stream",
     "text": [
      "\r",
      " 23%|██▎       | 211/924 [1:06:07<2:24:00, 12.12s/it]"
     ]
    },
    {
     "name": "stdout",
     "output_type": "stream",
     "text": [
      "/Hotel_Review-g186338-d12002949-Reviews-London_Bridge_Apartments-London_England.html#REVIEWS London Bridge Apartments Reviews\n"
     ]
    },
    {
     "name": "stderr",
     "output_type": "stream",
     "text": [
      "\r",
      " 23%|██▎       | 212/924 [1:06:33<3:14:28, 16.39s/it]"
     ]
    },
    {
     "name": "stdout",
     "output_type": "stream",
     "text": [
      "/Hotel_Review-g186338-d11916971-Reviews-Wellington_Road_Apartments-London_England.html#REVIEWS Wellington Road Apartments Lodge Reviews, London\n"
     ]
    },
    {
     "name": "stderr",
     "output_type": "stream",
     "text": [
      "\r",
      " 23%|██▎       | 213/924 [1:06:58<3:42:56, 18.81s/it]"
     ]
    },
    {
     "name": "stdout",
     "output_type": "stream",
     "text": [
      "/Hotel_Review-g186338-d15661935-Reviews-Shoreditch_Apartments-London_England.html#REVIEWS Shoreditch Apartments Lodging Reviews, London\n"
     ]
    },
    {
     "name": "stderr",
     "output_type": "stream",
     "text": [
      "\r",
      " 23%|██▎       | 214/924 [1:07:25<4:13:03, 21.39s/it]"
     ]
    },
    {
     "name": "stdout",
     "output_type": "stream",
     "text": [
      "/Hotel_Review-g186338-d11977596-Reviews-Pelican_Stay-London_England.html#REVIEWS Pelican Stay Apartment Reviews, London\n"
     ]
    },
    {
     "name": "stderr",
     "output_type": "stream",
     "text": [
      "\r",
      " 23%|██▎       | 215/924 [1:07:45<4:06:44, 20.88s/it]"
     ]
    },
    {
     "name": "stdout",
     "output_type": "stream",
     "text": [
      "/Hotel_Review-g186338-d661964-Reviews-Metro_Hotel-London_England.html#REVIEWS Metro Hotel Reviews, London\n"
     ]
    },
    {
     "name": "stderr",
     "output_type": "stream",
     "text": [
      "\r",
      " 23%|██▎       | 216/924 [1:08:01<3:47:50, 19.31s/it]"
     ]
    },
    {
     "name": "stdout",
     "output_type": "stream",
     "text": [
      "/Hotel_Review-g186338-d12071788-Reviews-Apartment_54_Courtfield_Gardens-London_England.html#REVIEWS Apartment 54 Courtfield Gardens Reviews, London\n"
     ]
    },
    {
     "name": "stderr",
     "output_type": "stream",
     "text": [
      "\r",
      " 23%|██▎       | 217/924 [1:08:28<4:15:01, 21.64s/it]"
     ]
    },
    {
     "name": "stdout",
     "output_type": "stream",
     "text": [
      "/Hotel_Review-g186338-d282815-Reviews-Home_London-London_England.html#REVIEWS Home London Hostel Reviews\n"
     ]
    },
    {
     "name": "stderr",
     "output_type": "stream",
     "text": [
      "\r",
      " 24%|██▎       | 218/924 [1:08:42<3:50:23, 19.58s/it]"
     ]
    },
    {
     "name": "stdout",
     "output_type": "stream",
     "text": [
      "/Hotel_Review-g186338-d736380-Reviews-Kensington_Suite_Hotel-London_England.html#REVIEWS Kensington Suite Hotel Reviews, London\n"
     ]
    },
    {
     "name": "stderr",
     "output_type": "stream",
     "text": [
      "\r",
      " 24%|██▎       | 219/924 [1:09:02<3:48:17, 19.43s/it]"
     ]
    },
    {
     "name": "stdout",
     "output_type": "stream",
     "text": [
      "/Hotel_Review-g186338-d9977586-Reviews-Belvedere_Kings_Cross_Apartments-London_England.html#REVIEWS Belvedere Kings Cross Apartments Reviews, London\n"
     ]
    },
    {
     "name": "stderr",
     "output_type": "stream",
     "text": [
      "\r",
      " 24%|██▍       | 220/924 [1:09:23<3:54:57, 20.02s/it]"
     ]
    },
    {
     "name": "stdout",
     "output_type": "stream",
     "text": [
      "/Hotel_Review-g186338-d3320109-Reviews-Queen_s_Drive_Aparthotel-London_England.html#REVIEWS Queen's Drive Aparthotel B&B Reviews, London\n"
     ]
    },
    {
     "name": "stderr",
     "output_type": "stream",
     "text": [
      "\r",
      " 24%|██▍       | 221/924 [1:09:30<3:09:49, 16.20s/it]"
     ]
    },
    {
     "name": "stdout",
     "output_type": "stream",
     "text": [
      "/Hotel_Review-g186338-d243541-Reviews-Swinton_Hotel-London_England.html#REVIEWS Swinton Hotel Reviews, London\n"
     ]
    },
    {
     "name": "stderr",
     "output_type": "stream",
     "text": [
      "\r",
      " 24%|██▍       | 222/924 [1:09:47<3:09:55, 16.23s/it]"
     ]
    },
    {
     "name": "stdout",
     "output_type": "stream",
     "text": [
      "/Hotel_Review-g186338-d2011345-Reviews-Arsenal_Tavern-London_England.html#REVIEWS Arsenal Tavern Hostel Reviews, London\n"
     ]
    },
    {
     "name": "stderr",
     "output_type": "stream",
     "text": [
      "\r",
      " 24%|██▍       | 223/924 [1:09:54<2:38:23, 13.56s/it]"
     ]
    },
    {
     "name": "stdout",
     "output_type": "stream",
     "text": [
      "/Hotel_Review-g186338-d634557-Reviews-Romanos_Hotel-London_England.html#REVIEWS Romanos Hotel Reviews, London\n"
     ]
    },
    {
     "name": "stderr",
     "output_type": "stream",
     "text": [
      "\r",
      " 24%|██▍       | 224/924 [1:10:21<3:24:33, 17.53s/it]"
     ]
    },
    {
     "name": "stdout",
     "output_type": "stream",
     "text": [
      "/Hotel_Review-g186338-d192076-Reviews-London_Aparthotel-London_England.html#REVIEWS London Aparthotel Reviews\n"
     ]
    },
    {
     "name": "stderr",
     "output_type": "stream",
     "text": [
      "\r",
      " 24%|██▍       | 225/924 [1:10:47<3:56:16, 20.28s/it]"
     ]
    },
    {
     "name": "stdout",
     "output_type": "stream",
     "text": [
      "/Hotel_Review-g186338-d209235-Reviews-An_Nur_Hotel-London_England.html#REVIEWS An-Nur Hotel Reviews, London\n"
     ]
    },
    {
     "name": "stderr",
     "output_type": "stream",
     "text": [
      "\r",
      " 24%|██▍       | 226/924 [1:10:57<3:19:21, 17.14s/it]"
     ]
    },
    {
     "name": "stdout",
     "output_type": "stream",
     "text": [
      "/Hotel_Review-g186338-d5542958-Reviews-Avenue_Inn-London_England.html#REVIEWS Avenue Inn Reviews, London\n"
     ]
    },
    {
     "name": "stderr",
     "output_type": "stream",
     "text": [
      "\r",
      " 25%|██▍       | 227/924 [1:11:19<3:33:56, 18.42s/it]"
     ]
    },
    {
     "name": "stdout",
     "output_type": "stream",
     "text": [
      "/Hotel_Review-g186338-d17608149-Reviews-London_City_View-London_England.html#REVIEWS London City View Guesthouse Reviews\n"
     ]
    },
    {
     "name": "stderr",
     "output_type": "stream",
     "text": [
      "\r",
      " 25%|██▍       | 228/924 [1:11:44<3:57:30, 20.47s/it]"
     ]
    },
    {
     "name": "stdout",
     "output_type": "stream",
     "text": [
      "/Hotel_Review-g186338-d17521407-Reviews-Donatello_Rooms_Tower_Bridge-London_England.html#REVIEWS Donatello Rooms Tower Bridge Lodging Reviews, London\n"
     ]
    },
    {
     "name": "stderr",
     "output_type": "stream",
     "text": [
      "\r",
      " 25%|██▍       | 229/924 [1:11:53<3:17:23, 17.04s/it]"
     ]
    },
    {
     "name": "stdout",
     "output_type": "stream",
     "text": [
      "/Hotel_Review-g186338-d17470540-Reviews-The_Lion_Head-London_England.html#REVIEWS The Lion Head Lodging Reviews, London\n"
     ]
    },
    {
     "name": "stderr",
     "output_type": "stream",
     "text": [
      "\r",
      " 25%|██▍       | 230/924 [1:12:01<2:46:45, 14.42s/it]"
     ]
    },
    {
     "name": "stdout",
     "output_type": "stream",
     "text": [
      "/Hotel_Review-g186338-d210068-Reviews-Adare_Hotel-London_England.html#REVIEWS Adare Hotel Reviews, London\n"
     ]
    },
    {
     "name": "stderr",
     "output_type": "stream",
     "text": [
      "\r",
      " 25%|██▌       | 231/924 [1:12:20<3:03:01, 15.85s/it]"
     ]
    },
    {
     "name": "stdout",
     "output_type": "stream",
     "text": [
      "/Hotel_Review-g186338-d9776680-Reviews-Vallance_Road_House-London_England.html#REVIEWS Vallance Road House Lodge Reviews, London\n"
     ]
    },
    {
     "name": "stderr",
     "output_type": "stream",
     "text": [
      "\r",
      " 25%|██▌       | 232/924 [1:12:45<3:32:52, 18.46s/it]"
     ]
    },
    {
     "name": "stdout",
     "output_type": "stream",
     "text": [
      "/Hotel_Review-g186338-d11851382-Reviews-Citygate_Kensington-London_England.html#REVIEWS Citygate Kensington Apartment Reviews, London\n"
     ]
    },
    {
     "name": "stderr",
     "output_type": "stream",
     "text": [
      "\r",
      " 25%|██▌       | 233/924 [1:13:01<3:25:20, 17.83s/it]"
     ]
    },
    {
     "name": "stdout",
     "output_type": "stream",
     "text": [
      "/Hotel_Review-g186338-d12606031-Reviews-Pure_CityStay_Bankside-London_England.html#REVIEWS Pure CityStay Bankside Apartment Reviews, London\n"
     ]
    },
    {
     "name": "stderr",
     "output_type": "stream",
     "text": [
      "\r",
      " 25%|██▌       | 234/924 [1:13:09<2:49:08, 14.71s/it]"
     ]
    },
    {
     "name": "stdout",
     "output_type": "stream",
     "text": [
      "/Hotel_Review-g186338-d9977540-Reviews-Classica_Apartments_Westminster-London_England.html#REVIEWS Classica Apartments Westminster Reviews, London\n"
     ]
    },
    {
     "name": "stderr",
     "output_type": "stream",
     "text": [
      "\r",
      " 25%|██▌       | 235/924 [1:13:31<3:14:38, 16.95s/it]"
     ]
    },
    {
     "name": "stdout",
     "output_type": "stream",
     "text": [
      "/Hotel_Review-g186338-d15295589-Reviews-Urban_Chic-London_England.html#REVIEWS Urban Chic Guesthouse Reviews, London\n"
     ]
    },
    {
     "name": "stderr",
     "output_type": "stream",
     "text": [
      "\r",
      " 26%|██▌       | 236/924 [1:14:01<4:00:02, 20.93s/it]"
     ]
    },
    {
     "name": "stdout",
     "output_type": "stream",
     "text": [
      "/Hotel_Review-g186338-d574687-Reviews-Cavendish_Hotel_Bloomsbury-London_England.html#REVIEWS Cavendish Hotel- Bloomsbury Reviews, London\n"
     ]
    },
    {
     "name": "stderr",
     "output_type": "stream",
     "text": [
      "\r",
      " 26%|██▌       | 237/924 [1:14:26<4:14:59, 22.27s/it]"
     ]
    },
    {
     "name": "stdout",
     "output_type": "stream",
     "text": [
      "/Hotel_Review-g186338-d6411267-Reviews-Marisa_House-London_England.html#REVIEWS Marisa House Guesthouse Reviews, London\n"
     ]
    },
    {
     "name": "stderr",
     "output_type": "stream",
     "text": [
      "\r",
      " 26%|██▌       | 238/924 [1:14:53<4:27:40, 23.41s/it]"
     ]
    },
    {
     "name": "stdout",
     "output_type": "stream",
     "text": [
      "/Hotel_Review-g186338-d1502057-Reviews-Dylan_Apartments_Kensington-London_England.html#REVIEWS Dylan Apartments Kensington Hotel Reviews, London\n"
     ]
    },
    {
     "name": "stderr",
     "output_type": "stream",
     "text": [
      "\r",
      " 26%|██▌       | 239/924 [1:15:19<4:36:45, 24.24s/it]"
     ]
    },
    {
     "name": "stdout",
     "output_type": "stream",
     "text": [
      "/Hotel_Review-g186338-d12319557-Reviews-Edgware_Road_Inn-London_England.html#REVIEWS Edgware Road Inn Reviews, London\n"
     ]
    },
    {
     "name": "stderr",
     "output_type": "stream",
     "text": [
      "\r",
      " 26%|██▌       | 240/924 [1:15:33<4:02:25, 21.27s/it]"
     ]
    },
    {
     "name": "stdout",
     "output_type": "stream",
     "text": [
      "/Hotel_Review-g186338-d1799355-Reviews-St_Joseph_Hotel-London_England.html#REVIEWS St Joseph Hotel Reviews, London\n"
     ]
    },
    {
     "name": "stderr",
     "output_type": "stream",
     "text": [
      "\r",
      " 26%|██▌       | 241/924 [1:15:52<3:52:59, 20.47s/it]"
     ]
    },
    {
     "name": "stdout",
     "output_type": "stream",
     "text": [
      "/Hotel_Review-g186338-d15637709-Reviews-Hyde_Park_Suites-London_England.html#REVIEWS Hyde Park Suites Lodging Reviews, London\n"
     ]
    },
    {
     "name": "stderr",
     "output_type": "stream",
     "text": [
      "\r",
      " 26%|██▌       | 242/924 [1:16:02<3:18:18, 17.45s/it]"
     ]
    },
    {
     "name": "stdout",
     "output_type": "stream",
     "text": [
      "/Hotel_Review-g186338-d582047-Reviews-Central_Hotel-London_England.html#REVIEWS Central Hotel Reviews, London\n"
     ]
    },
    {
     "name": "stderr",
     "output_type": "stream",
     "text": [
      "\r",
      " 26%|██▋       | 243/924 [1:16:09<2:43:35, 14.41s/it]"
     ]
    },
    {
     "name": "stdout",
     "output_type": "stream",
     "text": [
      "/Hotel_Review-g186338-d7734232-Reviews-Shoreditch_Rooms-London_England.html#REVIEWS Shoreditch Rooms Apartment Reviews, London\n"
     ]
    },
    {
     "name": "stderr",
     "output_type": "stream",
     "text": [
      "\r",
      " 26%|██▋       | 244/924 [1:16:26<2:49:46, 14.98s/it]"
     ]
    },
    {
     "name": "stdout",
     "output_type": "stream",
     "text": [
      "/Hotel_Review-g186338-d192050-Reviews-The_Grapevine_Hotel-London_England.html#REVIEWS The Grapevine Hotel B&B Reviews, London\n"
     ]
    },
    {
     "name": "stderr",
     "output_type": "stream",
     "text": [
      "\r",
      " 27%|██▋       | 245/924 [1:16:35<2:30:42, 13.32s/it]"
     ]
    },
    {
     "name": "stdout",
     "output_type": "stream",
     "text": [
      "/Hotel_Review-g186338-d190072-Reviews-159_Knightbridge_Hotel-London_England.html#REVIEWS 159 Knightbridge Hotel Reviews, London\n"
     ]
    },
    {
     "name": "stderr",
     "output_type": "stream",
     "text": [
      "\r",
      " 27%|██▋       | 246/924 [1:16:49<2:30:57, 13.36s/it]"
     ]
    },
    {
     "name": "stdout",
     "output_type": "stream",
     "text": [
      "/Hotel_Review-g186338-d14001998-Reviews-London_City_Rooms-London_England.html#REVIEWS London City Rooms Guesthouse Reviews\n"
     ]
    },
    {
     "name": "stderr",
     "output_type": "stream",
     "text": [
      "\r",
      " 27%|██▋       | 247/924 [1:17:11<3:01:14, 16.06s/it]"
     ]
    },
    {
     "name": "stdout",
     "output_type": "stream",
     "text": [
      "/Hotel_Review-g186338-d4020706-Reviews-Stay_In_Chelsea_Guesthouse-London_England.html#REVIEWS Stay In Chelsea Guesthouse Reviews, London\n"
     ]
    },
    {
     "name": "stderr",
     "output_type": "stream",
     "text": [
      "\r",
      " 27%|██▋       | 248/924 [1:17:23<2:47:54, 14.90s/it]"
     ]
    },
    {
     "name": "stdout",
     "output_type": "stream",
     "text": [
      "/Hotel_Review-g186338-d192091-Reviews-Whiteleaf_Hotel-London_England.html#REVIEWS Whiteleaf Hotel Reviews, London\n"
     ]
    },
    {
     "name": "stderr",
     "output_type": "stream",
     "text": [
      "\r",
      " 27%|██▋       | 249/924 [1:17:50<3:29:18, 18.61s/it]"
     ]
    },
    {
     "name": "stdout",
     "output_type": "stream",
     "text": [
      "/Hotel_Review-g186338-d1737000-Reviews-City_View_Hotel_Roman_Road-London_England.html#REVIEWS City View Hotel Roman Road Reviews, London\n"
     ]
    },
    {
     "name": "stderr",
     "output_type": "stream",
     "text": [
      "\r",
      " 27%|██▋       | 250/924 [1:18:03<3:10:23, 16.95s/it]"
     ]
    },
    {
     "name": "stdout",
     "output_type": "stream",
     "text": [
      "/Hotel_Review-g186338-d3975660-Reviews-Goddis_Lodge-London_England.html#REVIEWS Goddis Lodge Reviews, London\n"
     ]
    },
    {
     "name": "stderr",
     "output_type": "stream",
     "text": [
      "\r",
      " 27%|██▋       | 251/924 [1:18:28<3:34:09, 19.09s/it]"
     ]
    },
    {
     "name": "stdout",
     "output_type": "stream",
     "text": [
      "/Hotel_Review-g186338-d663955-Reviews-Hotel_Sophia-London_England.html#REVIEWS Hotel Sophia Reviews, London\n"
     ]
    },
    {
     "name": "stderr",
     "output_type": "stream",
     "text": [
      "\r",
      " 27%|██▋       | 252/924 [1:18:38<3:04:42, 16.49s/it]"
     ]
    },
    {
     "name": "stdout",
     "output_type": "stream",
     "text": [
      "/Hotel_Review-g186338-d14077351-Reviews-St_George_s_Apartments-London_England.html#REVIEWS St. George's Apartments Hotel Reviews, London\n"
     ]
    },
    {
     "name": "stderr",
     "output_type": "stream",
     "text": [
      "\r",
      " 27%|██▋       | 253/924 [1:19:08<3:50:53, 20.65s/it]"
     ]
    },
    {
     "name": "stdout",
     "output_type": "stream",
     "text": [
      "/Hotel_Review-g186338-d7688353-Reviews-Excel_Hotel-London_England.html#REVIEWS Excel Hotel Reviews, London\n"
     ]
    },
    {
     "name": "stderr",
     "output_type": "stream",
     "text": [
      "\r",
      " 27%|██▋       | 254/924 [1:19:38<4:19:43, 23.26s/it]"
     ]
    },
    {
     "name": "stdout",
     "output_type": "stream",
     "text": [
      "/Hotel_Review-g186338-d17724438-Reviews-The_Leicester_Square_Collection-London_England.html#REVIEWS The Leicester Square Collection Lodging Reviews, London\n"
     ]
    },
    {
     "name": "stderr",
     "output_type": "stream",
     "text": [
      "\r",
      " 28%|██▊       | 255/924 [1:19:59<4:12:09, 22.61s/it]"
     ]
    },
    {
     "name": "stdout",
     "output_type": "stream",
     "text": [
      "/Hotel_Review-g186338-d1463562-Reviews-Goodwood_Hotel-London_England.html#REVIEWS Goodwood Hotel Reviews, London\n"
     ]
    },
    {
     "name": "stderr",
     "output_type": "stream",
     "text": [
      "\r",
      " 28%|██▊       | 256/924 [1:20:25<4:24:08, 23.72s/it]"
     ]
    },
    {
     "name": "stdout",
     "output_type": "stream",
     "text": [
      "/Hotel_Review-g186338-d199110-Reviews-Berkeley_Court_Hotel-London_England.html#REVIEWS Berkeley Court Hotel Reviews, London\n"
     ]
    },
    {
     "name": "stderr",
     "output_type": "stream",
     "text": [
      "\r",
      " 28%|██▊       | 257/924 [1:20:45<4:11:37, 22.64s/it]"
     ]
    },
    {
     "name": "stdout",
     "output_type": "stream",
     "text": [
      "/Hotel_Review-g186338-d650397-Reviews-Kadimah_Hotel-London_England.html#REVIEWS Kadimah Hotel B&B Reviews, London\n"
     ]
    },
    {
     "name": "stderr",
     "output_type": "stream",
     "text": [
      "\r",
      " 28%|██▊       | 258/924 [1:21:06<4:04:58, 22.07s/it]"
     ]
    },
    {
     "name": "stdout",
     "output_type": "stream",
     "text": [
      "/Hotel_Review-g186338-d4295146-Reviews-FitzBB-London_England.html#REVIEWS FitzBB Specialty B&B Reviews, London\n"
     ]
    },
    {
     "name": "stderr",
     "output_type": "stream",
     "text": [
      "\r",
      " 28%|██▊       | 259/924 [1:21:13<3:13:48, 17.49s/it]"
     ]
    },
    {
     "name": "stdout",
     "output_type": "stream",
     "text": [
      "/Hotel_Review-g186338-d3750492-Reviews-The_Old_Crown_Inn_Rooms-London_England.html#REVIEWS The Old Crown Inn Rooms B&B Reviews, London\n"
     ]
    },
    {
     "name": "stderr",
     "output_type": "stream",
     "text": [
      "\r",
      " 28%|██▊       | 260/924 [1:21:28<3:05:28, 16.76s/it]"
     ]
    },
    {
     "name": "stdout",
     "output_type": "stream",
     "text": [
      "/Hotel_Review-g186338-d309447-Reviews-4_Highbury_Terrace-London_England.html#REVIEWS 4 Highbury Terrace B&B Reviews, London\n"
     ]
    },
    {
     "name": "stderr",
     "output_type": "stream",
     "text": [
      "\r",
      " 28%|██▊       | 261/924 [1:21:42<2:57:03, 16.02s/it]"
     ]
    },
    {
     "name": "stdout",
     "output_type": "stream",
     "text": [
      "/Hotel_Review-g186338-d7335590-Reviews-City_Marque_Albert_Serviced_Apartments-London_England.html#REVIEWS City Marque Albert Serviced Apartments Reviews, London\n"
     ]
    },
    {
     "name": "stderr",
     "output_type": "stream",
     "text": [
      "\r",
      " 28%|██▊       | 262/924 [1:21:49<2:24:52, 13.13s/it]"
     ]
    },
    {
     "name": "stdout",
     "output_type": "stream",
     "text": [
      "/Hotel_Review-g186338-d8385942-Reviews-Putney_Bed_and_Breakfast-London_England.html#REVIEWS Putney Bed and Breakfast Reviews, London\n"
     ]
    },
    {
     "name": "stderr",
     "output_type": "stream",
     "text": [
      "\r",
      " 28%|██▊       | 263/924 [1:21:59<2:15:08, 12.27s/it]"
     ]
    },
    {
     "name": "stdout",
     "output_type": "stream",
     "text": [
      "/Hotel_Review-g186338-d11918773-Reviews-Talipot_Apartments_Hyde_Park-London_England.html#REVIEWS Talipot Apartments Hyde Park Reviews, London\n"
     ]
    },
    {
     "name": "stderr",
     "output_type": "stream",
     "text": [
      "\r",
      " 29%|██▊       | 264/924 [1:22:14<2:25:25, 13.22s/it]"
     ]
    },
    {
     "name": "stdout",
     "output_type": "stream",
     "text": [
      "/Hotel_Review-g186338-d5888764-Reviews-Victoria_One-London_England.html#REVIEWS Victoria One Apartment Reviews, London\n"
     ]
    },
    {
     "name": "stderr",
     "output_type": "stream",
     "text": [
      "\r",
      " 29%|██▊       | 265/924 [1:22:36<2:53:25, 15.79s/it]"
     ]
    },
    {
     "name": "stdout",
     "output_type": "stream",
     "text": [
      "/Hotel_Review-g186338-d735748-Reviews-Stay_QM-London_England.html#REVIEWS Stay QM Apartment Reviews, London\n"
     ]
    },
    {
     "name": "stderr",
     "output_type": "stream",
     "text": [
      "\r",
      " 29%|██▉       | 266/924 [1:23:01<3:21:52, 18.41s/it]"
     ]
    },
    {
     "name": "stdout",
     "output_type": "stream",
     "text": [
      "/Hotel_Review-g186338-d10404888-Reviews-Peckham_Rooms_Hotel-London_England.html#REVIEWS Peckham Rooms Hotel Lodge Reviews, London\n"
     ]
    },
    {
     "name": "stderr",
     "output_type": "stream",
     "text": [
      "\r",
      " 29%|██▉       | 267/924 [1:23:08<2:45:09, 15.08s/it]"
     ]
    },
    {
     "name": "stdout",
     "output_type": "stream",
     "text": [
      "/Hotel_Review-g186338-d15355284-Reviews-Rockwell_East-London_England.html#REVIEWS Rockwell East Specialty Hotel Reviews, London\n"
     ]
    },
    {
     "name": "stderr",
     "output_type": "stream",
     "text": [
      "\r",
      " 29%|██▉       | 268/924 [1:23:20<2:35:40, 14.24s/it]"
     ]
    },
    {
     "name": "stdout",
     "output_type": "stream",
     "text": [
      "/Hotel_Review-g186338-d15859321-Reviews-Winchester_Street_Apartment-London_England.html#REVIEWS Winchester Street Apartment Lodging Reviews, London\n"
     ]
    },
    {
     "name": "stderr",
     "output_type": "stream",
     "text": [
      "\r",
      " 29%|██▉       | 269/924 [1:23:47<3:17:20, 18.08s/it]"
     ]
    },
    {
     "name": "stdout",
     "output_type": "stream",
     "text": [
      "/Hotel_Review-g186338-d15632629-Reviews-Creechurch_Lane_Apartments-London_England.html#REVIEWS Creechurch Lane Apartments Lodging Reviews, London\n"
     ]
    },
    {
     "name": "stderr",
     "output_type": "stream",
     "text": [
      "\r",
      " 29%|██▉       | 270/924 [1:24:16<3:52:33, 21.34s/it]"
     ]
    },
    {
     "name": "stdout",
     "output_type": "stream",
     "text": [
      "/Hotel_Review-g186338-d9977498-Reviews-Native_City-London_England.html#REVIEWS Native City Apartment Reviews, London\n"
     ]
    },
    {
     "name": "stderr",
     "output_type": "stream",
     "text": [
      "\r",
      " 29%|██▉       | 271/924 [1:24:25<3:12:25, 17.68s/it]"
     ]
    },
    {
     "name": "stdout",
     "output_type": "stream",
     "text": [
      "/Hotel_Review-g186338-d3161860-Reviews-E2_Apartments-London_England.html#REVIEWS E2 Apartments Reviews, London\n"
     ]
    },
    {
     "name": "stderr",
     "output_type": "stream",
     "text": [
      "\r",
      " 29%|██▉       | 272/924 [1:24:55<3:52:57, 21.44s/it]"
     ]
    },
    {
     "name": "stdout",
     "output_type": "stream",
     "text": [
      "/Hotel_Review-g186338-d215537-Reviews-St_Christopher_s_Inn_Greenwich-London_England.html#REVIEWS St Christopher's Inn Greenwich Hostel Reviews, London\n"
     ]
    },
    {
     "name": "stderr",
     "output_type": "stream",
     "text": [
      "\r",
      " 30%|██▉       | 273/924 [1:25:06<3:16:02, 18.07s/it]"
     ]
    },
    {
     "name": "stdout",
     "output_type": "stream",
     "text": [
      "/Hotel_Review-g186338-d4367694-Reviews-Mirian_House_London-London_England.html#REVIEWS Mirian House London Hostel Reviews\n"
     ]
    },
    {
     "name": "stderr",
     "output_type": "stream",
     "text": [
      "\r",
      " 30%|██▉       | 274/924 [1:25:27<3:25:32, 18.97s/it]"
     ]
    },
    {
     "name": "stdout",
     "output_type": "stream",
     "text": [
      "/Hotel_Review-g186338-d2027224-Reviews-Rosebery_Avenue_Guest_House-London_England.html#REVIEWS Rosebery Avenue Guest House Reviews, London\n"
     ]
    },
    {
     "name": "stderr",
     "output_type": "stream",
     "text": [
      "\r",
      " 30%|██▉       | 275/924 [1:25:38<2:59:05, 16.56s/it]"
     ]
    },
    {
     "name": "stdout",
     "output_type": "stream",
     "text": [
      "/Hotel_Review-g186338-d4459966-Reviews-A_Better_Way_to_Stay-London_England.html#REVIEWS A Better Way to Stay Lodge Reviews, London\n"
     ]
    },
    {
     "name": "stderr",
     "output_type": "stream",
     "text": [
      "\r",
      " 30%|██▉       | 276/924 [1:25:49<2:42:00, 15.00s/it]"
     ]
    },
    {
     "name": "stdout",
     "output_type": "stream",
     "text": [
      "/Hotel_Review-g186338-d1636482-Reviews-Apartment_17-London_England.html#REVIEWS Apartment 17 Reviews, London\n"
     ]
    },
    {
     "name": "stderr",
     "output_type": "stream",
     "text": [
      "\r",
      " 30%|██▉       | 277/924 [1:26:16<3:20:51, 18.63s/it]"
     ]
    },
    {
     "name": "stdout",
     "output_type": "stream",
     "text": [
      "/Hotel_Review-g186338-d1853206-Reviews-Sousa_Guest_House-London_England.html#REVIEWS Sousa Guest House Villa Reviews, London\n"
     ]
    },
    {
     "name": "stderr",
     "output_type": "stream",
     "text": [
      "\r",
      " 30%|███       | 278/924 [1:26:33<3:14:45, 18.09s/it]"
     ]
    },
    {
     "name": "stdout",
     "output_type": "stream",
     "text": [
      "/Hotel_Review-g186338-d6576935-Reviews-Imperial_College_Accommodation_Evelyn_Gardens_Chelsea_London-London_England.html#REVIEWS Imperial College Accommodation - Evelyn Gardens, Chelsea, London Hostel Reviews\n"
     ]
    },
    {
     "name": "stderr",
     "output_type": "stream",
     "text": [
      "\r",
      " 30%|███       | 279/924 [1:26:51<3:14:11, 18.06s/it]"
     ]
    },
    {
     "name": "stdout",
     "output_type": "stream",
     "text": [
      "/Hotel_Review-g186338-d6632218-Reviews-Hammersmith_One-London_England.html#REVIEWS Hammersmith One Apartment Reviews, London\n"
     ]
    },
    {
     "name": "stderr",
     "output_type": "stream",
     "text": [
      "\r",
      " 30%|███       | 280/924 [1:26:57<2:35:47, 14.51s/it]"
     ]
    },
    {
     "name": "stdout",
     "output_type": "stream",
     "text": [
      "/Hotel_Review-g186338-d8786347-Reviews-St_James_s_Guest_House-London_England.html#REVIEWS St. James's Guest House Reviews, London\n"
     ]
    },
    {
     "name": "stderr",
     "output_type": "stream",
     "text": [
      "\r",
      " 30%|███       | 281/924 [1:27:20<3:00:41, 16.86s/it]"
     ]
    },
    {
     "name": "stdout",
     "output_type": "stream",
     "text": [
      "/Hotel_Review-g186338-d4550577-Reviews-Library-London_England.html#REVIEWS Library Guesthouse Reviews, London\n"
     ]
    },
    {
     "name": "stderr",
     "output_type": "stream",
     "text": [
      "\r",
      " 31%|███       | 282/924 [1:27:27<2:30:53, 14.10s/it]"
     ]
    },
    {
     "name": "stdout",
     "output_type": "stream",
     "text": [
      "/Hotel_Review-g186338-d3438915-Reviews-London_Apartments_Shoreditch-London_England.html#REVIEWS London Apartments Shoreditch Reviews\n"
     ]
    },
    {
     "name": "stderr",
     "output_type": "stream",
     "text": [
      "\r",
      " 31%|███       | 283/924 [1:27:42<2:32:43, 14.30s/it]"
     ]
    },
    {
     "name": "stdout",
     "output_type": "stream",
     "text": [
      "/Hotel_Review-g186338-d15828744-Reviews-Cozy_Flat_In_Hyde_Park-London_England.html#REVIEWS Cozy Flat In Hyde Park Lodging Reviews, London\n"
     ]
    },
    {
     "name": "stderr",
     "output_type": "stream",
     "text": [
      "\r",
      " 31%|███       | 284/924 [1:28:09<3:12:05, 18.01s/it]"
     ]
    },
    {
     "name": "stdout",
     "output_type": "stream",
     "text": [
      "/Hotel_Review-g186338-d3793816-Reviews-One_White_s_Row_Apartments-London_England.html#REVIEWS One White's Row Apartments Reviews, London\n"
     ]
    },
    {
     "name": "stderr",
     "output_type": "stream",
     "text": [
      "\r",
      " 31%|███       | 285/924 [1:28:18<2:45:18, 15.52s/it]"
     ]
    },
    {
     "name": "stdout",
     "output_type": "stream",
     "text": [
      "/Hotel_Review-g186338-d8342479-Reviews-Albert_Bridge_Apartments-London_England.html#REVIEWS Albert Bridge Apartments Reviews, London\n"
     ]
    },
    {
     "name": "stderr",
     "output_type": "stream",
     "text": [
      "\r",
      " 31%|███       | 286/924 [1:28:25<2:18:02, 12.98s/it]"
     ]
    },
    {
     "name": "stdout",
     "output_type": "stream",
     "text": [
      "/Hotel_Review-g186338-d1066399-Reviews-St_Christopher_s_Inn_Hammersmith-London_England.html#REVIEWS St Christopher's Inn Hammersmith Hostel Reviews, London\n"
     ]
    },
    {
     "name": "stderr",
     "output_type": "stream",
     "text": [
      "\r",
      " 31%|███       | 287/924 [1:28:37<2:15:04, 12.72s/it]"
     ]
    },
    {
     "name": "stdout",
     "output_type": "stream",
     "text": [
      "/Hotel_Review-g186338-d7333843-Reviews-City_Marque_Lambeth_North_Serviced_Apartments-London_England.html#REVIEWS City Marque Lambeth North Serviced Apartments Reviews, London\n"
     ]
    },
    {
     "name": "stderr",
     "output_type": "stream",
     "text": [
      "\r",
      " 31%|███       | 288/924 [1:28:47<2:05:03, 11.80s/it]"
     ]
    },
    {
     "name": "stdout",
     "output_type": "stream",
     "text": [
      "/Hotel_Review-g186338-d8782169-Reviews-Wilson_House-London_England.html#REVIEWS Wilson House Hostel Reviews, London\n"
     ]
    },
    {
     "name": "stderr",
     "output_type": "stream",
     "text": [
      "\r",
      " 31%|███▏      | 289/924 [1:29:04<2:22:25, 13.46s/it]"
     ]
    },
    {
     "name": "stdout",
     "output_type": "stream",
     "text": [
      "/Hotel_Review-g186338-d2470975-Reviews-Studios_82-London_England.html#REVIEWS Studios@82 Apartment Reviews, London\n"
     ]
    },
    {
     "name": "stderr",
     "output_type": "stream",
     "text": [
      "\r",
      " 31%|███▏      | 290/924 [1:29:21<2:31:48, 14.37s/it]"
     ]
    },
    {
     "name": "stdout",
     "output_type": "stream",
     "text": [
      "/Hotel_Review-g186338-d19357236-Reviews-The_Residence_at_Shoreditch-London_England.html#REVIEWS The Residence at Shoreditch Lodging Reviews, London\n"
     ]
    },
    {
     "name": "stderr",
     "output_type": "stream",
     "text": [
      "\r",
      " 31%|███▏      | 291/924 [1:29:50<3:18:10, 18.78s/it]"
     ]
    },
    {
     "name": "stdout",
     "output_type": "stream",
     "text": [
      "/Hotel_Review-g186338-d501157-Reviews-79_Greencroft_Gardens_Bed_Breakfast-London_England.html#REVIEWS 79 Greencroft Gardens Bed & Breakfast Reviews, London\n"
     ]
    },
    {
     "name": "stderr",
     "output_type": "stream",
     "text": [
      "\r",
      " 32%|███▏      | 292/924 [1:30:14<3:33:56, 20.31s/it]"
     ]
    },
    {
     "name": "stdout",
     "output_type": "stream",
     "text": [
      "/Hotel_Review-g186338-d1010941-Reviews-Windsor_Guest_House-London_England.html#REVIEWS Windsor Guest House Reviews, London\n"
     ]
    },
    {
     "name": "stderr",
     "output_type": "stream",
     "text": [
      "\r",
      " 32%|███▏      | 293/924 [1:30:36<3:38:28, 20.77s/it]"
     ]
    },
    {
     "name": "stdout",
     "output_type": "stream",
     "text": [
      "/Hotel_Review-g186338-d7333847-Reviews-City_Marque_Spitalfields_Serviced_Apartments-London_England.html#REVIEWS City Marque Spitalfields Serviced Apartments Reviews, London\n"
     ]
    },
    {
     "name": "stderr",
     "output_type": "stream",
     "text": [
      "\r",
      " 32%|███▏      | 294/924 [1:31:03<3:58:43, 22.74s/it]"
     ]
    },
    {
     "name": "stdout",
     "output_type": "stream",
     "text": [
      "/Hotel_Review-g186338-d1026295-Reviews-PubLove_at_The_Green_Man-London_England.html#REVIEWS PubLove at The Green Man Hostel Reviews, London\n"
     ]
    },
    {
     "name": "stderr",
     "output_type": "stream",
     "text": [
      "\r",
      " 32%|███▏      | 295/924 [1:31:13<3:19:18, 19.01s/it]"
     ]
    },
    {
     "name": "stdout",
     "output_type": "stream",
     "text": [
      "/Hotel_Review-g186338-d3536476-Reviews-Ealing_Green_B_B-London_England.html#REVIEWS Ealing Green B&B Reviews, London\n"
     ]
    },
    {
     "name": "stderr",
     "output_type": "stream",
     "text": [
      "\r",
      " 32%|███▏      | 296/924 [1:31:28<3:06:31, 17.82s/it]"
     ]
    },
    {
     "name": "stdout",
     "output_type": "stream",
     "text": [
      "/Hotel_Review-g186338-d2641610-Reviews-Lodge_NW2-London_England.html#REVIEWS Lodge NW2 Reviews, London\n"
     ]
    },
    {
     "name": "stderr",
     "output_type": "stream",
     "text": [
      "\r",
      " 32%|███▏      | 297/924 [1:31:41<2:48:59, 16.17s/it]"
     ]
    },
    {
     "name": "stdout",
     "output_type": "stream",
     "text": [
      "/Hotel_Review-g186338-d11638086-Reviews-Talipot_Apartments_Notting_Hill-London_England.html#REVIEWS Talipot Apartments Notting Hill Reviews, London\n"
     ]
    },
    {
     "name": "stderr",
     "output_type": "stream",
     "text": [
      "\r",
      " 32%|███▏      | 298/924 [1:32:06<3:16:32, 18.84s/it]"
     ]
    },
    {
     "name": "stdout",
     "output_type": "stream",
     "text": [
      "/Hotel_Review-g186338-d6434377-Reviews-Saint_Gabriel_s_Road_B_B-London_England.html#REVIEWS Saint Gabriel's Road B&B Reviews, London\n"
     ]
    },
    {
     "name": "stderr",
     "output_type": "stream",
     "text": [
      "\r",
      " 32%|███▏      | 299/924 [1:32:20<3:01:10, 17.39s/it]"
     ]
    },
    {
     "name": "stdout",
     "output_type": "stream",
     "text": [
      "/Hotel_Review-g186338-d12495296-Reviews-Lovet_Homestay-London_England.html#REVIEWS Lovet Homestay Lodge Reviews, London\n"
     ]
    },
    {
     "name": "stderr",
     "output_type": "stream",
     "text": [
      "\r",
      " 32%|███▏      | 300/924 [1:32:46<3:28:11, 20.02s/it]"
     ]
    },
    {
     "name": "stdout",
     "output_type": "stream",
     "text": [
      "/Hotel_Review-g186338-d16807118-Reviews-Fifty-London_England.html#REVIEWS Fifty Lodging Reviews, London\n"
     ]
    },
    {
     "name": "stderr",
     "output_type": "stream",
     "text": [
      "\r",
      " 33%|███▎      | 301/924 [1:33:10<3:40:08, 21.20s/it]"
     ]
    },
    {
     "name": "stdout",
     "output_type": "stream",
     "text": [
      "/Hotel_Review-g186338-d2519121-Reviews-Park_Lane_Mayfair-London_England.html#REVIEWS Park Lane Mayfair Hotel Reviews, London\n"
     ]
    },
    {
     "name": "stderr",
     "output_type": "stream",
     "text": [
      "\r",
      " 33%|███▎      | 302/924 [1:33:25<3:22:06, 19.50s/it]"
     ]
    },
    {
     "name": "stdout",
     "output_type": "stream",
     "text": [
      "/Hotel_Review-g186338-d7334286-Reviews-City_Marque_Thames_View_Serviced_Apartments-London_England.html#REVIEWS City Marque Thames View Serviced Apartments Reviews, London\n"
     ]
    },
    {
     "name": "stderr",
     "output_type": "stream",
     "text": [
      "\r",
      " 33%|███▎      | 303/924 [1:33:44<3:18:27, 19.18s/it]"
     ]
    },
    {
     "name": "stdout",
     "output_type": "stream",
     "text": [
      "/Hotel_Review-g186338-d309045-Reviews-38_Killieser_Avenue-London_England.html#REVIEWS 38 Killieser Avenue B&B Reviews, London\n"
     ]
    },
    {
     "name": "stderr",
     "output_type": "stream",
     "text": [
      "\r",
      " 33%|███▎      | 304/924 [1:33:50<2:39:03, 15.39s/it]"
     ]
    },
    {
     "name": "stdout",
     "output_type": "stream",
     "text": [
      "/Hotel_Review-g186338-d10844275-Reviews-QueensGate_Court-London_England.html#REVIEWS QueensGate Court Apartment Reviews, London\n"
     ]
    },
    {
     "name": "stderr",
     "output_type": "stream",
     "text": [
      "\r",
      " 33%|███▎      | 305/924 [1:34:03<2:29:50, 14.52s/it]"
     ]
    },
    {
     "name": "stdout",
     "output_type": "stream",
     "text": [
      "/Hotel_Review-g186338-d15664551-Reviews-The_Residence_At_Marylebone_Lane-London_England.html#REVIEWS The Residence At Marylebone Lane Lodging Reviews, London\n"
     ]
    },
    {
     "name": "stderr",
     "output_type": "stream",
     "text": [
      "\r",
      " 33%|███▎      | 306/924 [1:34:15<2:21:36, 13.75s/it]"
     ]
    },
    {
     "name": "stdout",
     "output_type": "stream",
     "text": [
      "/Hotel_Review-g186338-d1902624-Reviews-Central_London_Serviced_Aparthotel-London_England.html#REVIEWS Central London Serviced Aparthotel Apartment Reviews\n"
     ]
    },
    {
     "name": "stderr",
     "output_type": "stream",
     "text": [
      "\r",
      " 33%|███▎      | 307/924 [1:34:35<2:40:37, 15.62s/it]"
     ]
    },
    {
     "name": "stdout",
     "output_type": "stream",
     "text": [
      "/Hotel_Review-g186338-d15186092-Reviews-Woodward_Buildings-London_England.html#REVIEWS Woodward Buildings Specialty Hotel Reviews, London\n"
     ]
    },
    {
     "name": "stderr",
     "output_type": "stream",
     "text": [
      "\r",
      " 33%|███▎      | 308/924 [1:34:45<2:24:05, 14.04s/it]"
     ]
    },
    {
     "name": "stdout",
     "output_type": "stream",
     "text": [
      "/Hotel_Review-g186338-d15829657-Reviews-Beaufort_Gardens_Knightsbridge_Apartment-London_England.html#REVIEWS Beaufort Gardens Knightsbridge Apartment Reviews, London\n"
     ]
    },
    {
     "name": "stderr",
     "output_type": "stream",
     "text": [
      "\r",
      " 33%|███▎      | 309/924 [1:35:06<2:43:19, 15.93s/it]"
     ]
    },
    {
     "name": "stdout",
     "output_type": "stream",
     "text": [
      "/Hotel_Review-g186338-d254559-Reviews-Bridgestreet_Corporate_Housing_Tower_View-London_England.html#REVIEWS Bridgestreet Corporate Housing Tower View Villa Reviews, London\n"
     ]
    },
    {
     "name": "stderr",
     "output_type": "stream",
     "text": [
      "\r",
      " 34%|███▎      | 310/924 [1:35:20<2:37:55, 15.43s/it]"
     ]
    },
    {
     "name": "stdout",
     "output_type": "stream",
     "text": [
      "/Hotel_Review-g186338-d13951463-Reviews-The_Troubadour-London_England.html#REVIEWS The Troubadour Specialty Inn Reviews, London\n"
     ]
    },
    {
     "name": "stderr",
     "output_type": "stream",
     "text": [
      "\r",
      " 34%|███▎      | 311/924 [1:35:29<2:18:10, 13.52s/it]"
     ]
    },
    {
     "name": "stdout",
     "output_type": "stream",
     "text": [
      "/Hotel_Review-g186338-d9977553-Reviews-Arnos_Apartments-London_England.html#REVIEWS Arnos Apartments Reviews, London\n"
     ]
    },
    {
     "name": "stderr",
     "output_type": "stream",
     "text": [
      "\r",
      " 34%|███▍      | 312/924 [1:35:48<2:35:30, 15.25s/it]"
     ]
    },
    {
     "name": "stdout",
     "output_type": "stream",
     "text": [
      "/Hotel_Review-g186338-d9776734-Reviews-Holmewood_Homestay-London_England.html#REVIEWS Holmewood Homestay Lodge Reviews, London\n"
     ]
    },
    {
     "name": "stderr",
     "output_type": "stream",
     "text": [
      "\r",
      " 34%|███▍      | 313/924 [1:35:59<2:22:46, 14.02s/it]"
     ]
    },
    {
     "name": "stdout",
     "output_type": "stream",
     "text": [
      "/Hotel_Review-g186338-d7734393-Reviews-Duchy_House-London_England.html#REVIEWS Duchy House Hostel Reviews, London\n"
     ]
    },
    {
     "name": "stderr",
     "output_type": "stream",
     "text": [
      "\r",
      " 34%|███▍      | 314/924 [1:36:18<2:36:05, 15.35s/it]"
     ]
    },
    {
     "name": "stdout",
     "output_type": "stream",
     "text": [
      "/Hotel_Review-g186338-d2011348-Reviews-The_White_Lion-London_England.html#REVIEWS The White Lion Hostel Reviews, London\n"
     ]
    },
    {
     "name": "stderr",
     "output_type": "stream",
     "text": [
      "\r",
      " 34%|███▍      | 315/924 [1:36:35<2:42:52, 16.05s/it]"
     ]
    },
    {
     "name": "stdout",
     "output_type": "stream",
     "text": [
      "/Hotel_Review-g186338-d5887534-Reviews-Aran_Guest_House-London_England.html#REVIEWS Aran Guest House Reviews, London\n"
     ]
    },
    {
     "name": "stderr",
     "output_type": "stream",
     "text": [
      "\r",
      " 34%|███▍      | 316/924 [1:36:52<2:45:10, 16.30s/it]"
     ]
    },
    {
     "name": "stdout",
     "output_type": "stream",
     "text": [
      "/Hotel_Review-g186338-d309435-Reviews-30_Stokenchurch_Street-London_England.html#REVIEWS 30 Stokenchurch Street B&B Reviews, London\n"
     ]
    },
    {
     "name": "stderr",
     "output_type": "stream",
     "text": [
      "\r",
      " 34%|███▍      | 317/924 [1:37:14<3:01:50, 17.97s/it]"
     ]
    },
    {
     "name": "stdout",
     "output_type": "stream",
     "text": [
      "/Hotel_Review-g186338-d12449762-Reviews-Pedro_Bed_and_Breakfast-London_England.html#REVIEWS Pedro Bed and Breakfast Reviews, London\n"
     ]
    },
    {
     "name": "stderr",
     "output_type": "stream",
     "text": [
      "\r",
      " 34%|███▍      | 318/924 [1:37:22<2:30:07, 14.86s/it]"
     ]
    },
    {
     "name": "stdout",
     "output_type": "stream",
     "text": [
      "/Hotel_Review-g186338-d1203914-Reviews-The_Windmill-London_England.html#REVIEWS The Windmill Hostel Reviews, London\n"
     ]
    },
    {
     "name": "stderr",
     "output_type": "stream",
     "text": [
      "\r",
      " 35%|███▍      | 319/924 [1:37:46<2:58:29, 17.70s/it]"
     ]
    },
    {
     "name": "stdout",
     "output_type": "stream",
     "text": [
      "/Hotel_Review-g186338-d1645540-Reviews-Goldsmid_House-London_England.html#REVIEWS Goldsmid House Lodge Reviews, London\n"
     ]
    },
    {
     "name": "stderr",
     "output_type": "stream",
     "text": [
      "\r",
      " 35%|███▍      | 320/924 [1:38:01<2:50:42, 16.96s/it]"
     ]
    },
    {
     "name": "stdout",
     "output_type": "stream",
     "text": [
      "/Hotel_Review-g186338-d1821134-Reviews-SACO_Waterloo_York_Road-London_England.html#REVIEWS SACO Waterloo - York Road Apartment Reviews, London\n"
     ]
    },
    {
     "name": "stderr",
     "output_type": "stream",
     "text": [
      "\r",
      " 35%|███▍      | 321/924 [1:38:24<3:06:21, 18.54s/it]"
     ]
    },
    {
     "name": "stdout",
     "output_type": "stream",
     "text": [
      "/Hotel_Review-g186338-d6534408-Reviews-Barich_Guesthouse-London_England.html#REVIEWS Barich Guesthouse Reviews, London\n"
     ]
    },
    {
     "name": "stderr",
     "output_type": "stream",
     "text": [
      "\r",
      " 35%|███▍      | 322/924 [1:38:50<3:29:53, 20.92s/it]"
     ]
    },
    {
     "name": "stdout",
     "output_type": "stream",
     "text": [
      "/Hotel_Review-g186338-d1201845-Reviews-Sir_John_Cass_Hall-London_England.html#REVIEWS Sir John Cass Hall Hostel Reviews, London\n"
     ]
    },
    {
     "name": "stderr",
     "output_type": "stream",
     "text": [
      "\r",
      " 35%|███▍      | 323/924 [1:39:03<3:06:31, 18.62s/it]"
     ]
    },
    {
     "name": "stdout",
     "output_type": "stream",
     "text": [
      "/Hotel_Review-g186338-d6960128-Reviews-SACO_Marylebone_Gloucester_Place-London_England.html#REVIEWS SACO Marylebone - Gloucester Place Apartment Reviews, London\n"
     ]
    },
    {
     "name": "stderr",
     "output_type": "stream",
     "text": [
      "\r",
      " 35%|███▌      | 324/924 [1:39:14<2:40:58, 16.10s/it]"
     ]
    },
    {
     "name": "stdout",
     "output_type": "stream",
     "text": [
      "/Hotel_Review-g186338-d2275098-Reviews-London_Apartments_Bethnal_Green-London_England.html#REVIEWS London Apartments Bethnal Green Reviews\n"
     ]
    },
    {
     "name": "stderr",
     "output_type": "stream",
     "text": [
      "\r",
      " 35%|███▌      | 325/924 [1:39:31<2:45:59, 16.63s/it]"
     ]
    },
    {
     "name": "stdout",
     "output_type": "stream",
     "text": [
      "/Hotel_Review-g186338-d3335455-Reviews-Lower_Belgrave_Street_Apartments-London_England.html#REVIEWS Lower Belgrave Street Apartments Reviews, London\n"
     ]
    },
    {
     "name": "stderr",
     "output_type": "stream",
     "text": [
      "\r",
      " 35%|███▌      | 326/924 [1:39:55<3:07:53, 18.85s/it]"
     ]
    },
    {
     "name": "stdout",
     "output_type": "stream",
     "text": [
      "/Hotel_Review-g186338-d23246844-Reviews-Premier_Inn_London_Southwark_southwark_Station_Hotel-London_England.html#REVIEWS Premier Inn London Southwark (southwark Station) Hotel Reviews\n"
     ]
    },
    {
     "name": "stderr",
     "output_type": "stream",
     "text": [
      "\r",
      " 35%|███▌      | 327/924 [1:40:22<3:29:16, 21.03s/it]"
     ]
    },
    {
     "name": "stdout",
     "output_type": "stream",
     "text": [
      "/Hotel_Review-g186338-d7690063-Reviews-City_Marque_Vauxhall_Serviced_Apartments-London_England.html#REVIEWS City Marque Vauxhall Serviced Apartments Reviews, London\n"
     ]
    },
    {
     "name": "stderr",
     "output_type": "stream",
     "text": [
      "\r",
      " 35%|███▌      | 328/924 [1:40:49<3:47:34, 22.91s/it]"
     ]
    },
    {
     "name": "stdout",
     "output_type": "stream",
     "text": [
      "/Hotel_Review-g186338-d2716258-Reviews-City_Nites_Serviced_Apartments_London-London_England.html#REVIEWS City Nites Serviced Apartments, London Reviews\n"
     ]
    },
    {
     "name": "stderr",
     "output_type": "stream",
     "text": [
      "\r",
      " 36%|███▌      | 329/924 [1:41:07<3:33:45, 21.56s/it]"
     ]
    },
    {
     "name": "stdout",
     "output_type": "stream",
     "text": [
      "/Hotel_Review-g186338-d1204259-Reviews-Fraser_Residence_Monument-London_England.html#REVIEWS Fraser Residence Monument Apartment Reviews, London\n"
     ]
    },
    {
     "name": "stderr",
     "output_type": "stream",
     "text": [
      "\r",
      " 36%|███▌      | 330/924 [1:41:36<3:53:34, 23.59s/it]"
     ]
    },
    {
     "name": "stdout",
     "output_type": "stream",
     "text": [
      "/Hotel_Review-g186338-d622786-Reviews-Surtees_Hotel-London_England.html#REVIEWS Surtees Hotel Inn Reviews, London\n"
     ]
    },
    {
     "name": "stderr",
     "output_type": "stream",
     "text": [
      "\r",
      " 36%|███▌      | 331/924 [1:42:04<4:07:15, 25.02s/it]"
     ]
    },
    {
     "name": "stdout",
     "output_type": "stream",
     "text": [
      "/Hotel_Review-g186338-d629372-Reviews-At_Home_London_B_B-London_England.html#REVIEWS At Home London B&B Reviews\n"
     ]
    },
    {
     "name": "stderr",
     "output_type": "stream",
     "text": [
      "\r",
      " 36%|███▌      | 332/924 [1:42:28<4:03:59, 24.73s/it]"
     ]
    },
    {
     "name": "stdout",
     "output_type": "stream",
     "text": [
      "/Hotel_Review-g186338-d1132860-Reviews-MB_Hotels-London_England.html#REVIEWS MB Hotels Inn Reviews, London\n"
     ]
    },
    {
     "name": "stderr",
     "output_type": "stream",
     "text": [
      "\r",
      " 36%|███▌      | 333/924 [1:42:53<4:03:53, 24.76s/it]"
     ]
    },
    {
     "name": "stdout",
     "output_type": "stream",
     "text": [
      "/Hotel_Review-g186338-d309007-Reviews-101_Abbotsbury_Road-London_England.html#REVIEWS 101 Abbotsbury Road B&B Reviews, London\n"
     ]
    },
    {
     "name": "stderr",
     "output_type": "stream",
     "text": [
      "\r",
      " 36%|███▌      | 334/924 [1:43:04<3:23:56, 20.74s/it]"
     ]
    },
    {
     "name": "stdout",
     "output_type": "stream",
     "text": [
      "/Hotel_Review-g186338-d6940237-Reviews-London365_Hostel-London_England.html#REVIEWS London365 Hostel Reviews, London\n"
     ]
    },
    {
     "name": "stderr",
     "output_type": "stream",
     "text": [
      "\r",
      " 36%|███▋      | 335/924 [1:43:17<2:59:03, 18.24s/it]"
     ]
    },
    {
     "name": "stdout",
     "output_type": "stream",
     "text": [
      "/Hotel_Review-g186338-d19071387-Reviews-Globe_Apartments-London_England.html#REVIEWS Globe Apartments Reviews, London\n"
     ]
    },
    {
     "name": "stderr",
     "output_type": "stream",
     "text": [
      "\r",
      " 36%|███▋      | 336/924 [1:43:37<3:04:42, 18.85s/it]"
     ]
    },
    {
     "name": "stdout",
     "output_type": "stream",
     "text": [
      "/Hotel_Review-g186338-d1464845-Reviews-Regents_Park_Residence-London_England.html#REVIEWS Regents Park Residence Apartment Reviews, London\n"
     ]
    },
    {
     "name": "stderr",
     "output_type": "stream",
     "text": [
      "\r",
      " 36%|███▋      | 337/924 [1:43:48<2:42:32, 16.61s/it]"
     ]
    },
    {
     "name": "stdout",
     "output_type": "stream",
     "text": [
      "/Hotel_Review-g186338-d2454007-Reviews-Wimbledon_YMCA-London_England.html#REVIEWS Wimbledon YMCA Hostel Reviews, London\n"
     ]
    },
    {
     "name": "stderr",
     "output_type": "stream",
     "text": [
      "\r",
      " 37%|███▋      | 338/924 [1:44:16<3:13:28, 19.81s/it]"
     ]
    },
    {
     "name": "stdout",
     "output_type": "stream",
     "text": [
      "/Hotel_Review-g186338-d6619785-Reviews-Tower_Hill_One-London_England.html#REVIEWS Tower Hill One Apartment Reviews, London\n"
     ]
    },
    {
     "name": "stderr",
     "output_type": "stream",
     "text": [
      "\r",
      " 37%|███▋      | 339/924 [1:44:27<2:48:34, 17.29s/it]"
     ]
    },
    {
     "name": "stdout",
     "output_type": "stream",
     "text": [
      "/Hotel_Review-g186338-d1151157-Reviews-Falcon_Wharf-London_England.html#REVIEWS Falcon Wharf Apartment Reviews, London\n"
     ]
    },
    {
     "name": "stderr",
     "output_type": "stream",
     "text": [
      "\r",
      " 37%|███▋      | 340/924 [1:44:41<2:38:24, 16.27s/it]"
     ]
    },
    {
     "name": "stdout",
     "output_type": "stream",
     "text": [
      "/Hotel_Review-g186338-d2173093-Reviews-Brick_Lane_Hotel-London_England.html#REVIEWS Brick Lane Hotel Reviews, London\n"
     ]
    },
    {
     "name": "stderr",
     "output_type": "stream",
     "text": [
      "\r",
      " 37%|███▋      | 341/924 [1:44:51<2:19:44, 14.38s/it]"
     ]
    },
    {
     "name": "stdout",
     "output_type": "stream",
     "text": [
      "/Hotel_Review-g186338-d535091-Reviews-Wigram_House-London_England.html#REVIEWS Wigram House Hostel Reviews, London\n"
     ]
    },
    {
     "name": "stderr",
     "output_type": "stream",
     "text": [
      "\r",
      " 37%|███▋      | 342/924 [1:45:00<2:04:01, 12.79s/it]"
     ]
    },
    {
     "name": "stdout",
     "output_type": "stream",
     "text": [
      "/Hotel_Review-g186338-d3627221-Reviews-Tribal_Hostel_London-London_England.html#REVIEWS Tribal Hostel London Reviews\n"
     ]
    },
    {
     "name": "stderr",
     "output_type": "stream",
     "text": [
      "\r",
      " 37%|███▋      | 343/924 [1:45:14<2:08:38, 13.28s/it]"
     ]
    },
    {
     "name": "stdout",
     "output_type": "stream",
     "text": [
      "/Hotel_Review-g186338-d6632613-Reviews-Glenmore_Suites-London_England.html#REVIEWS Glenmore Suites Apartment Reviews, London\n"
     ]
    },
    {
     "name": "stderr",
     "output_type": "stream",
     "text": [
      "\r",
      " 37%|███▋      | 344/924 [1:45:35<2:30:27, 15.57s/it]"
     ]
    },
    {
     "name": "stdout",
     "output_type": "stream",
     "text": [
      "/Hotel_Review-g186338-d12427734-Reviews-Tony_s_Place-London_England.html#REVIEWS Tony's Place Guesthouse Reviews, London\n"
     ]
    },
    {
     "name": "stderr",
     "output_type": "stream",
     "text": [
      "\r",
      " 37%|███▋      | 345/924 [1:45:45<2:14:42, 13.96s/it]"
     ]
    },
    {
     "name": "stdout",
     "output_type": "stream",
     "text": [
      "/Hotel_Review-g186338-d13337073-Reviews-Chelsea_Green_Apartments-London_England.html#REVIEWS Chelsea Green Apartments Reviews, London\n"
     ]
    },
    {
     "name": "stderr",
     "output_type": "stream",
     "text": [
      "\r",
      " 37%|███▋      | 346/924 [1:46:01<2:19:49, 14.51s/it]"
     ]
    },
    {
     "name": "stdout",
     "output_type": "stream",
     "text": [
      "/Hotel_Review-g186338-d14798768-Reviews-Walpole-London_England.html#REVIEWS Walpole Specialty Inn Reviews, London\n"
     ]
    },
    {
     "name": "stderr",
     "output_type": "stream",
     "text": [
      "\r",
      " 38%|███▊      | 347/924 [1:46:13<2:12:16, 13.75s/it]"
     ]
    },
    {
     "name": "stdout",
     "output_type": "stream",
     "text": [
      "/Hotel_Review-g186338-d312098-Reviews-The_Main_House-London_England.html#REVIEWS The Main House B&B Reviews, London\n"
     ]
    },
    {
     "name": "stderr",
     "output_type": "stream",
     "text": [
      "\r",
      " 38%|███▊      | 348/924 [1:46:39<2:47:29, 17.45s/it]"
     ]
    },
    {
     "name": "stdout",
     "output_type": "stream",
     "text": [
      "/Hotel_Review-g186338-d2450361-Reviews-Abbey_Wood_Caravan_and_Motorhome_Club_Campsite-London_England.html#REVIEWS Abbey Wood Caravan and Motorhome Club Campsite Reviews, London\n"
     ]
    },
    {
     "name": "stderr",
     "output_type": "stream",
     "text": [
      "\r",
      " 38%|███▊      | 349/924 [1:47:02<3:01:01, 18.89s/it]"
     ]
    },
    {
     "name": "stdout",
     "output_type": "stream",
     "text": [
      "/Hotel_Review-g186338-d734596-Reviews-Celtic_Hotel-London_England.html#REVIEWS Celtic Hotel B&B Reviews, London\n"
     ]
    },
    {
     "name": "stderr",
     "output_type": "stream",
     "text": [
      "\r",
      " 38%|███▊      | 350/924 [1:47:22<3:06:23, 19.48s/it]"
     ]
    },
    {
     "name": "stdout",
     "output_type": "stream",
     "text": [
      "/Hotel_Review-g186338-d810466-Reviews-The_Wellness_Home-London_England.html#REVIEWS The Wellness Home B&B Reviews, London\n"
     ]
    },
    {
     "name": "stderr",
     "output_type": "stream",
     "text": [
      "\r",
      " 38%|███▊      | 351/924 [1:47:31<2:34:23, 16.17s/it]"
     ]
    },
    {
     "name": "stdout",
     "output_type": "stream",
     "text": [
      "/Hotel_Review-g186338-d3451577-Reviews-Keslake_Towers_B_B-London_England.html#REVIEWS Keslake Towers B&B Reviews, London\n"
     ]
    },
    {
     "name": "stderr",
     "output_type": "stream",
     "text": [
      "\r",
      " 38%|███▊      | 352/924 [1:47:39<2:10:37, 13.70s/it]"
     ]
    },
    {
     "name": "stdout",
     "output_type": "stream",
     "text": [
      "/Hotel_Review-g186338-d12132398-Reviews-Railton_House_Paddington-London_England.html#REVIEWS Railton House (Paddington) Hostel Reviews, London\n"
     ]
    },
    {
     "name": "stderr",
     "output_type": "stream",
     "text": [
      "\r",
      " 38%|███▊      | 353/924 [1:48:00<2:32:15, 16.00s/it]"
     ]
    },
    {
     "name": "stdout",
     "output_type": "stream",
     "text": [
      "/Hotel_Review-g186338-d253925-Reviews-Kandara_Guest_House-London_England.html#REVIEWS Kandara Guest House B&B Reviews, London\n"
     ]
    },
    {
     "name": "stderr",
     "output_type": "stream",
     "text": [
      "\r",
      " 38%|███▊      | 354/924 [1:48:23<2:52:09, 18.12s/it]"
     ]
    },
    {
     "name": "stdout",
     "output_type": "stream",
     "text": [
      "/Hotel_Review-g186338-d1097095-Reviews-Number_37-London_England.html#REVIEWS Number 37 B&B Reviews, London\n"
     ]
    },
    {
     "name": "stderr",
     "output_type": "stream",
     "text": [
      "\r",
      " 38%|███▊      | 355/924 [1:48:35<2:34:50, 16.33s/it]"
     ]
    },
    {
     "name": "stdout",
     "output_type": "stream",
     "text": [
      "/Hotel_Review-g186338-d1118490-Reviews-Castletown_House-London_England.html#REVIEWS Castletown House Apartment Reviews, London\n"
     ]
    },
    {
     "name": "stderr",
     "output_type": "stream",
     "text": [
      "\r",
      " 39%|███▊      | 356/924 [1:49:06<3:14:12, 20.52s/it]"
     ]
    },
    {
     "name": "stdout",
     "output_type": "stream",
     "text": [
      "/Hotel_Review-g186338-d6002637-Reviews-Staycity_Aparthotels_Deptford_Bridge_Station-London_England.html#REVIEWS Staycity Aparthotels Deptford Bridge Station Apartment Reviews, London\n"
     ]
    },
    {
     "name": "stderr",
     "output_type": "stream",
     "text": [
      "\r",
      " 39%|███▊      | 357/924 [1:49:17<2:47:28, 17.72s/it]"
     ]
    },
    {
     "name": "stdout",
     "output_type": "stream",
     "text": [
      "/Hotel_Review-g186338-d1225752-Reviews-Marlin_Apartments_Limehouse-London_England.html#REVIEWS Marlin Apartments Limehouse Reviews, London\n"
     ]
    },
    {
     "name": "stderr",
     "output_type": "stream",
     "text": [
      "\r",
      " 39%|███▊      | 358/924 [1:49:27<2:26:09, 15.49s/it]"
     ]
    },
    {
     "name": "stdout",
     "output_type": "stream",
     "text": [
      "/Hotel_Review-g186338-d2692280-Reviews-Arlington_House-London_England.html#REVIEWS Arlington House Apartment Reviews, London\n"
     ]
    },
    {
     "name": "stderr",
     "output_type": "stream",
     "text": [
      "\r",
      " 39%|███▉      | 359/924 [1:49:37<2:08:33, 13.65s/it]"
     ]
    },
    {
     "name": "stdout",
     "output_type": "stream",
     "text": [
      "/Hotel_Review-g186338-d3979682-Reviews-Finsbury_Serviced_Apartments-London_England.html#REVIEWS Finsbury Serviced Apartments Reviews, London\n"
     ]
    },
    {
     "name": "stderr",
     "output_type": "stream",
     "text": [
      "\r",
      " 39%|███▉      | 360/924 [1:49:49<2:04:18, 13.22s/it]"
     ]
    },
    {
     "name": "stdout",
     "output_type": "stream",
     "text": [
      "/Hotel_Review-g186338-d654861-Reviews-The_Lord_Milner-London_England.html#REVIEWS The Lord Milner B&B Reviews, London\n"
     ]
    },
    {
     "name": "stderr",
     "output_type": "stream",
     "text": [
      "\r",
      " 39%|███▉      | 361/924 [1:50:02<2:04:32, 13.27s/it]"
     ]
    },
    {
     "name": "stdout",
     "output_type": "stream",
     "text": [
      "/Hotel_Review-g186338-d612985-Reviews-Palmers_Lodge_Swiss_Cottage-London_England.html#REVIEWS Palmers Lodge - Swiss Cottage Hostel Reviews, London\n"
     ]
    },
    {
     "name": "stderr",
     "output_type": "stream",
     "text": [
      "\r",
      " 39%|███▉      | 362/924 [1:50:09<1:46:02, 11.32s/it]"
     ]
    },
    {
     "name": "stdout",
     "output_type": "stream",
     "text": [
      "/Hotel_Review-g186338-d1509882-Reviews-Parklands_B_B-London_England.html#REVIEWS Parklands B&B Reviews, London\n"
     ]
    },
    {
     "name": "stderr",
     "output_type": "stream",
     "text": [
      "\r",
      " 39%|███▉      | 363/924 [1:50:38<2:36:18, 16.72s/it]"
     ]
    },
    {
     "name": "stdout",
     "output_type": "stream",
     "text": [
      "/Hotel_Review-g186338-d279672-Reviews-Lynton_Hotel_London-London_England.html#REVIEWS Lynton Hotel London B&B Reviews\n"
     ]
    },
    {
     "name": "stderr",
     "output_type": "stream",
     "text": [
      "\r",
      " 39%|███▉      | 364/924 [1:51:08<3:13:21, 20.72s/it]"
     ]
    },
    {
     "name": "stdout",
     "output_type": "stream",
     "text": [
      "/Hotel_Review-g186338-d3975470-Reviews-The_Malt_House-London_England.html#REVIEWS The Malt House Inn Reviews, London\n"
     ]
    },
    {
     "name": "stderr",
     "output_type": "stream",
     "text": [
      "\r",
      " 40%|███▉      | 365/924 [1:51:26<3:05:17, 19.89s/it]"
     ]
    },
    {
     "name": "stdout",
     "output_type": "stream",
     "text": [
      "/Hotel_Review-g186338-d215501-Reviews-YHA_London_Earl_s_Court-London_England.html#REVIEWS YHA London Earl's Court Hostel Reviews\n"
     ]
    },
    {
     "name": "stderr",
     "output_type": "stream",
     "text": [
      "\r",
      " 40%|███▉      | 366/924 [1:51:46<3:05:20, 19.93s/it]"
     ]
    },
    {
     "name": "stdout",
     "output_type": "stream",
     "text": [
      "/Hotel_Review-g186338-d3357178-Reviews-Accommodation_London_Bridge-London_England.html#REVIEWS Accommodation London Bridge Hotel Reviews\n"
     ]
    },
    {
     "name": "stderr",
     "output_type": "stream",
     "text": [
      "\r",
      " 40%|███▉      | 367/924 [1:52:09<3:14:13, 20.92s/it]"
     ]
    },
    {
     "name": "stdout",
     "output_type": "stream",
     "text": [
      "/Hotel_Review-g186338-d1118617-Reviews-YHA_London_St_Pauls-London_England.html#REVIEWS YHA London St Pauls Hostel Reviews\n"
     ]
    },
    {
     "name": "stderr",
     "output_type": "stream",
     "text": [
      "\r",
      " 40%|███▉      | 368/924 [1:52:26<3:01:26, 19.58s/it]"
     ]
    },
    {
     "name": "stdout",
     "output_type": "stream",
     "text": [
      "/Hotel_Review-g186338-d1980221-Reviews-Shoreditch_House-London_England.html#REVIEWS Shoreditch House Specialty B&B Reviews, London\n"
     ]
    },
    {
     "name": "stderr",
     "output_type": "stream",
     "text": [
      "\r",
      " 40%|███▉      | 369/924 [1:52:48<3:06:40, 20.18s/it]"
     ]
    },
    {
     "name": "stdout",
     "output_type": "stream",
     "text": [
      "/Hotel_Review-g186338-d2008665-Reviews-John_and_Norma_s_Homestay_B_B-London_England.html#REVIEWS John and Norma's Homestay B&B Reviews, London\n"
     ]
    },
    {
     "name": "stderr",
     "output_type": "stream",
     "text": [
      "\r",
      " 40%|████      | 370/924 [1:53:10<3:13:54, 21.00s/it]"
     ]
    },
    {
     "name": "stdout",
     "output_type": "stream",
     "text": [
      "/Hotel_Review-g186338-d1064657-Reviews-Captain_Bligh_House-London_England.html#REVIEWS Captain Bligh House B&B Reviews, London\n"
     ]
    },
    {
     "name": "stderr",
     "output_type": "stream",
     "text": [
      "\r",
      " 40%|████      | 371/924 [1:53:29<3:06:19, 20.22s/it]"
     ]
    },
    {
     "name": "stdout",
     "output_type": "stream",
     "text": [
      "/Hotel_Review-g186338-d10759107-Reviews-ZSL_London_Zoo_Lodges-London_England.html#REVIEWS ZSL London Zoo Lodges Reviews\n"
     ]
    },
    {
     "name": "stderr",
     "output_type": "stream",
     "text": [
      "\r",
      " 40%|████      | 372/924 [1:53:58<3:30:15, 22.85s/it]"
     ]
    },
    {
     "name": "stdout",
     "output_type": "stream",
     "text": [
      "/Hotel_Review-g186338-d188480-Reviews-Aster_House-London_England.html#REVIEWS Aster House B&B Reviews, London\n"
     ]
    },
    {
     "name": "stderr",
     "output_type": "stream",
     "text": [
      "\r",
      " 40%|████      | 373/924 [1:54:28<3:49:53, 25.03s/it]"
     ]
    },
    {
     "name": "stdout",
     "output_type": "stream",
     "text": [
      "/Hotel_Review-g186338-d1952655-Reviews-Wynfrid_House-London_England.html#REVIEWS Wynfrid House B&B Reviews, London\n"
     ]
    },
    {
     "name": "stderr",
     "output_type": "stream",
     "text": [
      "\r",
      " 40%|████      | 374/924 [1:54:51<3:43:59, 24.44s/it]"
     ]
    },
    {
     "name": "stdout",
     "output_type": "stream",
     "text": [
      "/Hotel_Review-g186338-d309086-Reviews-Barclay_House_London_Boutique_B_B-London_England.html#REVIEWS Barclay House London Boutique B&B Inn Reviews\n"
     ]
    },
    {
     "name": "stderr",
     "output_type": "stream",
     "text": [
      "\r",
      " 41%|████      | 375/924 [1:55:09<3:26:41, 22.59s/it]"
     ]
    },
    {
     "name": "stdout",
     "output_type": "stream",
     "text": [
      "/Hotel_Review-g186338-d1059054-Reviews-Victory_Services_Club-London_England.html#REVIEWS Victory Services Club Specialty Hotel Reviews, London\n"
     ]
    },
    {
     "name": "stderr",
     "output_type": "stream",
     "text": [
      "\r",
      " 41%|████      | 376/924 [1:55:18<2:47:13, 18.31s/it]"
     ]
    },
    {
     "name": "stdout",
     "output_type": "stream",
     "text": [
      "/Hotel_Review-g186338-d3847370-Reviews-The_Union_Jack_Club-London_England.html#REVIEWS The Union Jack Club Specialty Hotel Reviews, London\n"
     ]
    },
    {
     "name": "stderr",
     "output_type": "stream",
     "text": [
      "\r",
      " 41%|████      | 377/924 [1:55:38<2:52:16, 18.90s/it]"
     ]
    },
    {
     "name": "stdout",
     "output_type": "stream",
     "text": [
      "/Hotel_Review-g186338-d304671-Reviews-108_Streathbourne_Road-London_England.html#REVIEWS 108 Streathbourne Road B&B Reviews, London\n"
     ]
    },
    {
     "name": "stderr",
     "output_type": "stream",
     "text": [
      "\r",
      " 41%|████      | 378/924 [1:55:59<2:58:36, 19.63s/it]"
     ]
    },
    {
     "name": "stdout",
     "output_type": "stream",
     "text": [
      "/Hotel_Review-g186338-d1232917-Reviews-69TheGrove-London_England.html#REVIEWS 69TheGrove B&B Reviews, London\n"
     ]
    },
    {
     "name": "stderr",
     "output_type": "stream",
     "text": [
      "\r",
      " 41%|████      | 379/924 [1:56:24<3:12:48, 21.23s/it]"
     ]
    },
    {
     "name": "stdout",
     "output_type": "stream",
     "text": [
      "/Hotel_Review-g186338-d3528553-Reviews-Grove_Guest_House-London_England.html#REVIEWS Grove Guest House Reviews, London\n"
     ]
    },
    {
     "name": "stderr",
     "output_type": "stream",
     "text": [
      "\r",
      " 41%|████      | 380/924 [1:56:48<3:20:11, 22.08s/it]"
     ]
    },
    {
     "name": "stdout",
     "output_type": "stream",
     "text": [
      "/Hotel_Review-g186338-d2423420-Reviews-Cable_Street_Inn-London_England.html#REVIEWS Cable Street Inn B&B Reviews, London\n"
     ]
    },
    {
     "name": "stderr",
     "output_type": "stream",
     "text": [
      "\r",
      " 41%|████      | 381/924 [1:56:56<2:42:15, 17.93s/it]"
     ]
    },
    {
     "name": "stdout",
     "output_type": "stream",
     "text": [
      "/Hotel_Review-g186338-d575094-Reviews-Mountview_Guesthouse_Crouch_End-London_England.html#REVIEWS Mountview Guesthouse - Crouch End B&B Reviews, London\n"
     ]
    },
    {
     "name": "stderr",
     "output_type": "stream",
     "text": [
      "\r",
      " 41%|████▏     | 382/924 [1:57:07<2:21:54, 15.71s/it]"
     ]
    },
    {
     "name": "stdout",
     "output_type": "stream",
     "text": [
      "/Hotel_Review-g186338-d1604077-Reviews-Monarch_House-London_England.html#REVIEWS Monarch House Apartment Reviews, London\n"
     ]
    },
    {
     "name": "stderr",
     "output_type": "stream",
     "text": [
      "\r",
      " 41%|████▏     | 383/924 [1:57:29<2:38:13, 17.55s/it]"
     ]
    },
    {
     "name": "stdout",
     "output_type": "stream",
     "text": [
      "/Hotel_Review-g186338-d1575356-Reviews-The_Lavender_Guest_House-London_England.html#REVIEWS The Lavender Guest House B&B Reviews, London\n"
     ]
    },
    {
     "name": "stderr",
     "output_type": "stream",
     "text": [
      "\r",
      " 42%|████▏     | 384/924 [1:57:48<2:42:49, 18.09s/it]"
     ]
    },
    {
     "name": "stdout",
     "output_type": "stream",
     "text": [
      "/Hotel_Review-g186338-d2557597-Reviews-Number_63_Guest_House-London_England.html#REVIEWS Number 63 Guest House Hotel Reviews, London\n"
     ]
    },
    {
     "name": "stderr",
     "output_type": "stream",
     "text": [
      "\r",
      " 42%|████▏     | 385/924 [1:57:59<2:23:35, 15.98s/it]"
     ]
    },
    {
     "name": "stdout",
     "output_type": "stream",
     "text": [
      "/Hotel_Review-g186338-d1718962-Reviews-Room2_Hammersmith-London_England.html#REVIEWS room2 Hammersmith Apartment Reviews, London\n"
     ]
    },
    {
     "name": "stderr",
     "output_type": "stream",
     "text": [
      "\r",
      " 42%|████▏     | 386/924 [1:58:15<2:22:22, 15.88s/it]"
     ]
    },
    {
     "name": "stdout",
     "output_type": "stream",
     "text": [
      "/Hotel_Review-g186338-d8017465-Reviews-Holland_Park_House-London_England.html#REVIEWS Holland Park House Guesthouse Reviews, London\n"
     ]
    },
    {
     "name": "stderr",
     "output_type": "stream",
     "text": [
      "\r",
      " 42%|████▏     | 387/924 [1:58:38<2:41:57, 18.10s/it]"
     ]
    },
    {
     "name": "stdout",
     "output_type": "stream",
     "text": [
      "/Hotel_Review-g186338-d2456379-Reviews-Marlyn_Lodge_City_of_London-London_England.html#REVIEWS Marlyn Lodge - City of London Apartment Reviews\n"
     ]
    },
    {
     "name": "stderr",
     "output_type": "stream",
     "text": [
      "\r",
      " 42%|████▏     | 388/924 [1:58:51<2:26:28, 16.40s/it]"
     ]
    },
    {
     "name": "stdout",
     "output_type": "stream",
     "text": [
      "/Hotel_Review-g186338-d214646-Reviews-Lime_Tree_Hotel-London_England.html#REVIEWS Lime Tree Hotel B&B Reviews, London\n"
     ]
    },
    {
     "name": "stderr",
     "output_type": "stream",
     "text": [
      "\r",
      " 42%|████▏     | 389/924 [1:59:08<2:28:45, 16.68s/it]"
     ]
    },
    {
     "name": "stdout",
     "output_type": "stream",
     "text": [
      "/Hotel_Review-g186338-d603504-Reviews-Griffin_House_Holiday_Apartments-London_England.html#REVIEWS Griffin House Holiday Apartments Reviews, London\n"
     ]
    },
    {
     "name": "stderr",
     "output_type": "stream",
     "text": [
      "\r",
      " 42%|████▏     | 390/924 [1:59:29<2:40:28, 18.03s/it]"
     ]
    },
    {
     "name": "stdout",
     "output_type": "stream",
     "text": [
      "/Hotel_Review-g186338-d282830-Reviews-YHA_London_Oxford_Street-London_England.html#REVIEWS YHA London Oxford Street Hostel Reviews\n"
     ]
    },
    {
     "name": "stderr",
     "output_type": "stream",
     "text": [
      "\r",
      " 42%|████▏     | 391/924 [1:59:47<2:40:54, 18.11s/it]"
     ]
    },
    {
     "name": "stdout",
     "output_type": "stream",
     "text": [
      "/Hotel_Review-g186338-d3681505-Reviews-Pooters_Bed_Breakfast-London_England.html#REVIEWS Pooters Bed & Breakfast Reviews, London\n"
     ]
    },
    {
     "name": "stderr",
     "output_type": "stream",
     "text": [
      "\r",
      " 42%|████▏     | 392/924 [2:00:10<2:52:27, 19.45s/it]"
     ]
    },
    {
     "name": "stdout",
     "output_type": "stream",
     "text": [
      "/Hotel_Review-g186338-d243173-Reviews-The_Highbury_Centre-London_England.html#REVIEWS The Highbury Centre Guesthouse Reviews, London\n"
     ]
    },
    {
     "name": "stderr",
     "output_type": "stream",
     "text": [
      "\r",
      " 43%|████▎     | 393/924 [2:00:17<2:19:59, 15.82s/it]"
     ]
    },
    {
     "name": "stdout",
     "output_type": "stream",
     "text": [
      "/Hotel_Review-g186338-d598442-Reviews-B_and_B_In_Barnes-London_England.html#REVIEWS B and B In Barnes B&B Reviews, London\n"
     ]
    },
    {
     "name": "stderr",
     "output_type": "stream",
     "text": [
      "\r",
      " 43%|████▎     | 394/924 [2:00:39<2:34:22, 17.48s/it]"
     ]
    },
    {
     "name": "stdout",
     "output_type": "stream",
     "text": [
      "/Hotel_Review-g186338-d1809016-Reviews-17_Homestead_Rd-London_England.html#REVIEWS 17 Homestead Rd B&B Reviews, London\n"
     ]
    },
    {
     "name": "stderr",
     "output_type": "stream",
     "text": [
      "\r",
      " 43%|████▎     | 395/924 [2:01:02<2:50:14, 19.31s/it]"
     ]
    },
    {
     "name": "stdout",
     "output_type": "stream",
     "text": [
      "/Hotel_Review-g186338-d2459048-Reviews-122_Great_Titchfield_Street_B_B-London_England.html#REVIEWS 122 Great Titchfield Street B&B Reviews, London\n"
     ]
    },
    {
     "name": "stderr",
     "output_type": "stream",
     "text": [
      "\r",
      " 43%|████▎     | 396/924 [2:01:25<2:57:46, 20.20s/it]"
     ]
    },
    {
     "name": "stdout",
     "output_type": "stream",
     "text": [
      "/Hotel_Review-g186338-d1847171-Reviews-Fleet_River_Rooms-London_England.html#REVIEWS Fleet River Rooms B&B Reviews, London\n"
     ]
    },
    {
     "name": "stderr",
     "output_type": "stream",
     "text": [
      "\r",
      " 43%|████▎     | 397/924 [2:01:40<2:44:16, 18.70s/it]"
     ]
    },
    {
     "name": "stdout",
     "output_type": "stream",
     "text": [
      "/Hotel_Review-g186338-d209156-Reviews-Crystal_Palace_Caravan_Club_Site-London_England.html#REVIEWS Crystal Palace Caravan Club Site Campground Reviews, London\n"
     ]
    },
    {
     "name": "stderr",
     "output_type": "stream",
     "text": [
      "\r",
      " 43%|████▎     | 398/924 [2:01:58<2:42:36, 18.55s/it]"
     ]
    },
    {
     "name": "stdout",
     "output_type": "stream",
     "text": [
      "/Hotel_Review-g186338-d675519-Reviews-Chandos_House-London_England.html#REVIEWS Chandos House B&B Reviews, London\n"
     ]
    },
    {
     "name": "stderr",
     "output_type": "stream",
     "text": [
      "\r",
      " 43%|████▎     | 399/924 [2:02:18<2:46:18, 19.01s/it]"
     ]
    },
    {
     "name": "stdout",
     "output_type": "stream",
     "text": [
      "/Hotel_Review-g186338-d497439-Reviews-Manson_Place-London_England.html#REVIEWS Manson Place Lodge Reviews, London\n"
     ]
    },
    {
     "name": "stderr",
     "output_type": "stream",
     "text": [
      "\r",
      " 43%|████▎     | 400/924 [2:02:42<3:00:13, 20.64s/it]"
     ]
    },
    {
     "name": "stdout",
     "output_type": "stream",
     "text": [
      "/Hotel_Review-g186338-d3203951-Reviews-The_Dictionary_Hostel-London_England.html#REVIEWS The Dictionary Hostel Reviews, London\n"
     ]
    },
    {
     "name": "stderr",
     "output_type": "stream",
     "text": [
      "\r",
      " 43%|████▎     | 401/924 [2:02:53<2:32:13, 17.46s/it]"
     ]
    },
    {
     "name": "stdout",
     "output_type": "stream",
     "text": [
      "/Hotel_Review-g186338-d7156337-Reviews-The_Warrington_Hotel-London_England.html#REVIEWS The Warrington Hotel Reviews, London\n"
     ]
    },
    {
     "name": "stderr",
     "output_type": "stream",
     "text": [
      "\r",
      " 44%|████▎     | 402/924 [2:03:06<2:21:03, 16.21s/it]"
     ]
    },
    {
     "name": "stdout",
     "output_type": "stream",
     "text": [
      "/Hotel_Review-g186338-d291788-Reviews-Imperial_College_Accommodation_Prince_s_Gardens-London_England.html#REVIEWS Imperial College Accommodation Prince's Gardens Hostel Reviews, London\n"
     ]
    },
    {
     "name": "stderr",
     "output_type": "stream",
     "text": [
      "\r",
      " 44%|████▎     | 403/924 [2:03:20<2:15:51, 15.65s/it]"
     ]
    },
    {
     "name": "stdout",
     "output_type": "stream",
     "text": [
      "/Hotel_Review-g186338-d8142666-Reviews-Linton_Apartments-London_England.html#REVIEWS Linton Apartments Reviews, London\n"
     ]
    },
    {
     "name": "stderr",
     "output_type": "stream",
     "text": [
      "\r",
      " 44%|████▎     | 404/924 [2:03:50<2:53:46, 20.05s/it]"
     ]
    },
    {
     "name": "stdout",
     "output_type": "stream",
     "text": [
      "/Hotel_Review-g186338-d1762065-Reviews-Bennys_B_and_B-London_England.html#REVIEWS Bennys B and B B&B Reviews, London\n"
     ]
    },
    {
     "name": "stderr",
     "output_type": "stream",
     "text": [
      "\r",
      " 44%|████▍     | 405/924 [2:04:18<3:12:23, 22.24s/it]"
     ]
    },
    {
     "name": "stdout",
     "output_type": "stream",
     "text": [
      "/Hotel_Review-g186338-d2287635-Reviews-Astors_Belgravia-London_England.html#REVIEWS Astors Belgravia Hotel Reviews, London\n"
     ]
    },
    {
     "name": "stderr",
     "output_type": "stream",
     "text": [
      "\r",
      " 44%|████▍     | 406/924 [2:04:28<2:40:38, 18.61s/it]"
     ]
    },
    {
     "name": "stdout",
     "output_type": "stream",
     "text": [
      "/Hotel_Review-g186338-d209171-Reviews-LSE_High_Holborn_Residence-London_England.html#REVIEWS LSE High Holborn Residence Hostel Reviews, London\n"
     ]
    },
    {
     "name": "stderr",
     "output_type": "stream",
     "text": [
      "\r",
      " 44%|████▍     | 407/924 [2:04:48<2:44:06, 19.05s/it]"
     ]
    },
    {
     "name": "stdout",
     "output_type": "stream",
     "text": [
      "/Hotel_Review-g186338-d209144-Reviews-The_Plough-London_England.html#REVIEWS The Plough Inn Reviews, London\n"
     ]
    },
    {
     "name": "stderr",
     "output_type": "stream",
     "text": [
      "\r",
      " 44%|████▍     | 408/924 [2:05:16<3:06:26, 21.68s/it]"
     ]
    },
    {
     "name": "stdout",
     "output_type": "stream",
     "text": [
      "/Hotel_Review-g186338-d309035-Reviews-Pepys_Road_B_B-London_England.html#REVIEWS Pepys Road B&B Reviews, London\n"
     ]
    },
    {
     "name": "stderr",
     "output_type": "stream",
     "text": [
      "\r",
      " 44%|████▍     | 409/924 [2:05:40<3:12:45, 22.46s/it]"
     ]
    },
    {
     "name": "stdout",
     "output_type": "stream",
     "text": [
      "/Hotel_Review-g186338-d1427320-Reviews-Endsleigh_Court-London_England.html#REVIEWS Endsleigh Court Apartment Reviews, London\n"
     ]
    },
    {
     "name": "stderr",
     "output_type": "stream",
     "text": [
      "\r",
      " 44%|████▍     | 410/924 [2:05:57<2:58:35, 20.85s/it]"
     ]
    },
    {
     "name": "stdout",
     "output_type": "stream",
     "text": [
      "/Hotel_Review-g186338-d309384-Reviews-Old_Church_Street-London_England.html#REVIEWS Old Church Street B&B Reviews, London\n"
     ]
    },
    {
     "name": "stderr",
     "output_type": "stream",
     "text": [
      "\r",
      " 44%|████▍     | 411/924 [2:06:20<3:04:13, 21.55s/it]"
     ]
    },
    {
     "name": "stdout",
     "output_type": "stream",
     "text": [
      "/Hotel_Review-g186338-d7170681-Reviews-Oxford_and_Cambridge_Club-London_England.html#REVIEWS Oxford and Cambridge Club Specialty Hotel Reviews, London\n"
     ]
    },
    {
     "name": "stderr",
     "output_type": "stream",
     "text": [
      "\r",
      " 45%|████▍     | 412/924 [2:06:36<2:47:31, 19.63s/it]"
     ]
    },
    {
     "name": "stdout",
     "output_type": "stream",
     "text": [
      "/Hotel_Review-g186338-d3334761-Reviews-The_Roost-London_England.html#REVIEWS The Roost B&B Reviews, London\n"
     ]
    },
    {
     "name": "stderr",
     "output_type": "stream",
     "text": [
      "\r",
      " 45%|████▍     | 413/924 [2:06:48<2:29:15, 17.52s/it]"
     ]
    },
    {
     "name": "stdout",
     "output_type": "stream",
     "text": [
      "/Hotel_Review-g186338-d209150-Reviews-Hampstead_Village_Guesthouse-London_England.html#REVIEWS Hampstead Village Guesthouse Reviews, London\n"
     ]
    },
    {
     "name": "stderr",
     "output_type": "stream",
     "text": [
      "\r",
      " 45%|████▍     | 414/924 [2:07:14<2:49:38, 19.96s/it]"
     ]
    },
    {
     "name": "stdout",
     "output_type": "stream",
     "text": [
      "/Hotel_Review-g186338-d3309122-Reviews-The_Farmers_Club-London_England.html#REVIEWS The Farmers Club Guesthouse Reviews, London\n"
     ]
    },
    {
     "name": "stderr",
     "output_type": "stream",
     "text": [
      "\r",
      " 45%|████▍     | 415/924 [2:07:24<2:24:55, 17.08s/it]"
     ]
    },
    {
     "name": "stdout",
     "output_type": "stream",
     "text": [
      "/Hotel_Review-g186338-d4177286-Reviews-Fig_Tree_House_Bed_and_Breakfast-London_England.html#REVIEWS Fig Tree House - Bed and Breakfast Reviews, London\n"
     ]
    },
    {
     "name": "stderr",
     "output_type": "stream",
     "text": [
      "\r",
      " 45%|████▌     | 416/924 [2:07:39<2:19:40, 16.50s/it]"
     ]
    },
    {
     "name": "stdout",
     "output_type": "stream",
     "text": [
      "/Hotel_Review-g186338-d309049-Reviews-Fox_Hill_Bed_Breakfast-London_England.html#REVIEWS Fox Hill Bed & Breakfast Reviews, London\n"
     ]
    },
    {
     "name": "stderr",
     "output_type": "stream",
     "text": [
      "\r",
      " 45%|████▌     | 417/924 [2:07:58<2:23:45, 17.01s/it]"
     ]
    },
    {
     "name": "stdout",
     "output_type": "stream",
     "text": [
      "/Hotel_Review-g186338-d11868964-Reviews-The_Bockery-London_England.html#REVIEWS The Bockery Guesthouse Reviews, London\n"
     ]
    },
    {
     "name": "stderr",
     "output_type": "stream",
     "text": [
      "\r",
      " 45%|████▌     | 418/924 [2:08:16<2:26:52, 17.42s/it]"
     ]
    },
    {
     "name": "stdout",
     "output_type": "stream",
     "text": [
      "/Hotel_Review-g186338-d263681-Reviews-Monopole_Hotel-London_England.html#REVIEWS Monopole Hotel B&B Reviews, London\n"
     ]
    },
    {
     "name": "stderr",
     "output_type": "stream",
     "text": [
      "\r",
      " 45%|████▌     | 419/924 [2:08:25<2:06:07, 14.98s/it]"
     ]
    },
    {
     "name": "stdout",
     "output_type": "stream",
     "text": [
      "/Hotel_Review-g186338-d2336745-Reviews-Wimbledon_Bed_Breakfast-London_England.html#REVIEWS Wimbledon Bed & Breakfast Reviews, London\n"
     ]
    },
    {
     "name": "stderr",
     "output_type": "stream",
     "text": [
      "\r",
      " 45%|████▌     | 420/924 [2:08:35<1:51:35, 13.29s/it]"
     ]
    },
    {
     "name": "stdout",
     "output_type": "stream",
     "text": [
      "/Hotel_Review-g186338-d7899036-Reviews-Paddington_Green_Apartments-London_England.html#REVIEWS Paddington Green Apartments Reviews, London\n"
     ]
    },
    {
     "name": "stderr",
     "output_type": "stream",
     "text": [
      "\r",
      " 46%|████▌     | 421/924 [2:09:00<2:22:46, 17.03s/it]"
     ]
    },
    {
     "name": "stdout",
     "output_type": "stream",
     "text": [
      "/Hotel_Review-g186338-d10263872-Reviews-Hostel_One_Camden-London_England.html#REVIEWS Hostel One Camden Reviews, London\n"
     ]
    },
    {
     "name": "stderr",
     "output_type": "stream",
     "text": [
      "\r",
      " 46%|████▌     | 422/924 [2:09:10<2:05:19, 14.98s/it]"
     ]
    },
    {
     "name": "stdout",
     "output_type": "stream",
     "text": [
      "/Hotel_Review-g186338-d7618350-Reviews-Belvedere_House_Gloucester_Road-London_England.html#REVIEWS Belvedere House (Gloucester Road) Hostel Reviews, London\n"
     ]
    },
    {
     "name": "stderr",
     "output_type": "stream",
     "text": [
      "\r",
      " 46%|████▌     | 423/924 [2:09:17<1:44:32, 12.52s/it]"
     ]
    },
    {
     "name": "stdout",
     "output_type": "stream",
     "text": [
      "/Hotel_Review-g186338-d1452396-Reviews-Crompton_Court-London_England.html#REVIEWS Crompton Court Apartment Reviews, London\n"
     ]
    },
    {
     "name": "stderr",
     "output_type": "stream",
     "text": [
      "\r",
      " 46%|████▌     | 424/924 [2:09:28<1:40:02, 12.00s/it]"
     ]
    },
    {
     "name": "stdout",
     "output_type": "stream",
     "text": [
      "/Hotel_Review-g186338-d1797006-Reviews-Lodge_Drive_Apartments-London_England.html#REVIEWS Lodge Drive Apartments Reviews, London\n"
     ]
    },
    {
     "name": "stderr",
     "output_type": "stream",
     "text": [
      "\r",
      " 46%|████▌     | 425/924 [2:09:48<1:59:11, 14.33s/it]"
     ]
    },
    {
     "name": "stdout",
     "output_type": "stream",
     "text": [
      "/Hotel_Review-g186338-d15277581-Reviews-Kettner_s_Townhouse-London_England.html#REVIEWS Kettner's Townhouse Specialty Hotel Reviews, London\n"
     ]
    },
    {
     "name": "stderr",
     "output_type": "stream",
     "text": [
      "\r",
      " 46%|████▌     | 426/924 [2:10:14<2:28:49, 17.93s/it]"
     ]
    },
    {
     "name": "stdout",
     "output_type": "stream",
     "text": [
      "/Hotel_Review-g186338-d2101572-Reviews-London_Self_Catering_Apartments-London_England.html#REVIEWS London Self-Catering Apartments Reviews\n"
     ]
    },
    {
     "name": "stderr",
     "output_type": "stream",
     "text": [
      "\r",
      " 46%|████▌     | 427/924 [2:10:29<2:19:55, 16.89s/it]"
     ]
    },
    {
     "name": "stdout",
     "output_type": "stream",
     "text": [
      "/Hotel_Review-g186338-d658029-Reviews-Hyde_Park_Rooms_Hotel-London_England.html#REVIEWS Hyde Park Rooms Hotel B&B Reviews, London\n"
     ]
    },
    {
     "name": "stderr",
     "output_type": "stream",
     "text": [
      "\r",
      " 46%|████▋     | 428/924 [2:10:53<2:38:02, 19.12s/it]"
     ]
    },
    {
     "name": "stdout",
     "output_type": "stream",
     "text": [
      "/Hotel_Review-g186338-d1907722-Reviews-St_Monica_House-London_England.html#REVIEWS St Monica House Guesthouse Reviews, London\n"
     ]
    },
    {
     "name": "stderr",
     "output_type": "stream",
     "text": [
      "\r",
      " 46%|████▋     | 429/924 [2:11:00<2:08:16, 15.55s/it]"
     ]
    },
    {
     "name": "stdout",
     "output_type": "stream",
     "text": [
      "/Hotel_Review-g186338-d7398357-Reviews-No_8_at_Seven_Sisters-London_England.html#REVIEWS No.8 at Seven Sisters Hostel Reviews, London\n"
     ]
    },
    {
     "name": "stderr",
     "output_type": "stream",
     "text": [
      "\r",
      " 47%|████▋     | 430/924 [2:11:21<2:22:16, 17.28s/it]"
     ]
    },
    {
     "name": "stdout",
     "output_type": "stream",
     "text": [
      "/Hotel_Review-g186338-d1746895-Reviews-Josephine_Swannie-London_England.html#REVIEWS Josephine Swannie B&B Reviews, London\n"
     ]
    },
    {
     "name": "stderr",
     "output_type": "stream",
     "text": [
      "\r",
      " 47%|████▋     | 431/924 [2:11:42<2:29:32, 18.20s/it]"
     ]
    },
    {
     "name": "stdout",
     "output_type": "stream",
     "text": [
      "/Hotel_Review-g186338-d6211607-Reviews-Destinations_Hostels-London_England.html#REVIEWS Destinations Hostels Reviews, London\n"
     ]
    },
    {
     "name": "stderr",
     "output_type": "stream",
     "text": [
      "\r",
      " 47%|████▋     | 432/924 [2:12:07<2:46:16, 20.28s/it]"
     ]
    },
    {
     "name": "stdout",
     "output_type": "stream",
     "text": [
      "/Hotel_Review-g186338-d14869077-Reviews-Mecure_London_Bridge_Hotel-London_England.html#REVIEWS Mecure London Bridge Hotel Reviews\n"
     ]
    },
    {
     "name": "stderr",
     "output_type": "stream",
     "text": [
      "\r",
      " 47%|████▋     | 433/924 [2:12:19<2:25:40, 17.80s/it]"
     ]
    },
    {
     "name": "stdout",
     "output_type": "stream",
     "text": [
      "/Hotel_Review-g186338-d7210213-Reviews-Apple_Apartments_Kensington_Gardens-London_England.html#REVIEWS Apple Apartments Kensington Gardens Reviews, London\n"
     ]
    },
    {
     "name": "stderr",
     "output_type": "stream",
     "text": [
      "\r",
      " 47%|████▋     | 434/924 [2:12:46<2:48:35, 20.64s/it]"
     ]
    },
    {
     "name": "stdout",
     "output_type": "stream",
     "text": [
      "/Hotel_Review-g186338-d677497-Reviews-St_Alfeges-London_England.html#REVIEWS St. Alfeges B&B Reviews, London\n"
     ]
    },
    {
     "name": "stderr",
     "output_type": "stream",
     "text": [
      "\r",
      " 47%|████▋     | 435/924 [2:13:17<3:13:02, 23.69s/it]"
     ]
    },
    {
     "name": "stdout",
     "output_type": "stream",
     "text": [
      "/Hotel_Review-g186338-d563783-Reviews-202_Modern_Service_Apartments-London_England.html#REVIEWS 202 Modern Service Apartments Reviews, London\n"
     ]
    },
    {
     "name": "stderr",
     "output_type": "stream",
     "text": [
      "\r",
      " 47%|████▋     | 436/924 [2:13:40<3:11:36, 23.56s/it]"
     ]
    },
    {
     "name": "stdout",
     "output_type": "stream",
     "text": [
      "/Hotel_Review-g186338-d6413191-Reviews-Nell_Gwynn_Pods-London_England.html#REVIEWS Nell Gwynn Pods Guesthouse Reviews, London\n"
     ]
    },
    {
     "name": "stderr",
     "output_type": "stream",
     "text": [
      "\r",
      " 47%|████▋     | 437/924 [2:13:57<2:54:33, 21.51s/it]"
     ]
    },
    {
     "name": "stdout",
     "output_type": "stream",
     "text": [
      "/Hotel_Review-g186338-d5489425-Reviews-The_Pelton_Arms-London_England.html#REVIEWS The Pelton Arms Lodge Reviews, London\n"
     ]
    },
    {
     "name": "stderr",
     "output_type": "stream",
     "text": [
      "\r",
      " 47%|████▋     | 438/924 [2:14:22<3:02:33, 22.54s/it]"
     ]
    },
    {
     "name": "stdout",
     "output_type": "stream",
     "text": [
      "/Hotel_Review-g186338-d1645349-Reviews-Hotel_Sergul-London_England.html#REVIEWS Hotel Sergul Reviews, London\n"
     ]
    },
    {
     "name": "stderr",
     "output_type": "stream",
     "text": [
      "\r",
      " 48%|████▊     | 439/924 [2:14:34<2:37:13, 19.45s/it]"
     ]
    },
    {
     "name": "stdout",
     "output_type": "stream",
     "text": [
      "/Hotel_Review-g186338-d4293079-Reviews-The_BackPackShack-London_England.html#REVIEWS The BackPackShack Hostel Reviews, London\n"
     ]
    },
    {
     "name": "stderr",
     "output_type": "stream",
     "text": [
      "\r",
      " 48%|████▊     | 440/924 [2:14:55<2:41:01, 19.96s/it]"
     ]
    },
    {
     "name": "stdout",
     "output_type": "stream",
     "text": [
      "/Hotel_Review-g186338-d3533525-Reviews-The_Finnish_Church_in_London-London_England.html#REVIEWS The Finnish Church in London Hostel Reviews\n"
     ]
    },
    {
     "name": "stderr",
     "output_type": "stream",
     "text": [
      "\r",
      " 48%|████▊     | 441/924 [2:15:08<2:22:14, 17.67s/it]"
     ]
    },
    {
     "name": "stdout",
     "output_type": "stream",
     "text": [
      "/Hotel_Review-g186338-d1932409-Reviews-41_Cromford_Road_B_B-London_England.html#REVIEWS 41 Cromford Road B&B Reviews, London\n"
     ]
    },
    {
     "name": "stderr",
     "output_type": "stream",
     "text": [
      "\r",
      " 48%|████▊     | 442/924 [2:15:36<2:48:47, 21.01s/it]"
     ]
    },
    {
     "name": "stdout",
     "output_type": "stream",
     "text": [
      "/Hotel_Review-g186338-d4427721-Reviews-St_Johns_Bed_and_Breakfast-London_England.html#REVIEWS St Johns Bed and Breakfast Reviews, London\n"
     ]
    },
    {
     "name": "stderr",
     "output_type": "stream",
     "text": [
      "\r",
      " 48%|████▊     | 443/924 [2:15:48<2:26:32, 18.28s/it]"
     ]
    },
    {
     "name": "stdout",
     "output_type": "stream",
     "text": [
      "/Hotel_Review-g186338-d1987179-Reviews-The_Bluebell-London_England.html#REVIEWS The Bluebell B&B Reviews, London\n"
     ]
    },
    {
     "name": "stderr",
     "output_type": "stream",
     "text": [
      "\r",
      " 48%|████▊     | 444/924 [2:16:01<2:11:56, 16.49s/it]"
     ]
    },
    {
     "name": "stdout",
     "output_type": "stream",
     "text": [
      "/Hotel_Review-g186338-d12998661-Reviews-The_Westerly_London-London_England.html#REVIEWS The Westerly London Specialty Inn Reviews\n"
     ]
    },
    {
     "name": "stderr",
     "output_type": "stream",
     "text": [
      "\r",
      " 48%|████▊     | 445/924 [2:16:08<1:49:10, 13.67s/it]"
     ]
    },
    {
     "name": "stdout",
     "output_type": "stream",
     "text": [
      "/Hotel_Review-g186338-d7334256-Reviews-City_Marque_Clerkenwell_Serviced_Apartments-London_England.html#REVIEWS City Marque Clerkenwell Serviced Apartments Reviews, London\n"
     ]
    },
    {
     "name": "stderr",
     "output_type": "stream",
     "text": [
      "\r",
      " 48%|████▊     | 446/924 [2:16:17<1:38:17, 12.34s/it]"
     ]
    },
    {
     "name": "stdout",
     "output_type": "stream",
     "text": [
      "/Hotel_Review-g186338-d17777714-Reviews-STAY_Camden-London_England.html#REVIEWS STAY Camden Apartment Reviews, London\n"
     ]
    },
    {
     "name": "stderr",
     "output_type": "stream",
     "text": [
      "\r",
      " 48%|████▊     | 447/924 [2:16:26<1:29:17, 11.23s/it]"
     ]
    },
    {
     "name": "stdout",
     "output_type": "stream",
     "text": [
      "/Hotel_Review-g186338-d2085836-Reviews-The_Corner_House-London_England.html#REVIEWS The Corner House B&B Reviews, London\n"
     ]
    },
    {
     "name": "stderr",
     "output_type": "stream",
     "text": [
      "\r",
      " 48%|████▊     | 448/924 [2:16:57<2:16:36, 17.22s/it]"
     ]
    },
    {
     "name": "stdout",
     "output_type": "stream",
     "text": [
      "/Hotel_Review-g186338-d2721053-Reviews-Grange_Guest_House-London_England.html#REVIEWS Grange Guest House Reviews, London\n"
     ]
    },
    {
     "name": "stderr",
     "output_type": "stream",
     "text": [
      "\r",
      " 49%|████▊     | 449/924 [2:17:26<2:43:33, 20.66s/it]"
     ]
    },
    {
     "name": "stdout",
     "output_type": "stream",
     "text": [
      "/Hotel_Review-g186338-d2282891-Reviews-Briarwalk_B_B-London_England.html#REVIEWS Briarwalk B&B Reviews, London\n"
     ]
    },
    {
     "name": "stderr",
     "output_type": "stream",
     "text": [
      "\r",
      " 49%|████▊     | 450/924 [2:17:46<2:43:50, 20.74s/it]"
     ]
    },
    {
     "name": "stdout",
     "output_type": "stream",
     "text": [
      "/Hotel_Review-g186338-d1675692-Reviews-Worcester_House_Hotel-London_England.html#REVIEWS Worcester House Hotel Guesthouse Reviews, London\n"
     ]
    },
    {
     "name": "stderr",
     "output_type": "stream",
     "text": [
      "\r",
      " 49%|████▉     | 451/924 [2:18:09<2:48:46, 21.41s/it]"
     ]
    },
    {
     "name": "stdout",
     "output_type": "stream",
     "text": [
      "/Hotel_Review-g186338-d1754854-Reviews-B_B_London-London_England.html#REVIEWS B&B London Reviews\n"
     ]
    },
    {
     "name": "stderr",
     "output_type": "stream",
     "text": [
      "\r",
      " 49%|████▉     | 452/924 [2:18:39<3:07:14, 23.80s/it]"
     ]
    },
    {
     "name": "stdout",
     "output_type": "stream",
     "text": [
      "/Hotel_Review-g186338-d3819737-Reviews-The_Urban_Retreat_Apartments-London_England.html#REVIEWS The Urban Retreat Apartments Reviews, London\n"
     ]
    },
    {
     "name": "stderr",
     "output_type": "stream",
     "text": [
      "\r",
      " 49%|████▉     | 453/924 [2:18:56<2:51:59, 21.91s/it]"
     ]
    },
    {
     "name": "stdout",
     "output_type": "stream",
     "text": [
      "/Hotel_Review-g186338-d8714330-Reviews-KFUK_Hjemmet_YWCA-London_England.html#REVIEWS KFUK-Hjemmet / YWCA Hostel Reviews, London\n"
     ]
    },
    {
     "name": "stderr",
     "output_type": "stream",
     "text": [
      "\r",
      " 49%|████▉     | 454/924 [2:19:18<2:51:36, 21.91s/it]"
     ]
    },
    {
     "name": "stdout",
     "output_type": "stream",
     "text": [
      "/Hotel_Review-g186338-d12579446-Reviews-The_Naval_Club-London_England.html#REVIEWS The Naval Club Inn Reviews, London\n"
     ]
    },
    {
     "name": "stderr",
     "output_type": "stream",
     "text": [
      "\r",
      " 49%|████▉     | 455/924 [2:19:35<2:39:38, 20.42s/it]"
     ]
    },
    {
     "name": "stdout",
     "output_type": "stream",
     "text": [
      "/Hotel_Review-g186338-d7655896-Reviews-Double_Room_West_Guesthouse-London_England.html#REVIEWS Double Room West Guesthouse Lodge Reviews, London\n"
     ]
    },
    {
     "name": "stderr",
     "output_type": "stream",
     "text": [
      "\r",
      " 49%|████▉     | 456/924 [2:20:01<2:52:24, 22.10s/it]"
     ]
    },
    {
     "name": "stdout",
     "output_type": "stream",
     "text": [
      "/Hotel_Review-g186338-d1201752-Reviews-No_8_Hostel_Willesden-London_England.html#REVIEWS No.8 Hostel Willesden Reviews, London\n"
     ]
    },
    {
     "name": "stderr",
     "output_type": "stream",
     "text": [
      "\r",
      " 49%|████▉     | 457/924 [2:20:22<2:48:08, 21.60s/it]"
     ]
    },
    {
     "name": "stdout",
     "output_type": "stream",
     "text": [
      "/Hotel_Review-g186338-d12553157-Reviews-The_Elmhurst-London_England.html#REVIEWS The Elmhurst Inn Reviews, London\n"
     ]
    },
    {
     "name": "stderr",
     "output_type": "stream",
     "text": [
      "\r",
      " 50%|████▉     | 458/924 [2:20:46<2:53:37, 22.36s/it]"
     ]
    },
    {
     "name": "stdout",
     "output_type": "stream",
     "text": [
      "/Hotel_Review-g186338-d263689-Reviews-Hughes_Parry_Hall-London_England.html#REVIEWS Hughes Parry Hall Hostel Reviews, London\n"
     ]
    },
    {
     "name": "stderr",
     "output_type": "stream",
     "text": [
      "\r",
      " 50%|████▉     | 459/924 [2:20:59<2:31:29, 19.55s/it]"
     ]
    },
    {
     "name": "stdout",
     "output_type": "stream",
     "text": [
      "/Hotel_Review-g186338-d12220576-Reviews-35_Chiswick_Quay-London_England.html#REVIEWS 35 Chiswick Quay B&B Reviews, London\n"
     ]
    },
    {
     "name": "stderr",
     "output_type": "stream",
     "text": [
      "\r",
      " 50%|████▉     | 460/924 [2:21:11<2:13:59, 17.33s/it]"
     ]
    },
    {
     "name": "stdout",
     "output_type": "stream",
     "text": [
      "/Hotel_Review-g186338-d17741297-Reviews-Kipaccom-London_England.html#REVIEWS Kipaccom Guesthouse Reviews, London\n"
     ]
    },
    {
     "name": "stderr",
     "output_type": "stream",
     "text": [
      "\r",
      " 50%|████▉     | 461/924 [2:21:42<2:46:40, 21.60s/it]"
     ]
    },
    {
     "name": "stdout",
     "output_type": "stream",
     "text": [
      "/Hotel_Review-g186338-d1228814-Reviews-Zzz_Hotel-London_England.html#REVIEWS Zzz Hotel Apartment Reviews, London\n"
     ]
    },
    {
     "name": "stderr",
     "output_type": "stream",
     "text": [
      "\r",
      " 50%|█████     | 462/924 [2:21:51<2:15:45, 17.63s/it]"
     ]
    },
    {
     "name": "stdout",
     "output_type": "stream",
     "text": [
      "/Hotel_Review-g186338-d6450944-Reviews-London_Connection-London_England.html#REVIEWS London Connection Hostel Reviews\n"
     ]
    },
    {
     "name": "stderr",
     "output_type": "stream",
     "text": [
      "\r",
      " 50%|█████     | 463/924 [2:22:11<2:21:15, 18.39s/it]"
     ]
    },
    {
     "name": "stdout",
     "output_type": "stream",
     "text": [
      "/Hotel_Review-g186338-d17347262-Reviews-Crystal_Palace_B_B-London_England.html#REVIEWS Crystal Palace B&B Reviews, London\n"
     ]
    },
    {
     "name": "stderr",
     "output_type": "stream",
     "text": [
      "\r",
      " 50%|█████     | 464/924 [2:22:34<2:31:59, 19.83s/it]"
     ]
    },
    {
     "name": "stdout",
     "output_type": "stream",
     "text": [
      "/Hotel_Review-g186338-d9717266-Reviews-Park_Lane_Apartments_Shaw_House-London_England.html#REVIEWS Park Lane Apartments - Shaw House Reviews, London\n"
     ]
    },
    {
     "name": "stderr",
     "output_type": "stream",
     "text": [
      "\r",
      " 50%|█████     | 465/924 [2:22:55<2:34:48, 20.24s/it]"
     ]
    },
    {
     "name": "stdout",
     "output_type": "stream",
     "text": [
      "/Hotel_Review-g186338-d6852340-Reviews-Metro_INN-London_England.html#REVIEWS Metro INN B&B Reviews, London\n"
     ]
    },
    {
     "name": "stderr",
     "output_type": "stream",
     "text": [
      "\r",
      " 50%|█████     | 466/924 [2:23:26<2:57:31, 23.26s/it]"
     ]
    },
    {
     "name": "stdout",
     "output_type": "stream",
     "text": [
      "/Hotel_Review-g186338-d12785354-Reviews-Falcon_Apartments_Battersea-London_England.html#REVIEWS Falcon Apartments Battersea Reviews, London\n"
     ]
    },
    {
     "name": "stderr",
     "output_type": "stream",
     "text": [
      "\r",
      " 51%|█████     | 467/924 [2:23:52<3:05:05, 24.30s/it]"
     ]
    },
    {
     "name": "stdout",
     "output_type": "stream",
     "text": [
      "/Hotel_Review-g186338-d3417198-Reviews-City_Nites_London_Aldgate-London_England.html#REVIEWS City Nites London - Aldgate Apartment Reviews\n"
     ]
    },
    {
     "name": "stderr",
     "output_type": "stream",
     "text": [
      "\r",
      " 51%|█████     | 468/924 [2:24:04<2:34:42, 20.36s/it]"
     ]
    },
    {
     "name": "stdout",
     "output_type": "stream",
     "text": [
      "/Hotel_Review-g186338-d15745660-Reviews-Stayo_Evelyn_Yard-London_England.html#REVIEWS Stayo Evelyn Yard Lodging Reviews, London\n"
     ]
    },
    {
     "name": "stderr",
     "output_type": "stream",
     "text": [
      "\r",
      " 51%|█████     | 469/924 [2:24:22<2:30:41, 19.87s/it]"
     ]
    },
    {
     "name": "stdout",
     "output_type": "stream",
     "text": [
      "/Hotel_Review-g186338-d20063003-Reviews-The_Carlyle_Stunning_Serviced_Apartments-London_England.html#REVIEWS The Carlyle - Stunning Serviced Apartments Lodging Reviews, London\n"
     ]
    },
    {
     "name": "stderr",
     "output_type": "stream",
     "text": [
      "\r",
      " 51%|█████     | 470/924 [2:24:49<2:45:06, 21.82s/it]"
     ]
    },
    {
     "name": "stdout",
     "output_type": "stream",
     "text": [
      "/Hotel_Review-g186338-d16874776-Reviews-London_Lifestyle_Apartments_Mayfair-London_England.html#REVIEWS London Lifestyle Apartments - Mayfair Reviews\n"
     ]
    },
    {
     "name": "stderr",
     "output_type": "stream",
     "text": [
      "\r",
      " 51%|█████     | 471/924 [2:25:02<2:26:06, 19.35s/it]"
     ]
    },
    {
     "name": "stdout",
     "output_type": "stream",
     "text": [
      "/Hotel_Review-g186338-d15746331-Reviews-17_Brooks_Mews_Apartments-London_England.html#REVIEWS Bond Street Lodging Reviews, London\n"
     ]
    },
    {
     "name": "stderr",
     "output_type": "stream",
     "text": [
      "\r",
      " 51%|█████     | 472/924 [2:25:20<2:22:58, 18.98s/it]"
     ]
    },
    {
     "name": "stdout",
     "output_type": "stream",
     "text": [
      "/Hotel_Review-g186338-d17783855-Reviews-The_Red_Lion_Leytonstone-London_England.html#REVIEWS The Red Lion Leytonstone Guesthouse Reviews, London\n"
     ]
    },
    {
     "name": "stderr",
     "output_type": "stream",
     "text": [
      "\r",
      " 51%|█████     | 473/924 [2:25:50<2:47:34, 22.29s/it]"
     ]
    },
    {
     "name": "stdout",
     "output_type": "stream",
     "text": [
      "/Hotel_Review-g186338-d15641470-Reviews-Marylebone_Apartments-London_England.html#REVIEWS Marylebone Apartments Guesthouse Reviews, London\n"
     ]
    },
    {
     "name": "stderr",
     "output_type": "stream",
     "text": [
      "\r",
      " 51%|█████▏    | 474/924 [2:26:01<2:20:05, 18.68s/it]"
     ]
    },
    {
     "name": "stdout",
     "output_type": "stream",
     "text": [
      "/Hotel_Review-g186338-d15638173-Reviews-The_Love_Walk_Apartments-London_England.html#REVIEWS The Love Walk Apartments Lodging Reviews, London\n"
     ]
    },
    {
     "name": "stderr",
     "output_type": "stream",
     "text": [
      "\r",
      " 51%|█████▏    | 475/924 [2:26:20<2:21:08, 18.86s/it]"
     ]
    },
    {
     "name": "stdout",
     "output_type": "stream",
     "text": [
      "/Hotel_Review-g186338-d2654991-Reviews-St_Pancras_Residence-London_England.html#REVIEWS St Pancras Residence Apartment Reviews, London\n"
     ]
    },
    {
     "name": "stderr",
     "output_type": "stream",
     "text": [
      "\r",
      " 52%|█████▏    | 476/924 [2:26:46<2:37:36, 21.11s/it]"
     ]
    },
    {
     "name": "stdout",
     "output_type": "stream",
     "text": [
      "/Hotel_Review-g186338-d17482041-Reviews-Homewood_Kensington_Apartments-London_England.html#REVIEWS Homewood Kensington Apartments Lodging Reviews, London\n"
     ]
    },
    {
     "name": "stderr",
     "output_type": "stream",
     "text": [
      "\r",
      " 52%|█████▏    | 477/924 [2:27:09<2:40:06, 21.49s/it]"
     ]
    },
    {
     "name": "stdout",
     "output_type": "stream",
     "text": [
      "/Hotel_Review-g186338-d1509613-Reviews-Leyton_Lodge_Studios-London_England.html#REVIEWS Leyton Lodge Studios Apartment Reviews, London\n"
     ]
    },
    {
     "name": "stderr",
     "output_type": "stream",
     "text": [
      "\r",
      " 52%|█████▏    | 478/924 [2:27:26<2:30:04, 20.19s/it]"
     ]
    },
    {
     "name": "stdout",
     "output_type": "stream",
     "text": [
      "/Hotel_Review-g186338-d15649203-Reviews-Landlondon15_Peckham-London_England.html#REVIEWS Landlondon15 Peckham Lodging Reviews, London\n"
     ]
    },
    {
     "name": "stderr",
     "output_type": "stream",
     "text": [
      "\r",
      " 52%|█████▏    | 479/924 [2:27:42<2:20:10, 18.90s/it]"
     ]
    },
    {
     "name": "stdout",
     "output_type": "stream",
     "text": [
      "/Hotel_Review-g186338-d19759356-Reviews-Kensington_Rooms-London_England.html#REVIEWS Kensington Rooms B&B Reviews, London\n"
     ]
    },
    {
     "name": "stderr",
     "output_type": "stream",
     "text": [
      "\r",
      " 52%|█████▏    | 480/924 [2:27:58<2:13:23, 18.03s/it]"
     ]
    },
    {
     "name": "stdout",
     "output_type": "stream",
     "text": [
      "/Hotel_Review-g186338-d1957209-Reviews-Krystal_s_Hotel-London_England.html#REVIEWS Krystal's Hotel Hostel Reviews, London\n"
     ]
    },
    {
     "name": "stderr",
     "output_type": "stream",
     "text": [
      "\r",
      " 52%|█████▏    | 481/924 [2:28:19<2:19:40, 18.92s/it]"
     ]
    },
    {
     "name": "stdout",
     "output_type": "stream",
     "text": [
      "/Hotel_Review-g186338-d12563523-Reviews-Limehouse-London_England.html#REVIEWS Limehouse Cottage Reviews, London\n"
     ]
    },
    {
     "name": "stderr",
     "output_type": "stream",
     "text": [
      "\r",
      " 52%|█████▏    | 482/924 [2:28:36<2:15:23, 18.38s/it]"
     ]
    },
    {
     "name": "stdout",
     "output_type": "stream",
     "text": [
      "/Hotel_Review-g186338-d6570752-Reviews-Loring_Hall_at_Goldsmiths_University_of_London-London_England.html#REVIEWS Loring Hall at Goldsmiths University of London Specialty Inn Reviews\n"
     ]
    },
    {
     "name": "stderr",
     "output_type": "stream",
     "text": [
      "\r",
      " 52%|█████▏    | 483/924 [2:28:51<2:08:03, 17.42s/it]"
     ]
    },
    {
     "name": "stdout",
     "output_type": "stream",
     "text": [
      "/Hotel_Review-g186338-d2046648-Reviews-Fraser_Residence_Prince_of_Wales-London_England.html#REVIEWS Fraser Residence Prince of Wales Apartment Reviews, London\n"
     ]
    },
    {
     "name": "stderr",
     "output_type": "stream",
     "text": [
      "\r",
      " 52%|█████▏    | 484/924 [2:28:59<1:46:45, 14.56s/it]"
     ]
    },
    {
     "name": "stdout",
     "output_type": "stream",
     "text": [
      "/Hotel_Review-g186338-d11915356-Reviews-King_s_Cross_Apartment-London_England.html#REVIEWS King's Cross Apartment Reviews, London\n"
     ]
    },
    {
     "name": "stderr",
     "output_type": "stream",
     "text": [
      "\r",
      " 52%|█████▏    | 485/924 [2:29:27<2:16:42, 18.68s/it]"
     ]
    },
    {
     "name": "stdout",
     "output_type": "stream",
     "text": [
      "/Hotel_Review-g186338-d13558458-Reviews-Priory_Guest_House-London_England.html#REVIEWS Priory Guest House Specialty Hotel Reviews, London\n"
     ]
    },
    {
     "name": "stderr",
     "output_type": "stream",
     "text": [
      "\r",
      " 53%|█████▎    | 486/924 [2:29:42<2:06:52, 17.38s/it]"
     ]
    },
    {
     "name": "stdout",
     "output_type": "stream",
     "text": [
      "/Hotel_Review-g186338-d18184737-Reviews-The_Kensington_Serviced_Apartments-London_England.html#REVIEWS The Kensington, Serviced Apartments Reviews, London\n"
     ]
    },
    {
     "name": "stderr",
     "output_type": "stream",
     "text": [
      "\r",
      " 53%|█████▎    | 487/924 [2:30:13<2:36:19, 21.46s/it]"
     ]
    },
    {
     "name": "stdout",
     "output_type": "stream",
     "text": [
      "/Hotel_Review-g186338-d15675387-Reviews-Kirchen_Apartments-London_England.html#REVIEWS Kirchen Apartments Lodging Reviews, London\n"
     ]
    },
    {
     "name": "stderr",
     "output_type": "stream",
     "text": [
      "\r",
      " 53%|█████▎    | 488/924 [2:30:38<2:45:31, 22.78s/it]"
     ]
    },
    {
     "name": "stdout",
     "output_type": "stream",
     "text": [
      "/Hotel_Review-g186338-d19609441-Reviews-Urban_Chic_Portobello-London_England.html#REVIEWS Urban Chic - Portobello Lodging Reviews, London\n"
     ]
    },
    {
     "name": "stderr",
     "output_type": "stream",
     "text": [
      "\r",
      " 53%|█████▎    | 489/924 [2:30:56<2:32:52, 21.09s/it]"
     ]
    },
    {
     "name": "stdout",
     "output_type": "stream",
     "text": [
      "/Hotel_Review-g186338-d15693887-Reviews-Angel_Apartments-London_England.html#REVIEWS Angel Apartments Lodging Reviews, London\n"
     ]
    },
    {
     "name": "stderr",
     "output_type": "stream",
     "text": [
      "\r",
      " 53%|█████▎    | 490/924 [2:31:23<2:46:18, 22.99s/it]"
     ]
    },
    {
     "name": "stdout",
     "output_type": "stream",
     "text": [
      "/Hotel_Review-g186338-d6636610-Reviews-Church_Path-London_England.html#REVIEWS Church Path Apartment Reviews, London\n"
     ]
    },
    {
     "name": "stderr",
     "output_type": "stream",
     "text": [
      "\r",
      " 53%|█████▎    | 491/924 [2:31:31<2:13:33, 18.51s/it]"
     ]
    },
    {
     "name": "stdout",
     "output_type": "stream",
     "text": [
      "/Hotel_Review-g186338-d17538033-Reviews-Westferry-London_England.html#REVIEWS Westferry Lodging Reviews, London\n"
     ]
    },
    {
     "name": "stderr",
     "output_type": "stream",
     "text": [
      "\r",
      " 53%|█████▎    | 492/924 [2:31:44<2:01:50, 16.92s/it]"
     ]
    },
    {
     "name": "stdout",
     "output_type": "stream",
     "text": [
      "/Hotel_Review-g186338-d8788034-Reviews-RMA_Hostel_Accommodation_2-London_England.html#REVIEWS RMA Hostel - Accommodation 2 Reviews, London\n"
     ]
    },
    {
     "name": "stderr",
     "output_type": "stream",
     "text": [
      "\r",
      " 53%|█████▎    | 493/924 [2:32:06<2:10:59, 18.24s/it]"
     ]
    },
    {
     "name": "stdout",
     "output_type": "stream",
     "text": [
      "/Hotel_Review-g186338-d15680202-Reviews-Glasshouse_Yard_Apartments-London_England.html#REVIEWS Glasshouse Yard Apartments Lodging Reviews, London\n"
     ]
    },
    {
     "name": "stderr",
     "output_type": "stream",
     "text": [
      "\r",
      " 53%|█████▎    | 494/924 [2:32:18<1:57:54, 16.45s/it]"
     ]
    },
    {
     "name": "stdout",
     "output_type": "stream",
     "text": [
      "/Hotel_Review-g186338-d9709181-Reviews-Bayswater_Serviced_Apartments-London_England.html#REVIEWS Bayswater Serviced Apartments Reviews, London\n"
     ]
    },
    {
     "name": "stderr",
     "output_type": "stream",
     "text": [
      "\r",
      " 54%|█████▎    | 495/924 [2:32:33<1:55:26, 16.15s/it]"
     ]
    },
    {
     "name": "stdout",
     "output_type": "stream",
     "text": [
      "/Hotel_Review-g186338-d19893071-Reviews-Acorn_Byng_Place_Apartments-London_England.html#REVIEWS Acorn - Byng Place Apartments Villa Reviews, London\n"
     ]
    },
    {
     "name": "stderr",
     "output_type": "stream",
     "text": [
      "\r",
      " 54%|█████▎    | 496/924 [2:33:04<2:25:33, 20.40s/it]"
     ]
    },
    {
     "name": "stdout",
     "output_type": "stream",
     "text": [
      "/Hotel_Review-g186338-d15815486-Reviews-Shoredich_Aparments-London_England.html#REVIEWS Shoredich & Aparments Lodging Reviews, London\n"
     ]
    },
    {
     "name": "stderr",
     "output_type": "stream",
     "text": [
      "\r",
      " 54%|█████▍    | 497/924 [2:33:29<2:35:23, 21.83s/it]"
     ]
    },
    {
     "name": "stdout",
     "output_type": "stream",
     "text": [
      "/Hotel_Review-g186338-d3831160-Reviews-Wimbledon_Lodge_I-London_England.html#REVIEWS Wimbledon Lodge I Reviews, London\n"
     ]
    },
    {
     "name": "stderr",
     "output_type": "stream",
     "text": [
      "\r",
      " 54%|█████▍    | 498/924 [2:33:53<2:40:47, 22.65s/it]"
     ]
    },
    {
     "name": "stdout",
     "output_type": "stream",
     "text": [
      "/Hotel_Review-g186338-d13008713-Reviews-Thrive_Boutique_Apartments-London_England.html#REVIEWS Thrive Boutique Apartments Reviews, London\n"
     ]
    },
    {
     "name": "stderr",
     "output_type": "stream",
     "text": [
      "\r",
      " 54%|█████▍    | 499/924 [2:34:04<2:15:06, 19.07s/it]"
     ]
    },
    {
     "name": "stdout",
     "output_type": "stream",
     "text": [
      "/Hotel_Review-g186338-d15642218-Reviews-Stunning_Apartment_Private_garden-London_England.html#REVIEWS Stunning Apartment Private garden Lodging Reviews, London\n"
     ]
    },
    {
     "name": "stderr",
     "output_type": "stream",
     "text": [
      "\r",
      " 54%|█████▍    | 500/924 [2:34:28<2:24:18, 20.42s/it]"
     ]
    },
    {
     "name": "stdout",
     "output_type": "stream",
     "text": [
      "/Hotel_Review-g186338-d15319184-Reviews-Guesthouse_Stepney_Green-London_England.html#REVIEWS Guesthouse Stepney Green Reviews, London\n"
     ]
    },
    {
     "name": "stderr",
     "output_type": "stream",
     "text": [
      "\r",
      " 54%|█████▍    | 501/924 [2:34:36<1:58:43, 16.84s/it]"
     ]
    },
    {
     "name": "stdout",
     "output_type": "stream",
     "text": [
      "/Hotel_Review-g186338-d12448584-Reviews-Pure_CityStay_The_Arcade-London_England.html#REVIEWS Pure CityStay The Arcade Specialty Inn Reviews, London\n"
     ]
    },
    {
     "name": "stderr",
     "output_type": "stream",
     "text": [
      "\r",
      " 54%|█████▍    | 502/924 [2:34:49<1:49:14, 15.53s/it]"
     ]
    },
    {
     "name": "stdout",
     "output_type": "stream",
     "text": [
      "/Hotel_Review-g186338-d15140316-Reviews-GNS_View-London_England.html#REVIEWS GNS View Guesthouse Reviews, London\n"
     ]
    },
    {
     "name": "stderr",
     "output_type": "stream",
     "text": [
      "\r",
      " 54%|█████▍    | 503/924 [2:35:10<2:00:25, 17.16s/it]"
     ]
    },
    {
     "name": "stdout",
     "output_type": "stream",
     "text": [
      "/Hotel_Review-g186338-d3803210-Reviews-Holland_Park_Grove_Hotel-London_England.html#REVIEWS Holland Park Grove Hotel Reviews, London\n"
     ]
    },
    {
     "name": "stderr",
     "output_type": "stream",
     "text": [
      "\r",
      " 55%|█████▍    | 504/924 [2:35:28<2:02:12, 17.46s/it]"
     ]
    },
    {
     "name": "stdout",
     "output_type": "stream",
     "text": [
      "/Hotel_Review-g186338-d483002-Reviews-BridgeStreet_Canary_Central-London_England.html#REVIEWS BridgeStreet Canary Central Villa Reviews, London\n"
     ]
    },
    {
     "name": "stderr",
     "output_type": "stream",
     "text": [
      "\r",
      " 55%|█████▍    | 505/924 [2:35:45<2:01:33, 17.41s/it]"
     ]
    },
    {
     "name": "stdout",
     "output_type": "stream",
     "text": [
      "/Hotel_Review-g186338-d17352127-Reviews-Boutique_Apartments_W14-London_England.html#REVIEWS Boutique Apartments W14 Specialty Inn Reviews, London\n"
     ]
    },
    {
     "name": "stderr",
     "output_type": "stream",
     "text": [
      "\r",
      " 55%|█████▍    | 506/924 [2:36:08<2:12:44, 19.05s/it]"
     ]
    },
    {
     "name": "stdout",
     "output_type": "stream",
     "text": [
      "/Hotel_Review-g186338-d8432901-Reviews-Fairlawn_House-London_England.html#REVIEWS Fairlawn House Guesthouse Reviews, London\n"
     ]
    },
    {
     "name": "stderr",
     "output_type": "stream",
     "text": [
      "\r",
      " 55%|█████▍    | 507/924 [2:36:26<2:10:39, 18.80s/it]"
     ]
    },
    {
     "name": "stdout",
     "output_type": "stream",
     "text": [
      "/Hotel_Review-g186338-d242993-Reviews-Cecil_Court_Hotel-London_England.html#REVIEWS Cecil Court Hotel B&B Reviews, London\n"
     ]
    },
    {
     "name": "stderr",
     "output_type": "stream",
     "text": [
      "\r",
      " 55%|█████▍    | 508/924 [2:36:35<1:50:16, 15.90s/it]"
     ]
    },
    {
     "name": "stdout",
     "output_type": "stream",
     "text": [
      "/Hotel_Review-g186338-d6850022-Reviews-Falcon_Apartments-London_England.html#REVIEWS Falcon Apartments Reviews, London\n"
     ]
    },
    {
     "name": "stderr",
     "output_type": "stream",
     "text": [
      "\r",
      " 55%|█████▌    | 509/924 [2:36:52<1:52:13, 16.23s/it]"
     ]
    },
    {
     "name": "stdout",
     "output_type": "stream",
     "text": [
      "/Hotel_Review-g186338-d8489791-Reviews-Home_Away_London-London_England.html#REVIEWS Home Away London B&B Reviews\n"
     ]
    },
    {
     "name": "stderr",
     "output_type": "stream",
     "text": [
      "\r",
      " 55%|█████▌    | 510/924 [2:37:01<1:36:39, 14.01s/it]"
     ]
    },
    {
     "name": "stdout",
     "output_type": "stream",
     "text": [
      "/Hotel_Review-g186338-d2283160-Reviews-London_Budget_Hartley_House-London_England.html#REVIEWS London Budget-Hartley House Guesthouse Reviews\n"
     ]
    },
    {
     "name": "stderr",
     "output_type": "stream",
     "text": [
      "\r",
      " 55%|█████▌    | 511/924 [2:37:29<2:06:12, 18.34s/it]"
     ]
    },
    {
     "name": "stdout",
     "output_type": "stream",
     "text": [
      "/Hotel_Review-g186338-d1153462-Reviews-Access_Apartments_Marble_Arch-London_England.html#REVIEWS Access Apartments Marble Arch Reviews, London\n"
     ]
    },
    {
     "name": "stderr",
     "output_type": "stream",
     "text": [
      "\r",
      " 55%|█████▌    | 512/924 [2:37:39<1:48:46, 15.84s/it]"
     ]
    },
    {
     "name": "stdout",
     "output_type": "stream",
     "text": [
      "/Hotel_Review-g186338-d8383712-Reviews-Wisma_Indonesia_Guest_House-London_England.html#REVIEWS Wisma Indonesia Guest House Reviews, London\n"
     ]
    },
    {
     "name": "stderr",
     "output_type": "stream",
     "text": [
      "\r",
      " 56%|█████▌    | 513/924 [2:37:51<1:38:57, 14.45s/it]"
     ]
    },
    {
     "name": "stdout",
     "output_type": "stream",
     "text": [
      "/Hotel_Review-g186338-d2259108-Reviews-Max_Rayne_House-London_England.html#REVIEWS Max Rayne House Specialty Hotel Reviews, London\n"
     ]
    },
    {
     "name": "stderr",
     "output_type": "stream",
     "text": [
      "\r",
      " 56%|█████▌    | 514/924 [2:38:16<2:00:59, 17.71s/it]"
     ]
    },
    {
     "name": "stdout",
     "output_type": "stream",
     "text": [
      "/Hotel_Review-g186338-d1937054-Reviews-Diana_Hotel-London_England.html#REVIEWS Diana Hotel Reviews, London\n"
     ]
    },
    {
     "name": "stderr",
     "output_type": "stream",
     "text": [
      "\r",
      " 56%|█████▌    | 515/924 [2:38:36<2:05:55, 18.47s/it]"
     ]
    },
    {
     "name": "stdout",
     "output_type": "stream",
     "text": [
      "/Hotel_Review-g186338-d7383424-Reviews-The_Dream_Guesthouse-London_England.html#REVIEWS The Dream Guesthouse Apartment Reviews, London\n"
     ]
    },
    {
     "name": "stderr",
     "output_type": "stream",
     "text": [
      "\r",
      " 56%|█████▌    | 516/924 [2:39:01<2:17:27, 20.21s/it]"
     ]
    },
    {
     "name": "stdout",
     "output_type": "stream",
     "text": [
      "/Hotel_Review-g186338-d3367573-Reviews-White_House_Bed_and_Breakfast-London_England.html#REVIEWS White House Bed and Breakfast Reviews, London\n"
     ]
    },
    {
     "name": "stderr",
     "output_type": "stream",
     "text": [
      "\r",
      " 56%|█████▌    | 517/924 [2:39:07<1:48:51, 16.05s/it]"
     ]
    },
    {
     "name": "stdout",
     "output_type": "stream",
     "text": [
      "/Hotel_Review-g186338-d8759883-Reviews-Kensington_Apartments_Collingham_Place-London_England.html#REVIEWS Kensington Apartments Collingham Place Reviews, London\n"
     ]
    },
    {
     "name": "stderr",
     "output_type": "stream",
     "text": [
      "\r",
      " 56%|█████▌    | 518/924 [2:39:27<1:57:02, 17.30s/it]"
     ]
    },
    {
     "name": "stdout",
     "output_type": "stream",
     "text": [
      "/Hotel_Review-g186338-d3241524-Reviews-Osborne_Road_145_Guest_House-London_England.html#REVIEWS Osborne Road 145 Guest House Reviews, London\n"
     ]
    },
    {
     "name": "stderr",
     "output_type": "stream",
     "text": [
      "\r",
      " 56%|█████▌    | 519/924 [2:39:55<2:18:46, 20.56s/it]"
     ]
    },
    {
     "name": "stdout",
     "output_type": "stream",
     "text": [
      "/Hotel_Review-g186338-d3170268-Reviews-Ingleby_House-London_England.html#REVIEWS Ingleby House Guesthouse Reviews, London\n"
     ]
    },
    {
     "name": "stderr",
     "output_type": "stream",
     "text": [
      "\r",
      " 56%|█████▋    | 520/924 [2:40:13<2:13:33, 19.84s/it]"
     ]
    },
    {
     "name": "stdout",
     "output_type": "stream",
     "text": [
      "/Hotel_Review-g186338-d15641857-Reviews-Low_Cost_London_Apartments-London_England.html#REVIEWS Low Cost London Apartments Lodging Reviews\n"
     ]
    },
    {
     "name": "stderr",
     "output_type": "stream",
     "text": [
      "\r",
      " 56%|█████▋    | 521/924 [2:40:33<2:12:25, 19.71s/it]"
     ]
    },
    {
     "name": "stdout",
     "output_type": "stream",
     "text": [
      "/Hotel_Review-g186338-d1396822-Reviews-Watling_Street_Apartments-London_England.html#REVIEWS Watling Street Apartments Reviews, London\n"
     ]
    },
    {
     "name": "stderr",
     "output_type": "stream",
     "text": [
      "\r",
      " 56%|█████▋    | 522/924 [2:40:48<2:03:57, 18.50s/it]"
     ]
    },
    {
     "name": "stdout",
     "output_type": "stream",
     "text": [
      "/Hotel_Review-g186338-d1202345-Reviews-Hootananny-London_England.html#REVIEWS Hootananny Hostel Reviews, London\n"
     ]
    },
    {
     "name": "stderr",
     "output_type": "stream",
     "text": [
      "\r",
      " 57%|█████▋    | 523/924 [2:41:01<1:51:38, 16.71s/it]"
     ]
    },
    {
     "name": "stdout",
     "output_type": "stream",
     "text": [
      "/Hotel_Review-g186338-d7335585-Reviews-City_Marque_Waterloo_Serviced_Apartments-London_England.html#REVIEWS City Marque Waterloo Serviced Apartments Reviews, London\n"
     ]
    },
    {
     "name": "stderr",
     "output_type": "stream",
     "text": [
      "\r",
      " 57%|█████▋    | 524/924 [2:41:09<1:34:44, 14.21s/it]"
     ]
    },
    {
     "name": "stdout",
     "output_type": "stream",
     "text": [
      "/Hotel_Review-g186338-d5499359-Reviews-Great_Dover_Street_Apartments-London_England.html#REVIEWS Great Dover Street Apartments Reviews, London\n"
     ]
    },
    {
     "name": "stderr",
     "output_type": "stream",
     "text": [
      "\r",
      " 57%|█████▋    | 525/924 [2:41:17<1:20:39, 12.13s/it]"
     ]
    },
    {
     "name": "stdout",
     "output_type": "stream",
     "text": [
      "/Hotel_Review-g186338-d282818-Reviews-St_Christopher_s_Inn_Shepherds_Bush-London_England.html#REVIEWS St Christopher's Inn Shepherds Bush Hostel Reviews, London\n"
     ]
    },
    {
     "name": "stderr",
     "output_type": "stream",
     "text": [
      "\r",
      " 57%|█████▋    | 526/924 [2:41:38<1:38:02, 14.78s/it]"
     ]
    },
    {
     "name": "stdout",
     "output_type": "stream",
     "text": [
      "/Hotel_Review-g186338-d15025136-Reviews-Isledon_Hotel-London_England.html#REVIEWS Isledon Hotel Reviews, London\n"
     ]
    },
    {
     "name": "stderr",
     "output_type": "stream",
     "text": [
      "\r",
      " 57%|█████▋    | 527/924 [2:41:50<1:32:14, 13.94s/it]"
     ]
    },
    {
     "name": "stdout",
     "output_type": "stream",
     "text": [
      "/Hotel_Review-g186338-d10124382-Reviews-Belvedere_Shoreditch_Heights-London_England.html#REVIEWS Belvedere Shoreditch Heights Apartment Reviews, London\n"
     ]
    },
    {
     "name": "stderr",
     "output_type": "stream",
     "text": [
      "\r",
      " 57%|█████▋    | 528/924 [2:42:21<2:06:20, 19.14s/it]"
     ]
    },
    {
     "name": "stdout",
     "output_type": "stream",
     "text": [
      "/Hotel_Review-g186338-d10155070-Reviews-London_Residence-London_England.html#REVIEWS London Residence Inn Reviews\n"
     ]
    },
    {
     "name": "stderr",
     "output_type": "stream",
     "text": [
      "\r",
      " 57%|█████▋    | 529/924 [2:42:50<2:25:54, 22.16s/it]"
     ]
    },
    {
     "name": "stdout",
     "output_type": "stream",
     "text": [
      "/Hotel_Review-g186338-d284351-Reviews-Arran_House_Hotel-London_England.html#REVIEWS Arran House Hotel B&B Reviews, London\n"
     ]
    },
    {
     "name": "stderr",
     "output_type": "stream",
     "text": [
      "\r",
      " 57%|█████▋    | 530/924 [2:43:05<2:12:06, 20.12s/it]"
     ]
    },
    {
     "name": "stdout",
     "output_type": "stream",
     "text": [
      "/Hotel_Review-g186338-d1604638-Reviews-Westminster_View_Apartments-London_England.html#REVIEWS Westminster View Apartments Reviews, London\n"
     ]
    },
    {
     "name": "stderr",
     "output_type": "stream",
     "text": [
      "\r",
      " 57%|█████▋    | 531/924 [2:43:14<1:48:30, 16.57s/it]"
     ]
    },
    {
     "name": "stdout",
     "output_type": "stream",
     "text": [
      "/Hotel_Review-g186338-d10638093-Reviews-The_Residence_Stepney-London_England.html#REVIEWS The Residence Stepney Lodge Reviews, London\n"
     ]
    },
    {
     "name": "stderr",
     "output_type": "stream",
     "text": [
      "\r",
      " 58%|█████▊    | 532/924 [2:43:37<2:01:21, 18.58s/it]"
     ]
    },
    {
     "name": "stdout",
     "output_type": "stream",
     "text": [
      "/Hotel_Review-g186338-d1077277-Reviews-OYO_Sino_Hotel-London_England.html#REVIEWS OYO Sino Hotel Inn Reviews, London\n"
     ]
    },
    {
     "name": "stderr",
     "output_type": "stream",
     "text": [
      "\r",
      " 58%|█████▊    | 533/924 [2:44:02<2:13:58, 20.56s/it]"
     ]
    },
    {
     "name": "stdout",
     "output_type": "stream",
     "text": [
      "/Hotel_Review-g186338-d12883227-Reviews-Twyne_House_Apartments-London_England.html#REVIEWS Twyne House Apartments Reviews, London\n"
     ]
    },
    {
     "name": "stderr",
     "output_type": "stream",
     "text": [
      "\r",
      " 58%|█████▊    | 534/924 [2:44:23<2:15:06, 20.79s/it]"
     ]
    },
    {
     "name": "stdout",
     "output_type": "stream",
     "text": [
      "/Hotel_Review-g186338-d3773029-Reviews-Gloucester_Hotel-London_England.html#REVIEWS Gloucester Hotel Reviews, London\n"
     ]
    },
    {
     "name": "stderr",
     "output_type": "stream",
     "text": [
      "\r",
      " 58%|█████▊    | 535/924 [2:44:46<2:18:19, 21.34s/it]"
     ]
    },
    {
     "name": "stdout",
     "output_type": "stream",
     "text": [
      "/Hotel_Review-g186338-d8870942-Reviews-Marisa_House_Victoria-London_England.html#REVIEWS Marisa House Victoria Inn Reviews, London\n"
     ]
    },
    {
     "name": "stderr",
     "output_type": "stream",
     "text": [
      "\r",
      " 58%|█████▊    | 536/924 [2:45:16<2:35:32, 24.05s/it]"
     ]
    },
    {
     "name": "stdout",
     "output_type": "stream",
     "text": [
      "/Hotel_Review-g186338-d5483230-Reviews-Alliance_House-London_England.html#REVIEWS Alliance House Hostel Reviews, London\n"
     ]
    },
    {
     "name": "stderr",
     "output_type": "stream",
     "text": [
      "\r",
      " 58%|█████▊    | 537/924 [2:45:42<2:38:06, 24.51s/it]"
     ]
    },
    {
     "name": "stdout",
     "output_type": "stream",
     "text": [
      "/Hotel_Review-g186338-d1202357-Reviews-University_of_Westminster_Halls_Wigram-London_England.html#REVIEWS University of Westminster Halls  Wigram Hostel Reviews, London\n"
     ]
    },
    {
     "name": "stderr",
     "output_type": "stream",
     "text": [
      "\r",
      " 58%|█████▊    | 538/924 [2:46:11<2:45:17, 25.69s/it]"
     ]
    },
    {
     "name": "stdout",
     "output_type": "stream",
     "text": [
      "/Hotel_Review-g186338-d577554-Reviews-Hostel_149-London_England.html#REVIEWS Hostel 149 Reviews, London\n"
     ]
    },
    {
     "name": "stderr",
     "output_type": "stream",
     "text": [
      "\r",
      " 58%|█████▊    | 539/924 [2:46:24<2:21:02, 21.98s/it]"
     ]
    },
    {
     "name": "stdout",
     "output_type": "stream",
     "text": [
      "/Hotel_Review-g186338-d11039938-Reviews-No_8_at_The_White_Horse-London_England.html#REVIEWS No.8 at The White Horse Hostel Reviews, London\n"
     ]
    },
    {
     "name": "stderr",
     "output_type": "stream",
     "text": [
      "\r",
      " 58%|█████▊    | 540/924 [2:46:32<1:54:09, 17.84s/it]"
     ]
    },
    {
     "name": "stdout",
     "output_type": "stream",
     "text": [
      "/Hotel_Review-g186338-d10206360-Reviews-The_City_Apartments-London_England.html#REVIEWS The City Apartments Guesthouse Reviews, London\n"
     ]
    },
    {
     "name": "stderr",
     "output_type": "stream",
     "text": [
      "\r",
      " 59%|█████▊    | 541/924 [2:47:00<2:13:40, 20.94s/it]"
     ]
    },
    {
     "name": "stdout",
     "output_type": "stream",
     "text": [
      "/Hotel_Review-g186338-d2271773-Reviews-Stay_in_Bloomsbury_Guest_House-London_England.html#REVIEWS Stay in Bloomsbury Guest House Lodge Reviews, London\n"
     ]
    },
    {
     "name": "stderr",
     "output_type": "stream",
     "text": [
      "\r",
      " 59%|█████▊    | 542/924 [2:47:27<2:25:14, 22.81s/it]"
     ]
    },
    {
     "name": "stdout",
     "output_type": "stream",
     "text": [
      "/Hotel_Review-g186338-d5308266-Reviews-Tulip_Apartments-London_England.html#REVIEWS Tulip Apartments Reviews, London\n"
     ]
    },
    {
     "name": "stderr",
     "output_type": "stream",
     "text": [
      "\r",
      " 59%|█████▉    | 543/924 [2:47:48<2:20:55, 22.19s/it]"
     ]
    },
    {
     "name": "stdout",
     "output_type": "stream",
     "text": [
      "/Hotel_Review-g186338-d9861875-Reviews-Hult_Tower_Studios-London_England.html#REVIEWS Hult Tower & Studios Apartment Reviews, London\n"
     ]
    },
    {
     "name": "stderr",
     "output_type": "stream",
     "text": [
      "\r",
      " 59%|█████▉    | 544/924 [2:47:57<1:55:17, 18.20s/it]"
     ]
    },
    {
     "name": "stdout",
     "output_type": "stream",
     "text": [
      "/Hotel_Review-g186338-d309408-Reviews-Shepherd_s_London-London_England.html#REVIEWS Shepherd's London B&B Reviews\n"
     ]
    },
    {
     "name": "stderr",
     "output_type": "stream",
     "text": [
      "\r",
      " 59%|█████▉    | 545/924 [2:48:27<2:17:47, 21.81s/it]"
     ]
    },
    {
     "name": "stdout",
     "output_type": "stream",
     "text": [
      "/Hotel_Review-g186338-d13537161-Reviews-Clova_House-London_England.html#REVIEWS Clova House Lodge Reviews, London\n"
     ]
    },
    {
     "name": "stderr",
     "output_type": "stream",
     "text": [
      "\r",
      " 59%|█████▉    | 546/924 [2:48:45<2:09:30, 20.56s/it]"
     ]
    },
    {
     "name": "stdout",
     "output_type": "stream",
     "text": [
      "/Hotel_Review-g186338-d3793797-Reviews-Dreamhouse_City_of_London-London_England.html#REVIEWS Dreamhouse City of London Apartment Reviews\n"
     ]
    },
    {
     "name": "stderr",
     "output_type": "stream",
     "text": [
      "\r",
      " 59%|█████▉    | 547/924 [2:49:04<2:05:59, 20.05s/it]"
     ]
    },
    {
     "name": "stdout",
     "output_type": "stream",
     "text": [
      "/Hotel_Review-g186338-d3231377-Reviews-Number_9_Apartments-London_England.html#REVIEWS Number 9 Apartments Reviews, London\n"
     ]
    },
    {
     "name": "stderr",
     "output_type": "stream",
     "text": [
      "\r",
      " 59%|█████▉    | 548/924 [2:49:11<1:42:13, 16.31s/it]"
     ]
    },
    {
     "name": "stdout",
     "output_type": "stream",
     "text": [
      "/Hotel_Review-g186338-d9599274-Reviews-Priory_s_inn_Guest_House-London_England.html#REVIEWS Priory's inn Guest House Lodge Reviews, London\n"
     ]
    },
    {
     "name": "stderr",
     "output_type": "stream",
     "text": [
      "\r",
      " 59%|█████▉    | 549/924 [2:49:22<1:31:54, 14.71s/it]"
     ]
    },
    {
     "name": "stdout",
     "output_type": "stream",
     "text": [
      "/Hotel_Review-g186338-d17351540-Reviews-The_Room_Guest-London_England.html#REVIEWS The Room Guest Specialty Hotel Reviews, London\n"
     ]
    },
    {
     "name": "stderr",
     "output_type": "stream",
     "text": [
      "\r",
      " 60%|█████▉    | 550/924 [2:49:34<1:26:51, 13.93s/it]"
     ]
    },
    {
     "name": "stdout",
     "output_type": "stream",
     "text": [
      "/Hotel_Review-g186338-d12489669-Reviews-Paul_Street_East-London_England.html#REVIEWS Paul Street East Apartment Reviews, London\n"
     ]
    },
    {
     "name": "stderr",
     "output_type": "stream",
     "text": [
      "\r",
      " 60%|█████▉    | 551/924 [2:49:51<1:30:40, 14.59s/it]"
     ]
    },
    {
     "name": "stdout",
     "output_type": "stream",
     "text": [
      "/Hotel_Review-g186338-d10151098-Reviews-Student_Haus_Vauxhall-London_England.html#REVIEWS Student Haus Vauxhall Hostel Reviews, London\n"
     ]
    },
    {
     "name": "stderr",
     "output_type": "stream",
     "text": [
      "\r",
      " 60%|█████▉    | 552/924 [2:50:21<1:59:14, 19.23s/it]"
     ]
    },
    {
     "name": "stdout",
     "output_type": "stream",
     "text": [
      "/Hotel_Review-g186338-d15511471-Reviews-NY_LON_Corporate_Apartments-London_England.html#REVIEWS NY-LON Corporate Apartments Reviews, London\n"
     ]
    },
    {
     "name": "stderr",
     "output_type": "stream",
     "text": [
      "\r",
      " 60%|█████▉    | 553/924 [2:50:27<1:34:24, 15.27s/it]"
     ]
    },
    {
     "name": "stdout",
     "output_type": "stream",
     "text": [
      "/Hotel_Review-g186338-d13816818-Reviews-Britannia_Russ_Hill-London_England.html#REVIEWS Britannia Russ Hill Specialty Inn Reviews, London\n"
     ]
    },
    {
     "name": "stderr",
     "output_type": "stream",
     "text": [
      "\r",
      " 60%|█████▉    | 554/924 [2:50:42<1:34:19, 15.30s/it]"
     ]
    },
    {
     "name": "stdout",
     "output_type": "stream",
     "text": [
      "/Hotel_Review-g186338-d12778523-Reviews-Rs21_Large_Flat_near_British_Museum-London_England.html#REVIEWS Rs21 Large Flat near British Museum Apartment Reviews, London\n"
     ]
    },
    {
     "name": "stderr",
     "output_type": "stream",
     "text": [
      "\r",
      " 60%|██████    | 555/924 [2:50:55<1:30:09, 14.66s/it]"
     ]
    },
    {
     "name": "stdout",
     "output_type": "stream",
     "text": [
      "/Hotel_Review-g186338-d224752-Reviews-Mina_House_Hotel-London_England.html#REVIEWS Mina House Hotel Specialty Inn Reviews, London\n"
     ]
    },
    {
     "name": "stderr",
     "output_type": "stream",
     "text": [
      "\r",
      " 60%|██████    | 556/924 [2:51:09<1:29:00, 14.51s/it]"
     ]
    },
    {
     "name": "stdout",
     "output_type": "stream",
     "text": [
      "/Hotel_Review-g186338-d10354666-Reviews-Tower_Bridge_Superior_Apartments-London_England.html#REVIEWS Tower Bridge Superior Apartments Reviews, London\n"
     ]
    },
    {
     "name": "stderr",
     "output_type": "stream",
     "text": [
      "\r",
      " 60%|██████    | 557/924 [2:51:33<1:46:08, 17.35s/it]"
     ]
    },
    {
     "name": "stdout",
     "output_type": "stream",
     "text": [
      "/Hotel_Review-g186338-d11280204-Reviews-Casa_Mirian_London-London_England.html#REVIEWS Casa Mirian London Hostel Reviews\n"
     ]
    },
    {
     "name": "stderr",
     "output_type": "stream",
     "text": [
      "\r",
      " 60%|██████    | 558/924 [2:51:46<1:36:25, 15.81s/it]"
     ]
    },
    {
     "name": "stdout",
     "output_type": "stream",
     "text": [
      "/Hotel_Review-g186338-d3205969-Reviews-Denison_House_Lanterns_Court-London_England.html#REVIEWS Denison House - Lanterns Court Apartment Reviews, London\n"
     ]
    },
    {
     "name": "stderr",
     "output_type": "stream",
     "text": [
      "\r",
      " 60%|██████    | 559/924 [2:52:13<1:57:18, 19.28s/it]"
     ]
    },
    {
     "name": "stdout",
     "output_type": "stream",
     "text": [
      "/Hotel_Review-g186338-d7315125-Reviews-Apple_Apartments_East_London-London_England.html#REVIEWS Apple Apartments East London Reviews\n"
     ]
    },
    {
     "name": "stderr",
     "output_type": "stream",
     "text": [
      "\r",
      " 61%|██████    | 560/924 [2:52:38<2:07:54, 21.08s/it]"
     ]
    },
    {
     "name": "stdout",
     "output_type": "stream",
     "text": [
      "/Hotel_Review-g186338-d6557464-Reviews-London_Square_Apartments-London_England.html#REVIEWS London Square Apartments Reviews\n"
     ]
    },
    {
     "name": "stderr",
     "output_type": "stream",
     "text": [
      "\r",
      " 61%|██████    | 561/924 [2:52:47<1:45:47, 17.49s/it]"
     ]
    },
    {
     "name": "stdout",
     "output_type": "stream",
     "text": [
      "/Hotel_Review-g186338-d10174938-Reviews-Golden_Square-London_England.html#REVIEWS Golden Square Apartment Reviews, London\n"
     ]
    },
    {
     "name": "stderr",
     "output_type": "stream",
     "text": [
      "\r",
      " 61%|██████    | 562/924 [2:52:58<1:32:32, 15.34s/it]"
     ]
    },
    {
     "name": "stdout",
     "output_type": "stream",
     "text": [
      "/Hotel_Review-g186338-d15233312-Reviews-The_Holland_Road_Residence-London_England.html#REVIEWS The Holland Road Residence Lodging Reviews, London\n"
     ]
    },
    {
     "name": "stderr",
     "output_type": "stream",
     "text": [
      "\r",
      " 61%|██████    | 563/924 [2:53:08<1:23:34, 13.89s/it]"
     ]
    },
    {
     "name": "stdout",
     "output_type": "stream",
     "text": [
      "/Hotel_Review-g186338-d14194261-Reviews-Rooms_Brick_Lane_Shoreditch-London_England.html#REVIEWS Rooms Brick Lane Shoreditch Specialty B&B Reviews, London\n"
     ]
    },
    {
     "name": "stderr",
     "output_type": "stream",
     "text": [
      "\r",
      " 61%|██████    | 564/924 [2:53:25<1:28:53, 14.82s/it]"
     ]
    },
    {
     "name": "stdout",
     "output_type": "stream",
     "text": [
      "/Hotel_Review-g186338-d8824382-Reviews-London_Big_Bed-London_England.html#REVIEWS London-Big Bed Hostel Reviews\n"
     ]
    },
    {
     "name": "stderr",
     "output_type": "stream",
     "text": [
      "\r",
      " 61%|██████    | 565/924 [2:53:38<1:25:40, 14.32s/it]"
     ]
    },
    {
     "name": "stdout",
     "output_type": "stream",
     "text": [
      "/Hotel_Review-g186338-d15669398-Reviews-Bloomsbury_Central_Apartments-London_England.html#REVIEWS Bloomsbury Central Apartments Lodging Reviews, London\n"
     ]
    },
    {
     "name": "stderr",
     "output_type": "stream",
     "text": [
      "\r",
      " 61%|██████▏   | 566/924 [2:53:47<1:15:35, 12.67s/it]"
     ]
    },
    {
     "name": "stdout",
     "output_type": "stream",
     "text": [
      "/Hotel_Review-g186338-d282798-Reviews-Bayswater_International_Youth_Hostel-London_England.html#REVIEWS Bayswater International Youth Hostel Reviews, London\n"
     ]
    },
    {
     "name": "stderr",
     "output_type": "stream",
     "text": [
      "\r",
      " 61%|██████▏   | 567/924 [2:54:15<1:43:14, 17.35s/it]"
     ]
    },
    {
     "name": "stdout",
     "output_type": "stream",
     "text": [
      "/Hotel_Review-g186338-d2413997-Reviews-The_Steamship-London_England.html#REVIEWS The Steamship Hotel Reviews, London\n"
     ]
    },
    {
     "name": "stderr",
     "output_type": "stream",
     "text": [
      "\r",
      " 61%|██████▏   | 568/924 [2:54:46<2:07:05, 21.42s/it]"
     ]
    },
    {
     "name": "stdout",
     "output_type": "stream",
     "text": [
      "/Hotel_Review-g186338-d1432175-Reviews-Abbotts_Park_Hotel-London_England.html#REVIEWS Abbotts Park Hotel Reviews, London\n"
     ]
    },
    {
     "name": "stderr",
     "output_type": "stream",
     "text": [
      "\r",
      " 62%|██████▏   | 569/924 [2:54:53<1:40:40, 17.01s/it]"
     ]
    },
    {
     "name": "stdout",
     "output_type": "stream",
     "text": [
      "/Hotel_Review-g186338-d1649073-Reviews-Astor_College-London_England.html#REVIEWS Astor College Lodge Reviews, London\n"
     ]
    },
    {
     "name": "stderr",
     "output_type": "stream",
     "text": [
      "\r",
      " 62%|██████▏   | 570/924 [2:55:17<1:52:47, 19.12s/it]"
     ]
    },
    {
     "name": "stdout",
     "output_type": "stream",
     "text": [
      "/Hotel_Review-g186338-d3655650-Reviews-D_G_House-London_England.html#REVIEWS D&G House Guesthouse Reviews, London\n"
     ]
    },
    {
     "name": "stderr",
     "output_type": "stream",
     "text": [
      "\r",
      " 62%|██████▏   | 571/924 [2:55:36<1:52:22, 19.10s/it]"
     ]
    },
    {
     "name": "stdout",
     "output_type": "stream",
     "text": [
      "/Hotel_Review-g186338-d15842682-Reviews-Concept_Living_Apartments_Kensington-London_England.html#REVIEWS Concept Living Apartments Kensington Lodging Reviews, London\n"
     ]
    },
    {
     "name": "stderr",
     "output_type": "stream",
     "text": [
      "\r",
      " 62%|██████▏   | 572/924 [2:55:46<1:35:11, 16.23s/it]"
     ]
    },
    {
     "name": "stdout",
     "output_type": "stream",
     "text": [
      "/Hotel_Review-g186338-d1568315-Reviews-Westfield_Hostel-London_England.html#REVIEWS Westfield Hostel Reviews, London\n"
     ]
    },
    {
     "name": "stderr",
     "output_type": "stream",
     "text": [
      "\r",
      " 62%|██████▏   | 573/924 [2:55:56<1:25:14, 14.57s/it]"
     ]
    },
    {
     "name": "stdout",
     "output_type": "stream",
     "text": [
      "/Hotel_Review-g186338-d5970068-Reviews-Saltram_Crescent-London_England.html#REVIEWS Saltram Crescent Apartment Reviews, London\n"
     ]
    },
    {
     "name": "stderr",
     "output_type": "stream",
     "text": [
      "\r",
      " 62%|██████▏   | 574/924 [2:56:17<1:36:27, 16.54s/it]"
     ]
    },
    {
     "name": "stdout",
     "output_type": "stream",
     "text": [
      "/Hotel_Review-g186338-d1202208-Reviews-The_Birds_Nest-London_England.html#REVIEWS The Birds Nest Hostel Reviews, London\n"
     ]
    },
    {
     "name": "stderr",
     "output_type": "stream",
     "text": [
      "\r",
      " 62%|██████▏   | 575/924 [2:56:30<1:29:15, 15.35s/it]"
     ]
    },
    {
     "name": "stdout",
     "output_type": "stream",
     "text": [
      "/Hotel_Review-g186338-d15074781-Reviews-Msr_Guest_House-London_England.html#REVIEWS Msr Guest House B&B Reviews, London\n"
     ]
    },
    {
     "name": "stderr",
     "output_type": "stream",
     "text": [
      "\r",
      " 62%|██████▏   | 576/924 [2:56:49<1:35:57, 16.54s/it]"
     ]
    },
    {
     "name": "stdout",
     "output_type": "stream",
     "text": [
      "/Hotel_Review-g186338-d5788583-Reviews-Portobello_Two_Apartments-London_England.html#REVIEWS Portobello Two Apartments Reviews, London\n"
     ]
    },
    {
     "name": "stderr",
     "output_type": "stream",
     "text": [
      "\r",
      " 62%|██████▏   | 577/924 [2:57:07<1:38:15, 16.99s/it]"
     ]
    },
    {
     "name": "stdout",
     "output_type": "stream",
     "text": [
      "/Hotel_Review-g186338-d15732833-Reviews-Luxury_Stockwell_Apartments-London_England.html#REVIEWS Luxury Stockwell Apartments Lodging Reviews, London\n"
     ]
    },
    {
     "name": "stderr",
     "output_type": "stream",
     "text": [
      "\r",
      " 63%|██████▎   | 578/924 [2:57:38<2:01:53, 21.14s/it]"
     ]
    },
    {
     "name": "stdout",
     "output_type": "stream",
     "text": [
      "/Hotel_Review-g186338-d4084964-Reviews-East_London_Hostel-London_England.html#REVIEWS East London Hostel Reviews\n"
     ]
    },
    {
     "name": "stderr",
     "output_type": "stream",
     "text": [
      "\r",
      " 63%|██████▎   | 579/924 [2:57:56<1:54:57, 19.99s/it]"
     ]
    },
    {
     "name": "stdout",
     "output_type": "stream",
     "text": [
      "/Hotel_Review-g186338-d17513021-Reviews-LCS_Liverpool_Street_Apartments-London_England.html#REVIEWS LCS Liverpool Street Apartments Lodging Reviews, London\n"
     ]
    },
    {
     "name": "stderr",
     "output_type": "stream",
     "text": [
      "\r",
      " 63%|██████▎   | 580/924 [2:58:24<2:10:02, 22.68s/it]"
     ]
    },
    {
     "name": "stdout",
     "output_type": "stream",
     "text": [
      "/Hotel_Review-g186338-d6354276-Reviews-Desired_Apartments-London_England.html#REVIEWS Desired Apartments Reviews, London\n"
     ]
    },
    {
     "name": "stderr",
     "output_type": "stream",
     "text": [
      "\r",
      " 63%|██████▎   | 581/924 [2:58:34<1:46:30, 18.63s/it]"
     ]
    },
    {
     "name": "stdout",
     "output_type": "stream",
     "text": [
      "/Hotel_Review-g186338-d189286-Reviews-Aaron_House-London_England.html#REVIEWS Aaron House Guesthouse Reviews, London\n"
     ]
    },
    {
     "name": "stderr",
     "output_type": "stream",
     "text": [
      "\r",
      " 63%|██████▎   | 582/924 [2:59:01<2:00:37, 21.16s/it]"
     ]
    },
    {
     "name": "stdout",
     "output_type": "stream",
     "text": [
      "/Hotel_Review-g186338-d3678635-Reviews-Westgate_Apartments-London_England.html#REVIEWS Westgate Apartments Reviews, London\n"
     ]
    },
    {
     "name": "stderr",
     "output_type": "stream",
     "text": [
      "\r",
      " 63%|██████▎   | 583/924 [2:59:10<1:39:54, 17.58s/it]"
     ]
    },
    {
     "name": "stdout",
     "output_type": "stream",
     "text": [
      "/Hotel_Review-g186338-d210765-Reviews-Benvenuti-London_England.html#REVIEWS Benvenuti B&B Reviews, London\n"
     ]
    },
    {
     "name": "stderr",
     "output_type": "stream",
     "text": [
      "\r",
      " 63%|██████▎   | 584/924 [2:59:24<1:33:56, 16.58s/it]"
     ]
    },
    {
     "name": "stdout",
     "output_type": "stream",
     "text": [
      "/Hotel_Review-g186338-d6536437-Reviews-Linking_World_Luxury_Serviced_Apartments-London_England.html#REVIEWS Linking World Luxury Serviced Apartments Reviews, London\n"
     ]
    },
    {
     "name": "stderr",
     "output_type": "stream",
     "text": [
      "\r",
      " 63%|██████▎   | 585/924 [2:59:42<1:34:57, 16.81s/it]"
     ]
    },
    {
     "name": "stdout",
     "output_type": "stream",
     "text": [
      "/Hotel_Review-g186338-d1475286-Reviews-The_Courtyard_Wimbledon-London_England.html#REVIEWS The Courtyard Wimbledon Apartment Reviews, London\n"
     ]
    },
    {
     "name": "stderr",
     "output_type": "stream",
     "text": [
      "\r",
      " 63%|██████▎   | 586/924 [2:59:50<1:20:21, 14.27s/it]"
     ]
    },
    {
     "name": "stdout",
     "output_type": "stream",
     "text": [
      "/Hotel_Review-g186338-d11704002-Reviews-London_Nice_Rooms-London_England.html#REVIEWS London Nice Rooms Guesthouse Reviews\n"
     ]
    },
    {
     "name": "stderr",
     "output_type": "stream",
     "text": [
      "\r",
      " 64%|██████▎   | 587/924 [3:00:07<1:25:15, 15.18s/it]"
     ]
    },
    {
     "name": "stdout",
     "output_type": "stream",
     "text": [
      "/Hotel_Review-g186338-d282805-Reviews-Monocrown_Court-London_England.html#REVIEWS Monocrown Court Hostel Reviews, London\n"
     ]
    },
    {
     "name": "stderr",
     "output_type": "stream",
     "text": [
      "\r",
      " 64%|██████▎   | 588/924 [3:00:30<1:38:03, 17.51s/it]"
     ]
    },
    {
     "name": "stdout",
     "output_type": "stream",
     "text": [
      "/Hotel_Review-g186338-d10557715-Reviews-Victoria_House-London_England.html#REVIEWS Victoria House Lodge Reviews, London\n"
     ]
    },
    {
     "name": "stderr",
     "output_type": "stream",
     "text": [
      "\r",
      " 64%|██████▎   | 589/924 [3:00:45<1:33:19, 16.71s/it]"
     ]
    },
    {
     "name": "stdout",
     "output_type": "stream",
     "text": [
      "/Hotel_Review-g186338-d14147186-Reviews-Collin_House_Hotel-London_England.html#REVIEWS Collin House Hotel Specialty Hotel Reviews, London\n"
     ]
    },
    {
     "name": "stderr",
     "output_type": "stream",
     "text": [
      "\r",
      " 64%|██████▍   | 590/924 [3:01:14<1:53:55, 20.47s/it]"
     ]
    },
    {
     "name": "stdout",
     "output_type": "stream",
     "text": [
      "/Hotel_Review-g186338-d18849312-Reviews-Melrose_Aparthotel-London_England.html#REVIEWS Melrose Aparthotel Apartment Reviews, London\n"
     ]
    },
    {
     "name": "stderr",
     "output_type": "stream",
     "text": [
      "\r",
      " 64%|██████▍   | 591/924 [3:01:22<1:32:14, 16.62s/it]"
     ]
    },
    {
     "name": "stdout",
     "output_type": "stream",
     "text": [
      "/Hotel_Review-g186338-d9977430-Reviews-Belvedere_Holborn_Executive_Apartments-London_England.html#REVIEWS Belvedere Holborn Executive Apartments Reviews, London\n"
     ]
    },
    {
     "name": "stderr",
     "output_type": "stream",
     "text": [
      "\r",
      " 64%|██████▍   | 592/924 [3:01:31<1:19:40, 14.40s/it]"
     ]
    },
    {
     "name": "stdout",
     "output_type": "stream",
     "text": [
      "/Hotel_Review-g186338-d5010983-Reviews-Forest_Gate_Cottage-London_England.html#REVIEWS Forest Gate Cottage Guesthouse Reviews, London\n"
     ]
    },
    {
     "name": "stderr",
     "output_type": "stream",
     "text": [
      "\r",
      " 64%|██████▍   | 593/924 [3:01:57<1:39:14, 17.99s/it]"
     ]
    },
    {
     "name": "stdout",
     "output_type": "stream",
     "text": [
      "/Hotel_Review-g186338-d10533868-Reviews-Paddington_Rob_Roy_Executive_Suites-London_England.html#REVIEWS Paddington Rob-Roy Executive Suites Lodge Reviews, London\n"
     ]
    },
    {
     "name": "stderr",
     "output_type": "stream",
     "text": [
      "\r",
      " 64%|██████▍   | 594/924 [3:02:07<1:24:25, 15.35s/it]"
     ]
    },
    {
     "name": "stdout",
     "output_type": "stream",
     "text": [
      "/Hotel_Review-g186338-d8155271-Reviews-Lettingeasy_Brownfield-London_England.html#REVIEWS lettingeasy - Brownfield Hotel Reviews, London\n"
     ]
    },
    {
     "name": "stderr",
     "output_type": "stream",
     "text": [
      "\r",
      " 64%|██████▍   | 595/924 [3:02:16<1:14:16, 13.54s/it]"
     ]
    },
    {
     "name": "stdout",
     "output_type": "stream",
     "text": [
      "/Hotel_Review-g186338-d13833175-Reviews-Park_Avenue_Hotel-London_England.html#REVIEWS Park Avenue Hotel Specialty Hotel Reviews, London\n"
     ]
    },
    {
     "name": "stderr",
     "output_type": "stream",
     "text": [
      "\r",
      " 65%|██████▍   | 596/924 [3:02:36<1:25:02, 15.56s/it]"
     ]
    },
    {
     "name": "stdout",
     "output_type": "stream",
     "text": [
      "/Hotel_Review-g186338-d2234182-Reviews-Marble_Arch_Rooms_and_Apartments-London_England.html#REVIEWS Marble Arch Rooms and Apartments Reviews, London\n"
     ]
    },
    {
     "name": "stderr",
     "output_type": "stream",
     "text": [
      "\r",
      " 65%|██████▍   | 597/924 [3:02:58<1:35:46, 17.57s/it]"
     ]
    },
    {
     "name": "stdout",
     "output_type": "stream",
     "text": [
      "/Hotel_Review-g186338-d1137502-Reviews-Romany_House_Hotel-London_England.html#REVIEWS Romany House Hotel B&B Reviews, London\n"
     ]
    },
    {
     "name": "stderr",
     "output_type": "stream",
     "text": [
      "\r",
      " 65%|██████▍   | 598/924 [3:03:17<1:36:29, 17.76s/it]"
     ]
    },
    {
     "name": "stdout",
     "output_type": "stream",
     "text": [
      "/Hotel_Review-g186338-d1014240-Reviews-Brooke_Hall_Hostel-London_England.html#REVIEWS Brooke Hall Hostel Reviews, London\n"
     ]
    },
    {
     "name": "stderr",
     "output_type": "stream",
     "text": [
      "\r",
      " 65%|██████▍   | 599/924 [3:03:44<1:51:45, 20.63s/it]"
     ]
    },
    {
     "name": "stdout",
     "output_type": "stream",
     "text": [
      "/Hotel_Review-g186338-d3385445-Reviews-Holborn_Guesthouse-London_England.html#REVIEWS Holborn Guesthouse Reviews, London\n"
     ]
    },
    {
     "name": "stderr",
     "output_type": "stream",
     "text": [
      "\r",
      " 65%|██████▍   | 600/924 [3:03:58<1:41:02, 18.71s/it]"
     ]
    },
    {
     "name": "stdout",
     "output_type": "stream",
     "text": [
      "/Hotel_Review-g186338-d12164331-Reviews-Wrotteslay_House-London_England.html#REVIEWS Wrotteslay House Hostel Reviews, London\n"
     ]
    },
    {
     "name": "stderr",
     "output_type": "stream",
     "text": [
      "\r",
      " 65%|██████▌   | 601/924 [3:04:12<1:32:19, 17.15s/it]"
     ]
    },
    {
     "name": "stdout",
     "output_type": "stream",
     "text": [
      "/Hotel_Review-g186338-d12239945-Reviews-Aura_Inc_Rooms-London_England.html#REVIEWS Aura Inc Rooms Guesthouse Reviews, London\n"
     ]
    },
    {
     "name": "stderr",
     "output_type": "stream",
     "text": [
      "\r",
      " 65%|██████▌   | 602/924 [3:04:29<1:32:28, 17.23s/it]"
     ]
    },
    {
     "name": "stdout",
     "output_type": "stream",
     "text": [
      "/Hotel_Review-g186338-d12902178-Reviews-Goodnight_Sleep_Apartments-London_England.html#REVIEWS Goodnight Sleep Apartments Guesthouse Reviews, London\n"
     ]
    },
    {
     "name": "stderr",
     "output_type": "stream",
     "text": [
      "\r",
      " 65%|██████▌   | 603/924 [3:04:42<1:25:45, 16.03s/it]"
     ]
    },
    {
     "name": "stdout",
     "output_type": "stream",
     "text": [
      "/Hotel_Review-g186338-d12240158-Reviews-Henshaw-London_England.html#REVIEWS Henshaw Guesthouse Reviews, London\n"
     ]
    },
    {
     "name": "stderr",
     "output_type": "stream",
     "text": [
      "\r",
      " 65%|██████▌   | 604/924 [3:04:58<1:24:22, 15.82s/it]"
     ]
    },
    {
     "name": "stdout",
     "output_type": "stream",
     "text": [
      "/Hotel_Review-g186338-d6438135-Reviews-Dreamhouse_Apartments_St_John_Street-London_England.html#REVIEWS Dreamhouse Apartments - St John Street Reviews, London\n"
     ]
    },
    {
     "name": "stderr",
     "output_type": "stream",
     "text": [
      "\r",
      " 65%|██████▌   | 605/924 [3:05:15<1:26:13, 16.22s/it]"
     ]
    },
    {
     "name": "stdout",
     "output_type": "stream",
     "text": [
      "/Hotel_Review-g186338-d3440076-Reviews-Rest_Up_Hostel-London_England.html#REVIEWS Rest Up Hostel Reviews, London\n"
     ]
    },
    {
     "name": "stderr",
     "output_type": "stream",
     "text": [
      "\r",
      " 66%|██████▌   | 606/924 [3:05:28<1:21:37, 15.40s/it]"
     ]
    },
    {
     "name": "stdout",
     "output_type": "stream",
     "text": [
      "/Hotel_Review-g186338-d1604076-Reviews-Clarendon_Apartments_Wellington_Street-London_England.html#REVIEWS Clarendon Apartments - Wellington Street Lodge Reviews, London\n"
     ]
    },
    {
     "name": "stderr",
     "output_type": "stream",
     "text": [
      "\r",
      " 66%|██████▌   | 607/924 [3:05:53<1:35:29, 18.07s/it]"
     ]
    },
    {
     "name": "stdout",
     "output_type": "stream",
     "text": [
      "/Hotel_Review-g186338-d8834780-Reviews-6_Portobello_Road-London_England.html#REVIEWS 6 Portobello Road Guesthouse Reviews, London\n"
     ]
    },
    {
     "name": "stderr",
     "output_type": "stream",
     "text": [
      "\r",
      " 66%|██████▌   | 608/924 [3:06:07<1:29:09, 16.93s/it]"
     ]
    },
    {
     "name": "stdout",
     "output_type": "stream",
     "text": [
      "/Hotel_Review-g186338-d1202763-Reviews-Wood_Green_Hall-London_England.html#REVIEWS Wood Green Hall Hostel Reviews, London\n"
     ]
    },
    {
     "name": "stderr",
     "output_type": "stream",
     "text": [
      "\r",
      " 66%|██████▌   | 609/924 [3:06:24<1:29:10, 16.99s/it]"
     ]
    },
    {
     "name": "stdout",
     "output_type": "stream",
     "text": [
      "/Hotel_Review-g186338-d13558498-Reviews-Islington_Serviced_Rooms_and_Apartments-London_England.html#REVIEWS Islington Serviced Rooms and Apartments Reviews, London\n"
     ]
    },
    {
     "name": "stderr",
     "output_type": "stream",
     "text": [
      "\r",
      " 66%|██████▌   | 610/924 [3:06:35<1:19:26, 15.18s/it]"
     ]
    },
    {
     "name": "stdout",
     "output_type": "stream",
     "text": [
      "/Hotel_Review-g186338-d2435047-Reviews-Annexe_Rooms-London_England.html#REVIEWS Annexe Rooms Guesthouse Reviews, London\n"
     ]
    },
    {
     "name": "stderr",
     "output_type": "stream",
     "text": [
      "\r",
      " 66%|██████▌   | 611/924 [3:07:02<1:37:43, 18.73s/it]"
     ]
    },
    {
     "name": "stdout",
     "output_type": "stream",
     "text": [
      "/Hotel_Review-g186338-d3839215-Reviews-Albert_Guest_House-London_England.html#REVIEWS Albert Guest House Hostel Reviews, London\n"
     ]
    },
    {
     "name": "stderr",
     "output_type": "stream",
     "text": [
      "\r",
      " 66%|██████▌   | 612/924 [3:07:13<1:25:52, 16.51s/it]"
     ]
    },
    {
     "name": "stdout",
     "output_type": "stream",
     "text": [
      "/Hotel_Review-g186338-d12329146-Reviews-Vauxhall_B_B-London_England.html#REVIEWS Vauxhall B&B Specialty B&B Reviews, London\n"
     ]
    },
    {
     "name": "stderr",
     "output_type": "stream",
     "text": [
      "\r",
      " 66%|██████▋   | 613/924 [3:07:25<1:17:32, 14.96s/it]"
     ]
    },
    {
     "name": "stdout",
     "output_type": "stream",
     "text": [
      "/Hotel_Review-g186338-d4742532-Reviews-Prince_Arthur-London_England.html#REVIEWS Prince Arthur B&B Reviews, London\n"
     ]
    },
    {
     "name": "stderr",
     "output_type": "stream",
     "text": [
      "\r",
      " 66%|██████▋   | 614/924 [3:07:33<1:06:23, 12.85s/it]"
     ]
    },
    {
     "name": "stdout",
     "output_type": "stream",
     "text": [
      "/Hotel_Review-g186338-d15632144-Reviews-Sweet_Inn_Lancaster_Gate_Hyde_Park-London_England.html#REVIEWS Sweet Inn - Lancaster Gate (Hyde Park) Lodging Reviews, London\n"
     ]
    },
    {
     "name": "stderr",
     "output_type": "stream",
     "text": [
      "\r",
      " 67%|██████▋   | 615/924 [3:08:03<1:33:30, 18.16s/it]"
     ]
    },
    {
     "name": "stdout",
     "output_type": "stream",
     "text": [
      "/Hotel_Review-g186338-d17703265-Reviews-The_Chelsea_Lodge-London_England.html#REVIEWS The Chelsea Lodge Hotel Reviews, London\n"
     ]
    },
    {
     "name": "stderr",
     "output_type": "stream",
     "text": [
      "\r",
      " 67%|██████▋   | 616/924 [3:08:21<1:33:10, 18.15s/it]"
     ]
    },
    {
     "name": "stdout",
     "output_type": "stream",
     "text": [
      "/Hotel_Review-g186338-d12805824-Reviews-Queen_s_Club_Apartments-London_England.html#REVIEWS Queen's Club Apartments Reviews, London\n"
     ]
    },
    {
     "name": "stderr",
     "output_type": "stream",
     "text": [
      "\r",
      " 67%|██████▋   | 617/924 [3:08:42<1:36:01, 18.77s/it]"
     ]
    },
    {
     "name": "stdout",
     "output_type": "stream",
     "text": [
      "/Hotel_Review-g186338-d12219736-Reviews-Luxton_Apartments_Mayfair-London_England.html#REVIEWS Luxton Apartments Mayfair Reviews, London\n"
     ]
    },
    {
     "name": "stderr",
     "output_type": "stream",
     "text": [
      "\r",
      " 67%|██████▋   | 618/924 [3:09:13<1:54:32, 22.46s/it]"
     ]
    },
    {
     "name": "stdout",
     "output_type": "stream",
     "text": [
      "/Hotel_Review-g186338-d2358968-Reviews-Bethnal_Green_Studios-London_England.html#REVIEWS Bethnal Green Studios Apartment Reviews, London\n"
     ]
    },
    {
     "name": "stderr",
     "output_type": "stream",
     "text": [
      "\r",
      " 67%|██████▋   | 619/924 [3:09:41<2:02:35, 24.12s/it]"
     ]
    },
    {
     "name": "stdout",
     "output_type": "stream",
     "text": [
      "/Hotel_Review-g186338-d12864754-Reviews-Homestay_Monica_Kingsbury-London_England.html#REVIEWS Homestay Monica Kingsbury Guesthouse Reviews, London\n"
     ]
    },
    {
     "name": "stderr",
     "output_type": "stream",
     "text": [
      "\r",
      " 67%|██████▋   | 620/924 [3:10:00<1:55:17, 22.75s/it]"
     ]
    },
    {
     "name": "stdout",
     "output_type": "stream",
     "text": [
      "/Hotel_Review-g186338-d1520787-Reviews-Tommy_Miah_s_Raj_Hotel-London_England.html#REVIEWS Tommy Miah's Raj Hotel Inn Reviews, London\n"
     ]
    },
    {
     "name": "stderr",
     "output_type": "stream",
     "text": [
      "\r",
      " 67%|██████▋   | 621/924 [3:10:06<1:29:49, 17.79s/it]"
     ]
    },
    {
     "name": "stdout",
     "output_type": "stream",
     "text": [
      "/Hotel_Review-g186338-d13315727-Reviews-Prince_Alfred_B_B-London_England.html#REVIEWS Prince Alfred B & B Inn Reviews, London\n"
     ]
    },
    {
     "name": "stderr",
     "output_type": "stream",
     "text": [
      "\r",
      " 67%|██████▋   | 622/924 [3:10:21<1:24:23, 16.77s/it]"
     ]
    },
    {
     "name": "stdout",
     "output_type": "stream",
     "text": [
      "/Hotel_Review-g186338-d4915221-Reviews-Stylish_London_Apartment-London_England.html#REVIEWS Stylish London Apartment Reviews\n"
     ]
    },
    {
     "name": "stderr",
     "output_type": "stream",
     "text": [
      "\r",
      " 67%|██████▋   | 623/924 [3:10:35<1:19:49, 15.91s/it]"
     ]
    },
    {
     "name": "stdout",
     "output_type": "stream",
     "text": [
      "/Hotel_Review-g186338-d2345446-Reviews-Belle_Cour_Victoria-London_England.html#REVIEWS Belle Cour Victoria Hotel Reviews, London\n"
     ]
    },
    {
     "name": "stderr",
     "output_type": "stream",
     "text": [
      "\r",
      " 68%|██████▊   | 624/924 [3:11:01<1:34:47, 18.96s/it]"
     ]
    },
    {
     "name": "stdout",
     "output_type": "stream",
     "text": [
      "/Hotel_Review-g186338-d12830784-Reviews-Victoria_Greenbea_House-London_England.html#REVIEWS Victoria Greenbea House Guesthouse Reviews, London\n"
     ]
    },
    {
     "name": "stderr",
     "output_type": "stream",
     "text": [
      "\r",
      " 68%|██████▊   | 625/924 [3:11:22<1:38:02, 19.68s/it]"
     ]
    },
    {
     "name": "stdout",
     "output_type": "stream",
     "text": [
      "/Hotel_Review-g186338-d12693513-Reviews-Shepherds_Bush_House-London_England.html#REVIEWS Shepherds Bush House Apartment Reviews, London\n"
     ]
    },
    {
     "name": "stderr",
     "output_type": "stream",
     "text": [
      "\r",
      " 68%|██████▊   | 626/924 [3:11:47<1:45:19, 21.21s/it]"
     ]
    },
    {
     "name": "stdout",
     "output_type": "stream",
     "text": [
      "/Hotel_Review-g186338-d13855058-Reviews-Mary_s_Place-London_England.html#REVIEWS Mary's Place Specialty Inn Reviews, London\n"
     ]
    },
    {
     "name": "stderr",
     "output_type": "stream",
     "text": [
      "\r",
      " 68%|██████▊   | 627/924 [3:11:59<1:31:20, 18.45s/it]"
     ]
    },
    {
     "name": "stdout",
     "output_type": "stream",
     "text": [
      "/Hotel_Review-g186338-d13558838-Reviews-Citadel_Apartments_Aldgate-London_England.html#REVIEWS Citadel Apartments Aldgate Reviews, London\n"
     ]
    },
    {
     "name": "stderr",
     "output_type": "stream",
     "text": [
      "\r",
      " 68%|██████▊   | 628/924 [3:12:23<1:39:41, 20.21s/it]"
     ]
    },
    {
     "name": "stdout",
     "output_type": "stream",
     "text": [
      "/Hotel_Review-g186338-d12813624-Reviews-Soma_Camberwell-London_England.html#REVIEWS Soma Camberwell Apartment Reviews, London\n"
     ]
    },
    {
     "name": "stderr",
     "output_type": "stream",
     "text": [
      "\r",
      " 68%|██████▊   | 629/924 [3:12:29<1:18:34, 15.98s/it]"
     ]
    },
    {
     "name": "stdout",
     "output_type": "stream",
     "text": [
      "/Hotel_Review-g186338-d1073673-Reviews-Millennium_Apartments_B_B-London_England.html#REVIEWS Millennium Apartments B&B Reviews, London\n"
     ]
    },
    {
     "name": "stderr",
     "output_type": "stream",
     "text": [
      "\r",
      " 68%|██████▊   | 630/924 [3:13:00<1:39:24, 20.29s/it]"
     ]
    },
    {
     "name": "stdout",
     "output_type": "stream",
     "text": [
      "/Hotel_Review-g186338-d19351773-Reviews-Vauxhall_Walk-London_England.html#REVIEWS Vauxhall Walk Lodging Reviews, London\n"
     ]
    },
    {
     "name": "stderr",
     "output_type": "stream",
     "text": [
      "\r",
      " 68%|██████▊   | 631/924 [3:13:16<1:33:07, 19.07s/it]"
     ]
    },
    {
     "name": "stdout",
     "output_type": "stream",
     "text": [
      "/Hotel_Review-g186338-d12486876-Reviews-Guesthouse4U-London_England.html#REVIEWS Guesthouse4U Reviews, London\n"
     ]
    },
    {
     "name": "stderr",
     "output_type": "stream",
     "text": [
      "\r",
      " 68%|██████▊   | 632/924 [3:13:39<1:38:55, 20.33s/it]"
     ]
    },
    {
     "name": "stdout",
     "output_type": "stream",
     "text": [
      "/Hotel_Review-g186338-d15352723-Reviews-Cosy_Bedroom_In_Hackney-London_England.html#REVIEWS Cosy Bedroom In Hackney Lodging Reviews, London\n"
     ]
    },
    {
     "name": "stderr",
     "output_type": "stream",
     "text": [
      "\r",
      " 69%|██████▊   | 633/924 [3:14:06<1:48:35, 22.39s/it]"
     ]
    },
    {
     "name": "stdout",
     "output_type": "stream",
     "text": [
      "/Hotel_Review-g186338-d17666053-Reviews-Stay_in_london-London_England.html#REVIEWS Stay in london Lodging Reviews\n"
     ]
    },
    {
     "name": "stderr",
     "output_type": "stream",
     "text": [
      "\r",
      " 69%|██████▊   | 634/924 [3:14:14<1:26:34, 17.91s/it]"
     ]
    },
    {
     "name": "stdout",
     "output_type": "stream",
     "text": [
      "/Hotel_Review-g186338-d15751390-Reviews-Modern_Bond_Street_Apartments-London_England.html#REVIEWS Modern Bond Street Apartments Lodging Reviews, London\n"
     ]
    },
    {
     "name": "stderr",
     "output_type": "stream",
     "text": [
      "\r",
      " 69%|██████▊   | 635/924 [3:14:36<1:32:04, 19.12s/it]"
     ]
    },
    {
     "name": "stdout",
     "output_type": "stream",
     "text": [
      "/Hotel_Review-g186338-d3613641-Reviews-Arlington_Road_Apartments-London_England.html#REVIEWS Arlington Road Apartments Reviews, London\n"
     ]
    },
    {
     "name": "stderr",
     "output_type": "stream",
     "text": [
      "\r",
      " 69%|██████▉   | 636/924 [3:14:59<1:37:31, 20.32s/it]"
     ]
    },
    {
     "name": "stdout",
     "output_type": "stream",
     "text": [
      "/Hotel_Review-g186338-d1058234-Reviews-Tower_Bridge_Road_Apartments-London_England.html#REVIEWS Tower Bridge Road Apartments Reviews, London\n"
     ]
    },
    {
     "name": "stderr",
     "output_type": "stream",
     "text": [
      "\r",
      " 69%|██████▉   | 637/924 [3:15:23<1:42:50, 21.50s/it]"
     ]
    },
    {
     "name": "stdout",
     "output_type": "stream",
     "text": [
      "/Hotel_Review-g186338-d7714030-Reviews-Tottenham_Guesthouse-London_England.html#REVIEWS Tottenham Guesthouse Apartment Reviews, London\n"
     ]
    },
    {
     "name": "stderr",
     "output_type": "stream",
     "text": [
      "\r",
      " 69%|██████▉   | 638/924 [3:15:53<1:54:43, 24.07s/it]"
     ]
    },
    {
     "name": "stdout",
     "output_type": "stream",
     "text": [
      "/Hotel_Review-g186338-d8024225-Reviews-Stratford_House-London_England.html#REVIEWS Stratford House Guesthouse Reviews, London\n"
     ]
    },
    {
     "name": "stderr",
     "output_type": "stream",
     "text": [
      "\r",
      " 69%|██████▉   | 639/924 [3:16:02<1:33:16, 19.64s/it]"
     ]
    },
    {
     "name": "stdout",
     "output_type": "stream",
     "text": [
      "/Hotel_Review-g186338-d6028649-Reviews-Lathom_Cottage-London_England.html#REVIEWS Lathom Cottage Guesthouse Reviews, London\n"
     ]
    },
    {
     "name": "stderr",
     "output_type": "stream",
     "text": [
      "\r",
      " 69%|██████▉   | 640/924 [3:16:16<1:23:46, 17.70s/it]"
     ]
    },
    {
     "name": "stdout",
     "output_type": "stream",
     "text": [
      "/Hotel_Review-g186338-d2698987-Reviews-Princess_Of_Wales-London_England.html#REVIEWS Princess Of Wales Inn Reviews, London\n"
     ]
    },
    {
     "name": "stderr",
     "output_type": "stream",
     "text": [
      "\r",
      " 69%|██████▉   | 641/924 [3:16:23<1:08:36, 14.55s/it]"
     ]
    },
    {
     "name": "stdout",
     "output_type": "stream",
     "text": [
      "/Hotel_Review-g186338-d1153822-Reviews-London_Let_Serviced_Apartments-London_England.html#REVIEWS London Let Serviced Apartments Reviews\n"
     ]
    },
    {
     "name": "stderr",
     "output_type": "stream",
     "text": [
      "\r",
      " 69%|██████▉   | 642/924 [3:16:38<1:09:13, 14.73s/it]"
     ]
    },
    {
     "name": "stdout",
     "output_type": "stream",
     "text": [
      "/Hotel_Review-g186338-d1537907-Reviews-Helens_Hotel-London_England.html#REVIEWS Helens Hotel Reviews, London\n"
     ]
    },
    {
     "name": "stderr",
     "output_type": "stream",
     "text": [
      "\r",
      " 70%|██████▉   | 643/924 [3:16:52<1:08:00, 14.52s/it]"
     ]
    },
    {
     "name": "stdout",
     "output_type": "stream",
     "text": [
      "/Hotel_Review-g186338-d192054-Reviews-Cartwright_Hall-London_England.html#REVIEWS Cartwright Hall Hostel Reviews, London\n"
     ]
    },
    {
     "name": "stderr",
     "output_type": "stream",
     "text": [
      "\r",
      " 70%|██████▉   | 644/924 [3:17:04<1:04:44, 13.87s/it]"
     ]
    },
    {
     "name": "stdout",
     "output_type": "stream",
     "text": [
      "/Hotel_Review-g186338-d209174-Reviews-Walter_Sickert_Hall-London_England.html#REVIEWS Walter Sickert Hall Hostel Reviews, London\n"
     ]
    },
    {
     "name": "stderr",
     "output_type": "stream",
     "text": [
      "\r",
      " 70%|██████▉   | 645/924 [3:17:14<58:02, 12.48s/it]  "
     ]
    },
    {
     "name": "stdout",
     "output_type": "stream",
     "text": [
      "/Hotel_Review-g186338-d2279484-Reviews-Girardi_Guest_House-London_England.html#REVIEWS Girardi Guest House Reviews, London\n"
     ]
    },
    {
     "name": "stderr",
     "output_type": "stream",
     "text": [
      "\r",
      " 70%|██████▉   | 646/924 [3:17:42<1:20:29, 17.37s/it]"
     ]
    },
    {
     "name": "stdout",
     "output_type": "stream",
     "text": [
      "/Hotel_Review-g186338-d3431641-Reviews-Greenhill_Bed_and_Breakfast-London_England.html#REVIEWS Greenhill Bed and Breakfast Reviews, London\n"
     ]
    },
    {
     "name": "stderr",
     "output_type": "stream",
     "text": [
      "\r",
      " 70%|███████   | 647/924 [3:18:12<1:37:10, 21.05s/it]"
     ]
    },
    {
     "name": "stdout",
     "output_type": "stream",
     "text": [
      "/Hotel_Review-g186338-d3874752-Reviews-Blueprint_Living_Apartments_Red_Lion_Street-London_England.html#REVIEWS Blueprint Living Apartments Red Lion Street Reviews, London\n"
     ]
    },
    {
     "name": "stderr",
     "output_type": "stream",
     "text": [
      "\r",
      " 70%|███████   | 648/924 [3:18:21<1:19:30, 17.28s/it]"
     ]
    },
    {
     "name": "stdout",
     "output_type": "stream",
     "text": [
      "/Hotel_Review-g186338-d308976-Reviews-47_Warwick_Gardens-London_England.html#REVIEWS 47 Warwick Gardens B&B Reviews, London\n"
     ]
    },
    {
     "name": "stderr",
     "output_type": "stream",
     "text": [
      "\r",
      " 70%|███████   | 649/924 [3:18:49<1:34:46, 20.68s/it]"
     ]
    },
    {
     "name": "stdout",
     "output_type": "stream",
     "text": [
      "/Hotel_Review-g186338-d1080755-Reviews-MiNC_Eagle_Court-London_England.html#REVIEWS MiNC Eagle Court Apartment Reviews, London\n"
     ]
    },
    {
     "name": "stderr",
     "output_type": "stream",
     "text": [
      "\r",
      " 70%|███████   | 650/924 [3:19:03<1:25:09, 18.65s/it]"
     ]
    },
    {
     "name": "stdout",
     "output_type": "stream",
     "text": [
      "/Hotel_Review-g186338-d7906946-Reviews-The_Greyhound_B_B_and_Pub-London_England.html#REVIEWS The Greyhound B&B and Pub Specialty B&B Reviews, London\n"
     ]
    },
    {
     "name": "stderr",
     "output_type": "stream",
     "text": [
      "\r",
      " 70%|███████   | 651/924 [3:19:20<1:22:20, 18.10s/it]"
     ]
    },
    {
     "name": "stdout",
     "output_type": "stream",
     "text": [
      "/Hotel_Review-g186338-d300728-Reviews-Hotel_Victorian_London-London_England.html#REVIEWS Hotel Victorian London B&B Reviews\n"
     ]
    },
    {
     "name": "stderr",
     "output_type": "stream",
     "text": [
      "\r",
      " 71%|███████   | 652/924 [3:19:51<1:39:46, 22.01s/it]"
     ]
    },
    {
     "name": "stdout",
     "output_type": "stream",
     "text": [
      "/Hotel_Review-g186338-d6413576-Reviews-Louis_Lodge-London_England.html#REVIEWS Louis Lodge B&B Reviews, London\n"
     ]
    },
    {
     "name": "stderr",
     "output_type": "stream",
     "text": [
      "\r",
      " 71%|███████   | 653/924 [3:20:03<1:25:20, 18.89s/it]"
     ]
    },
    {
     "name": "stdout",
     "output_type": "stream",
     "text": [
      "/Hotel_Review-g186338-d6950118-Reviews-Kingdom_Lodge_Warwick_Way-London_England.html#REVIEWS Kingdom Lodge - Warwick Way Reviews, London\n"
     ]
    },
    {
     "name": "stderr",
     "output_type": "stream",
     "text": [
      "\r",
      " 71%|███████   | 654/924 [3:20:12<1:12:02, 16.01s/it]"
     ]
    },
    {
     "name": "stdout",
     "output_type": "stream",
     "text": [
      "/Hotel_Review-g186338-d6590996-Reviews-Oxford_Street_Designer_Apartments-London_England.html#REVIEWS Oxford Street Designer Apartments Reviews, London\n"
     ]
    },
    {
     "name": "stderr",
     "output_type": "stream",
     "text": [
      "\r",
      " 71%|███████   | 655/924 [3:20:29<1:13:42, 16.44s/it]"
     ]
    },
    {
     "name": "stdout",
     "output_type": "stream",
     "text": [
      "/Hotel_Review-g186338-d8706985-Reviews-Elm_Hall_House-London_England.html#REVIEWS Elm Hall House Hostel Reviews, London\n"
     ]
    },
    {
     "name": "stderr",
     "output_type": "stream",
     "text": [
      "\r",
      " 71%|███████   | 656/924 [3:20:48<1:15:51, 16.98s/it]"
     ]
    },
    {
     "name": "stdout",
     "output_type": "stream",
     "text": [
      "/Hotel_Review-g186338-d3410505-Reviews-Allstay_Bondway_Residence_Vauxhall-London_England.html#REVIEWS Allstay Bondway Residence, Vauxhall Apartment Reviews, London\n"
     ]
    },
    {
     "name": "stderr",
     "output_type": "stream",
     "text": [
      "\r",
      " 71%|███████   | 657/924 [3:21:06<1:17:01, 17.31s/it]"
     ]
    },
    {
     "name": "stdout",
     "output_type": "stream",
     "text": [
      "/Hotel_Review-g186338-d1596087-Reviews-Chancery_Lane_Apartments-London_England.html#REVIEWS Chancery Lane Apartments Reviews, London\n"
     ]
    },
    {
     "name": "stderr",
     "output_type": "stream",
     "text": [
      "\r",
      " 71%|███████   | 658/924 [3:21:32<1:28:07, 19.88s/it]"
     ]
    },
    {
     "name": "stdout",
     "output_type": "stream",
     "text": [
      "/Hotel_Review-g186338-d8321555-Reviews-406_Harrow-London_England.html#REVIEWS 406 Harrow Guesthouse Reviews, London\n"
     ]
    },
    {
     "name": "stderr",
     "output_type": "stream",
     "text": [
      "\r",
      " 71%|███████▏  | 659/924 [3:21:39<1:12:00, 16.30s/it]"
     ]
    },
    {
     "name": "stdout",
     "output_type": "stream",
     "text": [
      "/Hotel_Review-g186338-d1188787-Reviews-No_18-London_England.html#REVIEWS No. 18 B&B Reviews, London\n"
     ]
    },
    {
     "name": "stderr",
     "output_type": "stream",
     "text": [
      "\r",
      " 71%|███████▏  | 660/924 [3:21:53<1:08:35, 15.59s/it]"
     ]
    },
    {
     "name": "stdout",
     "output_type": "stream",
     "text": [
      "/Hotel_Review-g186338-d2031727-Reviews-Marylebone_Serviced_Rooms_Apartment-London_England.html#REVIEWS Marylebone Serviced Rooms & Apartment Reviews, London\n"
     ]
    },
    {
     "name": "stderr",
     "output_type": "stream",
     "text": [
      "\r",
      " 72%|███████▏  | 661/924 [3:22:19<1:21:12, 18.53s/it]"
     ]
    },
    {
     "name": "stdout",
     "output_type": "stream",
     "text": [
      "/Hotel_Review-g186338-d13398451-Reviews-Greyhound_Road_Rooms-London_England.html#REVIEWS Greyhound Road Rooms Guesthouse Reviews, London\n"
     ]
    },
    {
     "name": "stderr",
     "output_type": "stream",
     "text": [
      "\r",
      " 72%|███████▏  | 662/924 [3:22:36<1:19:04, 18.11s/it]"
     ]
    },
    {
     "name": "stdout",
     "output_type": "stream",
     "text": [
      "/Hotel_Review-g186338-d1479958-Reviews-City_Habitat_Apartments-London_England.html#REVIEWS City Habitat Apartments Reviews, London\n"
     ]
    },
    {
     "name": "stderr",
     "output_type": "stream",
     "text": [
      "\r",
      " 72%|███████▏  | 663/924 [3:22:48<1:11:00, 16.33s/it]"
     ]
    },
    {
     "name": "stdout",
     "output_type": "stream",
     "text": [
      "/Hotel_Review-g186338-d12789688-Reviews-Villa_Fitzrovial-London_England.html#REVIEWS Villa Fitzrovial Apartment Reviews, London\n"
     ]
    },
    {
     "name": "stderr",
     "output_type": "stream",
     "text": [
      "\r",
      " 72%|███████▏  | 664/924 [3:22:58<1:02:44, 14.48s/it]"
     ]
    },
    {
     "name": "stdout",
     "output_type": "stream",
     "text": [
      "/Hotel_Review-g186338-d13117107-Reviews-OYO_Home_Liverpool_Street-London_England.html#REVIEWS OYO Home Liverpool Street Apartment Reviews, London\n"
     ]
    },
    {
     "name": "stderr",
     "output_type": "stream",
     "text": [
      "\r",
      " 72%|███████▏  | 665/924 [3:23:16<1:07:13, 15.57s/it]"
     ]
    },
    {
     "name": "stdout",
     "output_type": "stream",
     "text": [
      "/Hotel_Review-g186338-d7335593-Reviews-City_Marque_City_Serviced_Apartments-London_England.html#REVIEWS City Marque City Serviced Apartments Reviews, London\n"
     ]
    },
    {
     "name": "stderr",
     "output_type": "stream",
     "text": [
      "\r",
      " 72%|███████▏  | 666/924 [3:23:48<1:27:02, 20.24s/it]"
     ]
    },
    {
     "name": "stdout",
     "output_type": "stream",
     "text": [
      "/Hotel_Review-g186338-d269139-Reviews-John_Adams_Hall-London_England.html#REVIEWS John Adams Hall Hostel Reviews, London\n"
     ]
    },
    {
     "name": "stderr",
     "output_type": "stream",
     "text": [
      "\r",
      " 72%|███████▏  | 667/924 [3:24:11<1:30:18, 21.08s/it]"
     ]
    },
    {
     "name": "stdout",
     "output_type": "stream",
     "text": [
      "/Hotel_Review-g186338-d1569919-Reviews-Clarendon_Apartments-London_England.html#REVIEWS Clarendon Apartments Reviews, London\n"
     ]
    },
    {
     "name": "stderr",
     "output_type": "stream",
     "text": [
      "\r",
      " 72%|███████▏  | 668/924 [3:24:37<1:36:30, 22.62s/it]"
     ]
    },
    {
     "name": "stdout",
     "output_type": "stream",
     "text": [
      "/Hotel_Review-g186338-d1952395-Reviews-MiNC_Apartments_Lombard_Lane-London_England.html#REVIEWS MiNC Apartments - Lombard Lane Reviews, London\n"
     ]
    },
    {
     "name": "stderr",
     "output_type": "stream",
     "text": [
      "\r",
      " 72%|███████▏  | 669/924 [3:24:54<1:29:22, 21.03s/it]"
     ]
    },
    {
     "name": "stdout",
     "output_type": "stream",
     "text": [
      "/Hotel_Review-g186338-d17497896-Reviews-The_Cromwell_Road_Sherborne_Court-London_England.html#REVIEWS The Cromwell Road Sherborne Court Apartment Reviews, London\n"
     ]
    },
    {
     "name": "stderr",
     "output_type": "stream",
     "text": [
      "\r",
      " 73%|███████▎  | 670/924 [3:25:23<1:39:27, 23.49s/it]"
     ]
    },
    {
     "name": "stdout",
     "output_type": "stream",
     "text": [
      "/Hotel_Review-g186338-d214648-Reviews-Oak_House_Hotel-London_England.html#REVIEWS Oak House Hotel B&B Reviews, London\n"
     ]
    },
    {
     "name": "stderr",
     "output_type": "stream",
     "text": [
      "\r",
      " 73%|███████▎  | 671/924 [3:25:54<1:47:38, 25.53s/it]"
     ]
    },
    {
     "name": "stdout",
     "output_type": "stream",
     "text": [
      "/Hotel_Review-g186338-d535528-Reviews-Old_Rectory_Guest_House-London_England.html#REVIEWS Old Rectory Guest House Reviews, London\n"
     ]
    },
    {
     "name": "stderr",
     "output_type": "stream",
     "text": [
      "\r",
      " 73%|███████▎  | 672/924 [3:26:06<1:30:35, 21.57s/it]"
     ]
    },
    {
     "name": "stdout",
     "output_type": "stream",
     "text": [
      "/Hotel_Review-g186338-d15153613-Reviews-Hashtag_Shepherd_s_Bush-London_England.html#REVIEWS Hashtag Shepherd's Bush Apartment Reviews, London\n"
     ]
    },
    {
     "name": "stderr",
     "output_type": "stream",
     "text": [
      "\r",
      " 73%|███████▎  | 673/924 [3:26:13<1:12:28, 17.33s/it]"
     ]
    },
    {
     "name": "stdout",
     "output_type": "stream",
     "text": [
      "/Hotel_Review-g186338-d1857120-Reviews-Finsbury_Residence-London_England.html#REVIEWS Finsbury Residence Hotel Reviews, London\n"
     ]
    },
    {
     "name": "stderr",
     "output_type": "stream",
     "text": [
      "\r",
      " 73%|███████▎  | 674/924 [3:26:35<1:17:27, 18.59s/it]"
     ]
    },
    {
     "name": "stdout",
     "output_type": "stream",
     "text": [
      "/Hotel_Review-g186338-d13523409-Reviews-Host_Up_Borough-London_England.html#REVIEWS Host-Up Borough Specialty Inn Reviews, London\n"
     ]
    },
    {
     "name": "stderr",
     "output_type": "stream",
     "text": [
      "\r",
      " 73%|███████▎  | 675/924 [3:27:01<1:26:57, 20.95s/it]"
     ]
    },
    {
     "name": "stdout",
     "output_type": "stream",
     "text": [
      "/Hotel_Review-g186338-d14157484-Reviews-Camden_Nike_Apartments-London_England.html#REVIEWS Camden Nike Apartments Reviews, London\n"
     ]
    },
    {
     "name": "stderr",
     "output_type": "stream",
     "text": [
      "\r",
      " 73%|███████▎  | 676/924 [3:27:28<1:33:27, 22.61s/it]"
     ]
    },
    {
     "name": "stdout",
     "output_type": "stream",
     "text": [
      "/Hotel_Review-g186338-d12899483-Reviews-Boogaard_s_B_B-London_England.html#REVIEWS Boogaard's B&B Reviews, London\n"
     ]
    },
    {
     "name": "stderr",
     "output_type": "stream",
     "text": [
      "\r",
      " 73%|███████▎  | 677/924 [3:27:44<1:25:31, 20.77s/it]"
     ]
    },
    {
     "name": "stdout",
     "output_type": "stream",
     "text": [
      "/Hotel_Review-g186338-d2608511-Reviews-Roomcrowd_146_St_John_Street-London_England.html#REVIEWS Roomcrowd 146 St John Street Apartment Reviews, London\n"
     ]
    },
    {
     "name": "stderr",
     "output_type": "stream",
     "text": [
      "\r",
      " 73%|███████▎  | 678/924 [3:28:08<1:29:20, 21.79s/it]"
     ]
    },
    {
     "name": "stdout",
     "output_type": "stream",
     "text": [
      "/Hotel_Review-g186338-d209159-Reviews-Tent_City_Acton-London_England.html#REVIEWS Tent City Acton Hostel Reviews, London\n"
     ]
    },
    {
     "name": "stderr",
     "output_type": "stream",
     "text": [
      "\r",
      " 73%|███████▎  | 679/924 [3:28:16<1:11:22, 17.48s/it]"
     ]
    },
    {
     "name": "stdout",
     "output_type": "stream",
     "text": [
      "/Hotel_Review-g186338-d12675523-Reviews-Little_cottage_place-London_England.html#REVIEWS Little cottage place Guesthouse Reviews, London\n"
     ]
    },
    {
     "name": "stderr",
     "output_type": "stream",
     "text": [
      "\r",
      " 74%|███████▎  | 680/924 [3:28:26<1:02:30, 15.37s/it]"
     ]
    },
    {
     "name": "stdout",
     "output_type": "stream",
     "text": [
      "/Hotel_Review-g186338-d12631518-Reviews-Tower_Bridge_3_Nice_Rooms-London_England.html#REVIEWS Tower Bridge 3 Nice Rooms Specialty Inn Reviews, London\n"
     ]
    },
    {
     "name": "stderr",
     "output_type": "stream",
     "text": [
      "\r",
      " 74%|███████▎  | 681/924 [3:28:40<1:00:43, 14.99s/it]"
     ]
    },
    {
     "name": "stdout",
     "output_type": "stream",
     "text": [
      "/Hotel_Review-g186338-d12343975-Reviews-Cleveland_Apart_Apartment_London-London_England.html#REVIEWS Cleveland Apart Apartment London Reviews\n"
     ]
    },
    {
     "name": "stderr",
     "output_type": "stream",
     "text": [
      "\r",
      " 74%|███████▍  | 682/924 [3:28:52<56:02, 13.89s/it]  "
     ]
    },
    {
     "name": "stdout",
     "output_type": "stream",
     "text": [
      "/Hotel_Review-g186338-d12285697-Reviews-House_of_Victoria-London_England.html#REVIEWS House of Victoria Lodge Reviews, London\n"
     ]
    },
    {
     "name": "stderr",
     "output_type": "stream",
     "text": [
      "\r",
      " 74%|███████▍  | 683/924 [3:28:59<47:39, 11.86s/it]"
     ]
    },
    {
     "name": "stdout",
     "output_type": "stream",
     "text": [
      "/Hotel_Review-g186338-d3471329-Reviews-Castle_Hotel-London_England.html#REVIEWS Castle Hotel Reviews, London\n"
     ]
    },
    {
     "name": "stderr",
     "output_type": "stream",
     "text": [
      "\r",
      " 74%|███████▍  | 684/924 [3:29:19<57:39, 14.42s/it]"
     ]
    },
    {
     "name": "stdout",
     "output_type": "stream",
     "text": [
      "/Hotel_Review-g186338-d13494385-Reviews-Boleyn_Bunkhouse_and_Bar-London_England.html#REVIEWS Boleyn Bunkhouse and Bar Hostel Reviews, London\n"
     ]
    },
    {
     "name": "stderr",
     "output_type": "stream",
     "text": [
      "\r",
      " 74%|███████▍  | 685/924 [3:29:49<1:15:09, 18.87s/it]"
     ]
    },
    {
     "name": "stdout",
     "output_type": "stream",
     "text": [
      "/Hotel_Review-g186338-d10498231-Reviews-Fortnam_House-London_England.html#REVIEWS Fortnam House Guesthouse Reviews, London\n"
     ]
    },
    {
     "name": "stderr",
     "output_type": "stream",
     "text": [
      "\r",
      " 74%|███████▍  | 686/924 [3:30:11<1:18:57, 19.90s/it]"
     ]
    },
    {
     "name": "stdout",
     "output_type": "stream",
     "text": [
      "/Hotel_Review-g186338-d13324230-Reviews-Kennedy_Guest_House-London_England.html#REVIEWS Kennedy Guest House Specialty Inn Reviews, London\n"
     ]
    },
    {
     "name": "stderr",
     "output_type": "stream",
     "text": [
      "\r",
      " 74%|███████▍  | 687/924 [3:30:36<1:25:11, 21.57s/it]"
     ]
    },
    {
     "name": "stdout",
     "output_type": "stream",
     "text": [
      "/Hotel_Review-g186338-d5602596-Reviews-MAX_Wilson_Tower_Aldgate-London_England.html#REVIEWS MAX @ Wilson Tower Aldgate Apartment Reviews, London\n"
     ]
    },
    {
     "name": "stderr",
     "output_type": "stream",
     "text": [
      "\r",
      " 74%|███████▍  | 688/924 [3:30:46<1:10:15, 17.86s/it]"
     ]
    },
    {
     "name": "stdout",
     "output_type": "stream",
     "text": [
      "/Hotel_Review-g186338-d11745719-Reviews-The_Dream_Resthouse-London_England.html#REVIEWS The Dream Resthouse Guesthouse Reviews, London\n"
     ]
    },
    {
     "name": "stderr",
     "output_type": "stream",
     "text": [
      "\r",
      " 75%|███████▍  | 689/924 [3:30:56<1:01:13, 15.63s/it]"
     ]
    },
    {
     "name": "stdout",
     "output_type": "stream",
     "text": [
      "/Hotel_Review-g186338-d11983304-Reviews-Fruit_Guest_House-London_England.html#REVIEWS Fruit Guest House Lodge Reviews, London\n"
     ]
    },
    {
     "name": "stderr",
     "output_type": "stream",
     "text": [
      "\r",
      " 75%|███████▍  | 690/924 [3:31:04<52:30, 13.47s/it]  "
     ]
    },
    {
     "name": "stdout",
     "output_type": "stream",
     "text": [
      "/Hotel_Review-g186338-d2258643-Reviews-Hoopers_Bar-London_England.html#REVIEWS Hoopers Bar B&B Reviews, London\n"
     ]
    },
    {
     "name": "stderr",
     "output_type": "stream",
     "text": [
      "\r",
      " 75%|███████▍  | 691/924 [3:31:35<1:11:52, 18.51s/it]"
     ]
    },
    {
     "name": "stdout",
     "output_type": "stream",
     "text": [
      "/Hotel_Review-g186338-d12184491-Reviews-Lodge33-London_England.html#REVIEWS Lodge33 Reviews, London\n"
     ]
    },
    {
     "name": "stderr",
     "output_type": "stream",
     "text": [
      "\r",
      " 75%|███████▍  | 692/924 [3:31:49<1:06:42, 17.25s/it]"
     ]
    },
    {
     "name": "stdout",
     "output_type": "stream",
     "text": [
      "/Hotel_Review-g186338-d6525394-Reviews-Newham_Property-London_England.html#REVIEWS Newham Property Guesthouse Reviews, London\n"
     ]
    },
    {
     "name": "stderr",
     "output_type": "stream",
     "text": [
      "\r",
      " 75%|███████▌  | 693/924 [3:32:01<1:00:54, 15.82s/it]"
     ]
    },
    {
     "name": "stdout",
     "output_type": "stream",
     "text": [
      "/Hotel_Review-g186338-d1201837-Reviews-City_YMCA2_London-London_England.html#REVIEWS City YMCA2, London Hostel Reviews\n"
     ]
    },
    {
     "name": "stderr",
     "output_type": "stream",
     "text": [
      "\r",
      " 75%|███████▌  | 694/924 [3:32:10<52:49, 13.78s/it]  "
     ]
    },
    {
     "name": "stdout",
     "output_type": "stream",
     "text": [
      "/Hotel_Review-g186338-d1197995-Reviews-Garden_Apartment_in_Wood_Green-London_England.html#REVIEWS Garden Apartment in Wood Green Reviews, London\n"
     ]
    },
    {
     "name": "stderr",
     "output_type": "stream",
     "text": [
      "\r",
      " 75%|███████▌  | 695/924 [3:32:33<1:03:00, 16.51s/it]"
     ]
    },
    {
     "name": "stdout",
     "output_type": "stream",
     "text": [
      "/Hotel_Review-g186338-d1083147-Reviews-Boru_House-London_England.html#REVIEWS Boru House B&B Reviews, London\n"
     ]
    },
    {
     "name": "stderr",
     "output_type": "stream",
     "text": [
      "\r",
      " 75%|███████▌  | 696/924 [3:32:55<1:08:59, 18.16s/it]"
     ]
    },
    {
     "name": "stdout",
     "output_type": "stream",
     "text": [
      "/Hotel_Review-g186338-d6902451-Reviews-Budget_London_Apartments-London_England.html#REVIEWS Budget London Apartments Hostel Reviews\n"
     ]
    },
    {
     "name": "stderr",
     "output_type": "stream",
     "text": [
      "\r",
      " 75%|███████▌  | 697/924 [3:33:18<1:13:21, 19.39s/it]"
     ]
    },
    {
     "name": "stdout",
     "output_type": "stream",
     "text": [
      "/Hotel_Review-g186338-d1629214-Reviews-Prestige_Coral_Platja_Elit-London_England.html#REVIEWS Prestige Coral Platja Elit Hotel Reviews, London\n"
     ]
    },
    {
     "name": "stderr",
     "output_type": "stream",
     "text": [
      "\r",
      " 76%|███████▌  | 698/924 [3:33:29<1:03:57, 16.98s/it]"
     ]
    },
    {
     "name": "stdout",
     "output_type": "stream",
     "text": [
      "/Hotel_Review-g186338-d2636453-Reviews-Bluedaws-London_England.html#REVIEWS Bluedaws B&B Reviews, London\n"
     ]
    },
    {
     "name": "stderr",
     "output_type": "stream",
     "text": [
      "\r",
      " 76%|███████▌  | 699/924 [3:33:51<1:09:29, 18.53s/it]"
     ]
    },
    {
     "name": "stdout",
     "output_type": "stream",
     "text": [
      "/Hotel_Review-g186338-d320208-Reviews-Creffield_Lodge-London_England.html#REVIEWS Creffield Lodge B&B Reviews, London\n"
     ]
    },
    {
     "name": "stderr",
     "output_type": "stream",
     "text": [
      "\r",
      " 76%|███████▌  | 700/924 [3:33:59<57:31, 15.41s/it]  "
     ]
    },
    {
     "name": "stdout",
     "output_type": "stream",
     "text": [
      "/Hotel_Review-g186338-d1726113-Reviews-Roof_Tops_B_B-London_England.html#REVIEWS Roof Tops B&B Reviews, London\n"
     ]
    },
    {
     "name": "stderr",
     "output_type": "stream",
     "text": [
      "\r",
      " 76%|███████▌  | 701/924 [3:34:16<58:28, 15.74s/it]"
     ]
    },
    {
     "name": "stdout",
     "output_type": "stream",
     "text": [
      "/Hotel_Review-g186338-d6275408-Reviews-Olympia_Bed_And_Breakfast-London_England.html#REVIEWS Olympia Bed And Breakfast Specialty B&B Reviews, London\n"
     ]
    },
    {
     "name": "stderr",
     "output_type": "stream",
     "text": [
      "\r",
      " 76%|███████▌  | 702/924 [3:34:26<52:06, 14.08s/it]"
     ]
    },
    {
     "name": "stdout",
     "output_type": "stream",
     "text": [
      "/Hotel_Review-g186338-d6373374-Reviews-MAX_Serviced_Apartments_Commercial_Road-London_England.html#REVIEWS MAX Serviced Apartments Commercial Road Reviews, London\n"
     ]
    },
    {
     "name": "stderr",
     "output_type": "stream",
     "text": [
      "\r",
      " 76%|███████▌  | 703/924 [3:34:49<1:02:03, 16.85s/it]"
     ]
    },
    {
     "name": "stdout",
     "output_type": "stream",
     "text": [
      "/Hotel_Review-g186338-d1201842-Reviews-Queen_Victoria_Hostel-London_England.html#REVIEWS Queen Victoria Hostel Reviews, London\n"
     ]
    },
    {
     "name": "stderr",
     "output_type": "stream",
     "text": [
      "\r",
      " 76%|███████▌  | 704/924 [3:35:18<1:14:16, 20.26s/it]"
     ]
    },
    {
     "name": "stdout",
     "output_type": "stream",
     "text": [
      "/Hotel_Review-g186338-d10317177-Reviews-Paddington_Guest_House-London_England.html#REVIEWS Paddington Guest House Lodge Reviews, London\n"
     ]
    },
    {
     "name": "stderr",
     "output_type": "stream",
     "text": [
      "\r",
      " 76%|███████▋  | 705/924 [3:35:43<1:20:08, 21.96s/it]"
     ]
    },
    {
     "name": "stdout",
     "output_type": "stream",
     "text": [
      "/Hotel_Review-g186338-d1592046-Reviews-MINC_Apartment_Limehouse-London_England.html#REVIEWS MINC Apartment Limehouse Reviews, London\n"
     ]
    },
    {
     "name": "stderr",
     "output_type": "stream",
     "text": [
      "\r",
      " 76%|███████▋  | 706/924 [3:36:01<1:15:23, 20.75s/it]"
     ]
    },
    {
     "name": "stdout",
     "output_type": "stream",
     "text": [
      "/Hotel_Review-g186338-d9567479-Reviews-Aldgate_East-London_England.html#REVIEWS Aldgate East Apartment Reviews, London\n"
     ]
    },
    {
     "name": "stderr",
     "output_type": "stream",
     "text": [
      "\r",
      " 77%|███████▋  | 707/924 [3:36:24<1:17:37, 21.46s/it]"
     ]
    },
    {
     "name": "stdout",
     "output_type": "stream",
     "text": [
      "/Hotel_Review-g186338-d12413440-Reviews-Charimore_Rooms-London_England.html#REVIEWS Charimore Rooms Apartment Reviews, London\n"
     ]
    },
    {
     "name": "stderr",
     "output_type": "stream",
     "text": [
      "\r",
      " 77%|███████▋  | 708/924 [3:36:53<1:24:25, 23.45s/it]"
     ]
    },
    {
     "name": "stdout",
     "output_type": "stream",
     "text": [
      "/Hotel_Review-g186338-d3793799-Reviews-Park_View_Hotel-London_England.html#REVIEWS Park View Hotel Apartment Reviews, London\n"
     ]
    },
    {
     "name": "stderr",
     "output_type": "stream",
     "text": [
      "\r",
      " 77%|███████▋  | 709/924 [3:37:22<1:30:13, 25.18s/it]"
     ]
    },
    {
     "name": "stdout",
     "output_type": "stream",
     "text": [
      "/Hotel_Review-g186338-d7335581-Reviews-City_Marque_Grosvenor_Serviced_Apartments-London_England.html#REVIEWS City Marque Grosvenor Serviced Apartments Reviews, London\n"
     ]
    },
    {
     "name": "stderr",
     "output_type": "stream",
     "text": [
      "\r",
      " 77%|███████▋  | 710/924 [3:37:36<1:18:02, 21.88s/it]"
     ]
    },
    {
     "name": "stdout",
     "output_type": "stream",
     "text": [
      "/Hotel_Review-g186338-d209173-Reviews-King_s_College_Summer_Accommodation-London_England.html#REVIEWS King's College Summer Accommodation Hostel Reviews, London\n"
     ]
    },
    {
     "name": "stderr",
     "output_type": "stream",
     "text": [
      "\r",
      " 77%|███████▋  | 711/924 [3:38:03<1:23:00, 23.38s/it]"
     ]
    },
    {
     "name": "stdout",
     "output_type": "stream",
     "text": [
      "/Hotel_Review-g186338-d10801062-Reviews-James_Lighthill_House-London_England.html#REVIEWS James Lighthill House Apartment Reviews, London\n"
     ]
    },
    {
     "name": "stderr",
     "output_type": "stream",
     "text": [
      "\r",
      " 77%|███████▋  | 712/924 [3:38:22<1:17:50, 22.03s/it]"
     ]
    },
    {
     "name": "stdout",
     "output_type": "stream",
     "text": [
      "/Hotel_Review-g186338-d17792965-Reviews-Rent_Express_Green_Lane-London_England.html#REVIEWS Rent Express Green Lane Lodging Reviews, London\n"
     ]
    },
    {
     "name": "stderr",
     "output_type": "stream",
     "text": [
      "\r",
      " 77%|███████▋  | 713/924 [3:38:52<1:26:34, 24.62s/it]"
     ]
    },
    {
     "name": "stdout",
     "output_type": "stream",
     "text": [
      "/Hotel_Review-g186338-d12536600-Reviews-Putney_Rooms-London_England.html#REVIEWS Putney Rooms Lodge Reviews, London\n"
     ]
    },
    {
     "name": "stderr",
     "output_type": "stream",
     "text": [
      "\r",
      " 77%|███████▋  | 714/924 [3:39:01<1:09:32, 19.87s/it]"
     ]
    },
    {
     "name": "stdout",
     "output_type": "stream",
     "text": [
      "/Hotel_Review-g186338-d16646902-Reviews-Leyton_Rooms-London_England.html#REVIEWS Leyton Rooms Lodging Reviews, London\n"
     ]
    },
    {
     "name": "stderr",
     "output_type": "stream",
     "text": [
      "\r",
      " 77%|███████▋  | 715/924 [3:39:19<1:07:07, 19.27s/it]"
     ]
    },
    {
     "name": "stdout",
     "output_type": "stream",
     "text": [
      "/Hotel_Review-g186338-d308972-Reviews-66_Camden_Square-London_England.html#REVIEWS 66 Camden Square B&B Reviews, London\n"
     ]
    },
    {
     "name": "stderr",
     "output_type": "stream",
     "text": [
      "\r",
      " 77%|███████▋  | 716/924 [3:39:30<58:05, 16.76s/it]  "
     ]
    },
    {
     "name": "stdout",
     "output_type": "stream",
     "text": [
      "/Hotel_Review-g186338-d8733294-Reviews-The_Old_Bakery-London_England.html#REVIEWS The Old Bakery Guesthouse Reviews, London\n"
     ]
    },
    {
     "name": "stderr",
     "output_type": "stream",
     "text": [
      "\r",
      " 78%|███████▊  | 717/924 [3:40:00<1:11:23, 20.69s/it]"
     ]
    },
    {
     "name": "stdout",
     "output_type": "stream",
     "text": [
      "/Hotel_Review-g186338-d2509677-Reviews-Jawaher_Hotel_Apartments-London_England.html#REVIEWS Jawaher Hotel Apartments Reviews, London\n"
     ]
    },
    {
     "name": "stderr",
     "output_type": "stream",
     "text": [
      "\r",
      " 78%|███████▊  | 718/924 [3:40:27<1:17:56, 22.70s/it]"
     ]
    },
    {
     "name": "stdout",
     "output_type": "stream",
     "text": [
      "/Hotel_Review-g186338-d12500833-Reviews-Kensal_House_Portobello_London-London_England.html#REVIEWS Kensal House Portobello London Specialty B&B Reviews\n"
     ]
    },
    {
     "name": "stderr",
     "output_type": "stream",
     "text": [
      "\r",
      " 78%|███████▊  | 719/924 [3:40:34<1:00:49, 17.80s/it]"
     ]
    },
    {
     "name": "stdout",
     "output_type": "stream",
     "text": [
      "/Hotel_Review-g186338-d2097870-Reviews-Mare_Moto-London_England.html#REVIEWS Mare Moto Hotel Reviews, London\n"
     ]
    },
    {
     "name": "stderr",
     "output_type": "stream",
     "text": [
      "\r",
      " 78%|███████▊  | 720/924 [3:40:50<58:38, 17.25s/it]  "
     ]
    },
    {
     "name": "stdout",
     "output_type": "stream",
     "text": [
      "/Hotel_Review-g186338-d10226229-Reviews-Alexander_house-London_England.html#REVIEWS Alexander house Guesthouse Reviews, London\n"
     ]
    },
    {
     "name": "stderr",
     "output_type": "stream",
     "text": [
      "\r",
      " 78%|███████▊  | 721/924 [3:41:07<59:01, 17.45s/it]"
     ]
    },
    {
     "name": "stdout",
     "output_type": "stream",
     "text": [
      "/Hotel_Review-g186338-d12063630-Reviews-St_Christopher_s_Inn-London_England.html#REVIEWS St Christopher's Inn Hostel Reviews, London\n"
     ]
    },
    {
     "name": "stderr",
     "output_type": "stream",
     "text": [
      "\r",
      " 78%|███████▊  | 722/924 [3:41:38<1:11:42, 21.30s/it]"
     ]
    },
    {
     "name": "stdout",
     "output_type": "stream",
     "text": [
      "/Hotel_Review-g186338-d262411-Reviews-Sandaman_Allan_Hotel-London_England.html#REVIEWS Sandaman Allan Hotel Hostel Reviews, London\n"
     ]
    },
    {
     "name": "stderr",
     "output_type": "stream",
     "text": [
      "\r",
      " 78%|███████▊  | 723/924 [3:42:06<1:18:29, 23.43s/it]"
     ]
    },
    {
     "name": "stdout",
     "output_type": "stream",
     "text": [
      "/Hotel_Review-g186338-d17758455-Reviews-Clarendon_Burleigh_Mansions-London_England.html#REVIEWS Clarendon Burleigh Mansions Lodging Reviews, London\n"
     ]
    },
    {
     "name": "stderr",
     "output_type": "stream",
     "text": [
      "\r",
      " 78%|███████▊  | 724/924 [3:42:32<1:20:50, 24.25s/it]"
     ]
    },
    {
     "name": "stdout",
     "output_type": "stream",
     "text": [
      "/Hotel_Review-g186338-d18826054-Reviews-Portobello_Gold-London_England.html#REVIEWS Portobello Gold B&B Reviews, London\n"
     ]
    },
    {
     "name": "stderr",
     "output_type": "stream",
     "text": [
      "\r",
      " 78%|███████▊  | 725/924 [3:42:41<1:04:40, 19.50s/it]"
     ]
    },
    {
     "name": "stdout",
     "output_type": "stream",
     "text": [
      "/Hotel_Review-g186338-d6867439-Reviews-SACO_London_Bridge_SE1-London_England.html#REVIEWS SACO London Bridge - SE1 Apartment Reviews\n"
     ]
    },
    {
     "name": "stderr",
     "output_type": "stream",
     "text": [
      "\r",
      " 79%|███████▊  | 726/924 [3:43:06<1:09:46, 21.14s/it]"
     ]
    },
    {
     "name": "stdout",
     "output_type": "stream",
     "text": [
      "/Hotel_Review-g186338-d15783273-Reviews-The_Cleveland_Arms-London_England.html#REVIEWS The Cleveland Arms Guesthouse Reviews, London\n"
     ]
    },
    {
     "name": "stderr",
     "output_type": "stream",
     "text": [
      "\r",
      " 79%|███████▊  | 727/924 [3:43:18<1:00:31, 18.44s/it]"
     ]
    },
    {
     "name": "stdout",
     "output_type": "stream",
     "text": [
      "/Hotel_Review-g186338-d3254973-Reviews-Malvern_Road_Rooms_to_Let-London_England.html#REVIEWS Malvern Road Rooms to Let Hostel Reviews, London\n"
     ]
    },
    {
     "name": "stderr",
     "output_type": "stream",
     "text": [
      "\r",
      " 79%|███████▉  | 728/924 [3:43:32<55:40, 17.04s/it]  "
     ]
    },
    {
     "name": "stdout",
     "output_type": "stream",
     "text": [
      "/Hotel_Review-g186338-d7332060-Reviews-SACO_London_Bridge_Bermondsey-London_England.html#REVIEWS SACO London Bridge - Bermondsey Apartment Reviews\n"
     ]
    },
    {
     "name": "stderr",
     "output_type": "stream",
     "text": [
      "\r",
      " 79%|███████▉  | 729/924 [3:44:01<1:07:49, 20.87s/it]"
     ]
    },
    {
     "name": "stdout",
     "output_type": "stream",
     "text": [
      "/Hotel_Review-g186338-d11444969-Reviews-Rooms_on_Regent_s_Park-London_England.html#REVIEWS Rooms on Regent's Park Apartment Reviews, London\n"
     ]
    },
    {
     "name": "stderr",
     "output_type": "stream",
     "text": [
      "\r",
      " 79%|███████▉  | 730/924 [3:44:15<1:00:08, 18.60s/it]"
     ]
    },
    {
     "name": "stdout",
     "output_type": "stream",
     "text": [
      "/Hotel_Review-g186338-d3246603-Reviews-SH_London_Excel-London_England.html#REVIEWS SH London - Excel Hostel Reviews\n"
     ]
    },
    {
     "name": "stderr",
     "output_type": "stream",
     "text": [
      "\r",
      " 79%|███████▉  | 731/924 [3:44:32<58:08, 18.07s/it]  "
     ]
    },
    {
     "name": "stdout",
     "output_type": "stream",
     "text": [
      "/Hotel_Review-g186338-d2615062-Reviews-Yamor_Suites-London_England.html#REVIEWS Yamor Suites Lodge Reviews, London\n"
     ]
    },
    {
     "name": "stderr",
     "output_type": "stream",
     "text": [
      "\r",
      " 79%|███████▉  | 732/924 [3:44:39<47:11, 14.75s/it]"
     ]
    },
    {
     "name": "stdout",
     "output_type": "stream",
     "text": [
      "/Hotel_Review-g186338-d13290790-Reviews-House_of_Kipp_Apartments-London_England.html#REVIEWS House of Kipp Apartments Reviews, London\n"
     ]
    },
    {
     "name": "stderr",
     "output_type": "stream",
     "text": [
      "\r",
      " 79%|███████▉  | 733/924 [3:44:51<44:38, 14.03s/it]"
     ]
    },
    {
     "name": "stdout",
     "output_type": "stream",
     "text": [
      "/Hotel_Review-g186338-d1766509-Reviews-UK_Orange_House-London_England.html#REVIEWS UK Orange House Hostel Reviews, London\n"
     ]
    },
    {
     "name": "stderr",
     "output_type": "stream",
     "text": [
      "\r",
      " 79%|███████▉  | 734/924 [3:45:13<52:09, 16.47s/it]"
     ]
    },
    {
     "name": "stdout",
     "output_type": "stream",
     "text": [
      "/Hotel_Review-g186338-d3361447-Reviews-Nell_Gwynne_s_House-London_England.html#REVIEWS Nell Gwynne's House B&B Reviews, London\n"
     ]
    },
    {
     "name": "stderr",
     "output_type": "stream",
     "text": [
      "\r",
      " 80%|███████▉  | 735/924 [3:45:23<46:00, 14.60s/it]"
     ]
    },
    {
     "name": "stdout",
     "output_type": "stream",
     "text": [
      "/Hotel_Review-g186338-d5483167-Reviews-The_Albion-London_England.html#REVIEWS The Albion Hostel Reviews, London\n"
     ]
    },
    {
     "name": "stderr",
     "output_type": "stream",
     "text": [
      "\r",
      " 80%|███████▉  | 736/924 [3:45:41<48:20, 15.43s/it]"
     ]
    },
    {
     "name": "stdout",
     "output_type": "stream",
     "text": [
      "/Hotel_Review-g186338-d21305407-Reviews-The_Residence_at_Hoxton-London_England.html#REVIEWS The Residence at Hoxton Lodging Reviews, London\n"
     ]
    },
    {
     "name": "stderr",
     "output_type": "stream",
     "text": [
      "\r",
      " 80%|███████▉  | 737/924 [3:46:01<52:37, 16.89s/it]"
     ]
    },
    {
     "name": "stdout",
     "output_type": "stream",
     "text": [
      "/Hotel_Review-g186338-d7334279-Reviews-City_Marque_Kensington_Serviced_Apartments-London_England.html#REVIEWS City Marque Kensington Serviced Apartments Reviews, London\n"
     ]
    },
    {
     "name": "stderr",
     "output_type": "stream",
     "text": [
      "\r",
      " 80%|███████▉  | 738/924 [3:46:09<44:15, 14.27s/it]"
     ]
    },
    {
     "name": "stdout",
     "output_type": "stream",
     "text": [
      "/Hotel_Review-g186338-d3673903-Reviews-Libertas_Suites-London_England.html#REVIEWS Libertas Suites Apartment Reviews, London\n"
     ]
    },
    {
     "name": "stderr",
     "output_type": "stream",
     "text": [
      "\r",
      " 80%|███████▉  | 739/924 [3:46:34<54:12, 17.58s/it]"
     ]
    },
    {
     "name": "stdout",
     "output_type": "stream",
     "text": [
      "/Hotel_Review-g186338-d15655044-Reviews-Apartments_Bell_Street-London_England.html#REVIEWS Apartments Bell Street Reviews, London\n"
     ]
    },
    {
     "name": "stderr",
     "output_type": "stream",
     "text": [
      "\r",
      " 80%|████████  | 740/924 [3:47:05<1:05:37, 21.40s/it]"
     ]
    },
    {
     "name": "stdout",
     "output_type": "stream",
     "text": [
      "/Hotel_Review-g186338-d10818535-Reviews-The_Green_Man_Hostel_Pub_Love_Paddington-London_England.html#REVIEWS The Green Man Hostel Pub Love Paddington Reviews, London\n"
     ]
    },
    {
     "name": "stderr",
     "output_type": "stream",
     "text": [
      "\r",
      " 80%|████████  | 741/924 [3:47:24<1:03:44, 20.90s/it]"
     ]
    },
    {
     "name": "stdout",
     "output_type": "stream",
     "text": [
      "/Hotel_Review-g186338-d17784517-Reviews-Uncle_Easy_s_Bed_Breakfast-London_England.html#REVIEWS Uncle Easy's Bed & Breakfast Specialty B&B Reviews, London\n"
     ]
    },
    {
     "name": "stderr",
     "output_type": "stream",
     "text": [
      "\r",
      " 80%|████████  | 742/924 [3:47:53<1:10:38, 23.29s/it]"
     ]
    },
    {
     "name": "stdout",
     "output_type": "stream",
     "text": [
      "/Hotel_Review-g186338-d4086734-Reviews-Carlton_House-London_England.html#REVIEWS Carlton House Guesthouse Reviews, London\n"
     ]
    },
    {
     "name": "stderr",
     "output_type": "stream",
     "text": [
      "\r",
      " 80%|████████  | 743/924 [3:48:15<1:08:59, 22.87s/it]"
     ]
    },
    {
     "name": "stdout",
     "output_type": "stream",
     "text": [
      "/Hotel_Review-g186338-d309060-Reviews-26_Hillgate_Place-London_England.html#REVIEWS 26 Hillgate Place B&B Reviews, London\n"
     ]
    },
    {
     "name": "stderr",
     "output_type": "stream",
     "text": [
      "\r",
      " 81%|████████  | 744/924 [3:48:44<1:14:15, 24.75s/it]"
     ]
    },
    {
     "name": "stdout",
     "output_type": "stream",
     "text": [
      "/Hotel_Review-g186338-d15736077-Reviews-Tower_Bridge_Apartments-London_England.html#REVIEWS Tower Bridge Apartments Lodging Reviews, London\n"
     ]
    },
    {
     "name": "stderr",
     "output_type": "stream",
     "text": [
      "\r",
      " 81%|████████  | 745/924 [3:49:08<1:12:30, 24.30s/it]"
     ]
    },
    {
     "name": "stdout",
     "output_type": "stream",
     "text": [
      "/Hotel_Review-g186338-d1395183-Reviews-Carena_Holiday_Apartments-London_England.html#REVIEWS Carena Holiday Apartments Reviews, London\n"
     ]
    },
    {
     "name": "stderr",
     "output_type": "stream",
     "text": [
      "\r",
      " 81%|████████  | 746/924 [3:49:28<1:08:30, 23.10s/it]"
     ]
    },
    {
     "name": "stdout",
     "output_type": "stream",
     "text": [
      "/Hotel_Review-g186338-d1489162-Reviews-Barnes_Bed_and_Breakfast-London_England.html#REVIEWS Barnes Bed and Breakfast Reviews, London\n"
     ]
    },
    {
     "name": "stderr",
     "output_type": "stream",
     "text": [
      "\r",
      " 81%|████████  | 747/924 [3:49:41<59:30, 20.17s/it]  "
     ]
    },
    {
     "name": "stdout",
     "output_type": "stream",
     "text": [
      "/Hotel_Review-g186338-d2645534-Reviews-Hare_Hounds_Campsite-London_England.html#REVIEWS Hare & Hounds Campsite Reviews, London\n"
     ]
    },
    {
     "name": "stderr",
     "output_type": "stream",
     "text": [
      "\r",
      " 81%|████████  | 748/924 [3:50:05<1:01:53, 21.10s/it]"
     ]
    },
    {
     "name": "stdout",
     "output_type": "stream",
     "text": [
      "/Hotel_Review-g186338-d12679583-Reviews-W12_Studios_Rooms-London_England.html#REVIEWS W12 Studios & Rooms Specialty Inn Reviews, London\n"
     ]
    },
    {
     "name": "stderr",
     "output_type": "stream",
     "text": [
      "\r",
      " 81%|████████  | 749/924 [3:50:16<53:30, 18.35s/it]  "
     ]
    },
    {
     "name": "stdout",
     "output_type": "stream",
     "text": [
      "/Hotel_Review-g186338-d7899594-Reviews-My_Apartments_Piccadilly_Circus-London_England.html#REVIEWS My Apartments Piccadilly Circus Reviews, London\n"
     ]
    },
    {
     "name": "stderr",
     "output_type": "stream",
     "text": [
      "\r",
      " 81%|████████  | 750/924 [3:50:47<1:04:11, 22.13s/it]"
     ]
    },
    {
     "name": "stdout",
     "output_type": "stream",
     "text": [
      "/Hotel_Review-g186338-d1379424-Reviews-Grand_Palace_Hotels-London_England.html#REVIEWS Grand Palace Hotels Reviews, London\n"
     ]
    },
    {
     "name": "stderr",
     "output_type": "stream",
     "text": [
      "\r",
      " 81%|████████▏ | 751/924 [3:51:11<1:04:53, 22.51s/it]"
     ]
    },
    {
     "name": "stdout",
     "output_type": "stream",
     "text": [
      "/Hotel_Review-g186338-d10174876-Reviews-Maygrove_Apartments-London_England.html#REVIEWS Maygrove Apartments Reviews, London\n"
     ]
    },
    {
     "name": "stderr",
     "output_type": "stream",
     "text": [
      "\r",
      " 81%|████████▏ | 752/924 [3:51:33<1:04:04, 22.35s/it]"
     ]
    },
    {
     "name": "stdout",
     "output_type": "stream",
     "text": [
      "/Hotel_Review-g186338-d3218457-Reviews-Brondesbury_Apartments-London_England.html#REVIEWS Brondesbury Apartments Reviews, London\n"
     ]
    },
    {
     "name": "stderr",
     "output_type": "stream",
     "text": [
      "\r",
      " 81%|████████▏ | 753/924 [3:51:59<1:07:08, 23.56s/it]"
     ]
    },
    {
     "name": "stdout",
     "output_type": "stream",
     "text": [
      "/Hotel_Review-g186338-d8500694-Reviews-Balfern_B_B-London_England.html#REVIEWS Balfern B&B Pension Reviews, London\n"
     ]
    },
    {
     "name": "stderr",
     "output_type": "stream",
     "text": [
      "\r",
      " 82%|████████▏ | 754/924 [3:52:05<52:06, 18.39s/it]  "
     ]
    },
    {
     "name": "stdout",
     "output_type": "stream",
     "text": [
      "/Hotel_Review-g186338-d1572555-Reviews-Clarendon_Serviced_Apartments_Steward_Street-London_England.html#REVIEWS Clarendon Serviced Apartments - Steward Street Lodge Reviews, London\n"
     ]
    },
    {
     "name": "stderr",
     "output_type": "stream",
     "text": [
      "\r",
      " 82%|████████▏ | 755/924 [3:52:21<48:58, 17.39s/it]"
     ]
    },
    {
     "name": "stdout",
     "output_type": "stream",
     "text": [
      "/Hotel_Review-g186338-d7646649-Reviews-Manor_House_Hotel-London_England.html#REVIEWS Manor House Hotel Reviews, London\n"
     ]
    },
    {
     "name": "stderr",
     "output_type": "stream",
     "text": [
      "\r",
      " 82%|████████▏ | 756/924 [3:52:34<45:34, 16.28s/it]"
     ]
    },
    {
     "name": "stdout",
     "output_type": "stream",
     "text": [
      "/Hotel_Review-g186338-d1462689-Reviews-77_St_Gabriels_Road-London_England.html#REVIEWS 77 St Gabriels Road B&B Reviews, London\n"
     ]
    },
    {
     "name": "stderr",
     "output_type": "stream",
     "text": [
      "\r",
      " 82%|████████▏ | 757/924 [3:52:55<49:29, 17.78s/it]"
     ]
    },
    {
     "name": "stdout",
     "output_type": "stream",
     "text": [
      "/Hotel_Review-g186338-d17351811-Reviews-Osbourne_House-London_England.html#REVIEWS Osbourne House Lodging Reviews, London\n"
     ]
    },
    {
     "name": "stderr",
     "output_type": "stream",
     "text": [
      "\r",
      " 82%|████████▏ | 758/924 [3:53:15<50:58, 18.42s/it]"
     ]
    },
    {
     "name": "stdout",
     "output_type": "stream",
     "text": [
      "/Hotel_Review-g186338-d15647223-Reviews-King_s_Cross_Studio_Flats-London_England.html#REVIEWS King's Cross Studio Flats Lodging Reviews, London\n"
     ]
    },
    {
     "name": "stderr",
     "output_type": "stream",
     "text": [
      "\r",
      " 82%|████████▏ | 759/924 [3:53:26<44:28, 16.18s/it]"
     ]
    },
    {
     "name": "stdout",
     "output_type": "stream",
     "text": [
      "/Hotel_Review-g186338-d2281248-Reviews-Camden_Lock_Apartments-London_England.html#REVIEWS Camden Lock Apartments Reviews, London\n"
     ]
    },
    {
     "name": "stderr",
     "output_type": "stream",
     "text": [
      "\r",
      " 82%|████████▏ | 760/924 [3:53:50<50:31, 18.49s/it]"
     ]
    },
    {
     "name": "stdout",
     "output_type": "stream",
     "text": [
      "/Hotel_Review-g186338-d15661244-Reviews-London_City_Apartments-London_England.html#REVIEWS London City Apartments Lodging Reviews\n"
     ]
    },
    {
     "name": "stderr",
     "output_type": "stream",
     "text": [
      "\r",
      " 82%|████████▏ | 761/924 [3:53:59<42:35, 15.68s/it]"
     ]
    },
    {
     "name": "stdout",
     "output_type": "stream",
     "text": [
      "/Hotel_Review-g186338-d15279446-Reviews-East_london_Views_and_Light_Breakfast-London_England.html#REVIEWS East london Views and Light Breakfast Specialty Inn Reviews\n"
     ]
    },
    {
     "name": "stderr",
     "output_type": "stream",
     "text": [
      "\r",
      " 82%|████████▏ | 762/924 [3:54:26<50:56, 18.87s/it]"
     ]
    },
    {
     "name": "stdout",
     "output_type": "stream",
     "text": [
      "/Hotel_Review-g186338-d5888465-Reviews-St_James_Serviced_Apartments-London_England.html#REVIEWS St James Serviced Apartments Reviews, London\n"
     ]
    },
    {
     "name": "stderr",
     "output_type": "stream",
     "text": [
      "\r",
      " 83%|████████▎ | 763/924 [3:54:41<47:40, 17.77s/it]"
     ]
    },
    {
     "name": "stdout",
     "output_type": "stream",
     "text": [
      "/Hotel_Review-g186338-d2277039-Reviews-IES_Student_Residence_Hall-London_England.html#REVIEWS IES Student Residence Hall Hostel Reviews, London\n"
     ]
    },
    {
     "name": "stderr",
     "output_type": "stream",
     "text": [
      "\r",
      " 83%|████████▎ | 764/924 [3:55:06<53:30, 20.07s/it]"
     ]
    },
    {
     "name": "stdout",
     "output_type": "stream",
     "text": [
      "/Hotel_Review-g186338-d10694776-Reviews-Stay_Inn_London_Kilburn-London_England.html#REVIEWS Stay Inn London - Kilburn Specialty Inn Reviews\n"
     ]
    },
    {
     "name": "stderr",
     "output_type": "stream",
     "text": [
      "\r",
      " 83%|████████▎ | 765/924 [3:55:31<56:30, 21.32s/it]"
     ]
    },
    {
     "name": "stdout",
     "output_type": "stream",
     "text": [
      "/Hotel_Review-g186338-d309098-Reviews-University_College_London_Campbell_House-London_England.html#REVIEWS University College London - Campbell House Hostel Reviews\n"
     ]
    },
    {
     "name": "stderr",
     "output_type": "stream",
     "text": [
      "\r",
      " 83%|████████▎ | 766/924 [3:55:45<50:22, 19.13s/it]"
     ]
    },
    {
     "name": "stdout",
     "output_type": "stream",
     "text": [
      "/Hotel_Review-g186338-d13140169-Reviews-The_Old_Bakery-London_England.html#REVIEWS The Old Bakery Apartment Reviews, London\n"
     ]
    },
    {
     "name": "stderr",
     "output_type": "stream",
     "text": [
      "\r",
      " 83%|████████▎ | 767/924 [3:55:52<41:15, 15.77s/it]"
     ]
    },
    {
     "name": "stdout",
     "output_type": "stream",
     "text": [
      "/Hotel_Review-g186338-d6476289-Reviews-Kekko_House_Mayfair-London_England.html#REVIEWS Kekko House Mayfair Hostel Reviews, London\n"
     ]
    },
    {
     "name": "stderr",
     "output_type": "stream",
     "text": [
      "\r",
      " 83%|████████▎ | 768/924 [3:56:23<52:45, 20.29s/it]"
     ]
    },
    {
     "name": "stdout",
     "output_type": "stream",
     "text": [
      "/Hotel_Review-g186338-d240245-Reviews-Four_Seasons_Hotel-London_England.html#REVIEWS Four Seasons Hotel Reviews, London\n"
     ]
    },
    {
     "name": "stderr",
     "output_type": "stream",
     "text": [
      "\r",
      " 83%|████████▎ | 769/924 [3:56:42<51:09, 19.80s/it]"
     ]
    },
    {
     "name": "stdout",
     "output_type": "stream",
     "text": [
      "/Hotel_Review-g186338-d3643268-Reviews-London_Guest_House-London_England.html#REVIEWS London Guest House Reviews\n"
     ]
    },
    {
     "name": "stderr",
     "output_type": "stream",
     "text": [
      "\r",
      " 83%|████████▎ | 770/924 [3:57:05<53:37, 20.89s/it]"
     ]
    },
    {
     "name": "stdout",
     "output_type": "stream",
     "text": [
      "/Hotel_Review-g186338-d1132905-Reviews-Homestead-London_England.html#REVIEWS Homestead Guesthouse Reviews, London\n"
     ]
    },
    {
     "name": "stderr",
     "output_type": "stream",
     "text": [
      "\r",
      " 83%|████████▎ | 771/924 [3:57:27<53:29, 20.98s/it]"
     ]
    },
    {
     "name": "stdout",
     "output_type": "stream",
     "text": [
      "/Hotel_Review-g186338-d2628119-Reviews-Guest_Room_London-London_England.html#REVIEWS Guest Room London Specialty Inn Reviews\n"
     ]
    },
    {
     "name": "stderr",
     "output_type": "stream",
     "text": [
      "\r",
      " 84%|████████▎ | 772/924 [3:57:55<58:40, 23.16s/it]"
     ]
    },
    {
     "name": "stdout",
     "output_type": "stream",
     "text": [
      "/Hotel_Review-g186338-d12828600-Reviews-Jacobson_s_Court-London_England.html#REVIEWS Jacobson's Court Lodge Reviews, London\n"
     ]
    },
    {
     "name": "stderr",
     "output_type": "stream",
     "text": [
      "\r",
      " 84%|████████▎ | 773/924 [3:58:19<59:19, 23.57s/it]"
     ]
    },
    {
     "name": "stdout",
     "output_type": "stream",
     "text": [
      "/Hotel_Review-g186338-d12280716-Reviews-Lanzarote_leisure_villas-London_England.html#REVIEWS Lanzarote leisure villas Reviews, London\n"
     ]
    },
    {
     "name": "stderr",
     "output_type": "stream",
     "text": [
      "\r",
      " 84%|████████▍ | 774/924 [3:58:30<48:51, 19.55s/it]"
     ]
    },
    {
     "name": "stdout",
     "output_type": "stream",
     "text": [
      "/Hotel_Review-g186338-d1892208-Reviews-Mr_Lawrence_s_Apartments-London_England.html#REVIEWS Mr. Lawrence's Apartments Reviews, London\n"
     ]
    },
    {
     "name": "stderr",
     "output_type": "stream",
     "text": [
      "\r",
      " 84%|████████▍ | 775/924 [3:59:00<56:22, 22.70s/it]"
     ]
    },
    {
     "name": "stdout",
     "output_type": "stream",
     "text": [
      "/Hotel_Review-g186338-d309417-Reviews-8_Parthenia_Road-London_England.html#REVIEWS 8 Parthenia Road B&B Reviews, London\n"
     ]
    },
    {
     "name": "stderr",
     "output_type": "stream",
     "text": [
      "\r",
      " 84%|████████▍ | 776/924 [3:59:15<50:17, 20.39s/it]"
     ]
    },
    {
     "name": "stdout",
     "output_type": "stream",
     "text": [
      "/Hotel_Review-g186338-d1014815-Reviews-House_of_Weardowney_Guesthouse-London_England.html#REVIEWS House of Weardowney Guesthouse Reviews, London\n"
     ]
    },
    {
     "name": "stderr",
     "output_type": "stream",
     "text": [
      "\r",
      " 84%|████████▍ | 777/924 [3:59:35<49:50, 20.35s/it]"
     ]
    },
    {
     "name": "stdout",
     "output_type": "stream",
     "text": [
      "/Hotel_Review-g186338-d15521549-Reviews-Cabot_Inn-London_England.html#REVIEWS Cabot Inn Guesthouse Reviews, London\n"
     ]
    },
    {
     "name": "stderr",
     "output_type": "stream",
     "text": [
      "\r",
      " 84%|████████▍ | 778/924 [3:59:51<46:28, 19.10s/it]"
     ]
    },
    {
     "name": "stdout",
     "output_type": "stream",
     "text": [
      "/Hotel_Review-g186338-d3223031-Reviews-Indurrah_Apartment-London_England.html#REVIEWS Indurrah Apartment Reviews, London\n"
     ]
    },
    {
     "name": "stderr",
     "output_type": "stream",
     "text": [
      "\r",
      " 84%|████████▍ | 779/924 [4:00:02<40:30, 16.76s/it]"
     ]
    },
    {
     "name": "stdout",
     "output_type": "stream",
     "text": [
      "/Hotel_Review-g186338-d12877821-Reviews-Devonshire_House-London_England.html#REVIEWS Devonshire House Specialty Inn Reviews, London\n"
     ]
    },
    {
     "name": "stderr",
     "output_type": "stream",
     "text": [
      "\r",
      " 84%|████████▍ | 780/924 [4:00:18<39:11, 16.33s/it]"
     ]
    },
    {
     "name": "stdout",
     "output_type": "stream",
     "text": [
      "/Hotel_Review-g186338-d10507274-Reviews-Mile_End_Road-London_England.html#REVIEWS Mile End Road Lodge Reviews, London\n"
     ]
    },
    {
     "name": "stderr",
     "output_type": "stream",
     "text": [
      "\r",
      " 85%|████████▍ | 781/924 [4:00:35<39:40, 16.65s/it]"
     ]
    },
    {
     "name": "stdout",
     "output_type": "stream",
     "text": [
      "/Hotel_Review-g186338-d17189245-Reviews-Siems_Serviced_Apartment_in_Docklands-London_England.html#REVIEWS Siems Serviced Apartment in Docklands Reviews, London\n"
     ]
    },
    {
     "name": "stderr",
     "output_type": "stream",
     "text": [
      "\r",
      " 85%|████████▍ | 782/924 [4:00:41<32:07, 13.58s/it]"
     ]
    },
    {
     "name": "stdout",
     "output_type": "stream",
     "text": [
      "/Hotel_Review-g186338-d9989995-Reviews-London_Boutique_Apartments_Stratford-London_England.html#REVIEWS London Boutique Apartments - Stratford Reviews\n"
     ]
    },
    {
     "name": "stderr",
     "output_type": "stream",
     "text": [
      "\r",
      " 85%|████████▍ | 783/924 [4:01:02<36:41, 15.61s/it]"
     ]
    },
    {
     "name": "stdout",
     "output_type": "stream",
     "text": [
      "/Hotel_Review-g186338-d12448686-Reviews-Pure_CityStay_City-London_England.html#REVIEWS Pure CityStay City Specialty Inn Reviews, London\n"
     ]
    },
    {
     "name": "stderr",
     "output_type": "stream",
     "text": [
      "\r",
      " 85%|████████▍ | 784/924 [4:01:32<46:32, 19.95s/it]"
     ]
    },
    {
     "name": "stdout",
     "output_type": "stream",
     "text": [
      "/Hotel_Review-g186338-d1875938-Reviews-Portland_Brown_Lambs_Passage-London_England.html#REVIEWS Portland Brown | Lambs Passage Apartment Reviews, London\n"
     ]
    },
    {
     "name": "stderr",
     "output_type": "stream",
     "text": [
      "\r",
      " 85%|████████▍ | 785/924 [4:01:38<36:55, 15.94s/it]"
     ]
    },
    {
     "name": "stdout",
     "output_type": "stream",
     "text": [
      "/Hotel_Review-g186338-d3200318-Reviews-Orchard_House-London_England.html#REVIEWS Orchard House Hostel Reviews, London\n"
     ]
    },
    {
     "name": "stderr",
     "output_type": "stream",
     "text": [
      "\r",
      " 85%|████████▌ | 786/924 [4:01:54<36:12, 15.74s/it]"
     ]
    },
    {
     "name": "stdout",
     "output_type": "stream",
     "text": [
      "/Hotel_Review-g186338-d8039880-Reviews-JM_House-London_England.html#REVIEWS JM House Guesthouse Reviews, London\n"
     ]
    },
    {
     "name": "stderr",
     "output_type": "stream",
     "text": [
      "\r",
      " 85%|████████▌ | 787/924 [4:02:10<36:21, 15.92s/it]"
     ]
    },
    {
     "name": "stdout",
     "output_type": "stream",
     "text": [
      "/Hotel_Review-g186338-d1068242-Reviews-Adamotel-London_England.html#REVIEWS Adamotel Hostel Reviews, London\n"
     ]
    },
    {
     "name": "stderr",
     "output_type": "stream",
     "text": [
      "\r",
      " 85%|████████▌ | 788/924 [4:02:38<44:15, 19.53s/it]"
     ]
    },
    {
     "name": "stdout",
     "output_type": "stream",
     "text": [
      "/Hotel_Review-g186338-d1755778-Reviews-The_Weathervane_House-London_England.html#REVIEWS The Weathervane House Guesthouse Reviews, London\n"
     ]
    },
    {
     "name": "stderr",
     "output_type": "stream",
     "text": [
      "\r",
      " 85%|████████▌ | 789/924 [4:03:09<51:44, 23.00s/it]"
     ]
    },
    {
     "name": "stdout",
     "output_type": "stream",
     "text": [
      "/Hotel_Review-g186338-d1161951-Reviews-Elektron_Apartments-London_England.html#REVIEWS Elektron Apartments Reviews, London\n"
     ]
    },
    {
     "name": "stderr",
     "output_type": "stream",
     "text": [
      "\r",
      " 85%|████████▌ | 790/924 [4:03:39<56:17, 25.21s/it]"
     ]
    },
    {
     "name": "stdout",
     "output_type": "stream",
     "text": [
      "/Hotel_Review-g186338-d309402-Reviews-8_Macaulay_Road-London_England.html#REVIEWS 8 Macaulay Road B&B Reviews, London\n"
     ]
    },
    {
     "name": "stderr",
     "output_type": "stream",
     "text": [
      "\r",
      " 86%|████████▌ | 791/924 [4:04:11<59:53, 27.02s/it]"
     ]
    },
    {
     "name": "stdout",
     "output_type": "stream",
     "text": [
      "/Hotel_Review-g186338-d7292500-Reviews-Wykeham_House_Bed_and_Breakfast-London_England.html#REVIEWS Wykeham House Bed and Breakfast Reviews, London\n"
     ]
    },
    {
     "name": "stderr",
     "output_type": "stream",
     "text": [
      "\r",
      " 86%|████████▌ | 792/924 [4:04:22<48:46, 22.17s/it]"
     ]
    },
    {
     "name": "stdout",
     "output_type": "stream",
     "text": [
      "/Hotel_Review-g186338-d6686123-Reviews-Hampstead_Residence_King_s_College_London-London_England.html#REVIEWS Hampstead Residence - King's College London Hostel Reviews\n"
     ]
    },
    {
     "name": "stderr",
     "output_type": "stream",
     "text": [
      "\r",
      " 86%|████████▌ | 793/924 [4:04:40<45:55, 21.03s/it]"
     ]
    },
    {
     "name": "stdout",
     "output_type": "stream",
     "text": [
      "/Hotel_Review-g186338-d15324319-Reviews-Brick_Lane_Rooms_Ajax-London_England.html#REVIEWS Brick Lane Rooms - Ajax Lodging Reviews, London\n"
     ]
    },
    {
     "name": "stderr",
     "output_type": "stream",
     "text": [
      "\r",
      " 86%|████████▌ | 794/924 [4:04:58<43:23, 20.03s/it]"
     ]
    },
    {
     "name": "stdout",
     "output_type": "stream",
     "text": [
      "/Hotel_Review-g186338-d3631923-Reviews-Churchill_House_Residence-London_England.html#REVIEWS Churchill House Residence Apartment Reviews, London\n"
     ]
    },
    {
     "name": "stderr",
     "output_type": "stream",
     "text": [
      "\r",
      " 86%|████████▌ | 795/924 [4:05:27<49:22, 22.96s/it]"
     ]
    },
    {
     "name": "stdout",
     "output_type": "stream",
     "text": [
      "/Hotel_Review-g186338-d209172-Reviews-ISH_International_Students_House-London_England.html#REVIEWS ISH International Students House Hostel Reviews, London\n"
     ]
    },
    {
     "name": "stderr",
     "output_type": "stream",
     "text": [
      "\r",
      " 86%|████████▌ | 796/924 [4:05:45<45:47, 21.47s/it]"
     ]
    },
    {
     "name": "stdout",
     "output_type": "stream",
     "text": [
      "/Hotel_Review-g186338-d9828606-Reviews-Uber_London_Kensington_House-London_England.html#REVIEWS Uber London Kensington House Apartment Reviews\n"
     ]
    },
    {
     "name": "stderr",
     "output_type": "stream",
     "text": [
      "\r",
      " 86%|████████▋ | 797/924 [4:06:13<49:12, 23.25s/it]"
     ]
    },
    {
     "name": "stdout",
     "output_type": "stream",
     "text": [
      "/Hotel_Review-g186338-d17426640-Reviews-Berners-London_England.html#REVIEWS Berners Specialty Hotel Reviews, London\n"
     ]
    },
    {
     "name": "stderr",
     "output_type": "stream",
     "text": [
      "\r",
      " 86%|████████▋ | 798/924 [4:06:35<48:08, 22.93s/it]"
     ]
    },
    {
     "name": "stdout",
     "output_type": "stream",
     "text": [
      "/Hotel_Review-g186338-d6825704-Reviews-Manor_Apartments-London_England.html#REVIEWS Manor Apartments Reviews, London\n"
     ]
    },
    {
     "name": "stderr",
     "output_type": "stream",
     "text": [
      "\r",
      " 86%|████████▋ | 799/924 [4:06:44<39:01, 18.73s/it]"
     ]
    },
    {
     "name": "stdout",
     "output_type": "stream",
     "text": [
      "/Hotel_Review-g186338-d12816108-Reviews-Soma_Notting_HIll-London_England.html#REVIEWS Soma Notting HIll Guesthouse Reviews, London\n"
     ]
    },
    {
     "name": "stderr",
     "output_type": "stream",
     "text": [
      "\r",
      " 87%|████████▋ | 800/924 [4:06:54<33:21, 16.14s/it]"
     ]
    },
    {
     "name": "stdout",
     "output_type": "stream",
     "text": [
      "/Hotel_Review-g186338-d15655083-Reviews-Cuckooz_Kings_Cross-London_England.html#REVIEWS Cuckooz Kings Cross Lodging Reviews, London\n"
     ]
    },
    {
     "name": "stderr",
     "output_type": "stream",
     "text": [
      "\r",
      " 87%|████████▋ | 801/924 [4:07:04<29:12, 14.25s/it]"
     ]
    },
    {
     "name": "stdout",
     "output_type": "stream",
     "text": [
      "/Hotel_Review-g186338-d15345685-Reviews-Premier_Tower_Bridge_Apartment-London_England.html#REVIEWS Premier Tower Bridge Apartment Lodging Reviews, London\n"
     ]
    },
    {
     "name": "stderr",
     "output_type": "stream",
     "text": [
      "\r",
      " 87%|████████▋ | 802/924 [4:07:17<28:10, 13.86s/it]"
     ]
    },
    {
     "name": "stdout",
     "output_type": "stream",
     "text": [
      "/Hotel_Review-g186338-d11761270-Reviews-Notting_Hill_Bed_Breakfast-London_England.html#REVIEWS Notting Hill Bed & Breakfast Reviews, London\n"
     ]
    },
    {
     "name": "stderr",
     "output_type": "stream",
     "text": [
      "\r",
      " 87%|████████▋ | 803/924 [4:07:47<37:40, 18.68s/it]"
     ]
    },
    {
     "name": "stdout",
     "output_type": "stream",
     "text": [
      "/Hotel_Review-g186338-d1440149-Reviews-Ivy_Gate_House_Bed_Breakfast-London_England.html#REVIEWS Ivy Gate House Bed & Breakfast Reviews, London\n"
     ]
    },
    {
     "name": "stderr",
     "output_type": "stream",
     "text": [
      "\r",
      " 87%|████████▋ | 804/924 [4:08:05<36:49, 18.41s/it]"
     ]
    },
    {
     "name": "stdout",
     "output_type": "stream",
     "text": [
      "/Hotel_Review-g186338-d1218813-Reviews-Gendai_Guest_House-London_England.html#REVIEWS Gendai Guest House Reviews, London\n"
     ]
    },
    {
     "name": "stderr",
     "output_type": "stream",
     "text": [
      "\r",
      " 87%|████████▋ | 805/924 [4:08:21<35:07, 17.71s/it]"
     ]
    },
    {
     "name": "stdout",
     "output_type": "stream",
     "text": [
      "/Hotel_Review-g186338-d209158-Reviews-Lee_Valley_Camping_and_Caravan_Park_Edmonton-London_England.html#REVIEWS Lee Valley Camping and Caravan Park, Edmonton Campground Reviews, London\n"
     ]
    },
    {
     "name": "stderr",
     "output_type": "stream",
     "text": [
      "\r",
      " 87%|████████▋ | 806/924 [4:08:46<39:12, 19.93s/it]"
     ]
    },
    {
     "name": "stdout",
     "output_type": "stream",
     "text": [
      "/Hotel_Review-g186338-d1653600-Reviews-The_Heathers_Bed_and_Breakfast-London_England.html#REVIEWS The Heathers Bed and Breakfast Reviews, London\n"
     ]
    },
    {
     "name": "stderr",
     "output_type": "stream",
     "text": [
      "\r",
      " 87%|████████▋ | 807/924 [4:09:14<43:41, 22.41s/it]"
     ]
    },
    {
     "name": "stdout",
     "output_type": "stream",
     "text": [
      "/Hotel_Review-g186338-d1507976-Reviews-Mike_s_Guesthouse-London_England.html#REVIEWS Mike's Guesthouse Hotel Reviews, London\n"
     ]
    },
    {
     "name": "stderr",
     "output_type": "stream",
     "text": [
      "\r",
      " 87%|████████▋ | 808/924 [4:09:35<42:45, 22.11s/it]"
     ]
    },
    {
     "name": "stdout",
     "output_type": "stream",
     "text": [
      "/Hotel_Review-g186338-d6949720-Reviews-Kingdom_Lodge_St_James_Park-London_England.html#REVIEWS Kingdom Lodge - St James Park Hostel Reviews, London\n"
     ]
    },
    {
     "name": "stderr",
     "output_type": "stream",
     "text": [
      "\r",
      " 88%|████████▊ | 809/924 [4:10:04<45:51, 23.93s/it]"
     ]
    },
    {
     "name": "stdout",
     "output_type": "stream",
     "text": [
      "/Hotel_Review-g186338-d609351-Reviews-YMCA_Indian_Student_Hostel-London_England.html#REVIEWS YMCA Indian Student Hostel Reviews, London\n"
     ]
    },
    {
     "name": "stderr",
     "output_type": "stream",
     "text": [
      "\r",
      " 88%|████████▊ | 810/924 [4:10:13<37:02, 19.50s/it]"
     ]
    },
    {
     "name": "stdout",
     "output_type": "stream",
     "text": [
      "/Hotel_Review-g186338-d1149803-Reviews-LSE_Grosvenor_House_Studios-London_England.html#REVIEWS LSE Grosvenor House Studios Apartment Reviews, London\n"
     ]
    },
    {
     "name": "stderr",
     "output_type": "stream",
     "text": [
      "\r",
      " 88%|████████▊ | 811/924 [4:10:38<40:06, 21.29s/it]"
     ]
    },
    {
     "name": "stdout",
     "output_type": "stream",
     "text": [
      "/Hotel_Review-g186338-d1051559-Reviews-Earls_Court_Studios-London_England.html#REVIEWS Earls Court Studios Hostel Reviews, London\n"
     ]
    },
    {
     "name": "stderr",
     "output_type": "stream",
     "text": [
      "\r",
      " 88%|████████▊ | 812/924 [4:11:04<42:25, 22.73s/it]"
     ]
    },
    {
     "name": "stdout",
     "output_type": "stream",
     "text": [
      "/Hotel_Review-g186338-d4752993-Reviews-Crown_and_Sceptre-London_England.html#REVIEWS Crown and Sceptre Hotel Reviews, London\n"
     ]
    },
    {
     "name": "stderr",
     "output_type": "stream",
     "text": [
      "\r",
      " 88%|████████▊ | 813/924 [4:11:13<34:04, 18.42s/it]"
     ]
    },
    {
     "name": "stdout",
     "output_type": "stream",
     "text": [
      "/Hotel_Review-g186338-d4884266-Reviews-London_Full_House-London_England.html#REVIEWS London Full House Guesthouse Reviews\n"
     ]
    },
    {
     "name": "stderr",
     "output_type": "stream",
     "text": [
      "\r",
      " 88%|████████▊ | 814/924 [4:11:30<33:14, 18.13s/it]"
     ]
    },
    {
     "name": "stdout",
     "output_type": "stream",
     "text": [
      "/Hotel_Review-g186338-d1803739-Reviews-Cheval_Calico_House-London_England.html#REVIEWS Cheval Calico House Apartment Reviews, London\n"
     ]
    },
    {
     "name": "stderr",
     "output_type": "stream",
     "text": [
      "\r",
      " 88%|████████▊ | 815/924 [4:11:59<38:41, 21.30s/it]"
     ]
    },
    {
     "name": "stdout",
     "output_type": "stream",
     "text": [
      "/Hotel_Review-g186338-d8305860-Reviews-Allstay_Hop_Art_House-London_England.html#REVIEWS Allstay Hop Art House Apartment Reviews, London\n"
     ]
    },
    {
     "name": "stderr",
     "output_type": "stream",
     "text": [
      "\r",
      " 88%|████████▊ | 816/924 [4:12:19<37:43, 20.96s/it]"
     ]
    },
    {
     "name": "stdout",
     "output_type": "stream",
     "text": [
      "/Hotel_Review-g186338-d282816-Reviews-London_Backpackers-London_England.html#REVIEWS London Backpackers Hostel Reviews\n"
     ]
    },
    {
     "name": "stderr",
     "output_type": "stream",
     "text": [
      "\r",
      " 88%|████████▊ | 817/924 [4:12:43<39:02, 21.89s/it]"
     ]
    },
    {
     "name": "stdout",
     "output_type": "stream",
     "text": [
      "/Hotel_Review-g186338-d279605-Reviews-City_Marque_Oxford_House_Serviced_Apartments-London_England.html#REVIEWS City Marque Oxford House Serviced Apartments Reviews, London\n"
     ]
    },
    {
     "name": "stderr",
     "output_type": "stream",
     "text": [
      "\r",
      " 89%|████████▊ | 818/924 [4:12:50<30:40, 17.36s/it]"
     ]
    },
    {
     "name": "stdout",
     "output_type": "stream",
     "text": [
      "/Hotel_Review-g186338-d309966-Reviews-37_Trevor_Square-London_England.html#REVIEWS 37 Trevor Square B&B Reviews, London\n"
     ]
    },
    {
     "name": "stderr",
     "output_type": "stream",
     "text": [
      "\r",
      " 89%|████████▊ | 819/924 [4:13:00<26:36, 15.20s/it]"
     ]
    },
    {
     "name": "stdout",
     "output_type": "stream",
     "text": [
      "/Hotel_Review-g186338-d15708909-Reviews-The_Monument_Residences-London_England.html#REVIEWS The Monument Residences Lodging Reviews, London\n"
     ]
    },
    {
     "name": "stderr",
     "output_type": "stream",
     "text": [
      "\r",
      " 89%|████████▊ | 820/924 [4:13:08<22:34, 13.02s/it]"
     ]
    },
    {
     "name": "stdout",
     "output_type": "stream",
     "text": [
      "/Hotel_Review-g186338-d2161593-Reviews-London_Horizons-London_England.html#REVIEWS London Horizons Hotel Reviews\n"
     ]
    },
    {
     "name": "stderr",
     "output_type": "stream",
     "text": [
      "\r",
      " 89%|████████▉ | 821/924 [4:13:30<27:00, 15.74s/it]"
     ]
    },
    {
     "name": "stdout",
     "output_type": "stream",
     "text": [
      "/Hotel_Review-g186338-d634597-Reviews-BridgeStreet_Panoramic_Heights-London_England.html#REVIEWS BridgeStreet Panoramic Heights Apartment Reviews, London\n"
     ]
    },
    {
     "name": "stderr",
     "output_type": "stream",
     "text": [
      "\r",
      " 89%|████████▉ | 822/924 [4:13:51<29:18, 17.24s/it]"
     ]
    },
    {
     "name": "stdout",
     "output_type": "stream",
     "text": [
      "/Hotel_Review-g186338-d2288731-Reviews-Rivington_Apartments-London_England.html#REVIEWS Rivington Apartments Reviews, London\n"
     ]
    },
    {
     "name": "stderr",
     "output_type": "stream",
     "text": [
      "\r",
      " 89%|████████▉ | 823/924 [4:14:07<28:34, 16.97s/it]"
     ]
    },
    {
     "name": "stdout",
     "output_type": "stream",
     "text": [
      "/Hotel_Review-g186338-d12684566-Reviews-Barking_Road-London_England.html#REVIEWS Barking Road Specialty Inn Reviews, London\n"
     ]
    },
    {
     "name": "stderr",
     "output_type": "stream",
     "text": [
      "\r",
      " 89%|████████▉ | 824/924 [4:14:28<30:22, 18.23s/it]"
     ]
    },
    {
     "name": "stdout",
     "output_type": "stream",
     "text": [
      "/Hotel_Review-g186338-d8427043-Reviews-Park_Lodge_Guest_House-London_England.html#REVIEWS Park Lodge Guest House Reviews, London\n"
     ]
    },
    {
     "name": "stderr",
     "output_type": "stream",
     "text": [
      "\r",
      " 89%|████████▉ | 825/924 [4:14:36<25:06, 15.22s/it]"
     ]
    },
    {
     "name": "stdout",
     "output_type": "stream",
     "text": [
      "/Hotel_Review-g186338-d3417201-Reviews-Go_Native_Three_Colts_Lane_Serviced_Apartments-London_England.html#REVIEWS Go Native Three Colts Lane Serviced Apartments Reviews, London\n"
     ]
    },
    {
     "name": "stderr",
     "output_type": "stream",
     "text": [
      "\r",
      " 89%|████████▉ | 826/924 [4:15:06<32:03, 19.63s/it]"
     ]
    },
    {
     "name": "stdout",
     "output_type": "stream",
     "text": [
      "/Hotel_Review-g186338-d6619191-Reviews-LSL_Canary_Riverside-London_England.html#REVIEWS LSL Canary Riverside Apartment Reviews, London\n"
     ]
    },
    {
     "name": "stderr",
     "output_type": "stream",
     "text": [
      "\r",
      " 90%|████████▉ | 827/924 [4:15:28<32:32, 20.13s/it]"
     ]
    },
    {
     "name": "stdout",
     "output_type": "stream",
     "text": [
      "/Hotel_Review-g186338-d5031167-Reviews-Wyncliff_Court-London_England.html#REVIEWS Wyncliff Court Apartment Reviews, London\n"
     ]
    },
    {
     "name": "stderr",
     "output_type": "stream",
     "text": [
      "\r",
      " 90%|████████▉ | 828/924 [4:15:50<33:14, 20.78s/it]"
     ]
    },
    {
     "name": "stdout",
     "output_type": "stream",
     "text": [
      "/Hotel_Review-g186338-d12425762-Reviews-Tali_s_House-London_England.html#REVIEWS Tali's House Guesthouse Reviews, London\n"
     ]
    },
    {
     "name": "stderr",
     "output_type": "stream",
     "text": [
      "\r",
      " 90%|████████▉ | 829/924 [4:16:15<35:04, 22.15s/it]"
     ]
    },
    {
     "name": "stdout",
     "output_type": "stream",
     "text": [
      "/Hotel_Review-g186338-d5787445-Reviews-B_B_at_Number_6-London_England.html#REVIEWS B&B at Number 6 Reviews, London\n"
     ]
    },
    {
     "name": "stderr",
     "output_type": "stream",
     "text": [
      "\r",
      " 90%|████████▉ | 830/924 [4:16:36<33:56, 21.67s/it]"
     ]
    },
    {
     "name": "stdout",
     "output_type": "stream",
     "text": [
      "/Hotel_Review-g186338-d2243992-Reviews-MyOE_Guesthouse-London_England.html#REVIEWS myOE Guesthouse Reviews, London\n"
     ]
    },
    {
     "name": "stderr",
     "output_type": "stream",
     "text": [
      "\r",
      " 90%|████████▉ | 831/924 [4:16:51<30:42, 19.81s/it]"
     ]
    },
    {
     "name": "stdout",
     "output_type": "stream",
     "text": [
      "/Hotel_Review-g186338-d304678-Reviews-20_St_Philip_Street-London_England.html#REVIEWS 20 St. Philip Street B&B Reviews, London\n"
     ]
    },
    {
     "name": "stderr",
     "output_type": "stream",
     "text": [
      "\r",
      " 90%|█████████ | 832/924 [4:17:01<25:53, 16.88s/it]"
     ]
    },
    {
     "name": "stdout",
     "output_type": "stream",
     "text": [
      "/Hotel_Review-g186338-d1488065-Reviews-73_Studios-London_England.html#REVIEWS 73 Studios Hostel Reviews, London\n"
     ]
    },
    {
     "name": "stderr",
     "output_type": "stream",
     "text": [
      "\r",
      " 90%|█████████ | 833/924 [4:17:10<21:55, 14.46s/it]"
     ]
    },
    {
     "name": "stdout",
     "output_type": "stream",
     "text": [
      "/Hotel_Review-g186338-d6514731-Reviews-Chand_Apartments-London_England.html#REVIEWS Chand Apartments Specialty Hotel Reviews, London\n"
     ]
    },
    {
     "name": "stderr",
     "output_type": "stream",
     "text": [
      "\r",
      " 90%|█████████ | 834/924 [4:17:38<27:35, 18.40s/it]"
     ]
    },
    {
     "name": "stdout",
     "output_type": "stream",
     "text": [
      "/Hotel_Review-g186338-d15246053-Reviews-House_Of_Dream_Guesthouse-London_England.html#REVIEWS House Of Dream Guesthouse Lodging Reviews, London\n"
     ]
    },
    {
     "name": "stderr",
     "output_type": "stream",
     "text": [
      "\r",
      " 90%|█████████ | 835/924 [4:17:47<23:07, 15.59s/it]"
     ]
    },
    {
     "name": "stdout",
     "output_type": "stream",
     "text": [
      "/Hotel_Review-g186338-d7904877-Reviews-Ability_Place_Apartments-London_England.html#REVIEWS Ability Place Apartments Reviews, London\n"
     ]
    },
    {
     "name": "stderr",
     "output_type": "stream",
     "text": [
      "\r",
      " 90%|█████████ | 836/924 [4:18:08<25:25, 17.33s/it]"
     ]
    },
    {
     "name": "stdout",
     "output_type": "stream",
     "text": [
      "/Hotel_Review-g186338-d16890980-Reviews-Marble_Arch_Suites-London_England.html#REVIEWS Marble Arch Suites Apartment Reviews, London\n"
     ]
    },
    {
     "name": "stderr",
     "output_type": "stream",
     "text": [
      "\r",
      " 91%|█████████ | 837/924 [4:18:22<23:46, 16.39s/it]"
     ]
    },
    {
     "name": "stdout",
     "output_type": "stream",
     "text": [
      "/Hotel_Review-g186338-d666653-Reviews-Elephant_and_Castle_Guest_House-London_England.html#REVIEWS Elephant and Castle Guest House Reviews, London\n"
     ]
    },
    {
     "name": "stderr",
     "output_type": "stream",
     "text": [
      "\r",
      " 91%|█████████ | 838/924 [4:18:37<22:36, 15.77s/it]"
     ]
    },
    {
     "name": "stdout",
     "output_type": "stream",
     "text": [
      "/Hotel_Review-g186338-d17163918-Reviews-South_Kensington_Private_Apartment-London_England.html#REVIEWS South Kensington Private Apartment Reviews, London\n"
     ]
    },
    {
     "name": "stderr",
     "output_type": "stream",
     "text": [
      "\r",
      " 91%|█████████ | 839/924 [4:19:06<28:03, 19.81s/it]"
     ]
    },
    {
     "name": "stdout",
     "output_type": "stream",
     "text": [
      "/Hotel_Review-g186338-d15212473-Reviews-Betts_Guest_Apartment-London_England.html#REVIEWS Betts Guest Apartment Lodging Reviews, London\n"
     ]
    },
    {
     "name": "stderr",
     "output_type": "stream",
     "text": [
      "\r",
      " 91%|█████████ | 840/924 [4:19:18<24:33, 17.54s/it]"
     ]
    },
    {
     "name": "stdout",
     "output_type": "stream",
     "text": [
      "/Hotel_Review-g186338-d17538219-Reviews-Brand_New_Double_Rooms_In_Angel_Ec1-London_England.html#REVIEWS Brand New Double Rooms In Angel Ec1 Lodging Reviews, London\n"
     ]
    },
    {
     "name": "stderr",
     "output_type": "stream",
     "text": [
      "\r",
      " 91%|█████████ | 841/924 [4:19:24<19:35, 14.16s/it]"
     ]
    },
    {
     "name": "stdout",
     "output_type": "stream",
     "text": [
      "/Hotel_Review-g186338-d17546562-Reviews-Royal_London_Guest_House-London_England.html#REVIEWS Royal London Guest House Inn Reviews\n"
     ]
    },
    {
     "name": "stderr",
     "output_type": "stream",
     "text": [
      "\r",
      " 91%|█████████ | 842/924 [4:19:33<16:53, 12.36s/it]"
     ]
    },
    {
     "name": "stdout",
     "output_type": "stream",
     "text": [
      "/Hotel_Review-g186338-d17546130-Reviews-Stratford_House-London_England.html#REVIEWS Stratford House Lodging Reviews, London\n"
     ]
    },
    {
     "name": "stderr",
     "output_type": "stream",
     "text": [
      "\r",
      " 91%|█████████ | 843/924 [4:19:57<21:31, 15.94s/it]"
     ]
    },
    {
     "name": "stdout",
     "output_type": "stream",
     "text": [
      "/Hotel_Review-g186338-d13414688-Reviews-LoveCentralLondon-London_England.html#REVIEWS #LoveCentralLondon Lodge Reviews, London\n"
     ]
    },
    {
     "name": "stderr",
     "output_type": "stream",
     "text": [
      "\r",
      " 91%|█████████▏| 844/924 [4:20:12<21:06, 15.83s/it]"
     ]
    },
    {
     "name": "stdout",
     "output_type": "stream",
     "text": [
      "/Hotel_Review-g186338-d15762629-Reviews-Chapel_Market_Modern_Studios-London_England.html#REVIEWS Chapel Market Modern Studios Lodging Reviews, London\n"
     ]
    },
    {
     "name": "stderr",
     "output_type": "stream",
     "text": [
      "\r",
      " 91%|█████████▏| 845/924 [4:20:19<17:03, 12.96s/it]"
     ]
    },
    {
     "name": "stdout",
     "output_type": "stream",
     "text": [
      "/Hotel_Review-g186338-d18933665-Reviews-London_Centre_Stays-London_England.html#REVIEWS London Centre Stays Lodging Reviews\n"
     ]
    },
    {
     "name": "stderr",
     "output_type": "stream",
     "text": [
      "\r",
      " 92%|█████████▏| 846/924 [4:20:39<19:41, 15.15s/it]"
     ]
    },
    {
     "name": "stdout",
     "output_type": "stream",
     "text": [
      "/Hotel_Review-g186338-d17521409-Reviews-Gamkha-London_England.html#REVIEWS Gamkha Lodging Reviews, London\n"
     ]
    },
    {
     "name": "stderr",
     "output_type": "stream",
     "text": [
      "\r",
      " 92%|█████████▏| 847/924 [4:20:50<17:40, 13.77s/it]"
     ]
    },
    {
     "name": "stdout",
     "output_type": "stream",
     "text": [
      "/Hotel_Review-g186338-d17482063-Reviews-Aspen_Regis_Apartments_Kensington-London_England.html#REVIEWS Aspen Regis Apartments Kensington Lodging Reviews, London\n"
     ]
    },
    {
     "name": "stderr",
     "output_type": "stream",
     "text": [
      "\r",
      " 92%|█████████▏| 848/924 [4:20:57<14:54, 11.76s/it]"
     ]
    },
    {
     "name": "stdout",
     "output_type": "stream",
     "text": [
      "/Hotel_Review-g186338-d1393055-Reviews-The_White_House-London_England.html#REVIEWS The White House Hostel Reviews, London\n"
     ]
    },
    {
     "name": "stderr",
     "output_type": "stream",
     "text": [
      "\r",
      " 92%|█████████▏| 849/924 [4:21:27<21:35, 17.27s/it]"
     ]
    },
    {
     "name": "stdout",
     "output_type": "stream",
     "text": [
      "/Hotel_Review-g186338-d18849378-Reviews-The_Selfridge-London_England.html#REVIEWS The Selfridge Hotel Reviews, London\n"
     ]
    },
    {
     "name": "stderr",
     "output_type": "stream",
     "text": [
      "\r",
      " 92%|█████████▏| 850/924 [4:21:43<20:57, 16.99s/it]"
     ]
    },
    {
     "name": "stdout",
     "output_type": "stream",
     "text": [
      "/Hotel_Review-g186338-d15645567-Reviews-Luxury_Apartments_In_Kensington-London_England.html#REVIEWS Luxury Apartments In Kensington Reviews, London\n"
     ]
    },
    {
     "name": "stderr",
     "output_type": "stream",
     "text": [
      "\r",
      " 92%|█████████▏| 851/924 [4:22:02<21:30, 17.67s/it]"
     ]
    },
    {
     "name": "stdout",
     "output_type": "stream",
     "text": [
      "/Hotel_Review-g186338-d17531716-Reviews-London_Comfy_Guest_House-London_England.html#REVIEWS London Comfy Guest House Lodging Reviews\n"
     ]
    },
    {
     "name": "stderr",
     "output_type": "stream",
     "text": [
      "\r",
      " 92%|█████████▏| 852/924 [4:22:17<19:57, 16.63s/it]"
     ]
    },
    {
     "name": "stdout",
     "output_type": "stream",
     "text": [
      "/Hotel_Review-g186338-d7730172-Reviews-Thorpedale_B_B-London_England.html#REVIEWS Thorpedale B&B Reviews, London\n"
     ]
    },
    {
     "name": "stderr",
     "output_type": "stream",
     "text": [
      "\r",
      " 92%|█████████▏| 853/924 [4:22:27<17:20, 14.65s/it]"
     ]
    },
    {
     "name": "stdout",
     "output_type": "stream",
     "text": [
      "/Hotel_Review-g186338-d617004-Reviews-Woogo_Kensington_Palace-London_England.html#REVIEWS Woogo - Kensington Palace Villa Reviews, London\n"
     ]
    },
    {
     "name": "stderr",
     "output_type": "stream",
     "text": [
      "\r",
      " 92%|█████████▏| 854/924 [4:22:48<19:31, 16.74s/it]"
     ]
    },
    {
     "name": "stdout",
     "output_type": "stream",
     "text": [
      "/Hotel_Review-g186338-d2346777-Reviews-Manna_Ash_House-London_England.html#REVIEWS Manna Ash House Apartment Reviews, London\n"
     ]
    },
    {
     "name": "stderr",
     "output_type": "stream",
     "text": [
      "\r",
      " 93%|█████████▎| 855/924 [4:23:04<19:00, 16.52s/it]"
     ]
    },
    {
     "name": "stdout",
     "output_type": "stream",
     "text": [
      "/Hotel_Review-g186338-d7933133-Reviews-Apple_Apartments_Richmond-London_England.html#REVIEWS Apple Apartments Richmond Reviews, London\n"
     ]
    },
    {
     "name": "stderr",
     "output_type": "stream",
     "text": [
      "\r",
      " 93%|█████████▎| 856/924 [4:23:32<22:38, 19.97s/it]"
     ]
    },
    {
     "name": "stdout",
     "output_type": "stream",
     "text": [
      "/Hotel_Review-g186338-d1201841-Reviews-All_Star_Hostel-London_England.html#REVIEWS All Star Hostel Reviews, London\n"
     ]
    },
    {
     "name": "stderr",
     "output_type": "stream",
     "text": [
      "\r",
      " 93%|█████████▎| 857/924 [4:23:52<22:18, 19.98s/it]"
     ]
    },
    {
     "name": "stdout",
     "output_type": "stream",
     "text": [
      "/Hotel_Review-g186338-d6594649-Reviews-Riz_House-London_England.html#REVIEWS Riz House Villa Reviews, London\n"
     ]
    },
    {
     "name": "stderr",
     "output_type": "stream",
     "text": [
      "\r",
      " 93%|█████████▎| 858/924 [4:24:04<19:06, 17.38s/it]"
     ]
    },
    {
     "name": "stdout",
     "output_type": "stream",
     "text": [
      "/Hotel_Review-g186338-d13134394-Reviews-The_Birds_Hostel-London_England.html#REVIEWS The Birds Hostel Reviews, London\n"
     ]
    },
    {
     "name": "stderr",
     "output_type": "stream",
     "text": [
      "\r",
      " 93%|█████████▎| 859/924 [4:24:30<21:40, 20.01s/it]"
     ]
    },
    {
     "name": "stdout",
     "output_type": "stream",
     "text": [
      "/Hotel_Review-g186338-d17418110-Reviews-Nest_Lodge-London_England.html#REVIEWS Nest Lodge Guesthouse Reviews, London\n"
     ]
    },
    {
     "name": "stderr",
     "output_type": "stream",
     "text": [
      "\r",
      " 93%|█████████▎| 860/924 [4:24:50<21:18, 19.98s/it]"
     ]
    },
    {
     "name": "stdout",
     "output_type": "stream",
     "text": [
      "/Hotel_Review-g186338-d16804033-Reviews-Noohra_Guest_House-London_England.html#REVIEWS Noohra Guest House Lodging Reviews, London\n"
     ]
    },
    {
     "name": "stderr",
     "output_type": "stream",
     "text": [
      "\r",
      " 93%|█████████▎| 861/924 [4:25:16<22:57, 21.86s/it]"
     ]
    },
    {
     "name": "stdout",
     "output_type": "stream",
     "text": [
      "/Hotel_Review-g186338-d3660883-Reviews-Landmark_Apartments-London_England.html#REVIEWS Landmark Apartments Reviews, London\n"
     ]
    },
    {
     "name": "stderr",
     "output_type": "stream",
     "text": [
      "\r",
      " 93%|█████████▎| 862/924 [4:25:25<18:38, 18.05s/it]"
     ]
    },
    {
     "name": "stdout",
     "output_type": "stream",
     "text": [
      "/Hotel_Review-g186338-d282817-Reviews-Smart_Camden_Inn_Hostel-London_England.html#REVIEWS Smart Camden Inn Hostel Reviews, London\n"
     ]
    },
    {
     "name": "stderr",
     "output_type": "stream",
     "text": [
      "\r",
      " 93%|█████████▎| 863/924 [4:25:54<21:46, 21.42s/it]"
     ]
    },
    {
     "name": "stdout",
     "output_type": "stream",
     "text": [
      "/Hotel_Review-g186338-d8523445-Reviews-Lyndhurst_Rooms-London_England.html#REVIEWS Lyndhurst Rooms Guesthouse Reviews, London\n"
     ]
    },
    {
     "name": "stderr",
     "output_type": "stream",
     "text": [
      "\r",
      " 94%|█████████▎| 864/924 [4:26:05<18:06, 18.10s/it]"
     ]
    },
    {
     "name": "stdout",
     "output_type": "stream",
     "text": [
      "/Hotel_Review-g186338-d13123450-Reviews-City_Stay_Aparts-London_England.html#REVIEWS City Stay Aparts Apartment Reviews, London\n"
     ]
    },
    {
     "name": "stderr",
     "output_type": "stream",
     "text": [
      "\r",
      " 94%|█████████▎| 865/924 [4:26:26<18:38, 18.96s/it]"
     ]
    },
    {
     "name": "stdout",
     "output_type": "stream",
     "text": [
      "/Hotel_Review-g186338-d20283388-Reviews-London_Budget_Maisonette-London_England.html#REVIEWS London Budget Maisonette Inn Reviews\n"
     ]
    },
    {
     "name": "stderr",
     "output_type": "stream",
     "text": [
      "\r",
      " 94%|█████████▎| 866/924 [4:26:42<17:43, 18.34s/it]"
     ]
    },
    {
     "name": "stdout",
     "output_type": "stream",
     "text": [
      "/Hotel_Review-g186338-d12864528-Reviews-Guest_Apartment_Roger-London_England.html#REVIEWS Guest Apartment Roger Guesthouse Reviews, London\n"
     ]
    },
    {
     "name": "stderr",
     "output_type": "stream",
     "text": [
      "\r",
      " 94%|█████████▍| 867/924 [4:27:00<17:03, 17.95s/it]"
     ]
    },
    {
     "name": "stdout",
     "output_type": "stream",
     "text": [
      "/Hotel_Review-g186338-d9804531-Reviews-Stay_Inn_London-London_England.html#REVIEWS Stay Inn London Apartment Reviews\n"
     ]
    },
    {
     "name": "stderr",
     "output_type": "stream",
     "text": [
      "\r",
      " 94%|█████████▍| 868/924 [4:27:17<16:38, 17.83s/it]"
     ]
    },
    {
     "name": "stdout",
     "output_type": "stream",
     "text": [
      "/Hotel_Review-g186338-d2281187-Reviews-The_Cottage_Inn-London_England.html#REVIEWS The Cottage Inn Hotel Reviews, London\n"
     ]
    },
    {
     "name": "stderr",
     "output_type": "stream",
     "text": [
      "\r",
      " 94%|█████████▍| 869/924 [4:27:31<15:09, 16.53s/it]"
     ]
    },
    {
     "name": "stdout",
     "output_type": "stream",
     "text": [
      "/Hotel_Review-g186338-d12419448-Reviews-Pure_CityStay_Paris_Gardens_London-London_England.html#REVIEWS Pure CityStay Paris Gardens - London Apartment Reviews\n"
     ]
    },
    {
     "name": "stderr",
     "output_type": "stream",
     "text": [
      "\r",
      " 94%|█████████▍| 870/924 [4:27:58<17:42, 19.68s/it]"
     ]
    },
    {
     "name": "stdout",
     "output_type": "stream",
     "text": [
      "/Hotel_Review-g186338-d23163580-Reviews-Kings_Scholars_Mayfairstay-London_England.html#REVIEWS Kings Scholars - Mayfairstay Lodging Reviews, London\n"
     ]
    },
    {
     "name": "stderr",
     "output_type": "stream",
     "text": [
      "\r",
      " 94%|█████████▍| 871/924 [4:28:22<18:31, 20.98s/it]"
     ]
    },
    {
     "name": "stdout",
     "output_type": "stream",
     "text": [
      "/Hotel_Review-g186338-d12336996-Reviews-3_Portland_Villas-London_England.html#REVIEWS 3 Portland Villas Reviews, London\n"
     ]
    },
    {
     "name": "stderr",
     "output_type": "stream",
     "text": [
      "\r",
      " 94%|█████████▍| 872/924 [4:28:43<18:14, 21.04s/it]"
     ]
    },
    {
     "name": "stdout",
     "output_type": "stream",
     "text": [
      "/Hotel_Review-g186338-d11779185-Reviews-Belvedere_Aldgate-London_England.html#REVIEWS Belvedere Aldgate Apartment Reviews, London\n"
     ]
    },
    {
     "name": "stderr",
     "output_type": "stream",
     "text": [
      "\r",
      " 94%|█████████▍| 873/924 [4:29:08<18:59, 22.35s/it]"
     ]
    },
    {
     "name": "stdout",
     "output_type": "stream",
     "text": [
      "/Hotel_Review-g186338-d3613950-Reviews-Bow_City_Apartments-London_England.html#REVIEWS Bow City Apartments Reviews, London\n"
     ]
    },
    {
     "name": "stderr",
     "output_type": "stream",
     "text": [
      "\r",
      " 95%|█████████▍| 874/924 [4:29:16<15:05, 18.12s/it]"
     ]
    },
    {
     "name": "stdout",
     "output_type": "stream",
     "text": [
      "/Hotel_Review-g186338-d11904220-Reviews-Jubilee_Nice_Rooms-London_England.html#REVIEWS Jubilee Nice Rooms Lodge Reviews, London\n"
     ]
    },
    {
     "name": "stderr",
     "output_type": "stream",
     "text": [
      "\r",
      " 95%|█████████▍| 875/924 [4:29:40<16:10, 19.80s/it]"
     ]
    },
    {
     "name": "stdout",
     "output_type": "stream",
     "text": [
      "/Hotel_Review-g186338-d7772008-Reviews-Penton_Apartments-London_England.html#REVIEWS Penton Apartments Reviews, London\n"
     ]
    },
    {
     "name": "stderr",
     "output_type": "stream",
     "text": [
      "\r",
      " 95%|█████████▍| 876/924 [4:30:02<16:25, 20.54s/it]"
     ]
    },
    {
     "name": "stdout",
     "output_type": "stream",
     "text": [
      "/Hotel_Review-g186338-d1832253-Reviews-Stress_Less_Budget_Rooms-London_England.html#REVIEWS Stress Less Budget Rooms Hostel Reviews, London\n"
     ]
    },
    {
     "name": "stderr",
     "output_type": "stream",
     "text": [
      "\r",
      " 95%|█████████▍| 877/924 [4:30:24<16:16, 20.78s/it]"
     ]
    },
    {
     "name": "stdout",
     "output_type": "stream",
     "text": [
      "/Hotel_Review-g186338-d13203630-Reviews-Nice_Double_Room_in_Stratford-London_England.html#REVIEWS Nice Double Room in Stratford Specialty B&B Reviews, London\n"
     ]
    },
    {
     "name": "stderr",
     "output_type": "stream",
     "text": [
      "\r",
      " 95%|█████████▌| 878/924 [4:30:43<15:34, 20.31s/it]"
     ]
    },
    {
     "name": "stdout",
     "output_type": "stream",
     "text": [
      "/Hotel_Review-g186338-d3555152-Reviews-SO_West-London_England.html#REVIEWS SO West Apartment Reviews, London\n"
     ]
    },
    {
     "name": "stderr",
     "output_type": "stream",
     "text": [
      "\r",
      " 95%|█████████▌| 879/924 [4:30:52<12:43, 16.97s/it]"
     ]
    },
    {
     "name": "stdout",
     "output_type": "stream",
     "text": [
      "/Hotel_Review-g186338-d12619838-Reviews-Whitechapel_Nice_Rooms-London_England.html#REVIEWS Whitechapel Nice Rooms Specialty Inn Reviews, London\n"
     ]
    },
    {
     "name": "stderr",
     "output_type": "stream",
     "text": [
      "\r",
      " 95%|█████████▌| 880/924 [4:31:07<12:02, 16.43s/it]"
     ]
    },
    {
     "name": "stdout",
     "output_type": "stream",
     "text": [
      "/Hotel_Review-g186338-d2618066-Reviews-The_B_Suites_London_Apartments-London_England.html#REVIEWS The B Suites London Apartments Reviews\n"
     ]
    },
    {
     "name": "stderr",
     "output_type": "stream",
     "text": [
      "\r",
      " 95%|█████████▌| 881/924 [4:31:34<13:54, 19.40s/it]"
     ]
    },
    {
     "name": "stdout",
     "output_type": "stream",
     "text": [
      "/Hotel_Review-g186338-d8864042-Reviews-Paddington_Rooms-London_England.html#REVIEWS Paddington Rooms B&B Reviews, London\n"
     ]
    },
    {
     "name": "stderr",
     "output_type": "stream",
     "text": [
      "\r",
      " 95%|█████████▌| 882/924 [4:31:50<12:54, 18.44s/it]"
     ]
    },
    {
     "name": "stdout",
     "output_type": "stream",
     "text": [
      "/Hotel_Review-g186338-d15005354-Reviews-Dinwiddy_House-London_England.html#REVIEWS Dinwiddy House Lodge Reviews, London\n"
     ]
    },
    {
     "name": "stderr",
     "output_type": "stream",
     "text": [
      "\r",
      " 96%|█████████▌| 883/924 [4:31:58<10:25, 15.26s/it]"
     ]
    },
    {
     "name": "stdout",
     "output_type": "stream",
     "text": [
      "/Hotel_Review-g186338-d13396536-Reviews-London_Apartments_by_Mady-London_England.html#REVIEWS London Apartments by Mady Reviews\n"
     ]
    },
    {
     "name": "stderr",
     "output_type": "stream",
     "text": [
      "\r",
      " 96%|█████████▌| 884/924 [4:32:24<12:23, 18.58s/it]"
     ]
    },
    {
     "name": "stdout",
     "output_type": "stream",
     "text": [
      "/Hotel_Review-g186338-d13395798-Reviews-City_Point_Serviced_Apartments-London_England.html#REVIEWS City Point Serviced Apartments Reviews, London\n"
     ]
    },
    {
     "name": "stderr",
     "output_type": "stream",
     "text": [
      "\r",
      " 96%|█████████▌| 885/924 [4:32:52<13:53, 21.38s/it]"
     ]
    },
    {
     "name": "stdout",
     "output_type": "stream",
     "text": [
      "/Hotel_Review-g186338-d282827-Reviews-O_Callaghan_s_Hostel-London_England.html#REVIEWS O'Callaghan's Hostel Reviews, London\n"
     ]
    },
    {
     "name": "stderr",
     "output_type": "stream",
     "text": [
      "\r",
      " 96%|█████████▌| 886/924 [4:33:00<11:01, 17.40s/it]"
     ]
    },
    {
     "name": "stdout",
     "output_type": "stream",
     "text": [
      "/Hotel_Review-g186338-d13975453-Reviews-Waddon_Rooms-London_England.html#REVIEWS Waddon Rooms Lodge Reviews, London\n"
     ]
    },
    {
     "name": "stderr",
     "output_type": "stream",
     "text": [
      "\r",
      " 96%|█████████▌| 887/924 [4:33:10<09:22, 15.20s/it]"
     ]
    },
    {
     "name": "stdout",
     "output_type": "stream",
     "text": [
      "/Hotel_Review-g186338-d6609466-Reviews-Tottenham_Guest_House-London_England.html#REVIEWS Tottenham Guest House Apartment Reviews, London\n"
     ]
    },
    {
     "name": "stderr",
     "output_type": "stream",
     "text": [
      "\r",
      " 96%|█████████▌| 888/924 [4:33:32<10:18, 17.18s/it]"
     ]
    },
    {
     "name": "stdout",
     "output_type": "stream",
     "text": [
      "/Hotel_Review-g186338-d8935298-Reviews-Apartments_Inn_London_London_Bridge-London_England.html#REVIEWS Apartments Inn London - London Bridge Reviews\n"
     ]
    },
    {
     "name": "stderr",
     "output_type": "stream",
     "text": [
      "\r",
      " 96%|█████████▌| 889/924 [4:33:40<08:25, 14.43s/it]"
     ]
    },
    {
     "name": "stdout",
     "output_type": "stream",
     "text": [
      "/Hotel_Review-g186338-d215520-Reviews-The_Notting_Hill_Guest_House-London_England.html#REVIEWS The Notting Hill Guest House Reviews, London\n"
     ]
    },
    {
     "name": "stderr",
     "output_type": "stream",
     "text": [
      "\r",
      " 96%|█████████▋| 890/924 [4:33:51<07:38, 13.50s/it]"
     ]
    },
    {
     "name": "stdout",
     "output_type": "stream",
     "text": [
      "/Hotel_Review-g186338-d10846259-Reviews-Delta_Avenue-London_England.html#REVIEWS Delta Avenue Apartment Reviews, London\n"
     ]
    },
    {
     "name": "stderr",
     "output_type": "stream",
     "text": [
      "\r",
      " 96%|█████████▋| 891/924 [4:34:13<08:50, 16.06s/it]"
     ]
    },
    {
     "name": "stdout",
     "output_type": "stream",
     "text": [
      "/Hotel_Review-g186338-d19729913-Reviews-LCS_Shoreditch_Apartments-London_England.html#REVIEWS LCS Shoreditch Apartments Lodging Reviews, London\n"
     ]
    },
    {
     "name": "stderr",
     "output_type": "stream",
     "text": [
      "\r",
      " 97%|█████████▋| 892/924 [4:34:39<10:09, 19.06s/it]"
     ]
    },
    {
     "name": "stdout",
     "output_type": "stream",
     "text": [
      "/Hotel_Review-g186338-d9977510-Reviews-Marzell_House-London_England.html#REVIEWS Marzell House Apartment Reviews, London\n"
     ]
    },
    {
     "name": "stderr",
     "output_type": "stream",
     "text": [
      "\r",
      " 97%|█████████▋| 893/924 [4:35:04<10:44, 20.80s/it]"
     ]
    },
    {
     "name": "stdout",
     "output_type": "stream",
     "text": [
      "/Hotel_Review-g186338-d3701642-Reviews-Kings_Head_Apartments-London_England.html#REVIEWS Kings Head Apartments Reviews, London\n"
     ]
    },
    {
     "name": "stderr",
     "output_type": "stream",
     "text": [
      "\r",
      " 97%|█████████▋| 894/924 [4:35:28<10:47, 21.57s/it]"
     ]
    },
    {
     "name": "stdout",
     "output_type": "stream",
     "text": [
      "/Hotel_Review-g186338-d6596551-Reviews-Pebble_Apartments-London_England.html#REVIEWS Pebble Apartments Reviews, London\n"
     ]
    },
    {
     "name": "stderr",
     "output_type": "stream",
     "text": [
      "\r",
      " 97%|█████████▋| 895/924 [4:35:39<09:00, 18.64s/it]"
     ]
    },
    {
     "name": "stdout",
     "output_type": "stream",
     "text": [
      "/Hotel_Review-g186338-d1478283-Reviews-Acropolis_Hotel-London_England.html#REVIEWS Acropolis Hotel Reviews, London\n"
     ]
    },
    {
     "name": "stderr",
     "output_type": "stream",
     "text": [
      "\r",
      " 97%|█████████▋| 896/924 [4:36:01<09:10, 19.65s/it]"
     ]
    },
    {
     "name": "stdout",
     "output_type": "stream",
     "text": [
      "/Hotel_Review-g186338-d3804304-Reviews-Millharbour_Serviced_Apartments-London_England.html#REVIEWS Millharbour Serviced Apartments Reviews, London\n"
     ]
    },
    {
     "name": "stderr",
     "output_type": "stream",
     "text": [
      "\r",
      " 97%|█████████▋| 897/924 [4:36:10<07:24, 16.48s/it]"
     ]
    },
    {
     "name": "stdout",
     "output_type": "stream",
     "text": [
      "/Hotel_Review-g186338-d1225234-Reviews-Janet_Poole_House-London_England.html#REVIEWS Janet Poole House Guesthouse Reviews, London\n"
     ]
    },
    {
     "name": "stderr",
     "output_type": "stream",
     "text": [
      "\r",
      " 97%|█████████▋| 898/924 [4:36:29<07:21, 16.99s/it]"
     ]
    },
    {
     "name": "stdout",
     "output_type": "stream",
     "text": [
      "/Hotel_Review-g186338-d19270618-Reviews-Capital_Stay-London_England.html#REVIEWS Capital Stay B&B Reviews, London\n"
     ]
    },
    {
     "name": "stderr",
     "output_type": "stream",
     "text": [
      "\r",
      " 97%|█████████▋| 899/924 [4:36:49<07:30, 18.03s/it]"
     ]
    },
    {
     "name": "stdout",
     "output_type": "stream",
     "text": [
      "/Hotel_Review-g186338-d19765699-Reviews-Cupcake_Apartment-London_England.html#REVIEWS Cupcake Apartment Guesthouse Reviews, London\n"
     ]
    },
    {
     "name": "stderr",
     "output_type": "stream",
     "text": [
      "\r",
      " 97%|█████████▋| 900/924 [4:37:10<07:33, 18.90s/it]"
     ]
    },
    {
     "name": "stdout",
     "output_type": "stream",
     "text": [
      "/Hotel_Review-g186338-d7381008-Reviews-Le_Junction-London_England.html#REVIEWS Le Junction Hostel Reviews, London\n"
     ]
    },
    {
     "name": "stderr",
     "output_type": "stream",
     "text": [
      "\r",
      " 98%|█████████▊| 901/924 [4:37:28<07:10, 18.71s/it]"
     ]
    },
    {
     "name": "stdout",
     "output_type": "stream",
     "text": [
      "/Hotel_Review-g186338-d12248511-Reviews-Se1_Rooms-London_England.html#REVIEWS se1 Rooms Hostel Reviews, London\n"
     ]
    },
    {
     "name": "stderr",
     "output_type": "stream",
     "text": [
      "\r",
      " 98%|█████████▊| 902/924 [4:37:39<06:01, 16.42s/it]"
     ]
    },
    {
     "name": "stdout",
     "output_type": "stream",
     "text": [
      "/Hotel_Review-g186338-d12192414-Reviews-Warren_Street_Apartments-London_England.html#REVIEWS Warren Street Apartments Reviews, London\n"
     ]
    },
    {
     "name": "stderr",
     "output_type": "stream",
     "text": [
      "\r",
      " 98%|█████████▊| 903/924 [4:37:59<06:07, 17.50s/it]"
     ]
    },
    {
     "name": "stdout",
     "output_type": "stream",
     "text": [
      "/Hotel_Review-g186338-d6476393-Reviews-West_One_Guesthouse-London_England.html#REVIEWS West One Guesthouse Reviews, London\n"
     ]
    },
    {
     "name": "stderr",
     "output_type": "stream",
     "text": [
      "\r",
      " 98%|█████████▊| 904/924 [4:38:18<05:54, 17.72s/it]"
     ]
    },
    {
     "name": "stdout",
     "output_type": "stream",
     "text": [
      "/Hotel_Review-g186338-d6433995-Reviews-City_Of_London_Zen_Apartments-London_England.html#REVIEWS City Of London - Zen Apartments Reviews\n"
     ]
    },
    {
     "name": "stderr",
     "output_type": "stream",
     "text": [
      "\r",
      " 98%|█████████▊| 905/924 [4:38:27<04:51, 15.35s/it]"
     ]
    },
    {
     "name": "stdout",
     "output_type": "stream",
     "text": [
      "/Hotel_Review-g186338-d13943991-Reviews-914_Rooms-London_England.html#REVIEWS 914 Rooms Specialty Inn Reviews, London\n"
     ]
    },
    {
     "name": "stderr",
     "output_type": "stream",
     "text": [
      "\r",
      " 98%|█████████▊| 906/924 [4:38:52<05:28, 18.24s/it]"
     ]
    },
    {
     "name": "stdout",
     "output_type": "stream",
     "text": [
      "/Hotel_Review-g186338-d2063944-Reviews-Camden_Apartments_London-London_England.html#REVIEWS Camden Apartments London Reviews\n"
     ]
    },
    {
     "name": "stderr",
     "output_type": "stream",
     "text": [
      "\r",
      " 98%|█████████▊| 907/924 [4:39:04<04:34, 16.17s/it]"
     ]
    },
    {
     "name": "stdout",
     "output_type": "stream",
     "text": [
      "/Hotel_Review-g186338-d13968328-Reviews-Twiggy_Guesthouse-London_England.html#REVIEWS Twiggy Guesthouse Lodge Reviews, London\n"
     ]
    },
    {
     "name": "stderr",
     "output_type": "stream",
     "text": [
      "\r",
      " 98%|█████████▊| 908/924 [4:39:20<04:17, 16.08s/it]"
     ]
    },
    {
     "name": "stdout",
     "output_type": "stream",
     "text": [
      "/Hotel_Review-g186338-d11885939-Reviews-Bloem_Rooms-London_England.html#REVIEWS Bloem Rooms Hostel Reviews, London\n"
     ]
    },
    {
     "name": "stderr",
     "output_type": "stream",
     "text": [
      "\r",
      " 98%|█████████▊| 909/924 [4:39:47<04:50, 19.38s/it]"
     ]
    },
    {
     "name": "stdout",
     "output_type": "stream",
     "text": [
      "/Hotel_Review-g186338-d3646100-Reviews-Villiers_Tokyo_Studio_Apartments-London_England.html#REVIEWS Villiers Tokyo Studio Apartments Reviews, London\n"
     ]
    },
    {
     "name": "stderr",
     "output_type": "stream",
     "text": [
      "\r",
      " 98%|█████████▊| 910/924 [4:40:12<04:56, 21.19s/it]"
     ]
    },
    {
     "name": "stdout",
     "output_type": "stream",
     "text": [
      "/Hotel_Review-g186338-d1818278-Reviews-West_Two_London-London_England.html#REVIEWS West Two London Hostel Reviews\n"
     ]
    },
    {
     "name": "stderr",
     "output_type": "stream",
     "text": [
      "\r",
      " 99%|█████████▊| 911/924 [4:40:24<04:00, 18.51s/it]"
     ]
    },
    {
     "name": "stdout",
     "output_type": "stream",
     "text": [
      "/Hotel_Review-g186338-d9777023-Reviews-Tower_Hill_Nice_Rooms-London_England.html#REVIEWS Tower Hill Nice Rooms B&B Reviews, London\n"
     ]
    },
    {
     "name": "stderr",
     "output_type": "stream",
     "text": [
      "\r",
      " 99%|█████████▊| 912/924 [4:40:49<04:05, 20.44s/it]"
     ]
    },
    {
     "name": "stdout",
     "output_type": "stream",
     "text": [
      "/Hotel_Review-g186338-d14051511-Reviews-Byron_Inn-London_England.html#REVIEWS Byron Inn Reviews, London\n"
     ]
    },
    {
     "name": "stderr",
     "output_type": "stream",
     "text": [
      "\r",
      " 99%|█████████▉| 913/924 [4:41:18<04:10, 22.81s/it]"
     ]
    },
    {
     "name": "stdout",
     "output_type": "stream",
     "text": [
      "/Hotel_Review-g186338-d4945171-Reviews-Valley_Lodge-London_England.html#REVIEWS Valley Lodge Reviews, London\n"
     ]
    },
    {
     "name": "stderr",
     "output_type": "stream",
     "text": [
      "\r",
      " 99%|█████████▉| 914/924 [4:41:37<03:38, 21.88s/it]"
     ]
    },
    {
     "name": "stdout",
     "output_type": "stream",
     "text": [
      "/Hotel_Review-g186338-d13074900-Reviews-The_London_Lodge-London_England.html#REVIEWS The London Lodge Reviews\n"
     ]
    },
    {
     "name": "stderr",
     "output_type": "stream",
     "text": [
      "\r",
      " 99%|█████████▉| 915/924 [4:41:44<02:36, 17.41s/it]"
     ]
    },
    {
     "name": "stdout",
     "output_type": "stream",
     "text": [
      "/Hotel_Review-g186338-d3392929-Reviews-Apples_Inn-London_England.html#REVIEWS Apples Inn Guesthouse Reviews, London\n"
     ]
    },
    {
     "name": "stderr",
     "output_type": "stream",
     "text": [
      "\r",
      " 99%|█████████▉| 916/924 [4:41:55<02:03, 15.48s/it]"
     ]
    },
    {
     "name": "stdout",
     "output_type": "stream",
     "text": [
      "/Hotel_Review-g186338-d7223998-Reviews-Dickens_Lodge-London_England.html#REVIEWS Dickens Lodge Inn Reviews, London\n"
     ]
    },
    {
     "name": "stderr",
     "output_type": "stream",
     "text": [
      "\r",
      " 99%|█████████▉| 917/924 [4:42:21<02:10, 18.60s/it]"
     ]
    },
    {
     "name": "stdout",
     "output_type": "stream",
     "text": [
      "/Hotel_Review-g186338-d214645-Reviews-Kenwood_House_Hotel-London_England.html#REVIEWS Kenwood House Hotel B&B Reviews, London\n"
     ]
    },
    {
     "name": "stderr",
     "output_type": "stream",
     "text": [
      "\r",
      " 99%|█████████▉| 918/924 [4:42:36<01:45, 17.57s/it]"
     ]
    },
    {
     "name": "stdout",
     "output_type": "stream",
     "text": [
      "/Hotel_Review-g186338-d6886217-Reviews-W6_Guesthouse-London_England.html#REVIEWS W6 Guesthouse Hotel Reviews, London\n"
     ]
    },
    {
     "name": "stderr",
     "output_type": "stream",
     "text": [
      "\r",
      " 99%|█████████▉| 919/924 [4:43:01<01:38, 19.61s/it]"
     ]
    },
    {
     "name": "stdout",
     "output_type": "stream",
     "text": [
      "/Hotel_Review-g186338-d15763460-Reviews-Valet_Apartments-London_England.html#REVIEWS Valet Apartments Lodging Reviews, London\n"
     ]
    },
    {
     "name": "stderr",
     "output_type": "stream",
     "text": [
      "\r",
      "100%|█████████▉| 920/924 [4:43:07<01:02, 15.63s/it]"
     ]
    },
    {
     "name": "stdout",
     "output_type": "stream",
     "text": [
      "/Hotel_Review-g186338-d7742545-Reviews-Kingward_Rooms-London_England.html#REVIEWS Kingward Rooms Lodge Reviews, London\n"
     ]
    },
    {
     "name": "stderr",
     "output_type": "stream",
     "text": [
      "\r",
      "100%|█████████▉| 921/924 [4:43:35<00:58, 19.35s/it]"
     ]
    },
    {
     "name": "stdout",
     "output_type": "stream",
     "text": [
      "/Hotel_Review-g186338-d9738286-Reviews-Cottage_98-London_England.html#REVIEWS Cottage@98 Reviews, London\n"
     ]
    },
    {
     "name": "stderr",
     "output_type": "stream",
     "text": [
      "\r",
      "100%|█████████▉| 922/924 [4:43:50<00:35, 17.86s/it]"
     ]
    },
    {
     "name": "stdout",
     "output_type": "stream",
     "text": [
      "/Hotel_Review-g186338-d7728390-Reviews-Karslake_Rooms-London_England.html#REVIEWS Karslake Rooms Apartment Reviews, London\n"
     ]
    },
    {
     "name": "stderr",
     "output_type": "stream",
     "text": [
      "\r",
      "100%|█████████▉| 923/924 [4:44:05<00:17, 17.12s/it]"
     ]
    },
    {
     "name": "stdout",
     "output_type": "stream",
     "text": [
      "/Hotel_Review-g186338-d6212241-Reviews-Holland_Apartments-London_England.html#REVIEWS Holland Apartments Reviews, London\n"
     ]
    },
    {
     "name": "stderr",
     "output_type": "stream",
     "text": [
      "100%|██████████| 924/924 [4:44:21<00:00, 18.46s/it]"
     ]
    },
    {
     "name": "stdout",
     "output_type": "stream",
     "text": [
      "/Hotel_Review-g186338-d3221483-Reviews-Zenith_Hostel-London_England.html#REVIEWS Zenith Hostel Reviews, London\n",
      "big sleep\n"
     ]
    },
    {
     "name": "stderr",
     "output_type": "stream",
     "text": [
      "\n"
     ]
    }
   ],
   "source": [
    "# iterate through each hotel link and extract hotel details using functions above and store results in dictionary\n",
    "status = []\n",
    "\n",
    "# set-up blank hotel data dictionary\n",
    "hotel_dict = {'link':[],\n",
    "            'hotel_name':[],\n",
    "             'address': [],\n",
    "              'star_rating': [],\n",
    "              'avg_review_score': [],\n",
    "              'avg_review_score_breakdown': [],              \n",
    "              'hotel_description': [],\n",
    "              'hotel_style': [],\n",
    "             'location_details': [],\n",
    "              'location_amenities': [],\n",
    "             'hotel_review_number': [],\n",
    "             'num_reviews': [],\n",
    "             'num_review_breakdown': [],\n",
    "             'top_lang_reviews': [],\n",
    "              'extra_details': [],\n",
    "             }\n",
    "\n",
    "for i in range(0, 900, 900):\n",
    "    for link in tqdm(df.links[1000:1924]):\n",
    "        sleep(np.random.randint(5, 30))#(25,45))\n",
    "        try:\n",
    "            r = requests.get(f'https://www.tripadvisor.co.uk/{link}')\n",
    "        except:\n",
    "            print('page not found')\n",
    "        status.append(r.status_code)\n",
    "        soup = BeautifulSoup(r.text, 'html.parser')\n",
    "        \n",
    "        try:\n",
    "            hotel_dict['link'].append(link)\n",
    "            hotel_dict['hotel_name'].append(get_hotel_name(soup))\n",
    "            hotel_dict['address'].append(get_hotel_address(soup))\n",
    "            hotel_dict['star_rating'].append(get_hotel_star_rating(soup))\n",
    "            hotel_dict['avg_review_score'].append(get_hotel_avg_score(soup))\n",
    "            hotel_dict['avg_review_score_breakdown'].append(get_hotel_avg_score_breakdown(soup))\n",
    "            hotel_dict['hotel_description'].append(get_hotel_desc(soup))\n",
    "            hotel_dict['hotel_style'].append(get_hotel_style(soup))\n",
    "            hotel_dict['location_details'].append(get_hotel_location_details(soup))\n",
    "            hotel_dict['location_amenities'].append(get_hotel_amenities(soup))\n",
    "            hotel_dict['hotel_review_number'].append(get_hotel_review_number(soup))\n",
    "            hotel_dict['num_reviews'].append(get_hotel_num_reviews(soup))\n",
    "            hotel_dict['num_review_breakdown'].append(get_hotel_overall_review_ratings(soup))\n",
    "            hotel_dict['top_lang_reviews'].append(get_hotel_top_language_reviews(soup))\n",
    "            hotel_dict['extra_details'].append(get_hotel_extra_details(soup))\n",
    "            #sleep(np.random.randint(15,45))\n",
    "        except:\n",
    "            print('error with links')\n",
    "            sleep(np.random.randint(100,200))\n",
    "        \n",
    "        # save to csv file\n",
    "        df_hotel_dict = pd.DataFrame(hotel_dict)\n",
    "        df_hotel_dict.to_csv(f'./TripAdvisor_HotelDetails_London_20210605_400_1924')\n",
    "        print(link, hotel_dict['hotel_name'][-1])\n",
    "    \n",
    "    print('big sleep')\n",
    "    #sleep(np.random.randint(100,150))"
   ]
  },
  {
   "cell_type": "markdown",
   "id": "3d39719c",
   "metadata": {},
   "source": [
    "<a name='hotel_load'></a>\n",
    "### 3.2 Load hotel data from CSV"
   ]
  },
  {
   "cell_type": "code",
   "execution_count": 5,
   "id": "c826a222",
   "metadata": {},
   "outputs": [],
   "source": [
    "# extract scrapped hotel dict data and store in dataframe\n",
    "hotel_datasets = [file for file in os.listdir() if 'Details_' in file]\n",
    "df_hotel_dict = pd.DataFrame()\n",
    "for dataset in hotel_datasets:\n",
    "    df_dataset = pd.read_csv(dataset)\n",
    "    df_hotel_dict = pd.concat([df_hotel_dict, df_dataset], ignore_index=True)"
   ]
  },
  {
   "cell_type": "markdown",
   "id": "5fa5227f",
   "metadata": {},
   "source": [
    "<a name='hotel_tts'></a>\n",
    "### 3.2.1 Add approximate time to scrape reviews column"
   ]
  },
  {
   "cell_type": "code",
   "execution_count": 6,
   "id": "692c191d",
   "metadata": {},
   "outputs": [],
   "source": [
    "# create num english reviews count and approximate time to scrape reviews column\n",
    "df_hotel_dict['num_reviews_english'] = df_hotel_dict.top_lang_reviews.apply(lambda x: eval(x)['English'])\n",
    "df_hotel_dict['approx_time_scrape_hrs'] = (df_hotel_dict.num_reviews_english / 5 * 20)/3600"
   ]
  },
  {
   "cell_type": "code",
   "execution_count": 7,
   "id": "5c4f101c",
   "metadata": {},
   "outputs": [
    {
     "data": {
      "text/html": [
       "<div>\n",
       "<style scoped>\n",
       "    .dataframe tbody tr th:only-of-type {\n",
       "        vertical-align: middle;\n",
       "    }\n",
       "\n",
       "    .dataframe tbody tr th {\n",
       "        vertical-align: top;\n",
       "    }\n",
       "\n",
       "    .dataframe thead th {\n",
       "        text-align: right;\n",
       "    }\n",
       "</style>\n",
       "<table border=\"1\" class=\"dataframe\">\n",
       "  <thead>\n",
       "    <tr style=\"text-align: right;\">\n",
       "      <th></th>\n",
       "      <th>Unnamed: 0</th>\n",
       "      <th>link</th>\n",
       "      <th>hotel_name</th>\n",
       "      <th>address</th>\n",
       "      <th>star_rating</th>\n",
       "      <th>avg_review_score</th>\n",
       "      <th>avg_review_score_breakdown</th>\n",
       "      <th>hotel_description</th>\n",
       "      <th>hotel_style</th>\n",
       "      <th>location_details</th>\n",
       "      <th>location_amenities</th>\n",
       "      <th>hotel_review_number</th>\n",
       "      <th>num_reviews</th>\n",
       "      <th>num_review_breakdown</th>\n",
       "      <th>top_lang_reviews</th>\n",
       "      <th>extra_details</th>\n",
       "      <th>num_reviews_english</th>\n",
       "      <th>approx_time_scrape_hrs</th>\n",
       "    </tr>\n",
       "  </thead>\n",
       "  <tbody>\n",
       "    <tr>\n",
       "      <th>0</th>\n",
       "      <td>0</td>\n",
       "      <td>/Hotel_Review-g186338-d1371050-Reviews-The_Ken...</td>\n",
       "      <td>The Kensington Hotel Reviews, London</td>\n",
       "      <td>109-113 Queen's Gate South Kensington, London ...</td>\n",
       "      <td>4.0</td>\n",
       "      <td>4.5</td>\n",
       "      <td>{'Location': 5.0, 'Cleanliness': 5.0, 'Service...</td>\n",
       "      <td>Traditional service and Victorian grandeur com...</td>\n",
       "      <td>['', 'Boutique', 'Charming', 'English, French']</td>\n",
       "      <td>['100Great for walkersGrade: 100 out of 100', ...</td>\n",
       "      <td>Free High Speed Internet (WiFi), Fitness Centr...</td>\n",
       "      <td>#16 of 1,167 hotels in London</td>\n",
       "      <td>3753</td>\n",
       "      <td>None</td>\n",
       "      <td>{'All languages': 3753, 'English': 3419, 'Chin...</td>\n",
       "      <td>['£228 - £356 (Based on Average Rates for a St...</td>\n",
       "      <td>3419</td>\n",
       "      <td>3.798889</td>\n",
       "    </tr>\n",
       "    <tr>\n",
       "      <th>1</th>\n",
       "      <td>1</td>\n",
       "      <td>/Hotel_Review-g186338-d187686-Reviews-The_Savo...</td>\n",
       "      <td>The Savoy Hotel Reviews, London</td>\n",
       "      <td>The Strand, London WC2R 0EZ England</td>\n",
       "      <td>5.0</td>\n",
       "      <td>4.5</td>\n",
       "      <td>{'Location': 5.0, 'Cleanliness': 5.0, 'Service...</td>\n",
       "      <td>Over the last few months, our team have been w...</td>\n",
       "      <td>['', 'Classic', 'Luxury', 'English, French, It...</td>\n",
       "      <td>['100Great for walkersGrade: 100 out of 100', ...</td>\n",
       "      <td>Paid private parking nearby, Free High Speed I...</td>\n",
       "      <td>#23 of 1,167 hotels in London</td>\n",
       "      <td>6300</td>\n",
       "      <td>None</td>\n",
       "      <td>{'All languages': 6304, 'English': 5901, 'Chin...</td>\n",
       "      <td>['£367 - £628 (Based on Average Rates for a St...</td>\n",
       "      <td>5901</td>\n",
       "      <td>6.556667</td>\n",
       "    </tr>\n",
       "    <tr>\n",
       "      <th>2</th>\n",
       "      <td>2</td>\n",
       "      <td>/Hotel_Review-g186338-d15134890-Reviews-The_Re...</td>\n",
       "      <td>The Resident Covent Garden Hotel Reviews, London</td>\n",
       "      <td>51 Bedford Street Drift.every.atoms, London WC...</td>\n",
       "      <td>None</td>\n",
       "      <td>5.0</td>\n",
       "      <td>{'Location': 5.0, 'Cleanliness': 5.0, 'Service...</td>\n",
       "      <td>Renowned for its elegant central Piazza, charm...</td>\n",
       "      <td>['English, Spanish, Arabic, Danish and 5 more']</td>\n",
       "      <td>['100Great for walkersGrade: 100 out of 100', ...</td>\n",
       "      <td>Free High Speed Internet (WiFi), Breakfast ava...</td>\n",
       "      <td>#2 of 1,167 hotels in London</td>\n",
       "      <td>551</td>\n",
       "      <td>[513, 37, 2, 1, 1]</td>\n",
       "      <td>{'All languages': 554, 'English': 498, 'French...</td>\n",
       "      <td>['£152 - £302 (Based on Average Rates for a St...</td>\n",
       "      <td>498</td>\n",
       "      <td>0.553333</td>\n",
       "    </tr>\n",
       "    <tr>\n",
       "      <th>3</th>\n",
       "      <td>3</td>\n",
       "      <td>/Hotel_Review-g186338-d2048553-Reviews-Leonard...</td>\n",
       "      <td>Leonardo Royal London Tower Bridge Hotel Reviews</td>\n",
       "      <td>45 Prescot Street, London E1 8GP England</td>\n",
       "      <td>4.0</td>\n",
       "      <td>4.5</td>\n",
       "      <td>{'Location': 4.5, 'Cleanliness': 4.5, 'Service...</td>\n",
       "      <td>Leonardo Royal London Tower Bridge redefines l...</td>\n",
       "      <td>['', 'English, Polish']</td>\n",
       "      <td>['100Great for walkersGrade: 100 out of 100', ...</td>\n",
       "      <td>Free High Speed Internet (WiFi), Pool, Fitness...</td>\n",
       "      <td>#142 of 1,167 hotels in London</td>\n",
       "      <td>1147</td>\n",
       "      <td>[766, 198, 86, 52, 49]</td>\n",
       "      <td>{'All languages': 1151, 'English': 1074, 'Fren...</td>\n",
       "      <td>['£86 - £232 (Based on Average Rates for a Sta...</td>\n",
       "      <td>1074</td>\n",
       "      <td>1.193333</td>\n",
       "    </tr>\n",
       "    <tr>\n",
       "      <th>4</th>\n",
       "      <td>4</td>\n",
       "      <td>/Hotel_Review-g186338-d6484754-Reviews-Shangri...</td>\n",
       "      <td>Shangri-La Hotel, At The Shard, London Reviews</td>\n",
       "      <td>31 St Thomas Street, London SE1 9QU England</td>\n",
       "      <td>5.0</td>\n",
       "      <td>4.5</td>\n",
       "      <td>{'Location': 4.5, 'Cleanliness': 5.0, 'Service...</td>\n",
       "      <td>Feel an unparalleled connection to London, at ...</td>\n",
       "      <td>['', 'City View', 'Great View', 'English, Fren...</td>\n",
       "      <td>['100Great for walkersGrade: 100 out of 100', ...</td>\n",
       "      <td>Valet parking, Free High Speed Internet (WiFi)...</td>\n",
       "      <td>#15 of 1,167 hotels in London</td>\n",
       "      <td>3898</td>\n",
       "      <td>None</td>\n",
       "      <td>{'All languages': 3903, 'English': 3632, 'Chin...</td>\n",
       "      <td>['£389 - £581 (Based on Average Rates for a St...</td>\n",
       "      <td>3632</td>\n",
       "      <td>4.035556</td>\n",
       "    </tr>\n",
       "  </tbody>\n",
       "</table>\n",
       "</div>"
      ],
      "text/plain": [
       "   Unnamed: 0                                               link  \\\n",
       "0           0  /Hotel_Review-g186338-d1371050-Reviews-The_Ken...   \n",
       "1           1  /Hotel_Review-g186338-d187686-Reviews-The_Savo...   \n",
       "2           2  /Hotel_Review-g186338-d15134890-Reviews-The_Re...   \n",
       "3           3  /Hotel_Review-g186338-d2048553-Reviews-Leonard...   \n",
       "4           4  /Hotel_Review-g186338-d6484754-Reviews-Shangri...   \n",
       "\n",
       "                                         hotel_name  \\\n",
       "0              The Kensington Hotel Reviews, London   \n",
       "1                   The Savoy Hotel Reviews, London   \n",
       "2  The Resident Covent Garden Hotel Reviews, London   \n",
       "3  Leonardo Royal London Tower Bridge Hotel Reviews   \n",
       "4    Shangri-La Hotel, At The Shard, London Reviews   \n",
       "\n",
       "                                             address star_rating  \\\n",
       "0  109-113 Queen's Gate South Kensington, London ...         4.0   \n",
       "1                The Strand, London WC2R 0EZ England         5.0   \n",
       "2  51 Bedford Street Drift.every.atoms, London WC...        None   \n",
       "3           45 Prescot Street, London E1 8GP England         4.0   \n",
       "4        31 St Thomas Street, London SE1 9QU England         5.0   \n",
       "\n",
       "   avg_review_score                         avg_review_score_breakdown  \\\n",
       "0               4.5  {'Location': 5.0, 'Cleanliness': 5.0, 'Service...   \n",
       "1               4.5  {'Location': 5.0, 'Cleanliness': 5.0, 'Service...   \n",
       "2               5.0  {'Location': 5.0, 'Cleanliness': 5.0, 'Service...   \n",
       "3               4.5  {'Location': 4.5, 'Cleanliness': 4.5, 'Service...   \n",
       "4               4.5  {'Location': 4.5, 'Cleanliness': 5.0, 'Service...   \n",
       "\n",
       "                                   hotel_description  \\\n",
       "0  Traditional service and Victorian grandeur com...   \n",
       "1  Over the last few months, our team have been w...   \n",
       "2  Renowned for its elegant central Piazza, charm...   \n",
       "3  Leonardo Royal London Tower Bridge redefines l...   \n",
       "4  Feel an unparalleled connection to London, at ...   \n",
       "\n",
       "                                         hotel_style  \\\n",
       "0    ['', 'Boutique', 'Charming', 'English, French']   \n",
       "1  ['', 'Classic', 'Luxury', 'English, French, It...   \n",
       "2    ['English, Spanish, Arabic, Danish and 5 more']   \n",
       "3                            ['', 'English, Polish']   \n",
       "4  ['', 'City View', 'Great View', 'English, Fren...   \n",
       "\n",
       "                                    location_details  \\\n",
       "0  ['100Great for walkersGrade: 100 out of 100', ...   \n",
       "1  ['100Great for walkersGrade: 100 out of 100', ...   \n",
       "2  ['100Great for walkersGrade: 100 out of 100', ...   \n",
       "3  ['100Great for walkersGrade: 100 out of 100', ...   \n",
       "4  ['100Great for walkersGrade: 100 out of 100', ...   \n",
       "\n",
       "                                  location_amenities  \\\n",
       "0  Free High Speed Internet (WiFi), Fitness Centr...   \n",
       "1  Paid private parking nearby, Free High Speed I...   \n",
       "2  Free High Speed Internet (WiFi), Breakfast ava...   \n",
       "3  Free High Speed Internet (WiFi), Pool, Fitness...   \n",
       "4  Valet parking, Free High Speed Internet (WiFi)...   \n",
       "\n",
       "              hotel_review_number  num_reviews    num_review_breakdown  \\\n",
       "0   #16 of 1,167 hotels in London         3753                    None   \n",
       "1   #23 of 1,167 hotels in London         6300                    None   \n",
       "2    #2 of 1,167 hotels in London          551      [513, 37, 2, 1, 1]   \n",
       "3  #142 of 1,167 hotels in London         1147  [766, 198, 86, 52, 49]   \n",
       "4   #15 of 1,167 hotels in London         3898                    None   \n",
       "\n",
       "                                    top_lang_reviews  \\\n",
       "0  {'All languages': 3753, 'English': 3419, 'Chin...   \n",
       "1  {'All languages': 6304, 'English': 5901, 'Chin...   \n",
       "2  {'All languages': 554, 'English': 498, 'French...   \n",
       "3  {'All languages': 1151, 'English': 1074, 'Fren...   \n",
       "4  {'All languages': 3903, 'English': 3632, 'Chin...   \n",
       "\n",
       "                                       extra_details  num_reviews_english  \\\n",
       "0  ['£228 - £356 (Based on Average Rates for a St...                 3419   \n",
       "1  ['£367 - £628 (Based on Average Rates for a St...                 5901   \n",
       "2  ['£152 - £302 (Based on Average Rates for a St...                  498   \n",
       "3  ['£86 - £232 (Based on Average Rates for a Sta...                 1074   \n",
       "4  ['£389 - £581 (Based on Average Rates for a St...                 3632   \n",
       "\n",
       "   approx_time_scrape_hrs  \n",
       "0                3.798889  \n",
       "1                6.556667  \n",
       "2                0.553333  \n",
       "3                1.193333  \n",
       "4                4.035556  "
      ]
     },
     "execution_count": 7,
     "metadata": {},
     "output_type": "execute_result"
    }
   ],
   "source": [
    "df_hotel_dict.head()"
   ]
  },
  {
   "cell_type": "markdown",
   "id": "bd030461",
   "metadata": {},
   "source": [
    "## 4.0 Scraping Review Data"
   ]
  },
  {
   "cell_type": "markdown",
   "id": "cbcee079",
   "metadata": {},
   "source": [
    "<a name='review_scrape'></a>\n",
    "### 4.1 Code to scrape review data"
   ]
  },
  {
   "cell_type": "code",
   "execution_count": 140,
   "id": "53c8b2d2",
   "metadata": {
    "scrolled": true
   },
   "outputs": [
    {
     "name": "stderr",
     "output_type": "stream",
     "text": [
      "  2%|█▋                                                                                 | 1/49 [00:24<19:32, 24.43s/it]"
     ]
    },
    {
     "name": "stdout",
     "output_type": "stream",
     "text": [
      "/Hotel_Review-g186338-d1107818-Reviews-or0-Holland_Inn-London_England.html#REVIEWS Not amazing, but not that bad!\n"
     ]
    },
    {
     "name": "stderr",
     "output_type": "stream",
     "text": [
      "\r",
      "  4%|███▍                                                                               | 2/49 [00:51<20:33, 26.25s/it]"
     ]
    },
    {
     "name": "stdout",
     "output_type": "stream",
     "text": [
      "/Hotel_Review-g186338-d1107818-Reviews-or5-Holland_Inn-London_England.html#REVIEWS Awful\n"
     ]
    },
    {
     "name": "stderr",
     "output_type": "stream",
     "text": [
      "\r",
      "  6%|█████                                                                              | 3/49 [01:17<19:44, 25.75s/it]"
     ]
    },
    {
     "name": "stdout",
     "output_type": "stream",
     "text": [
      "/Hotel_Review-g186338-d1107818-Reviews-or10-Holland_Inn-London_England.html#REVIEWS Small rooms\n"
     ]
    },
    {
     "name": "stderr",
     "output_type": "stream",
     "text": [
      "\r",
      "  8%|██████▊                                                                            | 4/49 [01:24<13:51, 18.48s/it]"
     ]
    },
    {
     "name": "stdout",
     "output_type": "stream",
     "text": [
      "/Hotel_Review-g186338-d1107818-Reviews-or15-Holland_Inn-London_England.html#REVIEWS Worst Hotel I've Stayed in\n"
     ]
    },
    {
     "name": "stderr",
     "output_type": "stream",
     "text": [
      "\r",
      " 10%|████████▍                                                                          | 5/49 [01:40<12:56, 17.65s/it]"
     ]
    },
    {
     "name": "stdout",
     "output_type": "stream",
     "text": [
      "/Hotel_Review-g186338-d1107818-Reviews-or20-Holland_Inn-London_England.html#REVIEWS Cancelled booking without warning after trying to take payment without authorisation\n"
     ]
    },
    {
     "name": "stderr",
     "output_type": "stream",
     "text": [
      "\r",
      " 12%|██████████▏                                                                        | 6/49 [02:02<13:37, 19.02s/it]"
     ]
    },
    {
     "name": "stdout",
     "output_type": "stream",
     "text": [
      "/Hotel_Review-g186338-d1107818-Reviews-or25-Holland_Inn-London_England.html#REVIEWS Very basic\n"
     ]
    },
    {
     "name": "stderr",
     "output_type": "stream",
     "text": [
      "\r",
      " 14%|███████████▊                                                                       | 7/49 [02:25<14:19, 20.47s/it]"
     ]
    },
    {
     "name": "stdout",
     "output_type": "stream",
     "text": [
      "/Hotel_Review-g186338-d1107818-Reviews-or30-Holland_Inn-London_England.html#REVIEWS Nightmare\n"
     ]
    },
    {
     "name": "stderr",
     "output_type": "stream",
     "text": [
      "\r",
      " 16%|█████████████▌                                                                     | 8/49 [02:52<15:15, 22.33s/it]"
     ]
    },
    {
     "name": "stdout",
     "output_type": "stream",
     "text": [
      "/Hotel_Review-g186338-d1107818-Reviews-or35-Holland_Inn-London_England.html#REVIEWS Value for money\n"
     ]
    },
    {
     "name": "stderr",
     "output_type": "stream",
     "text": [
      "\r",
      " 18%|███████████████▏                                                                   | 9/49 [03:08<13:35, 20.39s/it]"
     ]
    },
    {
     "name": "stdout",
     "output_type": "stream",
     "text": [
      "/Hotel_Review-g186338-d1107818-Reviews-or40-Holland_Inn-London_England.html#REVIEWS Very basic , but acceptable for the money.\n"
     ]
    },
    {
     "name": "stderr",
     "output_type": "stream",
     "text": [
      "\r",
      " 20%|████████████████▋                                                                 | 10/49 [03:34<14:27, 22.24s/it]"
     ]
    },
    {
     "name": "stdout",
     "output_type": "stream",
     "text": [
      "/Hotel_Review-g186338-d1107818-Reviews-or45-Holland_Inn-London_England.html#REVIEWS What a waste.\n"
     ]
    },
    {
     "name": "stderr",
     "output_type": "stream",
     "text": [
      "\r",
      " 22%|██████████████████▍                                                               | 11/49 [03:50<12:56, 20.44s/it]"
     ]
    },
    {
     "name": "stdout",
     "output_type": "stream",
     "text": [
      "/Hotel_Review-g186338-d1107818-Reviews-or50-Holland_Inn-London_England.html#REVIEWS Never again!\n"
     ]
    },
    {
     "name": "stderr",
     "output_type": "stream",
     "text": [
      "\r",
      " 24%|████████████████████                                                              | 12/49 [04:13<12:58, 21.05s/it]"
     ]
    },
    {
     "name": "stdout",
     "output_type": "stream",
     "text": [
      "/Hotel_Review-g186338-d1107818-Reviews-or55-Holland_Inn-London_England.html#REVIEWS Good location, good room \n"
     ]
    },
    {
     "name": "stderr",
     "output_type": "stream",
     "text": [
      "\r",
      " 27%|█████████████████████▊                                                            | 13/49 [04:30<11:55, 19.86s/it]"
     ]
    },
    {
     "name": "stdout",
     "output_type": "stream",
     "text": [
      "/Hotel_Review-g186338-d1107818-Reviews-or60-Holland_Inn-London_England.html#REVIEWS ABSOLUTELY DISGUSTING\n"
     ]
    },
    {
     "name": "stderr",
     "output_type": "stream",
     "text": [
      "\r",
      " 29%|███████████████████████▍                                                          | 14/49 [04:45<10:46, 18.47s/it]"
     ]
    },
    {
     "name": "stdout",
     "output_type": "stream",
     "text": [
      "/Hotel_Review-g186338-d1107818-Reviews-or65-Holland_Inn-London_England.html#REVIEWS Awful and Rude\n"
     ]
    },
    {
     "name": "stderr",
     "output_type": "stream",
     "text": [
      "\r",
      " 31%|█████████████████████████                                                         | 15/49 [04:58<09:33, 16.86s/it]"
     ]
    },
    {
     "name": "stdout",
     "output_type": "stream",
     "text": [
      "/Hotel_Review-g186338-d1107818-Reviews-or70-Holland_Inn-London_England.html#REVIEWS I can only describe the place as like staying in a cave with curtains...\n"
     ]
    },
    {
     "name": "stderr",
     "output_type": "stream",
     "text": [
      "\r",
      " 33%|██████████████████████████▊                                                       | 16/49 [05:05<07:38, 13.90s/it]"
     ]
    },
    {
     "name": "stdout",
     "output_type": "stream",
     "text": [
      "/Hotel_Review-g186338-d1107818-Reviews-or75-Holland_Inn-London_England.html#REVIEWS I have never seen a worse hotel in my life, anywhere in the world.\n"
     ]
    },
    {
     "name": "stderr",
     "output_type": "stream",
     "text": [
      "\r",
      " 35%|████████████████████████████▍                                                     | 17/49 [05:16<06:48, 12.77s/it]"
     ]
    },
    {
     "name": "stdout",
     "output_type": "stream",
     "text": [
      "/Hotel_Review-g186338-d1107818-Reviews-or80-Holland_Inn-London_England.html#REVIEWS Biggest dump on the planet!\n"
     ]
    },
    {
     "name": "stderr",
     "output_type": "stream",
     "text": [
      "\r",
      " 37%|██████████████████████████████                                                    | 18/49 [05:29<06:39, 12.88s/it]"
     ]
    },
    {
     "name": "stdout",
     "output_type": "stream",
     "text": [
      "/Hotel_Review-g186338-d1107818-Reviews-or85-Holland_Inn-London_England.html#REVIEWS AWFUL customer service -\n"
     ]
    },
    {
     "name": "stderr",
     "output_type": "stream",
     "text": [
      "\r",
      " 39%|███████████████████████████████▊                                                  | 19/49 [05:55<08:26, 16.87s/it]"
     ]
    },
    {
     "name": "stdout",
     "output_type": "stream",
     "text": [
      "/Hotel_Review-g186338-d1107818-Reviews-or90-Holland_Inn-London_England.html#REVIEWS Shabby but clean: basic, budget hotel\n"
     ]
    },
    {
     "name": "stderr",
     "output_type": "stream",
     "text": [
      "\r",
      " 41%|█████████████████████████████████▍                                                | 20/49 [06:10<07:56, 16.43s/it]"
     ]
    },
    {
     "name": "stdout",
     "output_type": "stream",
     "text": [
      "/Hotel_Review-g186338-d1107818-Reviews-or95-Holland_Inn-London_England.html#REVIEWS Cheap stay\n"
     ]
    },
    {
     "name": "stderr",
     "output_type": "stream",
     "text": [
      "\r",
      " 43%|███████████████████████████████████▏                                              | 21/49 [06:24<07:21, 15.76s/it]"
     ]
    },
    {
     "name": "stdout",
     "output_type": "stream",
     "text": [
      "/Hotel_Review-g186338-d1107818-Reviews-or100-Holland_Inn-London_England.html#REVIEWS Not bad for location, terrible as a hotel! \n"
     ]
    },
    {
     "name": "stderr",
     "output_type": "stream",
     "text": [
      "\r",
      " 45%|████████████████████████████████████▊                                             | 22/49 [06:34<06:14, 13.88s/it]"
     ]
    },
    {
     "name": "stdout",
     "output_type": "stream",
     "text": [
      "/Hotel_Review-g186338-d1107818-Reviews-or105-Holland_Inn-London_England.html#REVIEWS poor\n"
     ]
    },
    {
     "name": "stderr",
     "output_type": "stream",
     "text": [
      "\r",
      " 47%|██████████████████████████████████████▍                                           | 23/49 [06:50<06:19, 14.59s/it]"
     ]
    },
    {
     "name": "stdout",
     "output_type": "stream",
     "text": [
      "/Hotel_Review-g186338-d1107818-Reviews-or110-Holland_Inn-London_England.html#REVIEWS Lack of table\n"
     ]
    },
    {
     "name": "stderr",
     "output_type": "stream",
     "text": [
      "\r",
      " 49%|████████████████████████████████████████▏                                         | 24/49 [07:01<05:39, 13.59s/it]"
     ]
    },
    {
     "name": "stdout",
     "output_type": "stream",
     "text": [
      "/Hotel_Review-g186338-d1107818-Reviews-or115-Holland_Inn-London_England.html#REVIEWS Not a Marriott, but great value\n"
     ]
    },
    {
     "name": "stderr",
     "output_type": "stream",
     "text": [
      "\r",
      " 51%|█████████████████████████████████████████▊                                        | 25/49 [07:29<07:05, 17.71s/it]"
     ]
    },
    {
     "name": "stdout",
     "output_type": "stream",
     "text": [
      "/Hotel_Review-g186338-d1107818-Reviews-or120-Holland_Inn-London_England.html#REVIEWS room quality\n"
     ]
    },
    {
     "name": "stderr",
     "output_type": "stream",
     "text": [
      "\r",
      " 53%|███████████████████████████████████████████▌                                      | 26/49 [07:56<07:53, 20.60s/it]"
     ]
    },
    {
     "name": "stdout",
     "output_type": "stream",
     "text": [
      "/Hotel_Review-g186338-d1107818-Reviews-or125-Holland_Inn-London_England.html#REVIEWS Terrible stay!\n"
     ]
    },
    {
     "name": "stderr",
     "output_type": "stream",
     "text": [
      "\r",
      " 55%|█████████████████████████████████████████████▏                                    | 27/49 [08:03<05:59, 16.33s/it]"
     ]
    },
    {
     "name": "stdout",
     "output_type": "stream",
     "text": [
      "/Hotel_Review-g186338-d1107818-Reviews-or130-Holland_Inn-London_England.html#REVIEWS Absolutely disgusting\n"
     ]
    },
    {
     "name": "stderr",
     "output_type": "stream",
     "text": [
      "\r",
      " 57%|██████████████████████████████████████████████▊                                   | 28/49 [08:19<05:44, 16.40s/it]"
     ]
    },
    {
     "name": "stdout",
     "output_type": "stream",
     "text": [
      "/Hotel_Review-g186338-d1107818-Reviews-or135-Holland_Inn-London_England.html#REVIEWS Excellent stay\n"
     ]
    },
    {
     "name": "stderr",
     "output_type": "stream",
     "text": [
      "\r",
      " 59%|████████████████████████████████████████████████▌                                 | 29/49 [08:32<05:09, 15.50s/it]"
     ]
    },
    {
     "name": "stdout",
     "output_type": "stream",
     "text": [
      "/Hotel_Review-g186338-d1107818-Reviews-or140-Holland_Inn-London_England.html#REVIEWS Good room - noisy plumbing!\n"
     ]
    },
    {
     "name": "stderr",
     "output_type": "stream",
     "text": [
      "\r",
      " 61%|██████████████████████████████████████████████████▏                               | 30/49 [08:47<04:47, 15.12s/it]"
     ]
    },
    {
     "name": "stdout",
     "output_type": "stream",
     "text": [
      "/Hotel_Review-g186338-d1107818-Reviews-or145-Holland_Inn-London_England.html#REVIEWS Believe the other reviews\n"
     ]
    },
    {
     "name": "stderr",
     "output_type": "stream",
     "text": [
      "\r",
      " 63%|███████████████████████████████████████████████████▉                              | 31/49 [09:01<04:27, 14.86s/it]"
     ]
    },
    {
     "name": "stdout",
     "output_type": "stream",
     "text": [
      "/Hotel_Review-g186338-d1107818-Reviews-or150-Holland_Inn-London_England.html#REVIEWS Dirty, grotty, disgusting and just plain awful!! Avoid at all cost!!\n"
     ]
    },
    {
     "name": "stderr",
     "output_type": "stream",
     "text": [
      "\r",
      " 65%|█████████████████████████████████████████████████████▌                            | 32/49 [09:28<05:15, 18.55s/it]"
     ]
    },
    {
     "name": "stdout",
     "output_type": "stream",
     "text": [
      "/Hotel_Review-g186338-d1107818-Reviews-or155-Holland_Inn-London_England.html#REVIEWS Good location,low value for money!\n"
     ]
    },
    {
     "name": "stderr",
     "output_type": "stream",
     "text": [
      "\r",
      " 67%|███████████████████████████████████████████████████████▏                          | 33/49 [09:38<04:16, 16.02s/it]"
     ]
    },
    {
     "name": "stdout",
     "output_type": "stream",
     "text": [
      "/Hotel_Review-g186338-d1107818-Reviews-or160-Holland_Inn-London_England.html#REVIEWS this is the most trrible hotel/Inn I ever stayed in all my trips\n"
     ]
    },
    {
     "name": "stderr",
     "output_type": "stream",
     "text": [
      "\r",
      " 69%|████████████████████████████████████████████████████████▉                         | 34/49 [09:59<04:21, 17.40s/it]"
     ]
    },
    {
     "name": "stdout",
     "output_type": "stream",
     "text": [
      "/Hotel_Review-g186338-d1107818-Reviews-or165-Holland_Inn-London_England.html#REVIEWS Absolute sham!\n"
     ]
    },
    {
     "name": "stderr",
     "output_type": "stream",
     "text": [
      "\r",
      " 71%|██████████████████████████████████████████████████████████▌                       | 35/49 [10:25<04:40, 20.02s/it]"
     ]
    },
    {
     "name": "stdout",
     "output_type": "stream",
     "text": [
      "/Hotel_Review-g186338-d1107818-Reviews-or170-Holland_Inn-London_England.html#REVIEWS Good value,clean, comfortable and central hotel in London\n"
     ]
    },
    {
     "name": "stderr",
     "output_type": "stream",
     "text": [
      "\r",
      " 73%|████████████████████████████████████████████████████████████▏                     | 36/49 [10:52<04:47, 22.13s/it]"
     ]
    },
    {
     "name": "stdout",
     "output_type": "stream",
     "text": [
      "/Hotel_Review-g186338-d1107818-Reviews-or175-Holland_Inn-London_England.html#REVIEWS Dirty, unfriendly and definitely NOT recommended!\n"
     ]
    },
    {
     "name": "stderr",
     "output_type": "stream",
     "text": [
      "\r",
      " 76%|█████████████████████████████████████████████████████████████▉                    | 37/49 [11:05<03:53, 19.49s/it]"
     ]
    },
    {
     "name": "stdout",
     "output_type": "stream",
     "text": [
      "/Hotel_Review-g186338-d1107818-Reviews-or180-Holland_Inn-London_England.html#REVIEWS My stay\n"
     ]
    },
    {
     "name": "stderr",
     "output_type": "stream",
     "text": [
      "\r",
      " 78%|███████████████████████████████████████████████████████████████▌                  | 38/49 [11:22<03:23, 18.49s/it]"
     ]
    },
    {
     "name": "stdout",
     "output_type": "stream",
     "text": [
      "/Hotel_Review-g186338-d1107818-Reviews-or185-Holland_Inn-London_England.html#REVIEWS Worst place we've ever stayed at!! absolutely filthy! Don't bother!\n"
     ]
    },
    {
     "name": "stderr",
     "output_type": "stream",
     "text": [
      "\r",
      " 80%|█████████████████████████████████████████████████████████████████▎                | 39/49 [11:48<03:27, 20.77s/it]"
     ]
    },
    {
     "name": "stdout",
     "output_type": "stream",
     "text": [
      "/Hotel_Review-g186338-d1107818-Reviews-or190-Holland_Inn-London_England.html#REVIEWS It is not value for money at all!!\n"
     ]
    },
    {
     "name": "stderr",
     "output_type": "stream",
     "text": [
      "\r",
      " 82%|██████████████████████████████████████████████████████████████████▉               | 40/49 [12:15<03:23, 22.64s/it]"
     ]
    },
    {
     "name": "stdout",
     "output_type": "stream",
     "text": [
      "/Hotel_Review-g186338-d1107818-Reviews-or195-Holland_Inn-London_England.html#REVIEWS WORST PLACE I HAVE EVER SEEN IN MY LIFE!\n"
     ]
    },
    {
     "name": "stderr",
     "output_type": "stream",
     "text": [
      "\r",
      " 84%|████████████████████████████████████████████████████████████████████▌             | 41/49 [12:26<02:33, 19.22s/it]"
     ]
    },
    {
     "name": "stdout",
     "output_type": "stream",
     "text": [
      "/Hotel_Review-g186338-d1107818-Reviews-or200-Holland_Inn-London_England.html#REVIEWS Horrendous Hotel, don't bother!\n"
     ]
    },
    {
     "name": "stderr",
     "output_type": "stream",
     "text": [
      "\r",
      " 86%|██████████████████████████████████████████████████████████████████████▎           | 42/49 [12:32<01:47, 15.34s/it]"
     ]
    },
    {
     "name": "stdout",
     "output_type": "stream",
     "text": [
      "/Hotel_Review-g186338-d1107818-Reviews-or205-Holland_Inn-London_England.html#REVIEWS worst hotel ever\n"
     ]
    },
    {
     "name": "stderr",
     "output_type": "stream",
     "text": [
      "\r",
      " 88%|███████████████████████████████████████████████████████████████████████▉          | 43/49 [12:54<01:42, 17.15s/it]"
     ]
    },
    {
     "name": "stdout",
     "output_type": "stream",
     "text": [
      "/Hotel_Review-g186338-d1107818-Reviews-or210-Holland_Inn-London_England.html#REVIEWS Stay here ONLY if your from a 3rd world country!\n"
     ]
    },
    {
     "name": "stderr",
     "output_type": "stream",
     "text": [
      "\r",
      " 90%|█████████████████████████████████████████████████████████████████████████▋        | 44/49 [13:09<01:23, 16.62s/it]"
     ]
    },
    {
     "name": "stdout",
     "output_type": "stream",
     "text": [
      "/Hotel_Review-g186338-d1107818-Reviews-or215-Holland_Inn-London_England.html#REVIEWS Average hotel, ok for one night stay.\n"
     ]
    },
    {
     "name": "stderr",
     "output_type": "stream",
     "text": [
      "\r",
      " 92%|███████████████████████████████████████████████████████████████████████████▎      | 45/49 [13:34<01:16, 19.20s/it]"
     ]
    },
    {
     "name": "stdout",
     "output_type": "stream",
     "text": [
      "/Hotel_Review-g186338-d1107818-Reviews-or220-Holland_Inn-London_England.html#REVIEWS Avoid at all costs\n"
     ]
    },
    {
     "name": "stderr",
     "output_type": "stream",
     "text": [
      "\r",
      " 94%|████████████████████████████████████████████████████████████████████████████▉     | 46/49 [13:43<00:48, 16.22s/it]"
     ]
    },
    {
     "name": "stdout",
     "output_type": "stream",
     "text": [
      "/Hotel_Review-g186338-d1107818-Reviews-or225-Holland_Inn-London_England.html#REVIEWS Ridiculous excuse for a hotel - avoid like the plague!!!\n"
     ]
    },
    {
     "name": "stderr",
     "output_type": "stream",
     "text": [
      "\r",
      " 96%|██████████████████████████████████████████████████████████████████████████████▋   | 47/49 [13:51<00:27, 13.58s/it]"
     ]
    },
    {
     "name": "stdout",
     "output_type": "stream",
     "text": [
      "/Hotel_Review-g186338-d1107818-Reviews-or230-Holland_Inn-London_England.html#REVIEWS Not terrible but wouldn't recommend it\n"
     ]
    },
    {
     "name": "stderr",
     "output_type": "stream",
     "text": [
      "\r",
      " 98%|████████████████████████████████████████████████████████████████████████████████▎ | 48/49 [14:10<00:15, 15.23s/it]"
     ]
    },
    {
     "name": "stdout",
     "output_type": "stream",
     "text": [
      "/Hotel_Review-g186338-d1107818-Reviews-or235-Holland_Inn-London_England.html#REVIEWS OK, clean  but small rooms\n"
     ]
    },
    {
     "name": "stderr",
     "output_type": "stream",
     "text": [
      "100%|██████████████████████████████████████████████████████████████████████████████████| 49/49 [14:20<00:00, 17.57s/it]\n",
      "  0%|                                                                                           | 0/49 [00:00<?, ?it/s]"
     ]
    },
    {
     "name": "stdout",
     "output_type": "stream",
     "text": [
      "/Hotel_Review-g186338-d1107818-Reviews-or240-Holland_Inn-London_England.html#REVIEWS clean but OMG\n",
      "big sleep\n"
     ]
    },
    {
     "name": "stderr",
     "output_type": "stream",
     "text": [
      "\r",
      "  2%|█▋                                                                                 | 1/49 [00:25<20:12, 25.26s/it]"
     ]
    },
    {
     "name": "stdout",
     "output_type": "stream",
     "text": [
      "/Hotel_Review-g186338-d568185-Reviews-or0-City_View_Hotel_London-London_England.html#REVIEWS Never again\n"
     ]
    },
    {
     "name": "stderr",
     "output_type": "stream",
     "text": [
      "\r",
      "  4%|███▍                                                                               | 2/49 [00:47<18:29, 23.61s/it]"
     ]
    },
    {
     "name": "stdout",
     "output_type": "stream",
     "text": [
      "/Hotel_Review-g186338-d568185-Reviews-or5-City_View_Hotel_London-London_England.html#REVIEWS Horrible hotel!\n"
     ]
    },
    {
     "name": "stderr",
     "output_type": "stream",
     "text": [
      "\r",
      "  6%|█████                                                                              | 3/49 [01:01<14:34, 19.02s/it]"
     ]
    },
    {
     "name": "stdout",
     "output_type": "stream",
     "text": [
      "/Hotel_Review-g186338-d568185-Reviews-or10-City_View_Hotel_London-London_England.html#REVIEWS Terrible\n"
     ]
    },
    {
     "name": "stderr",
     "output_type": "stream",
     "text": [
      "\r",
      "  8%|██████▊                                                                            | 4/49 [01:16<13:12, 17.62s/it]"
     ]
    },
    {
     "name": "stdout",
     "output_type": "stream",
     "text": [
      "/Hotel_Review-g186338-d568185-Reviews-or15-City_View_Hotel_London-London_England.html#REVIEWS I should’ve walked out...\n"
     ]
    },
    {
     "name": "stderr",
     "output_type": "stream",
     "text": [
      "\r",
      " 10%|████████▍                                                                          | 5/49 [01:38<14:07, 19.25s/it]"
     ]
    },
    {
     "name": "stdout",
     "output_type": "stream",
     "text": [
      "/Hotel_Review-g186338-d568185-Reviews-or20-City_View_Hotel_London-London_England.html#REVIEWS Walked in walked out\n"
     ]
    },
    {
     "name": "stderr",
     "output_type": "stream",
     "text": [
      "\r",
      " 12%|██████████▏                                                                        | 6/49 [02:03<15:01, 20.96s/it]"
     ]
    },
    {
     "name": "stdout",
     "output_type": "stream",
     "text": [
      "/Hotel_Review-g186338-d568185-Reviews-or25-City_View_Hotel_London-London_England.html#REVIEWS Rather bad\n"
     ]
    },
    {
     "name": "stderr",
     "output_type": "stream",
     "text": [
      "\r",
      " 14%|███████████▊                                                                       | 7/49 [02:25<15:03, 21.52s/it]"
     ]
    },
    {
     "name": "stdout",
     "output_type": "stream",
     "text": [
      "/Hotel_Review-g186338-d568185-Reviews-or30-City_View_Hotel_London-London_England.html#REVIEWS Low cost stay\n"
     ]
    },
    {
     "name": "stderr",
     "output_type": "stream",
     "text": [
      "\r",
      " 16%|█████████████▌                                                                     | 8/49 [02:37<12:32, 18.36s/it]"
     ]
    },
    {
     "name": "stdout",
     "output_type": "stream",
     "text": [
      "/Hotel_Review-g186338-d568185-Reviews-or35-City_View_Hotel_London-London_England.html#REVIEWS Right by the Tube Station\n"
     ]
    },
    {
     "name": "stderr",
     "output_type": "stream",
     "text": [
      "\r",
      " 18%|███████████████▏                                                                   | 9/49 [03:00<13:12, 19.82s/it]"
     ]
    },
    {
     "name": "stdout",
     "output_type": "stream",
     "text": [
      "/Hotel_Review-g186338-d568185-Reviews-or40-City_View_Hotel_London-London_England.html#REVIEWS Cheap \n"
     ]
    },
    {
     "name": "stderr",
     "output_type": "stream",
     "text": [
      "\r",
      " 20%|████████████████▋                                                                 | 10/49 [03:21<13:10, 20.27s/it]"
     ]
    },
    {
     "name": "stdout",
     "output_type": "stream",
     "text": [
      "/Hotel_Review-g186338-d568185-Reviews-or45-City_View_Hotel_London-London_England.html#REVIEWS Budget stay\n"
     ]
    },
    {
     "name": "stderr",
     "output_type": "stream",
     "text": [
      "\r",
      " 22%|██████████████████▍                                                               | 11/49 [03:42<12:53, 20.36s/it]"
     ]
    },
    {
     "name": "stdout",
     "output_type": "stream",
     "text": [
      "/Hotel_Review-g186338-d568185-Reviews-or50-City_View_Hotel_London-London_England.html#REVIEWS Nice quiet stay\n"
     ]
    },
    {
     "name": "stderr",
     "output_type": "stream",
     "text": [
      "\r",
      " 24%|████████████████████                                                              | 12/49 [04:09<13:51, 22.48s/it]"
     ]
    },
    {
     "name": "stdout",
     "output_type": "stream",
     "text": [
      "/Hotel_Review-g186338-d568185-Reviews-or55-City_View_Hotel_London-London_England.html#REVIEWS The usual London stuffy stuff\n"
     ]
    },
    {
     "name": "stderr",
     "output_type": "stream",
     "text": [
      "\r",
      " 27%|█████████████████████▊                                                            | 13/49 [04:37<14:23, 23.99s/it]"
     ]
    },
    {
     "name": "stdout",
     "output_type": "stream",
     "text": [
      "/Hotel_Review-g186338-d568185-Reviews-or60-City_View_Hotel_London-London_England.html#REVIEWS I would have had a better night in my car\n"
     ]
    },
    {
     "name": "stderr",
     "output_type": "stream",
     "text": [
      "\r",
      " 29%|███████████████████████▍                                                          | 14/49 [04:53<12:37, 21.64s/it]"
     ]
    },
    {
     "name": "stdout",
     "output_type": "stream",
     "text": [
      "/Hotel_Review-g186338-d568185-Reviews-or65-City_View_Hotel_London-London_England.html#REVIEWS Wish I had read the reviews!\n"
     ]
    },
    {
     "name": "stderr",
     "output_type": "stream",
     "text": [
      "\r",
      " 31%|█████████████████████████                                                         | 15/49 [05:09<11:20, 20.01s/it]"
     ]
    },
    {
     "name": "stdout",
     "output_type": "stream",
     "text": [
      "/Hotel_Review-g186338-d568185-Reviews-or70-City_View_Hotel_London-London_England.html#REVIEWS DO NOT STAY HERE filthy,waste of money\n"
     ]
    },
    {
     "name": "stderr",
     "output_type": "stream",
     "text": [
      "\r",
      " 33%|██████████████████████████▊                                                       | 16/49 [05:28<10:50, 19.72s/it]"
     ]
    },
    {
     "name": "stdout",
     "output_type": "stream",
     "text": [
      "/Hotel_Review-g186338-d568185-Reviews-or75-City_View_Hotel_London-London_England.html#REVIEWS AWFUL HOTEL - TRIED TO CHARGE ME TWICE\n"
     ]
    },
    {
     "name": "stderr",
     "output_type": "stream",
     "text": [
      "\r",
      " 35%|████████████████████████████▍                                                     | 17/49 [05:37<08:50, 16.59s/it]"
     ]
    },
    {
     "name": "stdout",
     "output_type": "stream",
     "text": [
      "/Hotel_Review-g186338-d568185-Reviews-or80-City_View_Hotel_London-London_England.html#REVIEWS STOLE MY MONEY\n"
     ]
    },
    {
     "name": "stderr",
     "output_type": "stream",
     "text": [
      "\r",
      " 37%|██████████████████████████████                                                    | 18/49 [06:06<10:29, 20.31s/it]"
     ]
    },
    {
     "name": "stdout",
     "output_type": "stream",
     "text": [
      "/Hotel_Review-g186338-d568185-Reviews-or85-City_View_Hotel_London-London_England.html#REVIEWS I've stayed in worse.\n"
     ]
    },
    {
     "name": "stderr",
     "output_type": "stream",
     "text": [
      "\r",
      " 39%|███████████████████████████████▊                                                  | 19/49 [06:32<11:00, 22.01s/it]"
     ]
    },
    {
     "name": "stdout",
     "output_type": "stream",
     "text": [
      "/Hotel_Review-g186338-d568185-Reviews-or90-City_View_Hotel_London-London_England.html#REVIEWS Hideous - Do not stay, find a hostel. Unsafe and filthy.\n"
     ]
    },
    {
     "name": "stderr",
     "output_type": "stream",
     "text": [
      "\r",
      " 41%|█████████████████████████████████▍                                                | 20/49 [06:45<09:21, 19.35s/it]"
     ]
    },
    {
     "name": "stdout",
     "output_type": "stream",
     "text": [
      "/Hotel_Review-g186338-d568185-Reviews-or95-City_View_Hotel_London-London_England.html#REVIEWS Horrendous\n"
     ]
    },
    {
     "name": "stderr",
     "output_type": "stream",
     "text": [
      "\r",
      " 43%|███████████████████████████████████▏                                              | 21/49 [07:16<10:33, 22.62s/it]"
     ]
    },
    {
     "name": "stdout",
     "output_type": "stream",
     "text": [
      "/Hotel_Review-g186338-d568185-Reviews-or100-City_View_Hotel_London-London_England.html#REVIEWS London. City View Hotel, KING OF KIPS.\n"
     ]
    },
    {
     "name": "stderr",
     "output_type": "stream",
     "text": [
      "\r",
      " 45%|████████████████████████████████████▊                                             | 22/49 [07:35<09:46, 21.70s/it]"
     ]
    },
    {
     "name": "stdout",
     "output_type": "stream",
     "text": [
      "/Hotel_Review-g186338-d568185-Reviews-or105-City_View_Hotel_London-London_England.html#REVIEWS Double charged and they refused to refund\n"
     ]
    },
    {
     "name": "stderr",
     "output_type": "stream",
     "text": [
      "\r",
      " 47%|██████████████████████████████████████▍                                           | 23/49 [07:44<07:44, 17.88s/it]"
     ]
    },
    {
     "name": "stdout",
     "output_type": "stream",
     "text": [
      "/Hotel_Review-g186338-d568185-Reviews-or110-City_View_Hotel_London-London_England.html#REVIEWS Rubbish\n"
     ]
    },
    {
     "name": "stderr",
     "output_type": "stream",
     "text": [
      "\r",
      " 49%|████████████████████████████████████████▏                                         | 24/49 [08:06<07:53, 18.96s/it]"
     ]
    },
    {
     "name": "stdout",
     "output_type": "stream",
     "text": [
      "/Hotel_Review-g186338-d568185-Reviews-or115-City_View_Hotel_London-London_England.html#REVIEWS Do not stay here\n"
     ]
    },
    {
     "name": "stderr",
     "output_type": "stream",
     "text": [
      "\r",
      " 51%|█████████████████████████████████████████▊                                        | 25/49 [08:17<06:39, 16.66s/it]"
     ]
    },
    {
     "name": "stdout",
     "output_type": "stream",
     "text": [
      "/Hotel_Review-g186338-d568185-Reviews-or120-City_View_Hotel_London-London_England.html#REVIEWS Okay For the money We paid\n"
     ]
    },
    {
     "name": "stderr",
     "output_type": "stream",
     "text": [
      "\r",
      " 53%|███████████████████████████████████████████▌                                      | 26/49 [08:30<05:59, 15.62s/it]"
     ]
    },
    {
     "name": "stdout",
     "output_type": "stream",
     "text": [
      "/Hotel_Review-g186338-d568185-Reviews-or125-City_View_Hotel_London-London_England.html#REVIEWS Cheap and basic\n"
     ]
    },
    {
     "name": "stderr",
     "output_type": "stream",
     "text": [
      "\r",
      " 55%|█████████████████████████████████████████████▏                                    | 27/49 [08:55<06:47, 18.50s/it]"
     ]
    },
    {
     "name": "stdout",
     "output_type": "stream",
     "text": [
      "/Hotel_Review-g186338-d568185-Reviews-or130-City_View_Hotel_London-London_England.html#REVIEWS Just one piece of advice......\n"
     ]
    },
    {
     "name": "stderr",
     "output_type": "stream",
     "text": [
      "\r",
      " 57%|██████████████████████████████████████████████▊                                   | 28/49 [09:26<07:41, 21.98s/it]"
     ]
    },
    {
     "name": "stdout",
     "output_type": "stream",
     "text": [
      "/Hotel_Review-g186338-d568185-Reviews-or135-City_View_Hotel_London-London_England.html#REVIEWS Very poor\n"
     ]
    },
    {
     "name": "stderr",
     "output_type": "stream",
     "text": [
      "\r",
      " 59%|████████████████████████████████████████████████▌                                 | 29/49 [09:37<06:15, 18.75s/it]"
     ]
    },
    {
     "name": "stdout",
     "output_type": "stream",
     "text": [
      "/Hotel_Review-g186338-d568185-Reviews-or140-City_View_Hotel_London-London_England.html#REVIEWS Dare I say, 'WORST EVER'?\n"
     ]
    },
    {
     "name": "stderr",
     "output_type": "stream",
     "text": [
      "\r",
      " 61%|██████████████████████████████████████████████████▏                               | 30/49 [09:52<05:37, 17.75s/it]"
     ]
    },
    {
     "name": "stdout",
     "output_type": "stream",
     "text": [
      "/Hotel_Review-g186338-d568185-Reviews-or145-City_View_Hotel_London-London_England.html#REVIEWS Dirty and unhygienic\n"
     ]
    },
    {
     "name": "stderr",
     "output_type": "stream",
     "text": [
      "\r",
      " 63%|███████████████████████████████████████████████████▉                              | 31/49 [10:12<05:32, 18.47s/it]"
     ]
    },
    {
     "name": "stdout",
     "output_type": "stream",
     "text": [
      "/Hotel_Review-g186338-d568185-Reviews-or150-City_View_Hotel_London-London_England.html#REVIEWS Perfect if you want mould on your shower curtain.\n"
     ]
    },
    {
     "name": "stderr",
     "output_type": "stream",
     "text": [
      "\r",
      " 65%|█████████████████████████████████████████████████████▌                            | 32/49 [10:22<04:31, 15.98s/it]"
     ]
    },
    {
     "name": "stdout",
     "output_type": "stream",
     "text": [
      "/Hotel_Review-g186338-d568185-Reviews-or155-City_View_Hotel_London-London_England.html#REVIEWS Disgusting\n"
     ]
    },
    {
     "name": "stderr",
     "output_type": "stream",
     "text": [
      "\r",
      " 67%|███████████████████████████████████████████████████████▏                          | 33/49 [10:50<05:13, 19.57s/it]"
     ]
    },
    {
     "name": "stdout",
     "output_type": "stream",
     "text": [
      "/Hotel_Review-g186338-d568185-Reviews-or160-City_View_Hotel_London-London_England.html#REVIEWS Don't go there\n"
     ]
    },
    {
     "name": "stderr",
     "output_type": "stream",
     "text": [
      "\r",
      " 69%|████████████████████████████████████████████████████████▉                         | 34/49 [11:17<05:23, 21.55s/it]"
     ]
    },
    {
     "name": "stdout",
     "output_type": "stream",
     "text": [
      "/Hotel_Review-g186338-d568185-Reviews-or165-City_View_Hotel_London-London_England.html#REVIEWS Do not go there\n"
     ]
    },
    {
     "name": "stderr",
     "output_type": "stream",
     "text": [
      "\r",
      " 71%|██████████████████████████████████████████████████████████▌                       | 35/49 [11:34<04:44, 20.32s/it]"
     ]
    },
    {
     "name": "stdout",
     "output_type": "stream",
     "text": [
      "/Hotel_Review-g186338-d568185-Reviews-or170-City_View_Hotel_London-London_England.html#REVIEWS London revisited\n"
     ]
    },
    {
     "name": "stderr",
     "output_type": "stream",
     "text": [
      "\r",
      " 73%|████████████████████████████████████████████████████████████▏                     | 36/49 [11:43<03:41, 17.03s/it]"
     ]
    },
    {
     "name": "stdout",
     "output_type": "stream",
     "text": [
      "/Hotel_Review-g186338-d568185-Reviews-or175-City_View_Hotel_London-London_England.html#REVIEWS fawlty towers?\n"
     ]
    },
    {
     "name": "stderr",
     "output_type": "stream",
     "text": [
      "\r",
      " 76%|█████████████████████████████████████████████████████████████▉                    | 37/49 [11:51<02:48, 14.05s/it]"
     ]
    },
    {
     "name": "stdout",
     "output_type": "stream",
     "text": [
      "/Hotel_Review-g186338-d568185-Reviews-or180-City_View_Hotel_London-London_England.html#REVIEWS Good location\n"
     ]
    },
    {
     "name": "stderr",
     "output_type": "stream",
     "text": [
      "\r",
      " 78%|███████████████████████████████████████████████████████████████▌                  | 38/49 [12:11<02:55, 15.94s/it]"
     ]
    },
    {
     "name": "stdout",
     "output_type": "stream",
     "text": [
      "/Hotel_Review-g186338-d568185-Reviews-or185-City_View_Hotel_London-London_England.html#REVIEWS GOVNO - that's how we would call it in Russian\n"
     ]
    },
    {
     "name": "stderr",
     "output_type": "stream",
     "text": [
      "\r",
      " 80%|█████████████████████████████████████████████████████████████████▎                | 39/49 [12:37<03:10, 19.05s/it]"
     ]
    },
    {
     "name": "stdout",
     "output_type": "stream",
     "text": [
      "/Hotel_Review-g186338-d568185-Reviews-or190-City_View_Hotel_London-London_England.html#REVIEWS Its what you expect for the price!! Not fantastic!!\n"
     ]
    },
    {
     "name": "stderr",
     "output_type": "stream",
     "text": [
      "\r",
      " 82%|██████████████████████████████████████████████████████████████████▉               | 40/49 [12:53<02:41, 17.95s/it]"
     ]
    },
    {
     "name": "stdout",
     "output_type": "stream",
     "text": [
      "/Hotel_Review-g186338-d568185-Reviews-or195-City_View_Hotel_London-London_England.html#REVIEWS the hotel of your nightmares\n"
     ]
    },
    {
     "name": "stderr",
     "output_type": "stream",
     "text": [
      "\r",
      " 84%|████████████████████████████████████████████████████████████████████▌             | 41/49 [13:20<02:46, 20.76s/it]"
     ]
    },
    {
     "name": "stdout",
     "output_type": "stream",
     "text": [
      "/Hotel_Review-g186338-d568185-Reviews-or200-City_View_Hotel_London-London_England.html#REVIEWS False advertising\n"
     ]
    },
    {
     "name": "stderr",
     "output_type": "stream",
     "text": [
      "\r",
      " 86%|██████████████████████████████████████████████████████████████████████▎           | 42/49 [13:34<02:11, 18.84s/it]"
     ]
    },
    {
     "name": "stdout",
     "output_type": "stream",
     "text": [
      "/Hotel_Review-g186338-d568185-Reviews-or205-City_View_Hotel_London-London_England.html#REVIEWS Bedbugs!\n"
     ]
    },
    {
     "name": "stderr",
     "output_type": "stream",
     "text": [
      "\r",
      " 88%|███████████████████████████████████████████████████████████████████████▉          | 43/49 [13:57<01:59, 19.99s/it]"
     ]
    },
    {
     "name": "stdout",
     "output_type": "stream",
     "text": [
      "/Hotel_Review-g186338-d568185-Reviews-or210-City_View_Hotel_London-London_England.html#REVIEWS Steer clear of the City ([--]?) View!\n"
     ]
    },
    {
     "name": "stderr",
     "output_type": "stream",
     "text": [
      "\r",
      " 90%|█████████████████████████████████████████████████████████████████████████▋        | 44/49 [14:27<01:55, 23.14s/it]"
     ]
    },
    {
     "name": "stdout",
     "output_type": "stream",
     "text": [
      "/Hotel_Review-g186338-d568185-Reviews-or215-City_View_Hotel_London-London_England.html#REVIEWS Budget in every sense\n"
     ]
    },
    {
     "name": "stderr",
     "output_type": "stream",
     "text": [
      "\r",
      " 92%|███████████████████████████████████████████████████████████████████████████▎      | 45/49 [14:53<01:35, 23.78s/it]"
     ]
    },
    {
     "name": "stdout",
     "output_type": "stream",
     "text": [
      "/Hotel_Review-g186338-d568185-Reviews-or220-City_View_Hotel_London-London_England.html#REVIEWS cheap and cheap\n"
     ]
    },
    {
     "name": "stderr",
     "output_type": "stream",
     "text": [
      "\r",
      " 94%|████████████████████████████████████████████████████████████████████████████▉     | 46/49 [15:14<01:09, 23.07s/it]"
     ]
    },
    {
     "name": "stdout",
     "output_type": "stream",
     "text": [
      "/Hotel_Review-g186338-d568185-Reviews-or225-City_View_Hotel_London-London_England.html#REVIEWS Excellent budget hotel close to the action!\n"
     ]
    },
    {
     "name": "stderr",
     "output_type": "stream",
     "text": [
      "\r",
      " 96%|██████████████████████████████████████████████████████████████████████████████▋   | 47/49 [15:43<00:49, 24.89s/it]"
     ]
    },
    {
     "name": "stdout",
     "output_type": "stream",
     "text": [
      "/Hotel_Review-g186338-d568185-Reviews-or230-City_View_Hotel_London-London_England.html#REVIEWS most hideous hotel ever\n"
     ]
    },
    {
     "name": "stderr",
     "output_type": "stream",
     "text": [
      "\r",
      " 98%|████████████████████████████████████████████████████████████████████████████████▎ | 48/49 [15:50<00:19, 19.59s/it]"
     ]
    },
    {
     "name": "stdout",
     "output_type": "stream",
     "text": [
      "/Hotel_Review-g186338-d568185-Reviews-or235-City_View_Hotel_London-London_England.html#REVIEWS great price for london\n"
     ]
    },
    {
     "name": "stderr",
     "output_type": "stream",
     "text": [
      "100%|██████████████████████████████████████████████████████████████████████████████████| 49/49 [16:15<00:00, 19.90s/it]\n",
      "  0%|                                                                                           | 0/48 [00:00<?, ?it/s]"
     ]
    },
    {
     "name": "stdout",
     "output_type": "stream",
     "text": [
      "/Hotel_Review-g186338-d568185-Reviews-or240-City_View_Hotel_London-London_England.html#REVIEWS Stay Far, Far Away!!\n",
      "big sleep\n"
     ]
    },
    {
     "name": "stderr",
     "output_type": "stream",
     "text": [
      "\r",
      "  2%|█▋                                                                                 | 1/48 [00:11<09:01, 11.53s/it]"
     ]
    },
    {
     "name": "stdout",
     "output_type": "stream",
     "text": [
      "/Hotel_Review-g186338-d224732-Reviews-or0-Palace_Court_Hotel-London_England.html#REVIEWS Very basic but clean\n"
     ]
    },
    {
     "name": "stderr",
     "output_type": "stream",
     "text": [
      "\r",
      "  4%|███▍                                                                               | 2/48 [00:27<11:03, 14.42s/it]"
     ]
    },
    {
     "name": "stdout",
     "output_type": "stream",
     "text": [
      "/Hotel_Review-g186338-d224732-Reviews-or5-Palace_Court_Hotel-London_England.html#REVIEWS One of the worst hotels\n"
     ]
    },
    {
     "name": "stderr",
     "output_type": "stream",
     "text": [
      "\r",
      "  6%|█████▏                                                                             | 3/48 [00:37<09:05, 12.13s/it]"
     ]
    },
    {
     "name": "stdout",
     "output_type": "stream",
     "text": [
      "/Hotel_Review-g186338-d224732-Reviews-or10-Palace_Court_Hotel-London_England.html#REVIEWS Bad service, unfriendly\n"
     ]
    },
    {
     "name": "stderr",
     "output_type": "stream",
     "text": [
      "\r",
      "  8%|██████▉                                                                            | 4/48 [00:46<08:05, 11.03s/it]"
     ]
    },
    {
     "name": "stdout",
     "output_type": "stream",
     "text": [
      "/Hotel_Review-g186338-d224732-Reviews-or15-Palace_Court_Hotel-London_England.html#REVIEWS Comfortable beds \n"
     ]
    },
    {
     "name": "stderr",
     "output_type": "stream",
     "text": [
      "\r",
      " 10%|████████▋                                                                          | 5/48 [01:07<10:29, 14.64s/it]"
     ]
    },
    {
     "name": "stdout",
     "output_type": "stream",
     "text": [
      "/Hotel_Review-g186338-d224732-Reviews-or20-Palace_Court_Hotel-London_England.html#REVIEWS Nice and cheap budget hotel for families\n"
     ]
    },
    {
     "name": "stderr",
     "output_type": "stream",
     "text": [
      "\r",
      " 12%|██████████▍                                                                        | 6/48 [01:15<08:35, 12.27s/it]"
     ]
    },
    {
     "name": "stdout",
     "output_type": "stream",
     "text": [
      "/Hotel_Review-g186338-d224732-Reviews-or25-Palace_Court_Hotel-London_England.html#REVIEWS Worst experience ever, please avoid!\n"
     ]
    },
    {
     "name": "stderr",
     "output_type": "stream",
     "text": [
      "\r",
      " 15%|████████████                                                                       | 7/48 [01:35<10:08, 14.84s/it]"
     ]
    },
    {
     "name": "stdout",
     "output_type": "stream",
     "text": [
      "/Hotel_Review-g186338-d224732-Reviews-or30-Palace_Court_Hotel-London_England.html#REVIEWS Not pleasent\n"
     ]
    },
    {
     "name": "stderr",
     "output_type": "stream",
     "text": [
      "\r",
      " 17%|█████████████▊                                                                     | 8/48 [01:51<10:07, 15.18s/it]"
     ]
    },
    {
     "name": "stdout",
     "output_type": "stream",
     "text": [
      "/Hotel_Review-g186338-d224732-Reviews-or35-Palace_Court_Hotel-London_England.html#REVIEWS WORST HOTEL - DON'T BOOK\n"
     ]
    },
    {
     "name": "stderr",
     "output_type": "stream",
     "text": [
      "\r",
      " 19%|███████████████▌                                                                   | 9/48 [02:10<10:44, 16.51s/it]"
     ]
    },
    {
     "name": "stdout",
     "output_type": "stream",
     "text": [
      "/Hotel_Review-g186338-d224732-Reviews-or40-Palace_Court_Hotel-London_England.html#REVIEWS Not as bad as reviews make out\n"
     ]
    },
    {
     "name": "stderr",
     "output_type": "stream",
     "text": [
      "\r",
      " 21%|█████████████████                                                                 | 10/48 [02:38<12:36, 19.91s/it]"
     ]
    },
    {
     "name": "stdout",
     "output_type": "stream",
     "text": [
      "/Hotel_Review-g186338-d224732-Reviews-or45-Palace_Court_Hotel-London_England.html#REVIEWS very helpful gent at reception\n"
     ]
    },
    {
     "name": "stderr",
     "output_type": "stream",
     "text": [
      "\r",
      " 23%|██████████████████▊                                                               | 11/48 [03:00<12:46, 20.72s/it]"
     ]
    },
    {
     "name": "stdout",
     "output_type": "stream",
     "text": [
      "/Hotel_Review-g186338-d224732-Reviews-or50-Palace_Court_Hotel-London_England.html#REVIEWS Disappointed\n"
     ]
    },
    {
     "name": "stderr",
     "output_type": "stream",
     "text": [
      "\r",
      " 25%|████████████████████▌                                                             | 12/48 [03:08<10:01, 16.72s/it]"
     ]
    },
    {
     "name": "stdout",
     "output_type": "stream",
     "text": [
      "/Hotel_Review-g186338-d224732-Reviews-or55-Palace_Court_Hotel-London_England.html#REVIEWS Terrible!\n"
     ]
    },
    {
     "name": "stderr",
     "output_type": "stream",
     "text": [
      "\r",
      " 27%|██████████████████████▏                                                           | 13/48 [03:23<09:30, 16.29s/it]"
     ]
    },
    {
     "name": "stdout",
     "output_type": "stream",
     "text": [
      "/Hotel_Review-g186338-d224732-Reviews-or60-Palace_Court_Hotel-London_England.html#REVIEWS Great value and location\n"
     ]
    },
    {
     "name": "stderr",
     "output_type": "stream",
     "text": [
      "\r",
      " 29%|███████████████████████▉                                                          | 14/48 [03:52<11:25, 20.17s/it]"
     ]
    },
    {
     "name": "stdout",
     "output_type": "stream",
     "text": [
      "/Hotel_Review-g186338-d224732-Reviews-or65-Palace_Court_Hotel-London_England.html#REVIEWS Great location, cramped room\n"
     ]
    },
    {
     "name": "stderr",
     "output_type": "stream",
     "text": [
      "\r",
      " 31%|█████████████████████████▋                                                        | 15/48 [04:13<11:08, 20.26s/it]"
     ]
    },
    {
     "name": "stdout",
     "output_type": "stream",
     "text": [
      "/Hotel_Review-g186338-d224732-Reviews-or70-Palace_Court_Hotel-London_England.html#REVIEWS Disgusting!!!\n"
     ]
    },
    {
     "name": "stderr",
     "output_type": "stream",
     "text": [
      "\r",
      " 33%|███████████████████████████▎                                                      | 16/48 [04:41<12:06, 22.69s/it]"
     ]
    },
    {
     "name": "stdout",
     "output_type": "stream",
     "text": [
      "/Hotel_Review-g186338-d224732-Reviews-or75-Palace_Court_Hotel-London_England.html#REVIEWS Never ever coming back here\n"
     ]
    },
    {
     "name": "stderr",
     "output_type": "stream",
     "text": [
      "\r",
      " 35%|█████████████████████████████                                                     | 17/48 [05:09<12:34, 24.33s/it]"
     ]
    },
    {
     "name": "stdout",
     "output_type": "stream",
     "text": [
      "/Hotel_Review-g186338-d224732-Reviews-or80-Palace_Court_Hotel-London_England.html#REVIEWS Terrible\n"
     ]
    },
    {
     "name": "stderr",
     "output_type": "stream",
     "text": [
      "\r",
      " 38%|██████████████████████████████▊                                                   | 18/48 [05:18<09:47, 19.57s/it]"
     ]
    },
    {
     "name": "stdout",
     "output_type": "stream",
     "text": [
      "/Hotel_Review-g186338-d224732-Reviews-or85-Palace_Court_Hotel-London_England.html#REVIEWS Definitely not the worst hotel\n"
     ]
    },
    {
     "name": "stderr",
     "output_type": "stream",
     "text": [
      "\r",
      " 40%|████████████████████████████████▍                                                 | 19/48 [05:37<09:25, 19.49s/it]"
     ]
    },
    {
     "name": "stdout",
     "output_type": "stream",
     "text": [
      "/Hotel_Review-g186338-d224732-Reviews-or90-Palace_Court_Hotel-London_England.html#REVIEWS You get what you pay for\n"
     ]
    },
    {
     "name": "stderr",
     "output_type": "stream",
     "text": [
      "\r",
      " 42%|██████████████████████████████████▏                                               | 20/48 [06:03<09:56, 21.31s/it]"
     ]
    },
    {
     "name": "stdout",
     "output_type": "stream",
     "text": [
      "/Hotel_Review-g186338-d224732-Reviews-or95-Palace_Court_Hotel-London_England.html#REVIEWS Dubious stains on duvet/blanket\n"
     ]
    },
    {
     "name": "stderr",
     "output_type": "stream",
     "text": [
      "\r",
      " 44%|███████████████████████████████████▉                                              | 21/48 [06:21<09:13, 20.48s/it]"
     ]
    },
    {
     "name": "stdout",
     "output_type": "stream",
     "text": [
      "/Hotel_Review-g186338-d224732-Reviews-or100-Palace_Court_Hotel-London_England.html#REVIEWS Great stay, low expectations\n"
     ]
    },
    {
     "name": "stderr",
     "output_type": "stream",
     "text": [
      "\r",
      " 46%|█████████████████████████████████████▌                                            | 22/48 [06:36<08:06, 18.69s/it]"
     ]
    },
    {
     "name": "stdout",
     "output_type": "stream",
     "text": [
      "/Hotel_Review-g186338-d224732-Reviews-or105-Palace_Court_Hotel-London_England.html#REVIEWS were young and i would not stay again EVER\n"
     ]
    },
    {
     "name": "stderr",
     "output_type": "stream",
     "text": [
      "\r",
      " 48%|███████████████████████████████████████▎                                          | 23/48 [06:50<07:14, 17.39s/it]"
     ]
    },
    {
     "name": "stdout",
     "output_type": "stream",
     "text": [
      "/Hotel_Review-g186338-d224732-Reviews-or110-Palace_Court_Hotel-London_England.html#REVIEWS Good price - reasonable hotel\n"
     ]
    },
    {
     "name": "stderr",
     "output_type": "stream",
     "text": [
      "\r",
      " 50%|█████████████████████████████████████████                                         | 24/48 [07:12<07:32, 18.85s/it]"
     ]
    },
    {
     "name": "stdout",
     "output_type": "stream",
     "text": [
      "/Hotel_Review-g186338-d224732-Reviews-or115-Palace_Court_Hotel-London_England.html#REVIEWS Choose another hotel in this area!!!\n"
     ]
    },
    {
     "name": "stderr",
     "output_type": "stream",
     "text": [
      "\r",
      " 52%|██████████████████████████████████████████▋                                       | 25/48 [07:36<07:46, 20.27s/it]"
     ]
    },
    {
     "name": "stdout",
     "output_type": "stream",
     "text": [
      "/Hotel_Review-g186338-d224732-Reviews-or120-Palace_Court_Hotel-London_England.html#REVIEWS This is like sleeping in a barn with a racist staff\n"
     ]
    },
    {
     "name": "stderr",
     "output_type": "stream",
     "text": [
      "\r",
      " 54%|████████████████████████████████████████████▍                                     | 26/48 [07:56<07:21, 20.07s/it]"
     ]
    },
    {
     "name": "stdout",
     "output_type": "stream",
     "text": [
      "/Hotel_Review-g186338-d224732-Reviews-or125-Palace_Court_Hotel-London_England.html#REVIEWS Basic, basic, with good climbs.\n"
     ]
    },
    {
     "name": "stderr",
     "output_type": "stream",
     "text": [
      "\r",
      " 56%|██████████████████████████████████████████████▏                                   | 27/48 [08:21<07:35, 21.67s/it]"
     ]
    },
    {
     "name": "stdout",
     "output_type": "stream",
     "text": [
      "/Hotel_Review-g186338-d224732-Reviews-or130-Palace_Court_Hotel-London_England.html#REVIEWS Nice, but average\n"
     ]
    },
    {
     "name": "stderr",
     "output_type": "stream",
     "text": [
      "\r",
      " 58%|███████████████████████████████████████████████▊                                  | 28/48 [08:34<06:23, 19.20s/it]"
     ]
    },
    {
     "name": "stdout",
     "output_type": "stream",
     "text": [
      "/Hotel_Review-g186338-d224732-Reviews-or135-Palace_Court_Hotel-London_England.html#REVIEWS london trip\n"
     ]
    },
    {
     "name": "stderr",
     "output_type": "stream",
     "text": [
      "\r",
      " 60%|█████████████████████████████████████████████████▌                                | 29/48 [08:43<05:02, 15.93s/it]"
     ]
    },
    {
     "name": "stdout",
     "output_type": "stream",
     "text": [
      "/Hotel_Review-g186338-d224732-Reviews-or140-Palace_Court_Hotel-London_England.html#REVIEWS Cheap but basic\n"
     ]
    },
    {
     "name": "stderr",
     "output_type": "stream",
     "text": [
      "\r",
      " 62%|███████████████████████████████████████████████████▎                              | 30/48 [08:59<04:47, 15.97s/it]"
     ]
    },
    {
     "name": "stdout",
     "output_type": "stream",
     "text": [
      "/Hotel_Review-g186338-d224732-Reviews-or145-Palace_Court_Hotel-London_England.html#REVIEWS Never not ever again no matter what\n"
     ]
    },
    {
     "name": "stderr",
     "output_type": "stream",
     "text": [
      "\r",
      " 65%|████████████████████████████████████████████████████▉                             | 31/48 [09:06<03:45, 13.29s/it]"
     ]
    },
    {
     "name": "stdout",
     "output_type": "stream",
     "text": [
      "/Hotel_Review-g186338-d224732-Reviews-or150-Palace_Court_Hotel-London_England.html#REVIEWS You'll get what you pay for\n"
     ]
    },
    {
     "name": "stderr",
     "output_type": "stream",
     "text": [
      "\r",
      " 67%|██████████████████████████████████████████████████████▋                           | 32/48 [09:26<04:06, 15.38s/it]"
     ]
    },
    {
     "name": "stdout",
     "output_type": "stream",
     "text": [
      "/Hotel_Review-g186338-d224732-Reviews-or155-Palace_Court_Hotel-London_England.html#REVIEWS AppAULING\n"
     ]
    },
    {
     "name": "stderr",
     "output_type": "stream",
     "text": [
      "\r",
      " 69%|████████████████████████████████████████████████████████▍                         | 33/48 [09:32<03:09, 12.61s/it]"
     ]
    },
    {
     "name": "stdout",
     "output_type": "stream",
     "text": [
      "/Hotel_Review-g186338-d224732-Reviews-or160-Palace_Court_Hotel-London_England.html#REVIEWS Overall, a glorified hostel but I'd probably go here again\n"
     ]
    },
    {
     "name": "stderr",
     "output_type": "stream",
     "text": [
      "\r",
      " 71%|██████████████████████████████████████████████████████████                        | 34/48 [09:40<02:37, 11.24s/it]"
     ]
    },
    {
     "name": "stdout",
     "output_type": "stream",
     "text": [
      "/Hotel_Review-g186338-d224732-Reviews-or165-Palace_Court_Hotel-London_England.html#REVIEWS Woke up with ticks in my bed, and bites all over!\n"
     ]
    },
    {
     "name": "stderr",
     "output_type": "stream",
     "text": [
      "\r",
      " 73%|███████████████████████████████████████████████████████████▊                      | 35/48 [09:54<02:34, 11.87s/it]"
     ]
    },
    {
     "name": "stdout",
     "output_type": "stream",
     "text": [
      "/Hotel_Review-g186338-d224732-Reviews-or170-Palace_Court_Hotel-London_England.html#REVIEWS Don't Go!\n"
     ]
    },
    {
     "name": "stderr",
     "output_type": "stream",
     "text": [
      "\r",
      " 75%|█████████████████████████████████████████████████████████████▌                    | 36/48 [10:13<02:49, 14.15s/it]"
     ]
    },
    {
     "name": "stdout",
     "output_type": "stream",
     "text": [
      "/Hotel_Review-g186338-d224732-Reviews-or175-Palace_Court_Hotel-London_England.html#REVIEWS Completely over prized and no service\n"
     ]
    },
    {
     "name": "stderr",
     "output_type": "stream",
     "text": [
      "\r",
      " 77%|███████████████████████████████████████████████████████████████▏                  | 37/48 [10:23<02:22, 12.91s/it]"
     ]
    },
    {
     "name": "stdout",
     "output_type": "stream",
     "text": [
      "/Hotel_Review-g186338-d224732-Reviews-or180-Palace_Court_Hotel-London_England.html#REVIEWS OMG I honestly expected to see Kate Adie\n"
     ]
    },
    {
     "name": "stderr",
     "output_type": "stream",
     "text": [
      "\r",
      " 79%|████████████████████████████████████████████████████████████████▉                 | 38/48 [10:44<02:31, 15.14s/it]"
     ]
    },
    {
     "name": "stdout",
     "output_type": "stream",
     "text": [
      "/Hotel_Review-g186338-d224732-Reviews-or185-Palace_Court_Hotel-London_England.html#REVIEWS Its not that bad,  you get what you pay for\n"
     ]
    },
    {
     "name": "stderr",
     "output_type": "stream",
     "text": [
      "\r",
      " 81%|██████████████████████████████████████████████████████████████████▋               | 39/48 [11:09<02:43, 18.16s/it]"
     ]
    },
    {
     "name": "stdout",
     "output_type": "stream",
     "text": [
      "/Hotel_Review-g186338-d224732-Reviews-or190-Palace_Court_Hotel-London_England.html#REVIEWS Good value\n"
     ]
    },
    {
     "name": "stderr",
     "output_type": "stream",
     "text": [
      "\r",
      " 83%|████████████████████████████████████████████████████████████████████▎             | 40/48 [11:39<02:54, 21.84s/it]"
     ]
    },
    {
     "name": "stdout",
     "output_type": "stream",
     "text": [
      "/Hotel_Review-g186338-d224732-Reviews-or195-Palace_Court_Hotel-London_England.html#REVIEWS Stolen in Palace Court Hotel\n"
     ]
    },
    {
     "name": "stderr",
     "output_type": "stream",
     "text": [
      "\r",
      " 85%|██████████████████████████████████████████████████████████████████████            | 41/48 [12:04<02:39, 22.82s/it]"
     ]
    },
    {
     "name": "stdout",
     "output_type": "stream",
     "text": [
      "/Hotel_Review-g186338-d224732-Reviews-or200-Palace_Court_Hotel-London_England.html#REVIEWS Bring your marigolds\n"
     ]
    },
    {
     "name": "stderr",
     "output_type": "stream",
     "text": [
      "\r",
      " 88%|███████████████████████████████████████████████████████████████████████▊          | 42/48 [12:33<02:26, 24.47s/it]"
     ]
    },
    {
     "name": "stdout",
     "output_type": "stream",
     "text": [
      "/Hotel_Review-g186338-d224732-Reviews-or205-Palace_Court_Hotel-London_England.html#REVIEWS terrible!!!!!\n"
     ]
    },
    {
     "name": "stderr",
     "output_type": "stream",
     "text": [
      "\r",
      " 90%|█████████████████████████████████████████████████████████████████████████▍        | 43/48 [12:55<01:59, 23.84s/it]"
     ]
    },
    {
     "name": "stdout",
     "output_type": "stream",
     "text": [
      "/Hotel_Review-g186338-d224732-Reviews-or210-Palace_Court_Hotel-London_England.html#REVIEWS cost effective and friendly hotel\n"
     ]
    },
    {
     "name": "stderr",
     "output_type": "stream",
     "text": [
      "\r",
      " 92%|███████████████████████████████████████████████████████████████████████████▏      | 44/48 [13:23<01:40, 25.19s/it]"
     ]
    },
    {
     "name": "stdout",
     "output_type": "stream",
     "text": [
      "/Hotel_Review-g186338-d224732-Reviews-or215-Palace_Court_Hotel-London_England.html#REVIEWS Cheap, clean, friendly!\n"
     ]
    },
    {
     "name": "stderr",
     "output_type": "stream",
     "text": [
      "\r",
      " 94%|████████████████████████████████████████████████████████████████████████████▉     | 45/48 [13:43<01:10, 23.46s/it]"
     ]
    },
    {
     "name": "stdout",
     "output_type": "stream",
     "text": [
      "/Hotel_Review-g186338-d224732-Reviews-or220-Palace_Court_Hotel-London_England.html#REVIEWS An absolute Hell Hole!\n"
     ]
    },
    {
     "name": "stderr",
     "output_type": "stream",
     "text": [
      "\r",
      " 96%|██████████████████████████████████████████████████████████████████████████████▌   | 46/48 [13:53<00:39, 19.51s/it]"
     ]
    },
    {
     "name": "stdout",
     "output_type": "stream",
     "text": [
      "/Hotel_Review-g186338-d224732-Reviews-or225-Palace_Court_Hotel-London_England.html#REVIEWS Worst hotel ever!\n"
     ]
    },
    {
     "name": "stderr",
     "output_type": "stream",
     "text": [
      "\r",
      " 98%|████████████████████████████████████████████████████████████████████████████████▎ | 47/48 [14:15<00:20, 20.28s/it]"
     ]
    },
    {
     "name": "stdout",
     "output_type": "stream",
     "text": [
      "/Hotel_Review-g186338-d224732-Reviews-or230-Palace_Court_Hotel-London_England.html#REVIEWS welcome to the muppets hotel\n"
     ]
    },
    {
     "name": "stderr",
     "output_type": "stream",
     "text": [
      "100%|██████████████████████████████████████████████████████████████████████████████████| 48/48 [14:25<00:00, 18.03s/it]\n",
      "  0%|                                                                                           | 0/46 [00:00<?, ?it/s]"
     ]
    },
    {
     "name": "stdout",
     "output_type": "stream",
     "text": [
      "/Hotel_Review-g186338-d224732-Reviews-or235-Palace_Court_Hotel-London_England.html#REVIEWS not bad for the price\n",
      "big sleep\n"
     ]
    },
    {
     "name": "stderr",
     "output_type": "stream",
     "text": [
      "\r",
      "  2%|█▊                                                                                 | 1/46 [00:26<19:36, 26.15s/it]"
     ]
    },
    {
     "name": "stdout",
     "output_type": "stream",
     "text": [
      "/Hotel_Review-g186338-d498338-Reviews-or0-Hotel_Olympia-London_England.html#REVIEWS Olympia attempted to steal almost a $1000 from me, and refused to communicate\n"
     ]
    },
    {
     "name": "stderr",
     "output_type": "stream",
     "text": [
      "\r",
      "  4%|███▌                                                                               | 2/46 [00:39<13:40, 18.66s/it]"
     ]
    },
    {
     "name": "stdout",
     "output_type": "stream",
     "text": [
      "/Hotel_Review-g186338-d498338-Reviews-or5-Hotel_Olympia-London_England.html#REVIEWS Dirty, uncomfortable. Never again.\n"
     ]
    },
    {
     "name": "stderr",
     "output_type": "stream",
     "text": [
      "\r",
      "  7%|█████▍                                                                             | 3/46 [01:01<14:29, 20.21s/it]"
     ]
    },
    {
     "name": "stdout",
     "output_type": "stream",
     "text": [
      "/Hotel_Review-g186338-d498338-Reviews-or10-Hotel_Olympia-London_England.html#REVIEWS WARNING! SCAM THROUGH BOOKING.COM!\n"
     ]
    },
    {
     "name": "stderr",
     "output_type": "stream",
     "text": [
      "\r",
      "  9%|███████▏                                                                           | 4/46 [01:22<14:24, 20.59s/it]"
     ]
    },
    {
     "name": "stdout",
     "output_type": "stream",
     "text": [
      "/Hotel_Review-g186338-d498338-Reviews-or15-Hotel_Olympia-London_England.html#REVIEWS if only they have lift im going to give 5 stars\n"
     ]
    },
    {
     "name": "stderr",
     "output_type": "stream",
     "text": [
      "\r",
      " 11%|█████████                                                                          | 5/46 [01:53<16:28, 24.11s/it]"
     ]
    },
    {
     "name": "stdout",
     "output_type": "stream",
     "text": [
      "/Hotel_Review-g186338-d498338-Reviews-or20-Hotel_Olympia-London_England.html#REVIEWS Nice and clean with close links to Earls Court and Chelsea\n"
     ]
    },
    {
     "name": "stderr",
     "output_type": "stream",
     "text": [
      "\r",
      " 13%|██████████▊                                                                        | 6/46 [02:00<12:14, 18.35s/it]"
     ]
    },
    {
     "name": "stdout",
     "output_type": "stream",
     "text": [
      "/Hotel_Review-g186338-d498338-Reviews-or25-Hotel_Olympia-London_England.html#REVIEWS Awful hotel\n"
     ]
    },
    {
     "name": "stderr",
     "output_type": "stream",
     "text": [
      "\r",
      " 15%|████████████▋                                                                      | 7/46 [02:18<11:50, 18.21s/it]"
     ]
    },
    {
     "name": "stdout",
     "output_type": "stream",
     "text": [
      "/Hotel_Review-g186338-d498338-Reviews-or30-Hotel_Olympia-London_England.html#REVIEWS Less than average\n"
     ]
    },
    {
     "name": "stderr",
     "output_type": "stream",
     "text": [
      "\r",
      " 17%|██████████████▍                                                                    | 8/46 [02:34<11:05, 17.50s/it]"
     ]
    },
    {
     "name": "stdout",
     "output_type": "stream",
     "text": [
      "/Hotel_Review-g186338-d498338-Reviews-or35-Hotel_Olympia-London_England.html#REVIEWS Mrs\n"
     ]
    },
    {
     "name": "stderr",
     "output_type": "stream",
     "text": [
      "\r",
      " 20%|████████████████▏                                                                  | 9/46 [02:48<10:08, 16.44s/it]"
     ]
    },
    {
     "name": "stdout",
     "output_type": "stream",
     "text": [
      "/Hotel_Review-g186338-d498338-Reviews-or40-Hotel_Olympia-London_England.html#REVIEWS The worst hotel I've ever been in my life\n"
     ]
    },
    {
     "name": "stderr",
     "output_type": "stream",
     "text": [
      "\r",
      " 22%|█████████████████▊                                                                | 10/46 [03:01<09:10, 15.30s/it]"
     ]
    },
    {
     "name": "stdout",
     "output_type": "stream",
     "text": [
      "/Hotel_Review-g186338-d498338-Reviews-or45-Hotel_Olympia-London_England.html#REVIEWS Stay away from here !!!\n"
     ]
    },
    {
     "name": "stderr",
     "output_type": "stream",
     "text": [
      "\r",
      " 24%|███████████████████▌                                                              | 11/46 [03:23<10:11, 17.46s/it]"
     ]
    },
    {
     "name": "stdout",
     "output_type": "stream",
     "text": [
      "/Hotel_Review-g186338-d498338-Reviews-or50-Hotel_Olympia-London_England.html#REVIEWS My Mums Worse nightmare\n"
     ]
    },
    {
     "name": "stderr",
     "output_type": "stream",
     "text": [
      "\r",
      " 26%|█████████████████████▍                                                            | 12/46 [03:31<08:15, 14.57s/it]"
     ]
    },
    {
     "name": "stdout",
     "output_type": "stream",
     "text": [
      "/Hotel_Review-g186338-d498338-Reviews-or55-Hotel_Olympia-London_England.html#REVIEWS Stay clear - only £79 but there is a reason for that!\n"
     ]
    },
    {
     "name": "stderr",
     "output_type": "stream",
     "text": [
      "\r",
      " 28%|███████████████████████▏                                                          | 13/46 [03:52<09:06, 16.56s/it]"
     ]
    },
    {
     "name": "stdout",
     "output_type": "stream",
     "text": [
      "/Hotel_Review-g186338-d498338-Reviews-or60-Hotel_Olympia-London_England.html#REVIEWS +tive: excellent position, nice staff, not so bad room; -tive: noisy\n"
     ]
    },
    {
     "name": "stderr",
     "output_type": "stream",
     "text": [
      "\r",
      " 30%|████████████████████████▉                                                         | 14/46 [04:20<10:44, 20.14s/it]"
     ]
    },
    {
     "name": "stdout",
     "output_type": "stream",
     "text": [
      "/Hotel_Review-g186338-d498338-Reviews-or65-Hotel_Olympia-London_England.html#REVIEWS Grumpasaurus\n"
     ]
    },
    {
     "name": "stderr",
     "output_type": "stream",
     "text": [
      "\r",
      " 33%|██████████████████████████▋                                                       | 15/46 [04:32<09:04, 17.57s/it]"
     ]
    },
    {
     "name": "stdout",
     "output_type": "stream",
     "text": [
      "/Hotel_Review-g186338-d498338-Reviews-or70-Hotel_Olympia-London_England.html#REVIEWS Not a Pleasant experienc\n"
     ]
    },
    {
     "name": "stderr",
     "output_type": "stream",
     "text": [
      "\r",
      " 35%|████████████████████████████▌                                                     | 16/46 [05:01<10:32, 21.08s/it]"
     ]
    },
    {
     "name": "stdout",
     "output_type": "stream",
     "text": [
      "/Hotel_Review-g186338-d498338-Reviews-or75-Hotel_Olympia-London_England.html#REVIEWS simply but available\n"
     ]
    },
    {
     "name": "stderr",
     "output_type": "stream",
     "text": [
      "\r",
      " 37%|██████████████████████████████▎                                                   | 17/46 [05:28<10:57, 22.69s/it]"
     ]
    },
    {
     "name": "stdout",
     "output_type": "stream",
     "text": [
      "/Hotel_Review-g186338-d498338-Reviews-or80-Hotel_Olympia-London_England.html#REVIEWS Ok for what we needed but wouldn't necessarily return\n"
     ]
    },
    {
     "name": "stderr",
     "output_type": "stream",
     "text": [
      "\r",
      " 39%|████████████████████████████████                                                  | 18/46 [05:58<11:37, 24.92s/it]"
     ]
    },
    {
     "name": "stdout",
     "output_type": "stream",
     "text": [
      "/Hotel_Review-g186338-d498338-Reviews-or85-Hotel_Olympia-London_England.html#REVIEWS Do not stay here\n"
     ]
    },
    {
     "name": "stderr",
     "output_type": "stream",
     "text": [
      "\r",
      " 41%|█████████████████████████████████▊                                                | 19/46 [06:11<09:36, 21.35s/it]"
     ]
    },
    {
     "name": "stdout",
     "output_type": "stream",
     "text": [
      "/Hotel_Review-g186338-d498338-Reviews-or90-Hotel_Olympia-London_England.html#REVIEWS budget heaven\n"
     ]
    },
    {
     "name": "stderr",
     "output_type": "stream",
     "text": [
      "\r",
      " 43%|███████████████████████████████████▋                                              | 20/46 [06:24<08:10, 18.87s/it]"
     ]
    },
    {
     "name": "stdout",
     "output_type": "stream",
     "text": [
      "/Hotel_Review-g186338-d498338-Reviews-or95-Hotel_Olympia-London_England.html#REVIEWS Clean Hotel\n"
     ]
    },
    {
     "name": "stderr",
     "output_type": "stream",
     "text": [
      "\r",
      " 46%|█████████████████████████████████████▍                                            | 21/46 [06:48<08:33, 20.52s/it]"
     ]
    },
    {
     "name": "stdout",
     "output_type": "stream",
     "text": [
      "/Hotel_Review-g186338-d498338-Reviews-or100-Hotel_Olympia-London_England.html#REVIEWS Cheap, small rooms, OK location\n"
     ]
    },
    {
     "name": "stderr",
     "output_type": "stream",
     "text": [
      "\r",
      " 48%|███████████████████████████████████████▏                                          | 22/46 [07:16<09:01, 22.56s/it]"
     ]
    },
    {
     "name": "stdout",
     "output_type": "stream",
     "text": [
      "/Hotel_Review-g186338-d498338-Reviews-or105-Hotel_Olympia-London_England.html#REVIEWS No sound proofing between rooms!\n"
     ]
    },
    {
     "name": "stderr",
     "output_type": "stream",
     "text": [
      "\r",
      " 50%|█████████████████████████████████████████                                         | 23/46 [07:41<08:56, 23.32s/it]"
     ]
    },
    {
     "name": "stdout",
     "output_type": "stream",
     "text": [
      "/Hotel_Review-g186338-d498338-Reviews-or110-Hotel_Olympia-London_England.html#REVIEWS A totally normal, safe, clean, respectable hotel. Relax.\n"
     ]
    },
    {
     "name": "stderr",
     "output_type": "stream",
     "text": [
      "\r",
      " 52%|██████████████████████████████████████████▊                                       | 24/46 [08:02<08:18, 22.68s/it]"
     ]
    },
    {
     "name": "stdout",
     "output_type": "stream",
     "text": [
      "/Hotel_Review-g186338-d498338-Reviews-or115-Hotel_Olympia-London_England.html#REVIEWS Poor needs revamp \n"
     ]
    },
    {
     "name": "stderr",
     "output_type": "stream",
     "text": [
      "\r",
      " 54%|████████████████████████████████████████████▌                                     | 25/46 [08:20<07:29, 21.39s/it]"
     ]
    },
    {
     "name": "stdout",
     "output_type": "stream",
     "text": [
      "/Hotel_Review-g186338-d498338-Reviews-or120-Hotel_Olympia-London_England.html#REVIEWS position great, clean and helpful staff\n"
     ]
    },
    {
     "name": "stderr",
     "output_type": "stream",
     "text": [
      "\r",
      " 57%|██████████████████████████████████████████████▎                                   | 26/46 [08:30<05:59, 18.00s/it]"
     ]
    },
    {
     "name": "stdout",
     "output_type": "stream",
     "text": [
      "/Hotel_Review-g186338-d498338-Reviews-or125-Hotel_Olympia-London_England.html#REVIEWS Not bad...  Overall great for bed and shower.  \n"
     ]
    },
    {
     "name": "stderr",
     "output_type": "stream",
     "text": [
      "\r",
      " 59%|████████████████████████████████████████████████▏                                 | 27/46 [08:42<05:08, 16.22s/it]"
     ]
    },
    {
     "name": "stdout",
     "output_type": "stream",
     "text": [
      "/Hotel_Review-g186338-d498338-Reviews-or130-Hotel_Olympia-London_England.html#REVIEWS Poor, but to be expected for that money\n"
     ]
    },
    {
     "name": "stderr",
     "output_type": "stream",
     "text": [
      "\r",
      " 61%|█████████████████████████████████████████████████▉                                | 28/46 [08:55<04:34, 15.26s/it]"
     ]
    },
    {
     "name": "stdout",
     "output_type": "stream",
     "text": [
      "/Hotel_Review-g186338-d498338-Reviews-or135-Hotel_Olympia-London_England.html#REVIEWS Old hotel\n"
     ]
    },
    {
     "name": "stderr",
     "output_type": "stream",
     "text": [
      "\r",
      " 63%|███████████████████████████████████████████████████▋                              | 29/46 [09:19<04:59, 17.64s/it]"
     ]
    },
    {
     "name": "stdout",
     "output_type": "stream",
     "text": [
      "/Hotel_Review-g186338-d498338-Reviews-or140-Hotel_Olympia-London_England.html#REVIEWS Great location, awful hotel!!!\n"
     ]
    },
    {
     "name": "stderr",
     "output_type": "stream",
     "text": [
      "\r",
      " 65%|█████████████████████████████████████████████████████▍                            | 30/46 [09:33<04:25, 16.62s/it]"
     ]
    },
    {
     "name": "stdout",
     "output_type": "stream",
     "text": [
      "/Hotel_Review-g186338-d498338-Reviews-or145-Hotel_Olympia-London_England.html#REVIEWS Where is the Hotel Inspector when you need her!!\n"
     ]
    },
    {
     "name": "stderr",
     "output_type": "stream",
     "text": [
      "\r",
      " 67%|███████████████████████████████████████████████████████▎                          | 31/46 [09:53<04:24, 17.66s/it]"
     ]
    },
    {
     "name": "stdout",
     "output_type": "stream",
     "text": [
      "/Hotel_Review-g186338-d498338-Reviews-or150-Hotel_Olympia-London_England.html#REVIEWS Clean, great location, rooms are the size of a wardrobe.\n"
     ]
    },
    {
     "name": "stderr",
     "output_type": "stream",
     "text": [
      "\r",
      " 70%|█████████████████████████████████████████████████████████                         | 32/46 [10:09<04:00, 17.20s/it]"
     ]
    },
    {
     "name": "stdout",
     "output_type": "stream",
     "text": [
      "/Hotel_Review-g186338-d498338-Reviews-or155-Hotel_Olympia-London_England.html#REVIEWS Ok for one night\n"
     ]
    },
    {
     "name": "stderr",
     "output_type": "stream",
     "text": [
      "\r",
      " 72%|██████████████████████████████████████████████████████████▊                       | 33/46 [10:32<04:05, 18.92s/it]"
     ]
    },
    {
     "name": "stdout",
     "output_type": "stream",
     "text": [
      "/Hotel_Review-g186338-d498338-Reviews-or160-Hotel_Olympia-London_England.html#REVIEWS Would not stay there again.\n"
     ]
    },
    {
     "name": "stderr",
     "output_type": "stream",
     "text": [
      "\r",
      " 74%|████████████████████████████████████████████████████████████▌                     | 34/46 [11:02<04:27, 22.32s/it]"
     ]
    },
    {
     "name": "stdout",
     "output_type": "stream",
     "text": [
      "/Hotel_Review-g186338-d498338-Reviews-or165-Hotel_Olympia-London_England.html#REVIEWS there was a mouse in my room!!!\n"
     ]
    },
    {
     "name": "stderr",
     "output_type": "stream",
     "text": [
      "\r",
      " 76%|██████████████████████████████████████████████████████████████▍                   | 35/46 [11:10<03:18, 18.05s/it]"
     ]
    },
    {
     "name": "stdout",
     "output_type": "stream",
     "text": [
      "/Hotel_Review-g186338-d498338-Reviews-or170-Hotel_Olympia-London_England.html#REVIEWS Do not stay here unless you like dirty, unsafe hotels!!!\n"
     ]
    },
    {
     "name": "stderr",
     "output_type": "stream",
     "text": [
      "\r",
      " 78%|████████████████████████████████████████████████████████████████▏                 | 36/46 [11:39<03:33, 21.37s/it]"
     ]
    },
    {
     "name": "stdout",
     "output_type": "stream",
     "text": [
      "/Hotel_Review-g186338-d498338-Reviews-or175-Hotel_Olympia-London_England.html#REVIEWS you get what you pay for\n"
     ]
    },
    {
     "name": "stderr",
     "output_type": "stream",
     "text": [
      "\r",
      " 80%|█████████████████████████████████████████████████████████████████▉                | 37/46 [11:58<03:03, 20.38s/it]"
     ]
    },
    {
     "name": "stdout",
     "output_type": "stream",
     "text": [
      "/Hotel_Review-g186338-d498338-Reviews-or180-Hotel_Olympia-London_England.html#REVIEWS Terrible! Don't stay at this hotel. Millions of bed bugs\n"
     ]
    },
    {
     "name": "stderr",
     "output_type": "stream",
     "text": [
      "\r",
      " 83%|███████████████████████████████████████████████████████████████████▋              | 38/46 [12:15<02:37, 19.64s/it]"
     ]
    },
    {
     "name": "stdout",
     "output_type": "stream",
     "text": [
      "/Hotel_Review-g186338-d498338-Reviews-or185-Hotel_Olympia-London_England.html#REVIEWS Wake up covered in bite marks\n"
     ]
    },
    {
     "name": "stderr",
     "output_type": "stream",
     "text": [
      "\r",
      " 85%|█████████████████████████████████████████████████████████████████████▌            | 39/46 [12:23<01:51, 15.90s/it]"
     ]
    },
    {
     "name": "stdout",
     "output_type": "stream",
     "text": [
      "/Hotel_Review-g186338-d498338-Reviews-or190-Hotel_Olympia-London_England.html#REVIEWS Trauma !!!\n"
     ]
    },
    {
     "name": "stderr",
     "output_type": "stream",
     "text": [
      "\r",
      " 87%|███████████████████████████████████████████████████████████████████████▎          | 40/46 [12:34<01:27, 14.60s/it]"
     ]
    },
    {
     "name": "stdout",
     "output_type": "stream",
     "text": [
      "/Hotel_Review-g186338-d498338-Reviews-or195-Hotel_Olympia-London_England.html#REVIEWS Bed bugs and horrible breakfast!\n"
     ]
    },
    {
     "name": "stderr",
     "output_type": "stream",
     "text": [
      "\r",
      " 89%|█████████████████████████████████████████████████████████████████████████         | 41/46 [12:59<01:27, 17.60s/it]"
     ]
    },
    {
     "name": "stdout",
     "output_type": "stream",
     "text": [
      "/Hotel_Review-g186338-d498338-Reviews-or200-Hotel_Olympia-London_England.html#REVIEWS Wonderfull Tiny Hotel\n"
     ]
    },
    {
     "name": "stderr",
     "output_type": "stream",
     "text": [
      "\r",
      " 91%|██████████████████████████████████████████████████████████████████████████▊       | 42/46 [13:27<01:23, 20.75s/it]"
     ]
    },
    {
     "name": "stdout",
     "output_type": "stream",
     "text": [
      "/Hotel_Review-g186338-d498338-Reviews-or205-Hotel_Olympia-London_England.html#REVIEWS low price good service,u shouldn't come back without meet with Sada the gorgeous gentle, receptionist.\n"
     ]
    },
    {
     "name": "stderr",
     "output_type": "stream",
     "text": [
      "\r",
      " 93%|████████████████████████████████████████████████████████████████████████████▋     | 43/46 [13:55<01:09, 23.05s/it]"
     ]
    },
    {
     "name": "stdout",
     "output_type": "stream",
     "text": [
      "/Hotel_Review-g186338-d498338-Reviews-or210-Hotel_Olympia-London_England.html#REVIEWS Absolutely Horrific\n"
     ]
    },
    {
     "name": "stderr",
     "output_type": "stream",
     "text": [
      "\r",
      " 96%|██████████████████████████████████████████████████████████████████████████████▍   | 44/46 [14:13<00:43, 21.57s/it]"
     ]
    },
    {
     "name": "stdout",
     "output_type": "stream",
     "text": [
      "/Hotel_Review-g186338-d498338-Reviews-or215-Hotel_Olympia-London_England.html#REVIEWS Ambivalent\n"
     ]
    },
    {
     "name": "stderr",
     "output_type": "stream",
     "text": [
      "\r",
      " 98%|████████████████████████████████████████████████████████████████████████████████▏ | 45/46 [14:32<00:20, 20.52s/it]"
     ]
    },
    {
     "name": "stdout",
     "output_type": "stream",
     "text": [
      "/Hotel_Review-g186338-d498338-Reviews-or220-Hotel_Olympia-London_England.html#REVIEWS Worst hotel ever!!!\n"
     ]
    },
    {
     "name": "stderr",
     "output_type": "stream",
     "text": [
      "100%|██████████████████████████████████████████████████████████████████████████████████| 46/46 [14:56<00:00, 19.49s/it]\n",
      "  0%|                                                                                           | 0/45 [00:00<?, ?it/s]"
     ]
    },
    {
     "name": "stdout",
     "output_type": "stream",
     "text": [
      "/Hotel_Review-g186338-d498338-Reviews-or225-Hotel_Olympia-London_England.html#REVIEWS Stay away......beware\n",
      "big sleep\n"
     ]
    },
    {
     "name": "stderr",
     "output_type": "stream",
     "text": [
      "\r",
      "  2%|█▊                                                                                 | 1/45 [00:07<05:28,  7.46s/it]"
     ]
    },
    {
     "name": "stdout",
     "output_type": "stream",
     "text": [
      "/Hotel_Review-g186338-d275444-Reviews-or0-The_Ventures_Hotel-London_England.html#REVIEWS Sufficient\n"
     ]
    },
    {
     "name": "stderr",
     "output_type": "stream",
     "text": [
      "\r",
      "  4%|███▋                                                                               | 2/45 [00:28<11:06, 15.51s/it]"
     ]
    },
    {
     "name": "stdout",
     "output_type": "stream",
     "text": [
      "/Hotel_Review-g186338-d275444-Reviews-or5-The_Ventures_Hotel-London_England.html#REVIEWS Perfect destination!\n"
     ]
    },
    {
     "name": "stderr",
     "output_type": "stream",
     "text": [
      "\r",
      "  7%|█████▌                                                                             | 3/45 [00:34<07:52, 11.25s/it]"
     ]
    },
    {
     "name": "stdout",
     "output_type": "stream",
     "text": [
      "/Hotel_Review-g186338-d275444-Reviews-or10-The_Ventures_Hotel-London_England.html#REVIEWS Perfect location\n"
     ]
    },
    {
     "name": "stderr",
     "output_type": "stream",
     "text": [
      "\r",
      "  9%|███████▍                                                                           | 4/45 [00:40<06:19,  9.26s/it]"
     ]
    },
    {
     "name": "stdout",
     "output_type": "stream",
     "text": [
      "/Hotel_Review-g186338-d275444-Reviews-or15-The_Ventures_Hotel-London_England.html#REVIEWS My stay at the Ventures.Hotel\n"
     ]
    },
    {
     "name": "stderr",
     "output_type": "stream",
     "text": [
      "\r",
      " 11%|█████████▏                                                                         | 5/45 [00:48<05:38,  8.47s/it]"
     ]
    },
    {
     "name": "stdout",
     "output_type": "stream",
     "text": [
      "/Hotel_Review-g186338-d275444-Reviews-or20-The_Ventures_Hotel-London_England.html#REVIEWS value for money\n"
     ]
    },
    {
     "name": "stderr",
     "output_type": "stream",
     "text": [
      "\r",
      " 13%|███████████                                                                        | 6/45 [01:16<09:50, 15.14s/it]"
     ]
    },
    {
     "name": "stdout",
     "output_type": "stream",
     "text": [
      "/Hotel_Review-g186338-d275444-Reviews-or25-The_Ventures_Hotel-London_England.html#REVIEWS Venture hotel\n"
     ]
    },
    {
     "name": "stderr",
     "output_type": "stream",
     "text": [
      "\r",
      " 16%|████████████▉                                                                      | 7/45 [01:34<10:13, 16.14s/it]"
     ]
    },
    {
     "name": "stdout",
     "output_type": "stream",
     "text": [
      "/Hotel_Review-g186338-d275444-Reviews-or30-The_Ventures_Hotel-London_England.html#REVIEWS AVOID AT ALL COSTS\n"
     ]
    },
    {
     "name": "stderr",
     "output_type": "stream",
     "text": [
      "\r",
      " 18%|██████████████▊                                                                    | 8/45 [01:45<08:59, 14.58s/it]"
     ]
    },
    {
     "name": "stdout",
     "output_type": "stream",
     "text": [
      "/Hotel_Review-g186338-d275444-Reviews-or35-The_Ventures_Hotel-London_England.html#REVIEWS LAPTOP STOLEN FROM HOTEL ROOM - THEFT\n"
     ]
    },
    {
     "name": "stderr",
     "output_type": "stream",
     "text": [
      "\r",
      " 20%|████████████████▌                                                                  | 9/45 [01:53<07:32, 12.57s/it]"
     ]
    },
    {
     "name": "stdout",
     "output_type": "stream",
     "text": [
      "/Hotel_Review-g186338-d275444-Reviews-or40-The_Ventures_Hotel-London_England.html#REVIEWS Disgusting \n"
     ]
    },
    {
     "name": "stderr",
     "output_type": "stream",
     "text": [
      "\r",
      " 22%|██████████████████▏                                                               | 10/45 [02:09<07:50, 13.45s/it]"
     ]
    },
    {
     "name": "stdout",
     "output_type": "stream",
     "text": [
      "/Hotel_Review-g186338-d275444-Reviews-or45-The_Ventures_Hotel-London_England.html#REVIEWS Awful!\n"
     ]
    },
    {
     "name": "stderr",
     "output_type": "stream",
     "text": [
      "\r",
      " 24%|████████████████████                                                              | 11/45 [02:29<08:47, 15.53s/it]"
     ]
    },
    {
     "name": "stdout",
     "output_type": "stream",
     "text": [
      "/Hotel_Review-g186338-d275444-Reviews-or50-The_Ventures_Hotel-London_England.html#REVIEWS Look elsewhere \n"
     ]
    },
    {
     "name": "stderr",
     "output_type": "stream",
     "text": [
      "\r",
      " 27%|█████████████████████▊                                                            | 12/45 [02:44<08:32, 15.52s/it]"
     ]
    },
    {
     "name": "stdout",
     "output_type": "stream",
     "text": [
      "/Hotel_Review-g186338-d275444-Reviews-or55-The_Ventures_Hotel-London_England.html#REVIEWS Horrific! don't stay at the ventures hotel its absolutely horrendous!\n"
     ]
    },
    {
     "name": "stderr",
     "output_type": "stream",
     "text": [
      "\r",
      " 29%|███████████████████████▋                                                          | 13/45 [02:55<07:29, 14.03s/it]"
     ]
    },
    {
     "name": "stdout",
     "output_type": "stream",
     "text": [
      "/Hotel_Review-g186338-d275444-Reviews-or60-The_Ventures_Hotel-London_England.html#REVIEWS Staying due to hyde park concert \n"
     ]
    },
    {
     "name": "stderr",
     "output_type": "stream",
     "text": [
      "\r",
      " 31%|█████████████████████████▌                                                        | 14/45 [03:24<09:38, 18.67s/it]"
     ]
    },
    {
     "name": "stdout",
     "output_type": "stream",
     "text": [
      "/Hotel_Review-g186338-d275444-Reviews-or65-The_Ventures_Hotel-London_England.html#REVIEWS Ventures Hotel OMG\n"
     ]
    },
    {
     "name": "stderr",
     "output_type": "stream",
     "text": [
      "\r",
      " 33%|███████████████████████████▎                                                      | 15/45 [03:35<08:07, 16.24s/it]"
     ]
    },
    {
     "name": "stdout",
     "output_type": "stream",
     "text": [
      "/Hotel_Review-g186338-d275444-Reviews-or70-The_Ventures_Hotel-London_England.html#REVIEWS Terrible\n"
     ]
    },
    {
     "name": "stderr",
     "output_type": "stream",
     "text": [
      "\r",
      " 36%|█████████████████████████████▏                                                    | 16/45 [03:49<07:35, 15.71s/it]"
     ]
    },
    {
     "name": "stdout",
     "output_type": "stream",
     "text": [
      "/Hotel_Review-g186338-d275444-Reviews-or75-The_Ventures_Hotel-London_England.html#REVIEWS Horrible\n"
     ]
    },
    {
     "name": "stderr",
     "output_type": "stream",
     "text": [
      "\r",
      " 38%|██████████████████████████████▉                                                   | 17/45 [04:14<08:32, 18.30s/it]"
     ]
    },
    {
     "name": "stdout",
     "output_type": "stream",
     "text": [
      "/Hotel_Review-g186338-d275444-Reviews-or80-The_Ventures_Hotel-London_England.html#REVIEWS Not Good\n"
     ]
    },
    {
     "name": "stderr",
     "output_type": "stream",
     "text": [
      "\r",
      " 40%|████████████████████████████████▊                                                 | 18/45 [04:22<06:50, 15.20s/it]"
     ]
    },
    {
     "name": "stdout",
     "output_type": "stream",
     "text": [
      "/Hotel_Review-g186338-d275444-Reviews-or85-The_Ventures_Hotel-London_England.html#REVIEWS Disappointing\n"
     ]
    },
    {
     "name": "stderr",
     "output_type": "stream",
     "text": [
      "\r",
      " 42%|██████████████████████████████████▌                                               | 19/45 [04:48<08:02, 18.55s/it]"
     ]
    },
    {
     "name": "stdout",
     "output_type": "stream",
     "text": [
      "/Hotel_Review-g186338-d275444-Reviews-or90-The_Ventures_Hotel-London_England.html#REVIEWS London sightseeing\n"
     ]
    },
    {
     "name": "stderr",
     "output_type": "stream",
     "text": [
      "\r",
      " 44%|████████████████████████████████████▍                                             | 20/45 [05:12<08:21, 20.05s/it]"
     ]
    },
    {
     "name": "stdout",
     "output_type": "stream",
     "text": [
      "/Hotel_Review-g186338-d275444-Reviews-or95-The_Ventures_Hotel-London_England.html#REVIEWS Don't believe everything you read!!\n"
     ]
    },
    {
     "name": "stderr",
     "output_type": "stream",
     "text": [
      "\r",
      " 47%|██████████████████████████████████████▎                                           | 21/45 [05:30<07:48, 19.54s/it]"
     ]
    },
    {
     "name": "stdout",
     "output_type": "stream",
     "text": [
      "/Hotel_Review-g186338-d275444-Reviews-or100-The_Ventures_Hotel-London_England.html#REVIEWS If all you need is a room.\n"
     ]
    },
    {
     "name": "stderr",
     "output_type": "stream",
     "text": [
      "\r",
      " 49%|████████████████████████████████████████                                          | 22/45 [05:58<08:27, 22.07s/it]"
     ]
    },
    {
     "name": "stdout",
     "output_type": "stream",
     "text": [
      "/Hotel_Review-g186338-d275444-Reviews-or105-The_Ventures_Hotel-London_England.html#REVIEWS Nightmare on Sussex Gardens\n"
     ]
    },
    {
     "name": "stderr",
     "output_type": "stream",
     "text": [
      "\r",
      " 51%|█████████████████████████████████████████▉                                        | 23/45 [06:05<06:22, 17.40s/it]"
     ]
    },
    {
     "name": "stdout",
     "output_type": "stream",
     "text": [
      "/Hotel_Review-g186338-d275444-Reviews-or110-The_Ventures_Hotel-London_England.html#REVIEWS Could have been worse but not much \n"
     ]
    },
    {
     "name": "stderr",
     "output_type": "stream",
     "text": [
      "\r",
      " 53%|███████████████████████████████████████████▋                                      | 24/45 [06:22<06:03, 17.33s/it]"
     ]
    },
    {
     "name": "stdout",
     "output_type": "stream",
     "text": [
      "/Hotel_Review-g186338-d275444-Reviews-or115-The_Ventures_Hotel-London_England.html#REVIEWS Awful awful place\n"
     ]
    },
    {
     "name": "stderr",
     "output_type": "stream",
     "text": [
      "\r",
      " 56%|█████████████████████████████████████████████▌                                    | 25/45 [06:40<05:51, 17.58s/it]"
     ]
    },
    {
     "name": "stdout",
     "output_type": "stream",
     "text": [
      "/Hotel_Review-g186338-d275444-Reviews-or120-The_Ventures_Hotel-London_England.html#REVIEWS Worst of the Worst\n"
     ]
    },
    {
     "name": "stderr",
     "output_type": "stream",
     "text": [
      "\r",
      " 58%|███████████████████████████████████████████████▍                                  | 26/45 [07:01<05:55, 18.74s/it]"
     ]
    },
    {
     "name": "stdout",
     "output_type": "stream",
     "text": [
      "/Hotel_Review-g186338-d275444-Reviews-or125-The_Ventures_Hotel-London_England.html#REVIEWS I will never stay at this hotel again.\n"
     ]
    },
    {
     "name": "stderr",
     "output_type": "stream",
     "text": [
      "\r",
      " 60%|█████████████████████████████████████████████████▏                                | 27/45 [07:23<05:55, 19.78s/it]"
     ]
    },
    {
     "name": "stdout",
     "output_type": "stream",
     "text": [
      "/Hotel_Review-g186338-d275444-Reviews-or130-The_Ventures_Hotel-London_England.html#REVIEWS Close to the metro but wouldn't visit again\n"
     ]
    },
    {
     "name": "stderr",
     "output_type": "stream",
     "text": [
      "\r",
      " 62%|███████████████████████████████████████████████████                               | 28/45 [07:40<05:21, 18.94s/it]"
     ]
    },
    {
     "name": "stdout",
     "output_type": "stream",
     "text": [
      "/Hotel_Review-g186338-d275444-Reviews-or135-The_Ventures_Hotel-London_England.html#REVIEWS Nice \n"
     ]
    },
    {
     "name": "stderr",
     "output_type": "stream",
     "text": [
      "\r",
      " 64%|████████████████████████████████████████████████████▊                             | 29/45 [08:01<05:10, 19.38s/it]"
     ]
    },
    {
     "name": "stdout",
     "output_type": "stream",
     "text": [
      "/Hotel_Review-g186338-d275444-Reviews-or140-The_Ventures_Hotel-London_England.html#REVIEWS satisfied\n"
     ]
    },
    {
     "name": "stderr",
     "output_type": "stream",
     "text": [
      "\r",
      " 67%|██████████████████████████████████████████████████████▋                           | 30/45 [08:21<04:53, 19.59s/it]"
     ]
    },
    {
     "name": "stdout",
     "output_type": "stream",
     "text": [
      "/Hotel_Review-g186338-d275444-Reviews-or145-The_Ventures_Hotel-London_England.html#REVIEWS Ok for a few nights\n"
     ]
    },
    {
     "name": "stderr",
     "output_type": "stream",
     "text": [
      "\r",
      " 69%|████████████████████████████████████████████████████████▍                         | 31/45 [08:43<04:45, 20.40s/it]"
     ]
    },
    {
     "name": "stdout",
     "output_type": "stream",
     "text": [
      "/Hotel_Review-g186338-d275444-Reviews-or150-The_Ventures_Hotel-London_England.html#REVIEWS This is not even a Hotel\n"
     ]
    },
    {
     "name": "stderr",
     "output_type": "stream",
     "text": [
      "\r",
      " 71%|██████████████████████████████████████████████████████████▎                       | 32/45 [09:10<04:48, 22.19s/it]"
     ]
    },
    {
     "name": "stdout",
     "output_type": "stream",
     "text": [
      "/Hotel_Review-g186338-d275444-Reviews-or155-The_Ventures_Hotel-London_England.html#REVIEWS No help from Staff\n"
     ]
    },
    {
     "name": "stderr",
     "output_type": "stream",
     "text": [
      "\r",
      " 73%|████████████████████████████████████████████████████████████▏                     | 33/45 [09:33<04:30, 22.57s/it]"
     ]
    },
    {
     "name": "stdout",
     "output_type": "stream",
     "text": [
      "/Hotel_Review-g186338-d275444-Reviews-or160-The_Ventures_Hotel-London_England.html#REVIEWS This place is breathtakingly awful\n"
     ]
    },
    {
     "name": "stderr",
     "output_type": "stream",
     "text": [
      "\r",
      " 76%|█████████████████████████████████████████████████████████████▉                    | 34/45 [09:59<04:19, 23.62s/it]"
     ]
    },
    {
     "name": "stdout",
     "output_type": "stream",
     "text": [
      "/Hotel_Review-g186338-d275444-Reviews-or165-The_Ventures_Hotel-London_England.html#REVIEWS 0\n"
     ]
    },
    {
     "name": "stderr",
     "output_type": "stream",
     "text": [
      "\r",
      " 78%|███████████████████████████████████████████████████████████████▊                  | 35/45 [10:27<04:08, 24.84s/it]"
     ]
    },
    {
     "name": "stdout",
     "output_type": "stream",
     "text": [
      "/Hotel_Review-g186338-d275444-Reviews-or170-The_Ventures_Hotel-London_England.html#REVIEWS Terrible place with great location though\n"
     ]
    },
    {
     "name": "stderr",
     "output_type": "stream",
     "text": [
      "\r",
      " 80%|█████████████████████████████████████████████████████████████████▌                | 36/45 [10:51<03:42, 24.75s/it]"
     ]
    },
    {
     "name": "stdout",
     "output_type": "stream",
     "text": [
      "/Hotel_Review-g186338-d275444-Reviews-or175-The_Ventures_Hotel-London_England.html#REVIEWS Scum city!!!\n"
     ]
    },
    {
     "name": "stderr",
     "output_type": "stream",
     "text": [
      "\r",
      " 82%|███████████████████████████████████████████████████████████████████▍              | 37/45 [11:09<02:59, 22.50s/it]"
     ]
    },
    {
     "name": "stdout",
     "output_type": "stream",
     "text": [
      "/Hotel_Review-g186338-d275444-Reviews-or180-The_Ventures_Hotel-London_England.html#REVIEWS Dirty room\n"
     ]
    },
    {
     "name": "stderr",
     "output_type": "stream",
     "text": [
      "\r",
      " 84%|█████████████████████████████████████████████████████████████████████▏            | 38/45 [11:32<02:39, 22.77s/it]"
     ]
    },
    {
     "name": "stdout",
     "output_type": "stream",
     "text": [
      "/Hotel_Review-g186338-d275444-Reviews-or185-The_Ventures_Hotel-London_England.html#REVIEWS Hotel from hell!\n"
     ]
    },
    {
     "name": "stderr",
     "output_type": "stream",
     "text": [
      "\r",
      " 87%|███████████████████████████████████████████████████████████████████████           | 39/45 [11:57<02:20, 23.48s/it]"
     ]
    },
    {
     "name": "stdout",
     "output_type": "stream",
     "text": [
      "/Hotel_Review-g186338-d275444-Reviews-or190-The_Ventures_Hotel-London_England.html#REVIEWS Dangerous, Dingy and Dilapidated\n"
     ]
    },
    {
     "name": "stderr",
     "output_type": "stream",
     "text": [
      "\r",
      " 89%|████████████████████████████████████████████████████████████████████████▉         | 40/45 [12:22<01:58, 23.77s/it]"
     ]
    },
    {
     "name": "stdout",
     "output_type": "stream",
     "text": [
      "/Hotel_Review-g186338-d275444-Reviews-or195-The_Ventures_Hotel-London_England.html#REVIEWS Low budget\n"
     ]
    },
    {
     "name": "stderr",
     "output_type": "stream",
     "text": [
      "\r",
      " 91%|██████████████████████████████████████████████████████████████████████████▋       | 41/45 [12:39<01:27, 21.83s/it]"
     ]
    },
    {
     "name": "stdout",
     "output_type": "stream",
     "text": [
      "/Hotel_Review-g186338-d275444-Reviews-or200-The_Ventures_Hotel-London_England.html#REVIEWS Ok for budget hotel.\n"
     ]
    },
    {
     "name": "stderr",
     "output_type": "stream",
     "text": [
      "\r",
      " 93%|████████████████████████████████████████████████████████████████████████████▌     | 42/45 [13:00<01:04, 21.64s/it]"
     ]
    },
    {
     "name": "stdout",
     "output_type": "stream",
     "text": [
      "/Hotel_Review-g186338-d275444-Reviews-or205-The_Ventures_Hotel-London_England.html#REVIEWS Not coming back...ever!!!\n"
     ]
    },
    {
     "name": "stderr",
     "output_type": "stream",
     "text": [
      "\r",
      " 96%|██████████████████████████████████████████████████████████████████████████████▎   | 43/45 [13:26<00:46, 23.02s/it]"
     ]
    },
    {
     "name": "stdout",
     "output_type": "stream",
     "text": [
      "/Hotel_Review-g186338-d275444-Reviews-or210-The_Ventures_Hotel-London_England.html#REVIEWS Low cost staying\n"
     ]
    },
    {
     "name": "stderr",
     "output_type": "stream",
     "text": [
      "\r",
      " 98%|████████████████████████████████████████████████████████████████████████████████▏ | 44/45 [13:39<00:19, 19.77s/it]"
     ]
    },
    {
     "name": "stdout",
     "output_type": "stream",
     "text": [
      "/Hotel_Review-g186338-d275444-Reviews-or215-The_Ventures_Hotel-London_England.html#REVIEWS DO NOT STAY HERE!!!!\n"
     ]
    },
    {
     "name": "stderr",
     "output_type": "stream",
     "text": [
      "100%|██████████████████████████████████████████████████████████████████████████████████| 45/45 [14:04<00:00, 18.76s/it]\n",
      "  0%|                                                                                           | 0/41 [00:00<?, ?it/s]"
     ]
    },
    {
     "name": "stdout",
     "output_type": "stream",
     "text": [
      "/Hotel_Review-g186338-d275444-Reviews-or220-The_Ventures_Hotel-London_England.html#REVIEWS The most terrible hotel ever!!!\n",
      "big sleep\n"
     ]
    },
    {
     "name": "stderr",
     "output_type": "stream",
     "text": [
      "\r",
      "  2%|██                                                                                 | 1/41 [00:15<10:32, 15.82s/it]"
     ]
    },
    {
     "name": "stdout",
     "output_type": "stream",
     "text": [
      "/Hotel_Review-g186338-d257238-Reviews-or0-OYO_Somerset_Hotel-London_England.html#REVIEWS Awful!! Worst hotel I have ever been in!\n"
     ]
    },
    {
     "name": "stderr",
     "output_type": "stream",
     "text": [
      "\r",
      "  5%|████                                                                               | 2/41 [00:42<14:16, 21.96s/it]"
     ]
    },
    {
     "name": "stdout",
     "output_type": "stream",
     "text": [
      "/Hotel_Review-g186338-d257238-Reviews-or5-OYO_Somerset_Hotel-London_England.html#REVIEWS Hotel review\n"
     ]
    },
    {
     "name": "stderr",
     "output_type": "stream",
     "text": [
      "\r",
      "  7%|██████                                                                             | 3/41 [01:10<15:44, 24.85s/it]"
     ]
    },
    {
     "name": "stdout",
     "output_type": "stream",
     "text": [
      "/Hotel_Review-g186338-d257238-Reviews-or10-OYO_Somerset_Hotel-London_England.html#REVIEWS One night in a dingy, smelly, unclean unfit for purpose room\n"
     ]
    },
    {
     "name": "stderr",
     "output_type": "stream",
     "text": [
      "\r",
      " 10%|████████                                                                           | 4/41 [01:25<12:58, 21.03s/it]"
     ]
    },
    {
     "name": "stdout",
     "output_type": "stream",
     "text": [
      "/Hotel_Review-g186338-d257238-Reviews-or15-OYO_Somerset_Hotel-London_England.html#REVIEWS If I could, I would've rated this \"hotel\" with a minus 10!!!\n"
     ]
    },
    {
     "name": "stderr",
     "output_type": "stream",
     "text": [
      "\r",
      " 12%|██████████                                                                         | 5/41 [01:40<11:21, 18.93s/it]"
     ]
    },
    {
     "name": "stdout",
     "output_type": "stream",
     "text": [
      "/Hotel_Review-g186338-d257238-Reviews-or20-OYO_Somerset_Hotel-London_England.html#REVIEWS Overpriced and crappy room\n"
     ]
    },
    {
     "name": "stderr",
     "output_type": "stream",
     "text": [
      "\r",
      " 15%|████████████▏                                                                      | 6/41 [01:55<10:07, 17.35s/it]"
     ]
    },
    {
     "name": "stdout",
     "output_type": "stream",
     "text": [
      "/Hotel_Review-g186338-d257238-Reviews-or25-OYO_Somerset_Hotel-London_England.html#REVIEWS Room and Service\n"
     ]
    },
    {
     "name": "stderr",
     "output_type": "stream",
     "text": [
      "\r",
      " 17%|██████████████▏                                                                    | 7/41 [02:24<12:05, 21.33s/it]"
     ]
    },
    {
     "name": "stdout",
     "output_type": "stream",
     "text": [
      "/Hotel_Review-g186338-d257238-Reviews-or30-OYO_Somerset_Hotel-London_England.html#REVIEWS Edwards\n"
     ]
    },
    {
     "name": "stderr",
     "output_type": "stream",
     "text": [
      "\r",
      " 20%|████████████████▏                                                                  | 8/41 [02:33<09:30, 17.28s/it]"
     ]
    },
    {
     "name": "stdout",
     "output_type": "stream",
     "text": [
      "/Hotel_Review-g186338-d257238-Reviews-or35-OYO_Somerset_Hotel-London_England.html#REVIEWS Worst nights sleep I have ever had - filthy, dirty place\n"
     ]
    },
    {
     "name": "stderr",
     "output_type": "stream",
     "text": [
      "\r",
      " 22%|██████████████████▏                                                                | 9/41 [02:57<10:22, 19.44s/it]"
     ]
    },
    {
     "name": "stdout",
     "output_type": "stream",
     "text": [
      "/Hotel_Review-g186338-d257238-Reviews-or40-OYO_Somerset_Hotel-London_England.html#REVIEWS Average, get what you pay for.\n"
     ]
    },
    {
     "name": "stderr",
     "output_type": "stream",
     "text": [
      "\r",
      " 24%|████████████████████                                                              | 10/41 [03:17<10:08, 19.63s/it]"
     ]
    },
    {
     "name": "stdout",
     "output_type": "stream",
     "text": [
      "/Hotel_Review-g186338-d257238-Reviews-or45-OYO_Somerset_Hotel-London_England.html#REVIEWS The roof was caved in...\n"
     ]
    },
    {
     "name": "stderr",
     "output_type": "stream",
     "text": [
      "\r",
      " 27%|██████████████████████                                                            | 11/41 [03:31<08:59, 17.98s/it]"
     ]
    },
    {
     "name": "stdout",
     "output_type": "stream",
     "text": [
      "/Hotel_Review-g186338-d257238-Reviews-or50-OYO_Somerset_Hotel-London_England.html#REVIEWS If 0/5 was an option I'd give it that\n"
     ]
    },
    {
     "name": "stderr",
     "output_type": "stream",
     "text": [
      "\r",
      " 29%|████████████████████████                                                          | 12/41 [03:54<09:22, 19.38s/it]"
     ]
    },
    {
     "name": "stdout",
     "output_type": "stream",
     "text": [
      "/Hotel_Review-g186338-d257238-Reviews-or55-OYO_Somerset_Hotel-London_England.html#REVIEWS One night to enjoy the theatre.\n"
     ]
    },
    {
     "name": "stderr",
     "output_type": "stream",
     "text": [
      "\r",
      " 32%|██████████████████████████                                                        | 13/41 [04:08<08:20, 17.87s/it]"
     ]
    },
    {
     "name": "stdout",
     "output_type": "stream",
     "text": [
      "/Hotel_Review-g186338-d257238-Reviews-or60-OYO_Somerset_Hotel-London_England.html#REVIEWS Dirty dump \n"
     ]
    },
    {
     "name": "stderr",
     "output_type": "stream",
     "text": [
      "\r",
      " 34%|████████████████████████████                                                      | 14/41 [04:35<09:17, 20.65s/it]"
     ]
    },
    {
     "name": "stdout",
     "output_type": "stream",
     "text": [
      "/Hotel_Review-g186338-d257238-Reviews-or65-OYO_Somerset_Hotel-London_England.html#REVIEWS Somerset Hell\n"
     ]
    },
    {
     "name": "stderr",
     "output_type": "stream",
     "text": [
      "\r",
      " 37%|██████████████████████████████                                                    | 15/41 [05:02<09:47, 22.61s/it]"
     ]
    },
    {
     "name": "stdout",
     "output_type": "stream",
     "text": [
      "/Hotel_Review-g186338-d257238-Reviews-or70-OYO_Somerset_Hotel-London_England.html#REVIEWS Very poor indeed!\n"
     ]
    },
    {
     "name": "stderr",
     "output_type": "stream",
     "text": [
      "\r",
      " 39%|████████████████████████████████                                                  | 16/41 [05:25<09:22, 22.50s/it]"
     ]
    },
    {
     "name": "stdout",
     "output_type": "stream",
     "text": [
      "/Hotel_Review-g186338-d257238-Reviews-or75-OYO_Somerset_Hotel-London_England.html#REVIEWS Looks a like a brothel\n"
     ]
    },
    {
     "name": "stderr",
     "output_type": "stream",
     "text": [
      "\r",
      " 41%|██████████████████████████████████                                                | 17/41 [05:49<09:11, 23.00s/it]"
     ]
    },
    {
     "name": "stdout",
     "output_type": "stream",
     "text": [
      "/Hotel_Review-g186338-d257238-Reviews-or80-OYO_Somerset_Hotel-London_England.html#REVIEWS Letdown\n"
     ]
    },
    {
     "name": "stderr",
     "output_type": "stream",
     "text": [
      "\r",
      " 44%|████████████████████████████████████                                              | 18/41 [06:18<09:31, 24.83s/it]"
     ]
    },
    {
     "name": "stdout",
     "output_type": "stream",
     "text": [
      "/Hotel_Review-g186338-d257238-Reviews-or85-OYO_Somerset_Hotel-London_England.html#REVIEWS Somerset Hotel - DO NOT RECOMMEND\n"
     ]
    },
    {
     "name": "stderr",
     "output_type": "stream",
     "text": [
      "\r",
      " 46%|██████████████████████████████████████                                            | 19/41 [06:41<08:52, 24.19s/it]"
     ]
    },
    {
     "name": "stdout",
     "output_type": "stream",
     "text": [
      "/Hotel_Review-g186338-d257238-Reviews-or90-OYO_Somerset_Hotel-London_England.html#REVIEWS Excellent Location & value for stay hotel!\n"
     ]
    },
    {
     "name": "stderr",
     "output_type": "stream",
     "text": [
      "\r",
      " 49%|████████████████████████████████████████                                          | 20/41 [06:51<07:00, 20.02s/it]"
     ]
    },
    {
     "name": "stdout",
     "output_type": "stream",
     "text": [
      "/Hotel_Review-g186338-d257238-Reviews-or95-OYO_Somerset_Hotel-London_England.html#REVIEWS Great location for a budget hotel\n"
     ]
    },
    {
     "name": "stderr",
     "output_type": "stream",
     "text": [
      "\r",
      " 51%|██████████████████████████████████████████                                        | 21/41 [07:09<06:29, 19.47s/it]"
     ]
    },
    {
     "name": "stdout",
     "output_type": "stream",
     "text": [
      "/Hotel_Review-g186338-d257238-Reviews-or100-OYO_Somerset_Hotel-London_England.html#REVIEWS Vacation\n"
     ]
    },
    {
     "name": "stderr",
     "output_type": "stream",
     "text": [
      "\r",
      " 54%|████████████████████████████████████████████                                      | 22/41 [07:29<06:13, 19.67s/it]"
     ]
    },
    {
     "name": "stdout",
     "output_type": "stream",
     "text": [
      "/Hotel_Review-g186338-d257238-Reviews-or105-OYO_Somerset_Hotel-London_England.html#REVIEWS Glad I took my ear plugs .friendly staff. good budget hotel\n"
     ]
    },
    {
     "name": "stderr",
     "output_type": "stream",
     "text": [
      "\r",
      " 56%|██████████████████████████████████████████████                                    | 23/41 [07:52<06:13, 20.76s/it]"
     ]
    },
    {
     "name": "stdout",
     "output_type": "stream",
     "text": [
      "/Hotel_Review-g186338-d257238-Reviews-or110-OYO_Somerset_Hotel-London_England.html#REVIEWS Absolutely Awful Hotel!!\n"
     ]
    },
    {
     "name": "stderr",
     "output_type": "stream",
     "text": [
      "\r",
      " 59%|████████████████████████████████████████████████                                  | 24/41 [08:03<05:03, 17.83s/it]"
     ]
    },
    {
     "name": "stdout",
     "output_type": "stream",
     "text": [
      "/Hotel_Review-g186338-d257238-Reviews-or115-OYO_Somerset_Hotel-London_England.html#REVIEWS Horrible and disgusting .. do not stay here\n"
     ]
    },
    {
     "name": "stderr",
     "output_type": "stream",
     "text": [
      "\r",
      " 61%|██████████████████████████████████████████████████                                | 25/41 [08:34<05:44, 21.55s/it]"
     ]
    },
    {
     "name": "stdout",
     "output_type": "stream",
     "text": [
      "/Hotel_Review-g186338-d257238-Reviews-or120-OYO_Somerset_Hotel-London_England.html#REVIEWS Grim!\n"
     ]
    },
    {
     "name": "stderr",
     "output_type": "stream",
     "text": [
      "\r",
      " 63%|████████████████████████████████████████████████████                              | 26/41 [08:49<04:54, 19.66s/it]"
     ]
    },
    {
     "name": "stdout",
     "output_type": "stream",
     "text": [
      "/Hotel_Review-g186338-d257238-Reviews-or125-OYO_Somerset_Hotel-London_England.html#REVIEWS CHEAP AND NASTY HOSTEL - GO TO TRAVELODGE IN WEMBLEY CENTRAL AND GET THE TUBE\n"
     ]
    },
    {
     "name": "stderr",
     "output_type": "stream",
     "text": [
      "\r",
      " 66%|██████████████████████████████████████████████████████                            | 27/41 [09:05<04:20, 18.58s/it]"
     ]
    },
    {
     "name": "stdout",
     "output_type": "stream",
     "text": [
      "/Hotel_Review-g186338-d257238-Reviews-or130-OYO_Somerset_Hotel-London_England.html#REVIEWS Don't do it!\n"
     ]
    },
    {
     "name": "stderr",
     "output_type": "stream",
     "text": [
      "\r",
      " 68%|████████████████████████████████████████████████████████                          | 28/41 [09:19<03:44, 17.30s/it]"
     ]
    },
    {
     "name": "stdout",
     "output_type": "stream",
     "text": [
      "/Hotel_Review-g186338-d257238-Reviews-or135-OYO_Somerset_Hotel-London_England.html#REVIEWS Disgusting\n"
     ]
    },
    {
     "name": "stderr",
     "output_type": "stream",
     "text": [
      "\r",
      " 71%|██████████████████████████████████████████████████████████                        | 29/41 [09:44<03:52, 19.40s/it]"
     ]
    },
    {
     "name": "stdout",
     "output_type": "stream",
     "text": [
      "/Hotel_Review-g186338-d257238-Reviews-or140-OYO_Somerset_Hotel-London_England.html#REVIEWS Awful, requires substantial investment\n"
     ]
    },
    {
     "name": "stderr",
     "output_type": "stream",
     "text": [
      "\r",
      " 73%|████████████████████████████████████████████████████████████                      | 30/41 [09:56<03:10, 17.29s/it]"
     ]
    },
    {
     "name": "stdout",
     "output_type": "stream",
     "text": [
      "/Hotel_Review-g186338-d257238-Reviews-or145-OYO_Somerset_Hotel-London_England.html#REVIEWS Affordable in center London \n"
     ]
    },
    {
     "name": "stderr",
     "output_type": "stream",
     "text": [
      "\r",
      " 76%|██████████████████████████████████████████████████████████████                    | 31/41 [10:26<03:31, 21.20s/it]"
     ]
    },
    {
     "name": "stdout",
     "output_type": "stream",
     "text": [
      "/Hotel_Review-g186338-d257238-Reviews-or150-OYO_Somerset_Hotel-London_England.html#REVIEWS Good location, but needs renovating\n"
     ]
    },
    {
     "name": "stderr",
     "output_type": "stream",
     "text": [
      "\r",
      " 78%|████████████████████████████████████████████████████████████████                  | 32/41 [10:41<02:54, 19.35s/it]"
     ]
    },
    {
     "name": "stdout",
     "output_type": "stream",
     "text": [
      "/Hotel_Review-g186338-d257238-Reviews-or155-OYO_Somerset_Hotel-London_England.html#REVIEWS Disappointing\n"
     ]
    },
    {
     "name": "stderr",
     "output_type": "stream",
     "text": [
      "\r",
      " 80%|██████████████████████████████████████████████████████████████████                | 33/41 [11:08<02:53, 21.67s/it]"
     ]
    },
    {
     "name": "stdout",
     "output_type": "stream",
     "text": [
      "/Hotel_Review-g186338-d257238-Reviews-or160-OYO_Somerset_Hotel-London_England.html#REVIEWS Awful is an understatement\n"
     ]
    },
    {
     "name": "stderr",
     "output_type": "stream",
     "text": [
      "\r",
      " 83%|████████████████████████████████████████████████████████████████████              | 34/41 [11:28<02:27, 21.02s/it]"
     ]
    },
    {
     "name": "stdout",
     "output_type": "stream",
     "text": [
      "/Hotel_Review-g186338-d257238-Reviews-or165-OYO_Somerset_Hotel-London_England.html#REVIEWS Bed bug shocker!\n"
     ]
    },
    {
     "name": "stderr",
     "output_type": "stream",
     "text": [
      "\r",
      " 85%|██████████████████████████████████████████████████████████████████████            | 35/41 [11:35<01:41, 16.83s/it]"
     ]
    },
    {
     "name": "stdout",
     "output_type": "stream",
     "text": [
      "/Hotel_Review-g186338-d257238-Reviews-or170-OYO_Somerset_Hotel-London_England.html#REVIEWS Excellent customer service\n"
     ]
    },
    {
     "name": "stderr",
     "output_type": "stream",
     "text": [
      "\r",
      " 88%|████████████████████████████████████████████████████████████████████████          | 36/41 [11:43<01:10, 14.19s/it]"
     ]
    },
    {
     "name": "stdout",
     "output_type": "stream",
     "text": [
      "/Hotel_Review-g186338-d257238-Reviews-or175-OYO_Somerset_Hotel-London_England.html#REVIEWS Simple but it does what it says on the tin\n"
     ]
    },
    {
     "name": "stderr",
     "output_type": "stream",
     "text": [
      "\r",
      " 90%|██████████████████████████████████████████████████████████████████████████        | 37/41 [11:55<00:54, 13.64s/it]"
     ]
    },
    {
     "name": "stdout",
     "output_type": "stream",
     "text": [
      "/Hotel_Review-g186338-d257238-Reviews-or180-OYO_Somerset_Hotel-London_England.html#REVIEWS Well located\n"
     ]
    },
    {
     "name": "stderr",
     "output_type": "stream",
     "text": [
      "\r",
      " 93%|████████████████████████████████████████████████████████████████████████████      | 38/41 [12:24<00:54, 18.06s/it]"
     ]
    },
    {
     "name": "stdout",
     "output_type": "stream",
     "text": [
      "/Hotel_Review-g186338-d257238-Reviews-or185-OYO_Somerset_Hotel-London_England.html#REVIEWS shoppers paradise\n"
     ]
    },
    {
     "name": "stderr",
     "output_type": "stream",
     "text": [
      "\r",
      " 95%|██████████████████████████████████████████████████████████████████████████████    | 39/41 [12:31<00:29, 14.94s/it]"
     ]
    },
    {
     "name": "stdout",
     "output_type": "stream",
     "text": [
      "/Hotel_Review-g186338-d257238-Reviews-or190-OYO_Somerset_Hotel-London_England.html#REVIEWS Stay away!!!\n"
     ]
    },
    {
     "name": "stderr",
     "output_type": "stream",
     "text": [
      "\r",
      " 98%|████████████████████████████████████████████████████████████████████████████████  | 40/41 [12:56<00:17, 17.99s/it]"
     ]
    },
    {
     "name": "stdout",
     "output_type": "stream",
     "text": [
      "/Hotel_Review-g186338-d257238-Reviews-or195-OYO_Somerset_Hotel-London_England.html#REVIEWS Pretty unpleasant\n"
     ]
    },
    {
     "name": "stderr",
     "output_type": "stream",
     "text": [
      "100%|██████████████████████████████████████████████████████████████████████████████████| 41/41 [13:09<00:00, 19.26s/it]\n",
      "  0%|                                                                                           | 0/38 [00:00<?, ?it/s]"
     ]
    },
    {
     "name": "stdout",
     "output_type": "stream",
     "text": [
      "/Hotel_Review-g186338-d257238-Reviews-or200-OYO_Somerset_Hotel-London_England.html#REVIEWS hotel was ok\n",
      "big sleep\n"
     ]
    },
    {
     "name": "stderr",
     "output_type": "stream",
     "text": [
      "\r",
      "  3%|██▏                                                                                | 1/38 [00:25<15:46, 25.59s/it]"
     ]
    },
    {
     "name": "stdout",
     "output_type": "stream",
     "text": [
      "/Hotel_Review-g186338-d528657-Reviews-or0-Springfield_Hotel_London-London_England.html#REVIEWS Adequate\n"
     ]
    },
    {
     "name": "stderr",
     "output_type": "stream",
     "text": [
      "\r",
      "  5%|████▎                                                                              | 2/38 [00:47<13:55, 23.22s/it]"
     ]
    },
    {
     "name": "stdout",
     "output_type": "stream",
     "text": [
      "/Hotel_Review-g186338-d528657-Reviews-or5-Springfield_Hotel_London-London_England.html#REVIEWS The Worst Hotel.\n"
     ]
    },
    {
     "name": "stderr",
     "output_type": "stream",
     "text": [
      "\r",
      "  8%|██████▌                                                                            | 3/38 [01:15<14:55, 25.59s/it]"
     ]
    },
    {
     "name": "stdout",
     "output_type": "stream",
     "text": [
      "/Hotel_Review-g186338-d528657-Reviews-or10-Springfield_Hotel_London-London_England.html#REVIEWS A deal for a short stay in London\n"
     ]
    },
    {
     "name": "stderr",
     "output_type": "stream",
     "text": [
      "\r",
      " 11%|████████▋                                                                          | 4/38 [01:23<10:27, 18.46s/it]"
     ]
    },
    {
     "name": "stdout",
     "output_type": "stream",
     "text": [
      "/Hotel_Review-g186338-d528657-Reviews-or15-Springfield_Hotel_London-London_England.html#REVIEWS Break in london with a friend\n"
     ]
    },
    {
     "name": "stderr",
     "output_type": "stream",
     "text": [
      "\r",
      " 13%|██████████▉                                                                        | 5/38 [01:32<08:21, 15.19s/it]"
     ]
    },
    {
     "name": "stdout",
     "output_type": "stream",
     "text": [
      "/Hotel_Review-g186338-d528657-Reviews-or20-Springfield_Hotel_London-London_England.html#REVIEWS Very handy for Paddington Station.\n"
     ]
    },
    {
     "name": "stderr",
     "output_type": "stream",
     "text": [
      "\r",
      " 16%|█████████████                                                                      | 6/38 [02:01<10:40, 20.03s/it]"
     ]
    },
    {
     "name": "stdout",
     "output_type": "stream",
     "text": [
      "/Hotel_Review-g186338-d528657-Reviews-or25-Springfield_Hotel_London-London_England.html#REVIEWS Faulty Towers\n"
     ]
    },
    {
     "name": "stderr",
     "output_type": "stream",
     "text": [
      "\r",
      " 18%|███████████████▎                                                                   | 7/38 [02:14<09:02, 17.48s/it]"
     ]
    },
    {
     "name": "stdout",
     "output_type": "stream",
     "text": [
      "/Hotel_Review-g186338-d528657-Reviews-or30-Springfield_Hotel_London-London_England.html#REVIEWS very poor customer service \n"
     ]
    },
    {
     "name": "stderr",
     "output_type": "stream",
     "text": [
      "\r",
      " 21%|█████████████████▍                                                                 | 8/38 [02:22<07:16, 14.55s/it]"
     ]
    },
    {
     "name": "stdout",
     "output_type": "stream",
     "text": [
      "/Hotel_Review-g186338-d528657-Reviews-or35-Springfield_Hotel_London-London_England.html#REVIEWS Abysmal\n"
     ]
    },
    {
     "name": "stderr",
     "output_type": "stream",
     "text": [
      "\r",
      " 24%|███████████████████▋                                                               | 9/38 [02:31<06:14, 12.91s/it]"
     ]
    },
    {
     "name": "stdout",
     "output_type": "stream",
     "text": [
      "/Hotel_Review-g186338-d528657-Reviews-or40-Springfield_Hotel_London-London_England.html#REVIEWS Value for money!\n"
     ]
    },
    {
     "name": "stderr",
     "output_type": "stream",
     "text": [
      "\r",
      " 26%|█████████████████████▌                                                            | 10/38 [02:40<05:22, 11.53s/it]"
     ]
    },
    {
     "name": "stdout",
     "output_type": "stream",
     "text": [
      "/Hotel_Review-g186338-d528657-Reviews-or45-Springfield_Hotel_London-London_England.html#REVIEWS Avoid\n"
     ]
    },
    {
     "name": "stderr",
     "output_type": "stream",
     "text": [
      "\r",
      " 29%|███████████████████████▋                                                          | 11/38 [03:10<07:48, 17.35s/it]"
     ]
    },
    {
     "name": "stdout",
     "output_type": "stream",
     "text": [
      "/Hotel_Review-g186338-d528657-Reviews-or50-Springfield_Hotel_London-London_England.html#REVIEWS Awful place\n"
     ]
    },
    {
     "name": "stderr",
     "output_type": "stream",
     "text": [
      "\r",
      " 32%|█████████████████████████▉                                                        | 12/38 [03:36<08:36, 19.87s/it]"
     ]
    },
    {
     "name": "stdout",
     "output_type": "stream",
     "text": [
      "/Hotel_Review-g186338-d528657-Reviews-or55-Springfield_Hotel_London-London_England.html#REVIEWS Definitely come back\n"
     ]
    },
    {
     "name": "stderr",
     "output_type": "stream",
     "text": [
      "\r",
      " 34%|████████████████████████████                                                      | 13/38 [03:48<07:19, 17.56s/it]"
     ]
    },
    {
     "name": "stdout",
     "output_type": "stream",
     "text": [
      "/Hotel_Review-g186338-d528657-Reviews-or60-Springfield_Hotel_London-London_England.html#REVIEWS For one night only if you need somewhere close to Paddington\n"
     ]
    },
    {
     "name": "stderr",
     "output_type": "stream",
     "text": [
      "\r",
      " 37%|██████████████████████████████▏                                                   | 14/38 [03:57<06:00, 15.04s/it]"
     ]
    },
    {
     "name": "stdout",
     "output_type": "stream",
     "text": [
      "/Hotel_Review-g186338-d528657-Reviews-or65-Springfield_Hotel_London-London_England.html#REVIEWS I would not recomended it.\n"
     ]
    },
    {
     "name": "stderr",
     "output_type": "stream",
     "text": [
      "\r",
      " 39%|████████████████████████████████▎                                                 | 15/38 [04:06<04:58, 12.98s/it]"
     ]
    },
    {
     "name": "stdout",
     "output_type": "stream",
     "text": [
      "/Hotel_Review-g186338-d528657-Reviews-or70-Springfield_Hotel_London-London_England.html#REVIEWS Over graded\n"
     ]
    },
    {
     "name": "stderr",
     "output_type": "stream",
     "text": [
      "\r",
      " 42%|██████████████████████████████████▌                                               | 16/38 [04:29<05:53, 16.08s/it]"
     ]
    },
    {
     "name": "stdout",
     "output_type": "stream",
     "text": [
      "/Hotel_Review-g186338-d528657-Reviews-or75-Springfield_Hotel_London-London_England.html#REVIEWS Exactly what I expected for the price and location\n"
     ]
    },
    {
     "name": "stderr",
     "output_type": "stream",
     "text": [
      "\r",
      " 45%|████████████████████████████████████▋                                             | 17/38 [04:57<06:54, 19.73s/it]"
     ]
    },
    {
     "name": "stdout",
     "output_type": "stream",
     "text": [
      "/Hotel_Review-g186338-d528657-Reviews-or80-Springfield_Hotel_London-London_England.html#REVIEWS Visit with family\n"
     ]
    },
    {
     "name": "stderr",
     "output_type": "stream",
     "text": [
      "\r",
      " 47%|██████████████████████████████████████▊                                           | 18/38 [05:04<05:19, 15.99s/it]"
     ]
    },
    {
     "name": "stdout",
     "output_type": "stream",
     "text": [
      "/Hotel_Review-g186338-d528657-Reviews-or85-Springfield_Hotel_London-London_England.html#REVIEWS Not for the faint-hearted!\n"
     ]
    },
    {
     "name": "stderr",
     "output_type": "stream",
     "text": [
      "\r",
      " 50%|█████████████████████████████████████████                                         | 19/38 [05:15<04:32, 14.33s/it]"
     ]
    },
    {
     "name": "stdout",
     "output_type": "stream",
     "text": [
      "/Hotel_Review-g186338-d528657-Reviews-or90-Springfield_Hotel_London-London_England.html#REVIEWS Shoddy Hotel\n"
     ]
    },
    {
     "name": "stderr",
     "output_type": "stream",
     "text": [
      "\r",
      " 53%|███████████████████████████████████████████▏                                      | 20/38 [05:30<04:22, 14.59s/it]"
     ]
    },
    {
     "name": "stdout",
     "output_type": "stream",
     "text": [
      "/Hotel_Review-g186338-d528657-Reviews-or95-Springfield_Hotel_London-London_England.html#REVIEWS Value for money\n"
     ]
    },
    {
     "name": "stderr",
     "output_type": "stream",
     "text": [
      "\r",
      " 55%|█████████████████████████████████████████████▎                                    | 21/38 [05:38<03:36, 12.75s/it]"
     ]
    },
    {
     "name": "stdout",
     "output_type": "stream",
     "text": [
      "/Hotel_Review-g186338-d528657-Reviews-or100-Springfield_Hotel_London-London_England.html#REVIEWS Very good value for money\n"
     ]
    },
    {
     "name": "stderr",
     "output_type": "stream",
     "text": [
      "\r",
      " 58%|███████████████████████████████████████████████▍                                  | 22/38 [05:47<03:06, 11.64s/it]"
     ]
    },
    {
     "name": "stdout",
     "output_type": "stream",
     "text": [
      "/Hotel_Review-g186338-d528657-Reviews-or105-Springfield_Hotel_London-London_England.html#REVIEWS Dirty!\n"
     ]
    },
    {
     "name": "stderr",
     "output_type": "stream",
     "text": [
      "\r",
      " 61%|█████████████████████████████████████████████████▋                                | 23/38 [06:15<04:05, 16.40s/it]"
     ]
    },
    {
     "name": "stdout",
     "output_type": "stream",
     "text": [
      "/Hotel_Review-g186338-d528657-Reviews-or110-Springfield_Hotel_London-London_England.html#REVIEWS Got what we paid for\n"
     ]
    },
    {
     "name": "stderr",
     "output_type": "stream",
     "text": [
      "\r",
      " 63%|███████████████████████████████████████████████████▊                              | 24/38 [06:26<03:27, 14.84s/it]"
     ]
    },
    {
     "name": "stdout",
     "output_type": "stream",
     "text": [
      "/Hotel_Review-g186338-d528657-Reviews-or115-Springfield_Hotel_London-London_England.html#REVIEWS Not what I expected\n"
     ]
    },
    {
     "name": "stderr",
     "output_type": "stream",
     "text": [
      "\r",
      " 66%|█████████████████████████████████████████████████████▉                            | 25/38 [06:54<04:04, 18.83s/it]"
     ]
    },
    {
     "name": "stdout",
     "output_type": "stream",
     "text": [
      "/Hotel_Review-g186338-d528657-Reviews-or120-Springfield_Hotel_London-London_England.html#REVIEWS Average at best\n"
     ]
    },
    {
     "name": "stderr",
     "output_type": "stream",
     "text": [
      "\r",
      " 68%|████████████████████████████████████████████████████████                          | 26/38 [07:13<03:44, 18.73s/it]"
     ]
    },
    {
     "name": "stdout",
     "output_type": "stream",
     "text": [
      "/Hotel_Review-g186338-d528657-Reviews-or125-Springfield_Hotel_London-London_England.html#REVIEWS A great hotel...Not what we expected!\n"
     ]
    },
    {
     "name": "stderr",
     "output_type": "stream",
     "text": [
      "\r",
      " 71%|██████████████████████████████████████████████████████████▎                       | 27/38 [07:42<04:00, 21.86s/it]"
     ]
    },
    {
     "name": "stdout",
     "output_type": "stream",
     "text": [
      "/Hotel_Review-g186338-d528657-Reviews-or130-Springfield_Hotel_London-London_England.html#REVIEWS A little work and could be so much better\n"
     ]
    },
    {
     "name": "stderr",
     "output_type": "stream",
     "text": [
      "\r",
      " 74%|████████████████████████████████████████████████████████████▍                     | 28/38 [07:49<02:54, 17.48s/it]"
     ]
    },
    {
     "name": "stdout",
     "output_type": "stream",
     "text": [
      "/Hotel_Review-g186338-d528657-Reviews-or135-Springfield_Hotel_London-London_England.html#REVIEWS DO NOT STAY AT THIS HOTEL!!! AWFUL!!!\n"
     ]
    },
    {
     "name": "stderr",
     "output_type": "stream",
     "text": [
      "\r",
      " 76%|██████████████████████████████████████████████████████████████▌                   | 29/38 [08:07<02:36, 17.44s/it]"
     ]
    },
    {
     "name": "stdout",
     "output_type": "stream",
     "text": [
      "/Hotel_Review-g186338-d528657-Reviews-or140-Springfield_Hotel_London-London_England.html#REVIEWS Avoid at all costs!!!!\n"
     ]
    },
    {
     "name": "stderr",
     "output_type": "stream",
     "text": [
      "\r",
      " 79%|████████████████████████████████████████████████████████████████▋                 | 30/38 [08:25<02:22, 17.75s/it]"
     ]
    },
    {
     "name": "stdout",
     "output_type": "stream",
     "text": [
      "/Hotel_Review-g186338-d528657-Reviews-or145-Springfield_Hotel_London-London_England.html#REVIEWS Very small rooms but friendly service\n"
     ]
    },
    {
     "name": "stderr",
     "output_type": "stream",
     "text": [
      "\r",
      " 82%|██████████████████████████████████████████████████████████████████▉               | 31/38 [08:45<02:09, 18.55s/it]"
     ]
    },
    {
     "name": "stdout",
     "output_type": "stream",
     "text": [
      "/Hotel_Review-g186338-d528657-Reviews-or150-Springfield_Hotel_London-London_England.html#REVIEWS wrong hotel\n"
     ]
    },
    {
     "name": "stderr",
     "output_type": "stream",
     "text": [
      "\r",
      " 84%|█████████████████████████████████████████████████████████████████████             | 32/38 [09:14<02:09, 21.53s/it]"
     ]
    },
    {
     "name": "stdout",
     "output_type": "stream",
     "text": [
      "/Hotel_Review-g186338-d528657-Reviews-or155-Springfield_Hotel_London-London_England.html#REVIEWS No Booking!!!!!\n"
     ]
    },
    {
     "name": "stderr",
     "output_type": "stream",
     "text": [
      "\r",
      " 87%|███████████████████████████████████████████████████████████████████████▏          | 33/38 [09:32<01:42, 20.52s/it]"
     ]
    },
    {
     "name": "stdout",
     "output_type": "stream",
     "text": [
      "/Hotel_Review-g186338-d528657-Reviews-or160-Springfield_Hotel_London-London_England.html#REVIEWS Avoid if at all possible...\n"
     ]
    },
    {
     "name": "stderr",
     "output_type": "stream",
     "text": [
      "\r",
      " 89%|█████████████████████████████████████████████████████████████████████████▎        | 34/38 [09:41<01:07, 16.89s/it]"
     ]
    },
    {
     "name": "stdout",
     "output_type": "stream",
     "text": [
      "/Hotel_Review-g186338-d528657-Reviews-or165-Springfield_Hotel_London-London_England.html#REVIEWS horrible place\n"
     ]
    },
    {
     "name": "stderr",
     "output_type": "stream",
     "text": [
      "\r",
      " 92%|███████████████████████████████████████████████████████████████████████████▌      | 35/38 [09:49<00:43, 14.36s/it]"
     ]
    },
    {
     "name": "stdout",
     "output_type": "stream",
     "text": [
      "/Hotel_Review-g186338-d528657-Reviews-or170-Springfield_Hotel_London-London_England.html#REVIEWS Get what you pay for.\n"
     ]
    },
    {
     "name": "stderr",
     "output_type": "stream",
     "text": [
      "\r",
      " 95%|█████████████████████████████████████████████████████████████████████████████▋    | 36/38 [10:16<00:36, 18.18s/it]"
     ]
    },
    {
     "name": "stdout",
     "output_type": "stream",
     "text": [
      "/Hotel_Review-g186338-d528657-Reviews-or175-Springfield_Hotel_London-London_England.html#REVIEWS could do better\n"
     ]
    },
    {
     "name": "stderr",
     "output_type": "stream",
     "text": [
      "\r",
      " 97%|███████████████████████████████████████████████████████████████████████████████▊  | 37/38 [10:47<00:21, 21.87s/it]"
     ]
    },
    {
     "name": "stdout",
     "output_type": "stream",
     "text": [
      "/Hotel_Review-g186338-d528657-Reviews-or180-Springfield_Hotel_London-London_England.html#REVIEWS A comfortable stay\n"
     ]
    },
    {
     "name": "stderr",
     "output_type": "stream",
     "text": [
      "100%|██████████████████████████████████████████████████████████████████████████████████| 38/38 [11:13<00:00, 17.72s/it]\n",
      "  0%|                                                                                           | 0/38 [00:00<?, ?it/s]"
     ]
    },
    {
     "name": "stdout",
     "output_type": "stream",
     "text": [
      "/Hotel_Review-g186338-d528657-Reviews-or185-Springfield_Hotel_London-London_England.html#REVIEWS For what it is, a great bargain in a great location\n",
      "big sleep\n"
     ]
    },
    {
     "name": "stderr",
     "output_type": "stream",
     "text": [
      "\r",
      "  3%|██▏                                                                                | 1/38 [00:19<12:01, 19.50s/it]"
     ]
    },
    {
     "name": "stdout",
     "output_type": "stream",
     "text": [
      "/Hotel_Review-g186338-d224729-Reviews-or0-Hyde_Park_Court_Hotel-London_England.html#REVIEWS Good value room last minute\n"
     ]
    },
    {
     "name": "stderr",
     "output_type": "stream",
     "text": [
      "\r",
      "  5%|████▎                                                                              | 2/38 [00:36<10:41, 17.83s/it]"
     ]
    },
    {
     "name": "stdout",
     "output_type": "stream",
     "text": [
      "/Hotel_Review-g186338-d224729-Reviews-or5-Hyde_Park_Court_Hotel-London_England.html#REVIEWS Horrible\n"
     ]
    },
    {
     "name": "stderr",
     "output_type": "stream",
     "text": [
      "\r",
      "  8%|██████▌                                                                            | 3/38 [01:01<12:31, 21.48s/it]"
     ]
    },
    {
     "name": "stdout",
     "output_type": "stream",
     "text": [
      "/Hotel_Review-g186338-d224729-Reviews-or10-Hyde_Park_Court_Hotel-London_England.html#REVIEWS Two star is a generous rating\n"
     ]
    },
    {
     "name": "stderr",
     "output_type": "stream",
     "text": [
      "\r",
      " 11%|████████▋                                                                          | 4/38 [01:31<13:54, 24.55s/it]"
     ]
    },
    {
     "name": "stdout",
     "output_type": "stream",
     "text": [
      "/Hotel_Review-g186338-d224729-Reviews-or15-Hyde_Park_Court_Hotel-London_England.html#REVIEWS Worst hotel I’ve ever been to!\n"
     ]
    },
    {
     "name": "stderr",
     "output_type": "stream",
     "text": [
      "\r",
      " 13%|██████████▉                                                                        | 5/38 [01:47<11:51, 21.57s/it]"
     ]
    },
    {
     "name": "stdout",
     "output_type": "stream",
     "text": [
      "/Hotel_Review-g186338-d224729-Reviews-or20-Hyde_Park_Court_Hotel-London_England.html#REVIEWS A clean and comfortable basic hotel\n"
     ]
    },
    {
     "name": "stderr",
     "output_type": "stream",
     "text": [
      "\r",
      " 16%|█████████████                                                                      | 6/38 [01:56<09:15, 17.35s/it]"
     ]
    },
    {
     "name": "stdout",
     "output_type": "stream",
     "text": [
      "/Hotel_Review-g186338-d224729-Reviews-or25-Hyde_Park_Court_Hotel-London_England.html#REVIEWS Overnight special\n"
     ]
    },
    {
     "name": "stderr",
     "output_type": "stream",
     "text": [
      "\r",
      " 18%|███████████████▎                                                                   | 7/38 [02:22<10:22, 20.07s/it]"
     ]
    },
    {
     "name": "stdout",
     "output_type": "stream",
     "text": [
      "/Hotel_Review-g186338-d224729-Reviews-or30-Hyde_Park_Court_Hotel-London_England.html#REVIEWS Avoid ! Don't let them do their dirty business !\n"
     ]
    },
    {
     "name": "stderr",
     "output_type": "stream",
     "text": [
      "\r",
      " 21%|█████████████████▍                                                                 | 8/38 [02:29<08:02, 16.07s/it]"
     ]
    },
    {
     "name": "stdout",
     "output_type": "stream",
     "text": [
      "/Hotel_Review-g186338-d224729-Reviews-or35-Hyde_Park_Court_Hotel-London_England.html#REVIEWS Hyde Park!!Umm..OK.\n"
     ]
    },
    {
     "name": "stderr",
     "output_type": "stream",
     "text": [
      "\r",
      " 24%|███████████████████▋                                                               | 9/38 [02:52<08:42, 18.02s/it]"
     ]
    },
    {
     "name": "stdout",
     "output_type": "stream",
     "text": [
      "/Hotel_Review-g186338-d224729-Reviews-or40-Hyde_Park_Court_Hotel-London_England.html#REVIEWS Room on the ground level.\n"
     ]
    },
    {
     "name": "stderr",
     "output_type": "stream",
     "text": [
      "\r",
      " 26%|█████████████████████▌                                                            | 10/38 [03:12<08:46, 18.79s/it]"
     ]
    },
    {
     "name": "stdout",
     "output_type": "stream",
     "text": [
      "/Hotel_Review-g186338-d224729-Reviews-or45-Hyde_Park_Court_Hotel-London_England.html#REVIEWS very good price...and few more good things\n"
     ]
    },
    {
     "name": "stderr",
     "output_type": "stream",
     "text": [
      "\r",
      " 29%|███████████████████████▋                                                          | 11/38 [03:24<07:33, 16.78s/it]"
     ]
    },
    {
     "name": "stdout",
     "output_type": "stream",
     "text": [
      "/Hotel_Review-g186338-d224729-Reviews-or50-Hyde_Park_Court_Hotel-London_England.html#REVIEWS Dont! Filthy! Suitable for 4th world slavery!\n"
     ]
    },
    {
     "name": "stderr",
     "output_type": "stream",
     "text": [
      "\r",
      " 32%|█████████████████████████▉                                                        | 12/38 [03:39<06:56, 16.04s/it]"
     ]
    },
    {
     "name": "stdout",
     "output_type": "stream",
     "text": [
      "/Hotel_Review-g186338-d224729-Reviews-or55-Hyde_Park_Court_Hotel-London_England.html#REVIEWS Do not go there.\n"
     ]
    },
    {
     "name": "stderr",
     "output_type": "stream",
     "text": [
      "\r",
      " 34%|████████████████████████████                                                      | 13/38 [04:09<08:27, 20.31s/it]"
     ]
    },
    {
     "name": "stdout",
     "output_type": "stream",
     "text": [
      "/Hotel_Review-g186338-d224729-Reviews-or60-Hyde_Park_Court_Hotel-London_England.html#REVIEWS hell no ! should read reviews from now on. avoid !\n"
     ]
    },
    {
     "name": "stderr",
     "output_type": "stream",
     "text": [
      "\r",
      " 37%|██████████████████████████████▏                                                   | 14/38 [04:30<08:14, 20.59s/it]"
     ]
    },
    {
     "name": "stdout",
     "output_type": "stream",
     "text": [
      "/Hotel_Review-g186338-d224729-Reviews-or65-Hyde_Park_Court_Hotel-London_England.html#REVIEWS One night stand\n"
     ]
    },
    {
     "name": "stderr",
     "output_type": "stream",
     "text": [
      "\r",
      " 39%|████████████████████████████████▎                                                 | 15/38 [04:38<06:23, 16.69s/it]"
     ]
    },
    {
     "name": "stdout",
     "output_type": "stream",
     "text": [
      "/Hotel_Review-g186338-d224729-Reviews-or70-Hyde_Park_Court_Hotel-London_England.html#REVIEWS great location, don't hang out in the room!\n"
     ]
    },
    {
     "name": "stderr",
     "output_type": "stream",
     "text": [
      "\r",
      " 42%|██████████████████████████████████▌                                               | 16/38 [04:48<05:25, 14.79s/it]"
     ]
    },
    {
     "name": "stdout",
     "output_type": "stream",
     "text": [
      "/Hotel_Review-g186338-d224729-Reviews-or75-Hyde_Park_Court_Hotel-London_England.html#REVIEWS Nothing to bad\n"
     ]
    },
    {
     "name": "stderr",
     "output_type": "stream",
     "text": [
      "\r",
      " 45%|████████████████████████████████████▋                                             | 17/38 [04:59<04:43, 13.48s/it]"
     ]
    },
    {
     "name": "stdout",
     "output_type": "stream",
     "text": [
      "/Hotel_Review-g186338-d224729-Reviews-or80-Hyde_Park_Court_Hotel-London_England.html#REVIEWS up in smoke !!!!\n"
     ]
    },
    {
     "name": "stderr",
     "output_type": "stream",
     "text": [
      "\r",
      " 47%|██████████████████████████████████████▊                                           | 18/38 [05:21<05:22, 16.11s/it]"
     ]
    },
    {
     "name": "stdout",
     "output_type": "stream",
     "text": [
      "/Hotel_Review-g186338-d224729-Reviews-or85-Hyde_Park_Court_Hotel-London_England.html#REVIEWS Good location, BUT hotel ruined our london trip\n"
     ]
    },
    {
     "name": "stderr",
     "output_type": "stream",
     "text": [
      "\r",
      " 50%|█████████████████████████████████████████                                         | 19/38 [05:33<04:43, 14.95s/it]"
     ]
    },
    {
     "name": "stdout",
     "output_type": "stream",
     "text": [
      "/Hotel_Review-g186338-d224729-Reviews-or90-Hyde_Park_Court_Hotel-London_England.html#REVIEWS Dirty, cramped, bad service and Poor value for money!\n"
     ]
    },
    {
     "name": "stderr",
     "output_type": "stream",
     "text": [
      "\r",
      " 53%|███████████████████████████████████████████▏                                      | 20/38 [05:39<03:42, 12.36s/it]"
     ]
    },
    {
     "name": "stdout",
     "output_type": "stream",
     "text": [
      "/Hotel_Review-g186338-d224729-Reviews-or95-Hyde_Park_Court_Hotel-London_England.html#REVIEWS Terrible\n"
     ]
    },
    {
     "name": "stderr",
     "output_type": "stream",
     "text": [
      "\r",
      " 55%|█████████████████████████████████████████████▎                                    | 21/38 [05:47<03:03, 10.81s/it]"
     ]
    },
    {
     "name": "stdout",
     "output_type": "stream",
     "text": [
      "/Hotel_Review-g186338-d224729-Reviews-or100-Hyde_Park_Court_Hotel-London_England.html#REVIEWS Unbelievable!\n"
     ]
    },
    {
     "name": "stderr",
     "output_type": "stream",
     "text": [
      "\r",
      " 58%|███████████████████████████████████████████████▍                                  | 22/38 [06:11<03:57, 14.85s/it]"
     ]
    },
    {
     "name": "stdout",
     "output_type": "stream",
     "text": [
      "/Hotel_Review-g186338-d224729-Reviews-or105-Hyde_Park_Court_Hotel-London_England.html#REVIEWS Got what we wanted for the money\n"
     ]
    },
    {
     "name": "stderr",
     "output_type": "stream",
     "text": [
      "\r",
      " 61%|█████████████████████████████████████████████████▋                                | 23/38 [06:37<04:35, 18.34s/it]"
     ]
    },
    {
     "name": "stdout",
     "output_type": "stream",
     "text": [
      "/Hotel_Review-g186338-d224729-Reviews-or110-Hyde_Park_Court_Hotel-London_England.html#REVIEWS Ok if yr on a budget\n"
     ]
    },
    {
     "name": "stderr",
     "output_type": "stream",
     "text": [
      "\r",
      " 63%|███████████████████████████████████████████████████▊                              | 24/38 [06:44<03:29, 14.95s/it]"
     ]
    },
    {
     "name": "stdout",
     "output_type": "stream",
     "text": [
      "/Hotel_Review-g186338-d224729-Reviews-or115-Hyde_Park_Court_Hotel-London_England.html#REVIEWS The worst hotel I've ever stayed in\n"
     ]
    },
    {
     "name": "stderr",
     "output_type": "stream",
     "text": [
      "\r",
      " 66%|█████████████████████████████████████████████████████▉                            | 25/38 [07:02<03:23, 15.69s/it]"
     ]
    },
    {
     "name": "stdout",
     "output_type": "stream",
     "text": [
      "/Hotel_Review-g186338-d224729-Reviews-or120-Hyde_Park_Court_Hotel-London_England.html#REVIEWS never ever\n"
     ]
    },
    {
     "name": "stderr",
     "output_type": "stream",
     "text": [
      "\r",
      " 68%|████████████████████████████████████████████████████████                          | 26/38 [07:21<03:19, 16.61s/it]"
     ]
    },
    {
     "name": "stdout",
     "output_type": "stream",
     "text": [
      "/Hotel_Review-g186338-d224729-Reviews-or125-Hyde_Park_Court_Hotel-London_England.html#REVIEWS Will not recomende\n"
     ]
    },
    {
     "name": "stderr",
     "output_type": "stream",
     "text": [
      "\r",
      " 71%|██████████████████████████████████████████████████████████▎                       | 27/38 [07:37<03:02, 16.63s/it]"
     ]
    },
    {
     "name": "stdout",
     "output_type": "stream",
     "text": [
      "/Hotel_Review-g186338-d224729-Reviews-or130-Hyde_Park_Court_Hotel-London_England.html#REVIEWS Desperately in need of refurbishment. Avoid!\n"
     ]
    },
    {
     "name": "stderr",
     "output_type": "stream",
     "text": [
      "\r",
      " 74%|████████████████████████████████████████████████████████████▍                     | 28/38 [07:43<02:14, 13.48s/it]"
     ]
    },
    {
     "name": "stdout",
     "output_type": "stream",
     "text": [
      "/Hotel_Review-g186338-d224729-Reviews-or135-Hyde_Park_Court_Hotel-London_England.html#REVIEWS Friendly staff.\n"
     ]
    },
    {
     "name": "stderr",
     "output_type": "stream",
     "text": [
      "\r",
      " 76%|██████████████████████████████████████████████████████████████▌                   | 29/38 [08:09<02:32, 16.98s/it]"
     ]
    },
    {
     "name": "stdout",
     "output_type": "stream",
     "text": [
      "/Hotel_Review-g186338-d224729-Reviews-or140-Hyde_Park_Court_Hotel-London_England.html#REVIEWS Keep away from this dirty hole!\n"
     ]
    },
    {
     "name": "stderr",
     "output_type": "stream",
     "text": [
      "\r",
      " 79%|████████████████████████████████████████████████████████████████▋                 | 30/38 [08:34<02:36, 19.53s/it]"
     ]
    },
    {
     "name": "stdout",
     "output_type": "stream",
     "text": [
      "/Hotel_Review-g186338-d224729-Reviews-or145-Hyde_Park_Court_Hotel-London_England.html#REVIEWS \\\"English Pubs for Tea\\\"\n"
     ]
    },
    {
     "name": "stderr",
     "output_type": "stream",
     "text": [
      "\r",
      " 82%|██████████████████████████████████████████████████████████████████▉               | 31/38 [09:02<02:34, 22.12s/it]"
     ]
    },
    {
     "name": "stdout",
     "output_type": "stream",
     "text": [
      "/Hotel_Review-g186338-d224729-Reviews-or150-Hyde_Park_Court_Hotel-London_England.html#REVIEWS Very Poor\n"
     ]
    },
    {
     "name": "stderr",
     "output_type": "stream",
     "text": [
      "\r",
      " 84%|█████████████████████████████████████████████████████████████████████             | 32/38 [09:27<02:18, 23.02s/it]"
     ]
    },
    {
     "name": "stdout",
     "output_type": "stream",
     "text": [
      "/Hotel_Review-g186338-d224729-Reviews-or155-Hyde_Park_Court_Hotel-London_England.html#REVIEWS Don't Go there!!!\n"
     ]
    },
    {
     "name": "stderr",
     "output_type": "stream",
     "text": [
      "\r",
      " 87%|███████████████████████████████████████████████████████████████████████▏          | 33/38 [09:50<01:54, 22.83s/it]"
     ]
    },
    {
     "name": "stdout",
     "output_type": "stream",
     "text": [
      "/Hotel_Review-g186338-d224729-Reviews-or160-Hyde_Park_Court_Hotel-London_England.html#REVIEWS rats in room\n"
     ]
    },
    {
     "name": "stderr",
     "output_type": "stream",
     "text": [
      "\r",
      " 89%|█████████████████████████████████████████████████████████████████████████▎        | 34/38 [10:04<01:21, 20.27s/it]"
     ]
    },
    {
     "name": "stdout",
     "output_type": "stream",
     "text": [
      "/Hotel_Review-g186338-d224729-Reviews-or165-Hyde_Park_Court_Hotel-London_England.html#REVIEWS Do not book here\n"
     ]
    },
    {
     "name": "stderr",
     "output_type": "stream",
     "text": [
      "\r",
      " 92%|███████████████████████████████████████████████████████████████████████████▌      | 35/38 [10:23<01:00, 20.04s/it]"
     ]
    },
    {
     "name": "stdout",
     "output_type": "stream",
     "text": [
      "/Hotel_Review-g186338-d224729-Reviews-or170-Hyde_Park_Court_Hotel-London_England.html#REVIEWS Would not recommend\n"
     ]
    },
    {
     "name": "stderr",
     "output_type": "stream",
     "text": [
      "\r",
      " 95%|█████████████████████████████████████████████████████████████████████████████▋    | 36/38 [10:37<00:36, 18.20s/it]"
     ]
    },
    {
     "name": "stdout",
     "output_type": "stream",
     "text": [
      "/Hotel_Review-g186338-d224729-Reviews-or175-Hyde_Park_Court_Hotel-London_England.html#REVIEWS You get what you pay for\n"
     ]
    },
    {
     "name": "stderr",
     "output_type": "stream",
     "text": [
      "\r",
      " 97%|███████████████████████████████████████████████████████████████████████████████▊  | 37/38 [11:04<00:20, 20.59s/it]"
     ]
    },
    {
     "name": "stdout",
     "output_type": "stream",
     "text": [
      "/Hotel_Review-g186338-d224729-Reviews-or180-Hyde_Park_Court_Hotel-London_England.html#REVIEWS never again\n"
     ]
    },
    {
     "name": "stderr",
     "output_type": "stream",
     "text": [
      "100%|██████████████████████████████████████████████████████████████████████████████████| 38/38 [11:28<00:00, 18.11s/it]\n",
      "  0%|                                                                                           | 0/38 [00:00<?, ?it/s]"
     ]
    },
    {
     "name": "stdout",
     "output_type": "stream",
     "text": [
      "/Hotel_Review-g186338-d224729-Reviews-or185-Hyde_Park_Court_Hotel-London_England.html#REVIEWS Abvisable hotel\n",
      "big sleep\n"
     ]
    },
    {
     "name": "stderr",
     "output_type": "stream",
     "text": [
      "\r",
      "  3%|██▏                                                                                | 1/38 [00:06<03:57,  6.43s/it]"
     ]
    },
    {
     "name": "stdout",
     "output_type": "stream",
     "text": [
      "/Hotel_Review-g186338-d192052-Reviews-or0-Colliers_Hotel-London_England.html#REVIEWS Clean, comfortable and Central\n"
     ]
    },
    {
     "name": "stderr",
     "output_type": "stream",
     "text": [
      "\r",
      "  5%|████▎                                                                              | 2/38 [00:28<09:27, 15.75s/it]"
     ]
    },
    {
     "name": "stdout",
     "output_type": "stream",
     "text": [
      "/Hotel_Review-g186338-d192052-Reviews-or5-Colliers_Hotel-London_England.html#REVIEWS Siteseeing\n"
     ]
    },
    {
     "name": "stderr",
     "output_type": "stream",
     "text": [
      "\r",
      "  8%|██████▌                                                                            | 3/38 [00:42<08:32, 14.65s/it]"
     ]
    },
    {
     "name": "stdout",
     "output_type": "stream",
     "text": [
      "/Hotel_Review-g186338-d192052-Reviews-or10-Colliers_Hotel-London_England.html#REVIEWS Pleasant stay\n"
     ]
    },
    {
     "name": "stderr",
     "output_type": "stream",
     "text": [
      "\r",
      " 11%|████████▋                                                                          | 4/38 [01:09<11:11, 19.74s/it]"
     ]
    },
    {
     "name": "stdout",
     "output_type": "stream",
     "text": [
      "/Hotel_Review-g186338-d192052-Reviews-or15-Colliers_Hotel-London_England.html#REVIEWS Ok hotel but only for sleeping\n"
     ]
    },
    {
     "name": "stderr",
     "output_type": "stream",
     "text": [
      "\r",
      " 13%|██████████▉                                                                        | 5/38 [01:28<10:45, 19.57s/it]"
     ]
    },
    {
     "name": "stdout",
     "output_type": "stream",
     "text": [
      "/Hotel_Review-g186338-d192052-Reviews-or20-Colliers_Hotel-London_England.html#REVIEWS Not Good\n"
     ]
    },
    {
     "name": "stderr",
     "output_type": "stream",
     "text": [
      "\r",
      " 16%|█████████████                                                                      | 6/38 [01:44<09:38, 18.09s/it]"
     ]
    },
    {
     "name": "stdout",
     "output_type": "stream",
     "text": [
      "/Hotel_Review-g186338-d192052-Reviews-or25-Colliers_Hotel-London_England.html#REVIEWS Not again\n"
     ]
    },
    {
     "name": "stderr",
     "output_type": "stream",
     "text": [
      "\r",
      " 18%|███████████████▎                                                                   | 7/38 [02:10<10:45, 20.82s/it]"
     ]
    },
    {
     "name": "stdout",
     "output_type": "stream",
     "text": [
      "/Hotel_Review-g186338-d192052-Reviews-or30-Colliers_Hotel-London_England.html#REVIEWS Awful\n"
     ]
    },
    {
     "name": "stderr",
     "output_type": "stream",
     "text": [
      "\r",
      " 21%|█████████████████▍                                                                 | 8/38 [02:22<09:00, 18.01s/it]"
     ]
    },
    {
     "name": "stdout",
     "output_type": "stream",
     "text": [
      "/Hotel_Review-g186338-d192052-Reviews-or35-Colliers_Hotel-London_England.html#REVIEWS Terrible Place\n"
     ]
    },
    {
     "name": "stderr",
     "output_type": "stream",
     "text": [
      "\r",
      " 24%|███████████████████▋                                                               | 9/38 [02:43<09:09, 18.96s/it]"
     ]
    },
    {
     "name": "stdout",
     "output_type": "stream",
     "text": [
      "/Hotel_Review-g186338-d192052-Reviews-or40-Colliers_Hotel-London_England.html#REVIEWS dont try to cancel, we've been waiting 2 weeks for reimbrsement\n"
     ]
    },
    {
     "name": "stderr",
     "output_type": "stream",
     "text": [
      "\r",
      " 26%|█████████████████████▌                                                            | 10/38 [03:11<10:12, 21.88s/it]"
     ]
    },
    {
     "name": "stdout",
     "output_type": "stream",
     "text": [
      "/Hotel_Review-g186338-d192052-Reviews-or45-Colliers_Hotel-London_England.html#REVIEWS Overpriced inconvenient unclean with bad service\n"
     ]
    },
    {
     "name": "stderr",
     "output_type": "stream",
     "text": [
      "\r",
      " 29%|███████████████████████▋                                                          | 11/38 [03:28<09:06, 20.26s/it]"
     ]
    },
    {
     "name": "stdout",
     "output_type": "stream",
     "text": [
      "/Hotel_Review-g186338-d192052-Reviews-or50-Colliers_Hotel-London_England.html#REVIEWS Central location and cheap\n"
     ]
    },
    {
     "name": "stderr",
     "output_type": "stream",
     "text": [
      "\r",
      " 32%|█████████████████████████▉                                                        | 12/38 [03:58<09:59, 23.06s/it]"
     ]
    },
    {
     "name": "stdout",
     "output_type": "stream",
     "text": [
      "/Hotel_Review-g186338-d192052-Reviews-or55-Colliers_Hotel-London_England.html#REVIEWS Absolutely horrible hotel\n"
     ]
    },
    {
     "name": "stderr",
     "output_type": "stream",
     "text": [
      "\r",
      " 34%|████████████████████████████                                                      | 13/38 [04:07<07:51, 18.86s/it]"
     ]
    },
    {
     "name": "stdout",
     "output_type": "stream",
     "text": [
      "/Hotel_Review-g186338-d192052-Reviews-or60-Colliers_Hotel-London_England.html#REVIEWS Not bad for the price\n"
     ]
    },
    {
     "name": "stderr",
     "output_type": "stream",
     "text": [
      "\r",
      " 37%|██████████████████████████████▏                                                   | 14/38 [04:32<08:18, 20.75s/it]"
     ]
    },
    {
     "name": "stdout",
     "output_type": "stream",
     "text": [
      "/Hotel_Review-g186338-d192052-Reviews-or65-Colliers_Hotel-London_England.html#REVIEWS If you want a bed there is one.\n"
     ]
    },
    {
     "name": "stderr",
     "output_type": "stream",
     "text": [
      "\r",
      " 39%|████████████████████████████████▎                                                 | 15/38 [04:54<08:06, 21.14s/it]"
     ]
    },
    {
     "name": "stdout",
     "output_type": "stream",
     "text": [
      "/Hotel_Review-g186338-d192052-Reviews-or70-Colliers_Hotel-London_England.html#REVIEWS Good location for visitors.\n"
     ]
    },
    {
     "name": "stderr",
     "output_type": "stream",
     "text": [
      "\r",
      " 42%|██████████████████████████████████▌                                               | 16/38 [05:14<07:37, 20.82s/it]"
     ]
    },
    {
     "name": "stdout",
     "output_type": "stream",
     "text": [
      "/Hotel_Review-g186338-d192052-Reviews-or75-Colliers_Hotel-London_England.html#REVIEWS Cheap but not cheerful\n"
     ]
    },
    {
     "name": "stderr",
     "output_type": "stream",
     "text": [
      "\r",
      " 45%|████████████████████████████████████▋                                             | 17/38 [05:28<06:36, 18.87s/it]"
     ]
    },
    {
     "name": "stdout",
     "output_type": "stream",
     "text": [
      "/Hotel_Review-g186338-d192052-Reviews-or80-Colliers_Hotel-London_England.html#REVIEWS Never again\n"
     ]
    },
    {
     "name": "stderr",
     "output_type": "stream",
     "text": [
      "\r",
      " 47%|██████████████████████████████████████▊                                           | 18/38 [05:45<06:02, 18.13s/it]"
     ]
    },
    {
     "name": "stdout",
     "output_type": "stream",
     "text": [
      "/Hotel_Review-g186338-d192052-Reviews-or85-Colliers_Hotel-London_England.html#REVIEWS Never again\n"
     ]
    },
    {
     "name": "stderr",
     "output_type": "stream",
     "text": [
      "\r",
      " 50%|█████████████████████████████████████████                                         | 19/38 [06:14<06:48, 21.48s/it]"
     ]
    },
    {
     "name": "stdout",
     "output_type": "stream",
     "text": [
      "/Hotel_Review-g186338-d192052-Reviews-or90-Colliers_Hotel-London_England.html#REVIEWS GREAT LOCATION, HORRIBLE PLACE\n"
     ]
    },
    {
     "name": "stderr",
     "output_type": "stream",
     "text": [
      "\r",
      " 53%|███████████████████████████████████████████▏                                      | 20/38 [06:35<06:24, 21.39s/it]"
     ]
    },
    {
     "name": "stdout",
     "output_type": "stream",
     "text": [
      "/Hotel_Review-g186338-d192052-Reviews-or95-Colliers_Hotel-London_England.html#REVIEWS Worst hotel I've ever stayed in\n"
     ]
    },
    {
     "name": "stderr",
     "output_type": "stream",
     "text": [
      "\r",
      " 55%|█████████████████████████████████████████████▎                                    | 21/38 [07:04<06:40, 23.58s/it]"
     ]
    },
    {
     "name": "stdout",
     "output_type": "stream",
     "text": [
      "/Hotel_Review-g186338-d192052-Reviews-or100-Colliers_Hotel-London_England.html#REVIEWS Choose somewhere else\n"
     ]
    },
    {
     "name": "stderr",
     "output_type": "stream",
     "text": [
      "\r",
      " 58%|███████████████████████████████████████████████▍                                  | 22/38 [07:16<05:23, 20.22s/it]"
     ]
    },
    {
     "name": "stdout",
     "output_type": "stream",
     "text": [
      "/Hotel_Review-g186338-d192052-Reviews-or105-Colliers_Hotel-London_England.html#REVIEWS not good\n"
     ]
    },
    {
     "name": "stderr",
     "output_type": "stream",
     "text": [
      "\r",
      " 61%|█████████████████████████████████████████████████▋                                | 23/38 [07:46<05:44, 22.96s/it]"
     ]
    },
    {
     "name": "stdout",
     "output_type": "stream",
     "text": [
      "/Hotel_Review-g186338-d192052-Reviews-or110-Colliers_Hotel-London_England.html#REVIEWS Pretty decent and basic\n"
     ]
    },
    {
     "name": "stderr",
     "output_type": "stream",
     "text": [
      "\r",
      " 63%|███████████████████████████████████████████████████▊                              | 24/38 [07:52<04:11, 17.97s/it]"
     ]
    },
    {
     "name": "stdout",
     "output_type": "stream",
     "text": [
      "/Hotel_Review-g186338-d192052-Reviews-or115-Colliers_Hotel-London_England.html#REVIEWS What an experiance!\n"
     ]
    },
    {
     "name": "stderr",
     "output_type": "stream",
     "text": [
      "\r",
      " 66%|█████████████████████████████████████████████████████▉                            | 25/38 [08:20<04:33, 21.05s/it]"
     ]
    },
    {
     "name": "stdout",
     "output_type": "stream",
     "text": [
      "/Hotel_Review-g186338-d192052-Reviews-or120-Colliers_Hotel-London_England.html#REVIEWS Tiny room & Miniscule bathroom, but good sleep!\n"
     ]
    },
    {
     "name": "stderr",
     "output_type": "stream",
     "text": [
      "\r",
      " 68%|████████████████████████████████████████████████████████                          | 26/38 [08:47<04:35, 22.94s/it]"
     ]
    },
    {
     "name": "stdout",
     "output_type": "stream",
     "text": [
      "/Hotel_Review-g186338-d192052-Reviews-or125-Colliers_Hotel-London_England.html#REVIEWS Low quality but survivable\n"
     ]
    },
    {
     "name": "stderr",
     "output_type": "stream",
     "text": [
      "\r",
      " 71%|██████████████████████████████████████████████████████████▎                       | 27/38 [08:59<03:33, 19.38s/it]"
     ]
    },
    {
     "name": "stdout",
     "output_type": "stream",
     "text": [
      "/Hotel_Review-g186338-d192052-Reviews-or130-Colliers_Hotel-London_England.html#REVIEWS PLEASE DONT EVER GO IN HERE\n"
     ]
    },
    {
     "name": "stderr",
     "output_type": "stream",
     "text": [
      "\r",
      " 74%|████████████████████████████████████████████████████████████▍                     | 28/38 [09:21<03:22, 20.28s/it]"
     ]
    },
    {
     "name": "stdout",
     "output_type": "stream",
     "text": [
      "/Hotel_Review-g186338-d192052-Reviews-or135-Colliers_Hotel-London_England.html#REVIEWS Great Location\n"
     ]
    },
    {
     "name": "stderr",
     "output_type": "stream",
     "text": [
      "\r",
      " 76%|██████████████████████████████████████████████████████████████▌                   | 29/38 [09:43<03:07, 20.84s/it]"
     ]
    },
    {
     "name": "stdout",
     "output_type": "stream",
     "text": [
      "/Hotel_Review-g186338-d192052-Reviews-or140-Colliers_Hotel-London_England.html#REVIEWS I've been in far worse hotels, much better than most reviews suggest!\n"
     ]
    },
    {
     "name": "stderr",
     "output_type": "stream",
     "text": [
      "\r",
      " 79%|████████████████████████████████████████████████████████████████▋                 | 30/38 [09:57<02:30, 18.79s/it]"
     ]
    },
    {
     "name": "stdout",
     "output_type": "stream",
     "text": [
      "/Hotel_Review-g186338-d192052-Reviews-or145-Colliers_Hotel-London_England.html#REVIEWS A terrible, terrible hotel.\n"
     ]
    },
    {
     "name": "stderr",
     "output_type": "stream",
     "text": [
      "\r",
      " 82%|██████████████████████████████████████████████████████████████████▉               | 31/38 [10:26<02:33, 21.92s/it]"
     ]
    },
    {
     "name": "stdout",
     "output_type": "stream",
     "text": [
      "/Hotel_Review-g186338-d192052-Reviews-or150-Colliers_Hotel-London_England.html#REVIEWS Id rather sleep on the street\n"
     ]
    },
    {
     "name": "stderr",
     "output_type": "stream",
     "text": [
      "\r",
      " 84%|█████████████████████████████████████████████████████████████████████             | 32/38 [10:34<01:45, 17.64s/it]"
     ]
    },
    {
     "name": "stdout",
     "output_type": "stream",
     "text": [
      "/Hotel_Review-g186338-d192052-Reviews-or155-Colliers_Hotel-London_England.html#REVIEWS Good Employee & Budget hotel\n"
     ]
    },
    {
     "name": "stderr",
     "output_type": "stream",
     "text": [
      "\r",
      " 87%|███████████████████████████████████████████████████████████████████████▏          | 33/38 [10:42<01:14, 14.81s/it]"
     ]
    },
    {
     "name": "stdout",
     "output_type": "stream",
     "text": [
      "/Hotel_Review-g186338-d192052-Reviews-or160-Colliers_Hotel-London_England.html#REVIEWS You get what you pay for\n"
     ]
    },
    {
     "name": "stderr",
     "output_type": "stream",
     "text": [
      "\r",
      " 89%|█████████████████████████████████████████████████████████████████████████▎        | 34/38 [10:59<01:01, 15.49s/it]"
     ]
    },
    {
     "name": "stdout",
     "output_type": "stream",
     "text": [
      "/Hotel_Review-g186338-d192052-Reviews-or165-Colliers_Hotel-London_England.html#REVIEWS BEWARE-THEY DO NOT HONOR THEIR OWN BOOKING!\n"
     ]
    },
    {
     "name": "stderr",
     "output_type": "stream",
     "text": [
      "\r",
      " 92%|███████████████████████████████████████████████████████████████████████████▌      | 35/38 [11:06<00:38, 12.75s/it]"
     ]
    },
    {
     "name": "stdout",
     "output_type": "stream",
     "text": [
      "/Hotel_Review-g186338-d192052-Reviews-or170-Colliers_Hotel-London_England.html#REVIEWS hell in london\n"
     ]
    },
    {
     "name": "stderr",
     "output_type": "stream",
     "text": [
      "\r",
      " 95%|█████████████████████████████████████████████████████████████████████████████▋    | 36/38 [11:12<00:21, 10.79s/it]"
     ]
    },
    {
     "name": "stdout",
     "output_type": "stream",
     "text": [
      "/Hotel_Review-g186338-d192052-Reviews-or175-Colliers_Hotel-London_England.html#REVIEWS Stay Away, Complete Sespit!!!\n"
     ]
    },
    {
     "name": "stderr",
     "output_type": "stream",
     "text": [
      "\r",
      " 97%|███████████████████████████████████████████████████████████████████████████████▊  | 37/38 [11:22<00:10, 10.61s/it]"
     ]
    },
    {
     "name": "stdout",
     "output_type": "stream",
     "text": [
      "/Hotel_Review-g186338-d192052-Reviews-or180-Colliers_Hotel-London_England.html#REVIEWS Crap\n"
     ]
    },
    {
     "name": "stderr",
     "output_type": "stream",
     "text": [
      "100%|██████████████████████████████████████████████████████████████████████████████████| 38/38 [11:52<00:00, 18.75s/it]\n",
      "  0%|                                                                                           | 0/32 [00:00<?, ?it/s]"
     ]
    },
    {
     "name": "stdout",
     "output_type": "stream",
     "text": [
      "/Hotel_Review-g186338-d192052-Reviews-or185-Colliers_Hotel-London_England.html#REVIEWS Not my favorite!\n",
      "big sleep\n"
     ]
    },
    {
     "name": "stderr",
     "output_type": "stream",
     "text": [
      "\r",
      "  3%|██▌                                                                                | 1/32 [00:23<12:10, 23.56s/it]"
     ]
    },
    {
     "name": "stdout",
     "output_type": "stream",
     "text": [
      "/Hotel_Review-g186338-d645091-Reviews-or0-OYO_Royal_Park_Hotel-London_England.html#REVIEWS IGNORE THE BAD REVIEWS\n"
     ]
    },
    {
     "name": "stderr",
     "output_type": "stream",
     "text": [
      "\r",
      "  6%|█████▏                                                                             | 2/32 [00:32<07:34, 15.16s/it]"
     ]
    },
    {
     "name": "stdout",
     "output_type": "stream",
     "text": [
      "/Hotel_Review-g186338-d645091-Reviews-or5-OYO_Royal_Park_Hotel-London_England.html#REVIEWS January 20-22 2020\n"
     ]
    },
    {
     "name": "stderr",
     "output_type": "stream",
     "text": [
      "\r",
      "  9%|███████▊                                                                           | 3/32 [00:44<06:29, 13.44s/it]"
     ]
    },
    {
     "name": "stdout",
     "output_type": "stream",
     "text": [
      "/Hotel_Review-g186338-d645091-Reviews-or10-OYO_Royal_Park_Hotel-London_England.html#REVIEWS It's a dump\n"
     ]
    },
    {
     "name": "stderr",
     "output_type": "stream",
     "text": [
      "\r",
      " 12%|██████████▍                                                                        | 4/32 [01:01<07:04, 15.14s/it]"
     ]
    },
    {
     "name": "stdout",
     "output_type": "stream",
     "text": [
      "/Hotel_Review-g186338-d645091-Reviews-or15-OYO_Royal_Park_Hotel-London_England.html#REVIEWS Awful\n"
     ]
    },
    {
     "name": "stderr",
     "output_type": "stream",
     "text": [
      "\r",
      " 16%|████████████▉                                                                      | 5/32 [01:07<05:18, 11.80s/it]"
     ]
    },
    {
     "name": "stdout",
     "output_type": "stream",
     "text": [
      "/Hotel_Review-g186338-d645091-Reviews-or20-OYO_Royal_Park_Hotel-London_England.html#REVIEWS terrible choice\n"
     ]
    },
    {
     "name": "stderr",
     "output_type": "stream",
     "text": [
      "\r",
      " 19%|███████████████▌                                                                   | 6/32 [01:13<04:15,  9.82s/it]"
     ]
    },
    {
     "name": "stdout",
     "output_type": "stream",
     "text": [
      "/Hotel_Review-g186338-d645091-Reviews-or25-OYO_Royal_Park_Hotel-London_England.html#REVIEWS HORRIBLE\n"
     ]
    },
    {
     "name": "stderr",
     "output_type": "stream",
     "text": [
      "\r",
      " 22%|██████████████████▏                                                                | 7/32 [01:21<03:44,  8.97s/it]"
     ]
    },
    {
     "name": "stdout",
     "output_type": "stream",
     "text": [
      "/Hotel_Review-g186338-d645091-Reviews-or30-OYO_Royal_Park_Hotel-London_England.html#REVIEWS Better stay away from that place!\n"
     ]
    },
    {
     "name": "stderr",
     "output_type": "stream",
     "text": [
      "\r",
      " 25%|████████████████████▊                                                              | 8/32 [01:27<03:15,  8.13s/it]"
     ]
    },
    {
     "name": "stdout",
     "output_type": "stream",
     "text": [
      "/Hotel_Review-g186338-d645091-Reviews-or35-OYO_Royal_Park_Hotel-London_England.html#REVIEWS Queen's Hotel / opinion\n"
     ]
    },
    {
     "name": "stderr",
     "output_type": "stream",
     "text": [
      "\r",
      " 28%|███████████████████████▎                                                           | 9/32 [01:51<05:01, 13.10s/it]"
     ]
    },
    {
     "name": "stdout",
     "output_type": "stream",
     "text": [
      "/Hotel_Review-g186338-d645091-Reviews-or40-OYO_Royal_Park_Hotel-London_England.html#REVIEWS Lesley P\n"
     ]
    },
    {
     "name": "stderr",
     "output_type": "stream",
     "text": [
      "\r",
      " 31%|█████████████████████████▋                                                        | 10/32 [02:14<05:56, 16.20s/it]"
     ]
    },
    {
     "name": "stdout",
     "output_type": "stream",
     "text": [
      "/Hotel_Review-g186338-d645091-Reviews-or45-OYO_Royal_Park_Hotel-London_England.html#REVIEWS Where to start\n"
     ]
    },
    {
     "name": "stderr",
     "output_type": "stream",
     "text": [
      "\r",
      " 34%|████████████████████████████▏                                                     | 11/32 [02:37<06:25, 18.38s/it]"
     ]
    },
    {
     "name": "stdout",
     "output_type": "stream",
     "text": [
      "/Hotel_Review-g186338-d645091-Reviews-or50-OYO_Royal_Park_Hotel-London_England.html#REVIEWS NEVER EVER WILL I EVER STAY AT THIS HOTEL!\n"
     ]
    },
    {
     "name": "stderr",
     "output_type": "stream",
     "text": [
      "\r",
      " 38%|██████████████████████████████▊                                                   | 12/32 [03:06<07:11, 21.57s/it]"
     ]
    },
    {
     "name": "stdout",
     "output_type": "stream",
     "text": [
      "/Hotel_Review-g186338-d645091-Reviews-or55-OYO_Royal_Park_Hotel-London_England.html#REVIEWS Couldn't stay even for an hour\n"
     ]
    },
    {
     "name": "stderr",
     "output_type": "stream",
     "text": [
      "\r",
      " 41%|█████████████████████████████████▎                                                | 13/32 [03:31<07:09, 22.62s/it]"
     ]
    },
    {
     "name": "stdout",
     "output_type": "stream",
     "text": [
      "/Hotel_Review-g186338-d645091-Reviews-or60-OYO_Royal_Park_Hotel-London_England.html#REVIEWS Living hell\n"
     ]
    },
    {
     "name": "stderr",
     "output_type": "stream",
     "text": [
      "\r",
      " 44%|███████████████████████████████████▉                                              | 14/32 [03:48<06:12, 20.70s/it]"
     ]
    },
    {
     "name": "stdout",
     "output_type": "stream",
     "text": [
      "/Hotel_Review-g186338-d645091-Reviews-or65-OYO_Royal_Park_Hotel-London_England.html#REVIEWS To be avoided\n"
     ]
    },
    {
     "name": "stderr",
     "output_type": "stream",
     "text": [
      "\r",
      " 47%|██████████████████████████████████████▍                                           | 15/32 [04:16<06:31, 23.01s/it]"
     ]
    },
    {
     "name": "stdout",
     "output_type": "stream",
     "text": [
      "/Hotel_Review-g186338-d645091-Reviews-or70-OYO_Royal_Park_Hotel-London_England.html#REVIEWS ...\n"
     ]
    },
    {
     "name": "stderr",
     "output_type": "stream",
     "text": [
      "\r",
      " 50%|█████████████████████████████████████████                                         | 16/32 [04:40<06:14, 23.42s/it]"
     ]
    },
    {
     "name": "stdout",
     "output_type": "stream",
     "text": [
      "/Hotel_Review-g186338-d645091-Reviews-or75-OYO_Royal_Park_Hotel-London_England.html#REVIEWS Excellent location - cheap & basic accommodation\n"
     ]
    },
    {
     "name": "stderr",
     "output_type": "stream",
     "text": [
      "\r",
      " 53%|███████████████████████████████████████████▌                                      | 17/32 [04:59<05:32, 22.14s/it]"
     ]
    },
    {
     "name": "stdout",
     "output_type": "stream",
     "text": [
      "/Hotel_Review-g186338-d645091-Reviews-or80-OYO_Royal_Park_Hotel-London_England.html#REVIEWS Don't go there\n"
     ]
    },
    {
     "name": "stderr",
     "output_type": "stream",
     "text": [
      "\r",
      " 56%|██████████████████████████████████████████████▏                                   | 18/32 [05:16<04:44, 20.32s/it]"
     ]
    },
    {
     "name": "stdout",
     "output_type": "stream",
     "text": [
      "/Hotel_Review-g186338-d645091-Reviews-or85-OYO_Royal_Park_Hotel-London_England.html#REVIEWS Only recommended to those who don't mind slumming!\n"
     ]
    },
    {
     "name": "stderr",
     "output_type": "stream",
     "text": [
      "\r",
      " 59%|████████████████████████████████████████████████▋                                 | 19/32 [05:30<03:59, 18.46s/it]"
     ]
    },
    {
     "name": "stdout",
     "output_type": "stream",
     "text": [
      "/Hotel_Review-g186338-d645091-Reviews-or90-OYO_Royal_Park_Hotel-London_England.html#REVIEWS cheap, dirty, unsafe\n"
     ]
    },
    {
     "name": "stderr",
     "output_type": "stream",
     "text": [
      "\r",
      " 62%|███████████████████████████████████████████████████▎                              | 20/32 [05:46<03:33, 17.75s/it]"
     ]
    },
    {
     "name": "stdout",
     "output_type": "stream",
     "text": [
      "/Hotel_Review-g186338-d645091-Reviews-or95-OYO_Royal_Park_Hotel-London_England.html#REVIEWS Disgusting hotel\n"
     ]
    },
    {
     "name": "stderr",
     "output_type": "stream",
     "text": [
      "\r",
      " 66%|█████████████████████████████████████████████████████▊                            | 21/32 [06:08<03:31, 19.21s/it]"
     ]
    },
    {
     "name": "stdout",
     "output_type": "stream",
     "text": [
      "/Hotel_Review-g186338-d645091-Reviews-or100-OYO_Royal_Park_Hotel-London_England.html#REVIEWS Very disappointing\n"
     ]
    },
    {
     "name": "stderr",
     "output_type": "stream",
     "text": [
      "\r",
      " 69%|████████████████████████████████████████████████████████▍                         | 22/32 [06:35<03:35, 21.52s/it]"
     ]
    },
    {
     "name": "stdout",
     "output_type": "stream",
     "text": [
      "/Hotel_Review-g186338-d645091-Reviews-or105-OYO_Royal_Park_Hotel-London_England.html#REVIEWS good\n"
     ]
    },
    {
     "name": "stderr",
     "output_type": "stream",
     "text": [
      "\r",
      " 72%|██████████████████████████████████████████████████████████▉                       | 23/32 [06:56<03:12, 21.41s/it]"
     ]
    },
    {
     "name": "stdout",
     "output_type": "stream",
     "text": [
      "/Hotel_Review-g186338-d645091-Reviews-or110-OYO_Royal_Park_Hotel-London_England.html#REVIEWS Awful\n"
     ]
    },
    {
     "name": "stderr",
     "output_type": "stream",
     "text": [
      "\r",
      " 75%|█████████████████████████████████████████████████████████████▌                    | 24/32 [07:06<02:22, 17.78s/it]"
     ]
    },
    {
     "name": "stdout",
     "output_type": "stream",
     "text": [
      "/Hotel_Review-g186338-d645091-Reviews-or115-OYO_Royal_Park_Hotel-London_England.html#REVIEWS Avoid room 503\n"
     ]
    },
    {
     "name": "stderr",
     "output_type": "stream",
     "text": [
      "\r",
      " 78%|████████████████████████████████████████████████████████████████                  | 25/32 [07:36<02:31, 21.60s/it]"
     ]
    },
    {
     "name": "stdout",
     "output_type": "stream",
     "text": [
      "/Hotel_Review-g186338-d645091-Reviews-or120-OYO_Royal_Park_Hotel-London_England.html#REVIEWS Avoid like the plague\n"
     ]
    },
    {
     "name": "stderr",
     "output_type": "stream",
     "text": [
      "\r",
      " 81%|██████████████████████████████████████████████████████████████████▋               | 26/32 [07:45<01:47, 17.85s/it]"
     ]
    },
    {
     "name": "stdout",
     "output_type": "stream",
     "text": [
      "/Hotel_Review-g186338-d645091-Reviews-or125-OYO_Royal_Park_Hotel-London_England.html#REVIEWS If there is nowhere else to stay\n"
     ]
    },
    {
     "name": "stderr",
     "output_type": "stream",
     "text": [
      "\r",
      " 84%|█████████████████████████████████████████████████████████████████████▏            | 27/32 [07:59<01:22, 16.60s/it]"
     ]
    },
    {
     "name": "stdout",
     "output_type": "stream",
     "text": [
      "/Hotel_Review-g186338-d645091-Reviews-or130-OYO_Royal_Park_Hotel-London_England.html#REVIEWS Terrible\n"
     ]
    },
    {
     "name": "stderr",
     "output_type": "stream",
     "text": [
      "\r",
      " 88%|███████████████████████████████████████████████████████████████████████▊          | 28/32 [08:27<01:19, 19.90s/it]"
     ]
    },
    {
     "name": "stdout",
     "output_type": "stream",
     "text": [
      "/Hotel_Review-g186338-d645091-Reviews-or135-OYO_Royal_Park_Hotel-London_England.html#REVIEWS Good price best location, average place\n"
     ]
    },
    {
     "name": "stderr",
     "output_type": "stream",
     "text": [
      "\r",
      " 91%|██████████████████████████████████████████████████████████████████████████▎       | 29/32 [08:47<01:00, 20.03s/it]"
     ]
    },
    {
     "name": "stdout",
     "output_type": "stream",
     "text": [
      "/Hotel_Review-g186338-d645091-Reviews-or140-OYO_Royal_Park_Hotel-London_England.html#REVIEWS cheap & good\n"
     ]
    },
    {
     "name": "stderr",
     "output_type": "stream",
     "text": [
      "\r",
      " 94%|████████████████████████████████████████████████████████████████████████████▉     | 30/32 [09:16<00:45, 22.83s/it]"
     ]
    },
    {
     "name": "stdout",
     "output_type": "stream",
     "text": [
      "/Hotel_Review-g186338-d645091-Reviews-or145-OYO_Royal_Park_Hotel-London_England.html#REVIEWS Getting better\n"
     ]
    },
    {
     "name": "stderr",
     "output_type": "stream",
     "text": [
      "\r",
      " 97%|███████████████████████████████████████████████████████████████████████████████▍  | 31/32 [09:28<00:19, 19.60s/it]"
     ]
    },
    {
     "name": "stdout",
     "output_type": "stream",
     "text": [
      "/Hotel_Review-g186338-d645091-Reviews-or150-OYO_Royal_Park_Hotel-London_England.html#REVIEWS A sent of the slum\n"
     ]
    },
    {
     "name": "stderr",
     "output_type": "stream",
     "text": [
      "100%|██████████████████████████████████████████████████████████████████████████████████| 32/32 [09:46<00:00, 18.33s/it]\n",
      "  0%|                                                                                           | 0/30 [00:00<?, ?it/s]"
     ]
    },
    {
     "name": "stdout",
     "output_type": "stream",
     "text": [
      "/Hotel_Review-g186338-d645091-Reviews-or155-OYO_Royal_Park_Hotel-London_England.html#REVIEWS Your worst nightmare\n",
      "big sleep\n"
     ]
    },
    {
     "name": "stderr",
     "output_type": "stream",
     "text": [
      "\r",
      "  3%|██▊                                                                                | 1/30 [00:14<07:00, 14.51s/it]"
     ]
    },
    {
     "name": "stdout",
     "output_type": "stream",
     "text": [
      "/Hotel_Review-g186338-d620045-Reviews-or0-Normandie_Hotel-London_England.html#REVIEWS Great Budget Hotel\n"
     ]
    },
    {
     "name": "stderr",
     "output_type": "stream",
     "text": [
      "\r",
      "  7%|█████▌                                                                             | 2/30 [00:28<06:29, 13.93s/it]"
     ]
    },
    {
     "name": "stdout",
     "output_type": "stream",
     "text": [
      "/Hotel_Review-g186338-d620045-Reviews-or5-Normandie_Hotel-London_England.html#REVIEWS Normandie Hotel Stay May 2019\n"
     ]
    },
    {
     "name": "stderr",
     "output_type": "stream",
     "text": [
      "\r",
      " 10%|████████▎                                                                          | 3/30 [00:48<07:34, 16.82s/it]"
     ]
    },
    {
     "name": "stdout",
     "output_type": "stream",
     "text": [
      "/Hotel_Review-g186338-d620045-Reviews-or10-Normandie_Hotel-London_England.html#REVIEWS Great 2 Night Stay.\n"
     ]
    },
    {
     "name": "stderr",
     "output_type": "stream",
     "text": [
      "\r",
      " 13%|███████████                                                                        | 4/30 [01:02<06:50, 15.78s/it]"
     ]
    },
    {
     "name": "stdout",
     "output_type": "stream",
     "text": [
      "/Hotel_Review-g186338-d620045-Reviews-or15-Normandie_Hotel-London_England.html#REVIEWS \"Very poor service\"\n"
     ]
    },
    {
     "name": "stderr",
     "output_type": "stream",
     "text": [
      "\r",
      " 17%|█████████████▊                                                                     | 5/30 [01:11<05:35, 13.43s/it]"
     ]
    },
    {
     "name": "stdout",
     "output_type": "stream",
     "text": [
      "/Hotel_Review-g186338-d620045-Reviews-or20-Normandie_Hotel-London_England.html#REVIEWS Very very basic!\n"
     ]
    },
    {
     "name": "stderr",
     "output_type": "stream",
     "text": [
      "\r",
      " 20%|████████████████▌                                                                  | 6/30 [01:40<07:30, 18.79s/it]"
     ]
    },
    {
     "name": "stdout",
     "output_type": "stream",
     "text": [
      "/Hotel_Review-g186338-d620045-Reviews-or25-Normandie_Hotel-London_England.html#REVIEWS Hotel Review\n"
     ]
    },
    {
     "name": "stderr",
     "output_type": "stream",
     "text": [
      "\r",
      " 23%|███████████████████▎                                                               | 7/30 [02:01<07:22, 19.25s/it]"
     ]
    },
    {
     "name": "stdout",
     "output_type": "stream",
     "text": [
      "/Hotel_Review-g186338-d620045-Reviews-or30-Normandie_Hotel-London_England.html#REVIEWS Good value\n"
     ]
    },
    {
     "name": "stderr",
     "output_type": "stream",
     "text": [
      "\r",
      " 27%|██████████████████████▏                                                            | 8/30 [02:22<07:18, 19.93s/it]"
     ]
    },
    {
     "name": "stdout",
     "output_type": "stream",
     "text": [
      "/Hotel_Review-g186338-d620045-Reviews-or35-Normandie_Hotel-London_England.html#REVIEWS Nothing good to say\n"
     ]
    },
    {
     "name": "stderr",
     "output_type": "stream",
     "text": [
      "\r",
      " 30%|████████████████████████▉                                                          | 9/30 [02:40<06:48, 19.44s/it]"
     ]
    },
    {
     "name": "stdout",
     "output_type": "stream",
     "text": [
      "/Hotel_Review-g186338-d620045-Reviews-or40-Normandie_Hotel-London_England.html#REVIEWS Old Dirty place\n"
     ]
    },
    {
     "name": "stderr",
     "output_type": "stream",
     "text": [
      "\r",
      " 33%|███████████████████████████▎                                                      | 10/30 [02:51<05:33, 16.68s/it]"
     ]
    },
    {
     "name": "stdout",
     "output_type": "stream",
     "text": [
      "/Hotel_Review-g186338-d620045-Reviews-or45-Normandie_Hotel-London_England.html#REVIEWS Awful hotel.\n"
     ]
    },
    {
     "name": "stderr",
     "output_type": "stream",
     "text": [
      "\r",
      " 37%|██████████████████████████████                                                    | 11/30 [03:09<05:26, 17.20s/it]"
     ]
    },
    {
     "name": "stdout",
     "output_type": "stream",
     "text": [
      "/Hotel_Review-g186338-d620045-Reviews-or50-Normandie_Hotel-London_England.html#REVIEWS Sorry but don't stay here!\n"
     ]
    },
    {
     "name": "stderr",
     "output_type": "stream",
     "text": [
      "\r",
      " 40%|████████████████████████████████▊                                                 | 12/30 [03:35<05:54, 19.69s/it]"
     ]
    },
    {
     "name": "stdout",
     "output_type": "stream",
     "text": [
      "/Hotel_Review-g186338-d620045-Reviews-or55-Normandie_Hotel-London_England.html#REVIEWS Perfect location, value for money!\n"
     ]
    },
    {
     "name": "stderr",
     "output_type": "stream",
     "text": [
      "\r",
      " 43%|███████████████████████████████████▌                                              | 13/30 [03:44<04:40, 16.51s/it]"
     ]
    },
    {
     "name": "stdout",
     "output_type": "stream",
     "text": [
      "/Hotel_Review-g186338-d620045-Reviews-or60-Normandie_Hotel-London_England.html#REVIEWS Excellent for the price you pay\n"
     ]
    },
    {
     "name": "stderr",
     "output_type": "stream",
     "text": [
      "\r",
      " 47%|██████████████████████████████████████▎                                           | 14/30 [04:10<05:11, 19.46s/it]"
     ]
    },
    {
     "name": "stdout",
     "output_type": "stream",
     "text": [
      "/Hotel_Review-g186338-d620045-Reviews-or65-Normandie_Hotel-London_England.html#REVIEWS Location is brilliant\n"
     ]
    },
    {
     "name": "stderr",
     "output_type": "stream",
     "text": [
      "\r",
      " 50%|█████████████████████████████████████████                                         | 15/30 [04:32<05:01, 20.11s/it]"
     ]
    },
    {
     "name": "stdout",
     "output_type": "stream",
     "text": [
      "/Hotel_Review-g186338-d620045-Reviews-or70-Normandie_Hotel-London_England.html#REVIEWS Cheap hotel in a good location\n"
     ]
    },
    {
     "name": "stderr",
     "output_type": "stream",
     "text": [
      "\r",
      " 53%|███████████████████████████████████████████▋                                      | 16/30 [04:43<04:03, 17.40s/it]"
     ]
    },
    {
     "name": "stdout",
     "output_type": "stream",
     "text": [
      "/Hotel_Review-g186338-d620045-Reviews-or75-Normandie_Hotel-London_England.html#REVIEWS Cheap and average\n"
     ]
    },
    {
     "name": "stderr",
     "output_type": "stream",
     "text": [
      "\r",
      " 57%|██████████████████████████████████████████████▍                                   | 17/30 [04:51<03:11, 14.74s/it]"
     ]
    },
    {
     "name": "stdout",
     "output_type": "stream",
     "text": [
      "/Hotel_Review-g186338-d620045-Reviews-or80-Normandie_Hotel-London_England.html#REVIEWS Fab. !!!!!  Great accommodation and location\n"
     ]
    },
    {
     "name": "stderr",
     "output_type": "stream",
     "text": [
      "\r",
      " 60%|█████████████████████████████████████████████████▏                                | 18/30 [05:10<03:10, 15.91s/it]"
     ]
    },
    {
     "name": "stdout",
     "output_type": "stream",
     "text": [
      "/Hotel_Review-g186338-d620045-Reviews-or85-Normandie_Hotel-London_England.html#REVIEWS The WORST Hotel I Have Ever Stayed In\n"
     ]
    },
    {
     "name": "stderr",
     "output_type": "stream",
     "text": [
      "\r",
      " 63%|███████████████████████████████████████████████████▉                              | 19/30 [05:30<03:08, 17.18s/it]"
     ]
    },
    {
     "name": "stdout",
     "output_type": "stream",
     "text": [
      "/Hotel_Review-g186338-d620045-Reviews-or90-Normandie_Hotel-London_England.html#REVIEWS Excellent Location\n"
     ]
    },
    {
     "name": "stderr",
     "output_type": "stream",
     "text": [
      "\r",
      " 67%|██████████████████████████████████████████████████████▋                           | 20/30 [05:57<03:19, 19.97s/it]"
     ]
    },
    {
     "name": "stdout",
     "output_type": "stream",
     "text": [
      "/Hotel_Review-g186338-d620045-Reviews-or95-Normandie_Hotel-London_England.html#REVIEWS Friendly staff but shame about what they provide!\n"
     ]
    },
    {
     "name": "stderr",
     "output_type": "stream",
     "text": [
      "\r",
      " 70%|█████████████████████████████████████████████████████████▍                        | 21/30 [06:15<02:55, 19.45s/it]"
     ]
    },
    {
     "name": "stdout",
     "output_type": "stream",
     "text": [
      "/Hotel_Review-g186338-d620045-Reviews-or100-Normandie_Hotel-London_England.html#REVIEWS Doesn't Get Much Worse\n"
     ]
    },
    {
     "name": "stderr",
     "output_type": "stream",
     "text": [
      "\r",
      " 73%|████████████████████████████████████████████████████████████▏                     | 22/30 [06:23<02:08, 16.09s/it]"
     ]
    },
    {
     "name": "stdout",
     "output_type": "stream",
     "text": [
      "/Hotel_Review-g186338-d620045-Reviews-or105-Normandie_Hotel-London_England.html#REVIEWS Tired decor but OK if cheap\n"
     ]
    },
    {
     "name": "stderr",
     "output_type": "stream",
     "text": [
      "\r",
      " 77%|██████████████████████████████████████████████████████████████▊                   | 23/30 [06:33<01:38, 14.08s/it]"
     ]
    },
    {
     "name": "stdout",
     "output_type": "stream",
     "text": [
      "/Hotel_Review-g186338-d620045-Reviews-or110-Normandie_Hotel-London_England.html#REVIEWS Avoid this dreadful hotel at all costs\n"
     ]
    },
    {
     "name": "stderr",
     "output_type": "stream",
     "text": [
      "\r",
      " 80%|█████████████████████████████████████████████████████████████████▌                | 24/30 [06:50<01:30, 15.05s/it]"
     ]
    },
    {
     "name": "stdout",
     "output_type": "stream",
     "text": [
      "/Hotel_Review-g186338-d620045-Reviews-or115-Normandie_Hotel-London_England.html#REVIEWS above average service\n"
     ]
    },
    {
     "name": "stderr",
     "output_type": "stream",
     "text": [
      "\r",
      " 83%|████████████████████████████████████████████████████████████████████▎             | 25/30 [07:15<01:30, 18.06s/it]"
     ]
    },
    {
     "name": "stdout",
     "output_type": "stream",
     "text": [
      "/Hotel_Review-g186338-d620045-Reviews-or120-Normandie_Hotel-London_England.html#REVIEWS Damp, Cold Dirty & Small\n"
     ]
    },
    {
     "name": "stderr",
     "output_type": "stream",
     "text": [
      "\r",
      " 87%|███████████████████████████████████████████████████████████████████████           | 26/30 [07:38<01:18, 19.62s/it]"
     ]
    },
    {
     "name": "stdout",
     "output_type": "stream",
     "text": [
      "/Hotel_Review-g186338-d620045-Reviews-or125-Normandie_Hotel-London_England.html#REVIEWS Nice Location, Great Price\n"
     ]
    },
    {
     "name": "stderr",
     "output_type": "stream",
     "text": [
      "\r",
      " 90%|█████████████████████████████████████████████████████████████████████████▊        | 27/30 [08:08<01:08, 22.83s/it]"
     ]
    },
    {
     "name": "stdout",
     "output_type": "stream",
     "text": [
      "/Hotel_Review-g186338-d620045-Reviews-or130-Normandie_Hotel-London_England.html#REVIEWS NEVER recommend!!!\n"
     ]
    },
    {
     "name": "stderr",
     "output_type": "stream",
     "text": [
      "\r",
      " 93%|████████████████████████████████████████████████████████████████████████████▌     | 28/30 [08:38<00:49, 24.98s/it]"
     ]
    },
    {
     "name": "stdout",
     "output_type": "stream",
     "text": [
      "/Hotel_Review-g186338-d620045-Reviews-or135-Normandie_Hotel-London_England.html#REVIEWS Awful!\n"
     ]
    },
    {
     "name": "stderr",
     "output_type": "stream",
     "text": [
      "\r",
      " 97%|███████████████████████████████████████████████████████████████████████████████▎  | 29/30 [09:02<00:24, 24.48s/it]"
     ]
    },
    {
     "name": "stdout",
     "output_type": "stream",
     "text": [
      "/Hotel_Review-g186338-d620045-Reviews-or140-Normandie_Hotel-London_England.html#REVIEWS No problems here\n"
     ]
    },
    {
     "name": "stderr",
     "output_type": "stream",
     "text": [
      "100%|██████████████████████████████████████████████████████████████████████████████████| 30/30 [09:19<00:00, 18.66s/it]\n",
      "  0%|                                                                                           | 0/30 [00:00<?, ?it/s]"
     ]
    },
    {
     "name": "stdout",
     "output_type": "stream",
     "text": [
      "/Hotel_Review-g186338-d620045-Reviews-or145-Normandie_Hotel-London_England.html#REVIEWS Good value - would stay there again\n",
      "big sleep\n"
     ]
    },
    {
     "name": "stderr",
     "output_type": "stream",
     "text": [
      "\r",
      "  3%|██▊                                                                                | 1/30 [00:12<05:56, 12.31s/it]"
     ]
    },
    {
     "name": "stdout",
     "output_type": "stream",
     "text": [
      "/Hotel_Review-g186338-d1479614-Reviews-or0-Charlies_Hotel-London_England.html#REVIEWS Good location but terrible everything else\n"
     ]
    },
    {
     "name": "stderr",
     "output_type": "stream",
     "text": [
      "\r",
      "  7%|█████▌                                                                             | 2/30 [00:42<10:38, 22.79s/it]"
     ]
    },
    {
     "name": "stdout",
     "output_type": "stream",
     "text": [
      "/Hotel_Review-g186338-d1479614-Reviews-or5-Charlies_Hotel-London_England.html#REVIEWS A place to lay your head\n"
     ]
    },
    {
     "name": "stderr",
     "output_type": "stream",
     "text": [
      "\r",
      " 10%|████████▎                                                                          | 3/30 [01:10<11:23, 25.30s/it]"
     ]
    },
    {
     "name": "stdout",
     "output_type": "stream",
     "text": [
      "/Hotel_Review-g186338-d1479614-Reviews-or10-Charlies_Hotel-London_England.html#REVIEWS I would still recommend it and coming back!\n"
     ]
    },
    {
     "name": "stderr",
     "output_type": "stream",
     "text": [
      "\r",
      " 13%|███████████                                                                        | 4/30 [01:24<09:04, 20.92s/it]"
     ]
    },
    {
     "name": "stdout",
     "output_type": "stream",
     "text": [
      "/Hotel_Review-g186338-d1479614-Reviews-or15-Charlies_Hotel-London_England.html#REVIEWS Bed bugs\n"
     ]
    },
    {
     "name": "stderr",
     "output_type": "stream",
     "text": [
      "\r",
      " 17%|█████████████▊                                                                     | 5/30 [01:53<09:49, 23.59s/it]"
     ]
    },
    {
     "name": "stdout",
     "output_type": "stream",
     "text": [
      "/Hotel_Review-g186338-d1479614-Reviews-or20-Charlies_Hotel-London_England.html#REVIEWS Dump\n"
     ]
    },
    {
     "name": "stderr",
     "output_type": "stream",
     "text": [
      "\r",
      " 20%|████████████████▌                                                                  | 6/30 [02:18<09:41, 24.21s/it]"
     ]
    },
    {
     "name": "stdout",
     "output_type": "stream",
     "text": [
      "/Hotel_Review-g186338-d1479614-Reviews-or25-Charlies_Hotel-London_England.html#REVIEWS Clean and basic but worth the stay\n"
     ]
    },
    {
     "name": "stderr",
     "output_type": "stream",
     "text": [
      "\r",
      " 23%|███████████████████▎                                                               | 7/30 [02:47<09:47, 25.56s/it]"
     ]
    },
    {
     "name": "stdout",
     "output_type": "stream",
     "text": [
      "/Hotel_Review-g186338-d1479614-Reviews-or30-Charlies_Hotel-London_England.html#REVIEWS Worst place I stayed in! \n"
     ]
    },
    {
     "name": "stderr",
     "output_type": "stream",
     "text": [
      "\r",
      " 27%|██████████████████████▏                                                            | 8/30 [03:10<09:07, 24.89s/it]"
     ]
    },
    {
     "name": "stdout",
     "output_type": "stream",
     "text": [
      "/Hotel_Review-g186338-d1479614-Reviews-or35-Charlies_Hotel-London_England.html#REVIEWS Noisy neighbours \n"
     ]
    },
    {
     "name": "stderr",
     "output_type": "stream",
     "text": [
      "\r",
      " 30%|████████████████████████▉                                                          | 9/30 [03:40<09:18, 26.58s/it]"
     ]
    },
    {
     "name": "stdout",
     "output_type": "stream",
     "text": [
      "/Hotel_Review-g186338-d1479614-Reviews-or40-Charlies_Hotel-London_England.html#REVIEWS Rip-off\n"
     ]
    },
    {
     "name": "stderr",
     "output_type": "stream",
     "text": [
      "\r",
      " 33%|███████████████████████████▎                                                      | 10/30 [03:55<07:40, 23.05s/it]"
     ]
    },
    {
     "name": "stdout",
     "output_type": "stream",
     "text": [
      "/Hotel_Review-g186338-d1479614-Reviews-or45-Charlies_Hotel-London_England.html#REVIEWS SCAM - Do not stay here\n"
     ]
    },
    {
     "name": "stderr",
     "output_type": "stream",
     "text": [
      "\r",
      " 37%|██████████████████████████████                                                    | 11/30 [04:21<07:30, 23.71s/it]"
     ]
    },
    {
     "name": "stdout",
     "output_type": "stream",
     "text": [
      "/Hotel_Review-g186338-d1479614-Reviews-or50-Charlies_Hotel-London_England.html#REVIEWS You get what you pay for....\n"
     ]
    },
    {
     "name": "stderr",
     "output_type": "stream",
     "text": [
      "\r",
      " 40%|████████████████████████████████▊                                                 | 12/30 [04:38<06:32, 21.81s/it]"
     ]
    },
    {
     "name": "stdout",
     "output_type": "stream",
     "text": [
      "/Hotel_Review-g186338-d1479614-Reviews-or55-Charlies_Hotel-London_England.html#REVIEWS Basic but clean as a whistle\n"
     ]
    },
    {
     "name": "stderr",
     "output_type": "stream",
     "text": [
      "\r",
      " 43%|███████████████████████████████████▌                                              | 13/30 [04:50<05:22, 18.95s/it]"
     ]
    },
    {
     "name": "stdout",
     "output_type": "stream",
     "text": [
      "/Hotel_Review-g186338-d1479614-Reviews-or60-Charlies_Hotel-London_England.html#REVIEWS Value for money B&B\n"
     ]
    },
    {
     "name": "stderr",
     "output_type": "stream",
     "text": [
      "\r",
      " 47%|██████████████████████████████████████▎                                           | 14/30 [05:02<04:27, 16.69s/it]"
     ]
    },
    {
     "name": "stdout",
     "output_type": "stream",
     "text": [
      "/Hotel_Review-g186338-d1479614-Reviews-or65-Charlies_Hotel-London_England.html#REVIEWS Social\n"
     ]
    },
    {
     "name": "stderr",
     "output_type": "stream",
     "text": [
      "\r",
      " 50%|█████████████████████████████████████████                                         | 15/30 [05:30<05:00, 20.04s/it]"
     ]
    },
    {
     "name": "stdout",
     "output_type": "stream",
     "text": [
      "/Hotel_Review-g186338-d1479614-Reviews-or70-Charlies_Hotel-London_England.html#REVIEWS Don't book it\n"
     ]
    },
    {
     "name": "stderr",
     "output_type": "stream",
     "text": [
      "\r",
      " 53%|███████████████████████████████████████████▋                                      | 16/30 [05:40<03:58, 17.03s/it]"
     ]
    },
    {
     "name": "stdout",
     "output_type": "stream",
     "text": [
      "/Hotel_Review-g186338-d1479614-Reviews-or75-Charlies_Hotel-London_England.html#REVIEWS Holy monkeys....\n"
     ]
    },
    {
     "name": "stderr",
     "output_type": "stream",
     "text": [
      "\r",
      " 57%|██████████████████████████████████████████████▍                                   | 17/30 [05:46<02:58, 13.71s/it]"
     ]
    },
    {
     "name": "stdout",
     "output_type": "stream",
     "text": [
      "/Hotel_Review-g186338-d1479614-Reviews-or80-Charlies_Hotel-London_England.html#REVIEWS Avoid if at all possible\n"
     ]
    },
    {
     "name": "stderr",
     "output_type": "stream",
     "text": [
      "\r",
      " 60%|█████████████████████████████████████████████████▏                                | 18/30 [06:02<02:53, 14.43s/it]"
     ]
    },
    {
     "name": "stdout",
     "output_type": "stream",
     "text": [
      "/Hotel_Review-g186338-d1479614-Reviews-or85-Charlies_Hotel-London_England.html#REVIEWS Housekeeper friendly, very basic accommodation, owner very rude.\n"
     ]
    },
    {
     "name": "stderr",
     "output_type": "stream",
     "text": [
      "\r",
      " 63%|███████████████████████████████████████████████████▉                              | 19/30 [06:18<02:44, 14.99s/it]"
     ]
    },
    {
     "name": "stdout",
     "output_type": "stream",
     "text": [
      "/Hotel_Review-g186338-d1479614-Reviews-or90-Charlies_Hotel-London_England.html#REVIEWS Exactly what we wanted!\n"
     ]
    },
    {
     "name": "stderr",
     "output_type": "stream",
     "text": [
      "\r",
      " 67%|██████████████████████████████████████████████████████▋                           | 20/30 [06:27<02:12, 13.28s/it]"
     ]
    },
    {
     "name": "stdout",
     "output_type": "stream",
     "text": [
      "/Hotel_Review-g186338-d1479614-Reviews-or95-Charlies_Hotel-London_England.html#REVIEWS Could not even be bothered to provide a cup of tea!\n"
     ]
    },
    {
     "name": "stderr",
     "output_type": "stream",
     "text": [
      "\r",
      " 70%|█████████████████████████████████████████████████████████▍                        | 21/30 [06:42<02:02, 13.65s/it]"
     ]
    },
    {
     "name": "stdout",
     "output_type": "stream",
     "text": [
      "/Hotel_Review-g186338-d1479614-Reviews-or100-Charlies_Hotel-London_England.html#REVIEWS A very \"meh\" experience\n"
     ]
    },
    {
     "name": "stderr",
     "output_type": "stream",
     "text": [
      "\r",
      " 73%|████████████████████████████████████████████████████████████▏                     | 22/30 [07:07<02:17, 17.20s/it]"
     ]
    },
    {
     "name": "stdout",
     "output_type": "stream",
     "text": [
      "/Hotel_Review-g186338-d1479614-Reviews-or105-Charlies_Hotel-London_England.html#REVIEWS Cheap but no so cheerful\n"
     ]
    },
    {
     "name": "stderr",
     "output_type": "stream",
     "text": [
      "\r",
      " 77%|██████████████████████████████████████████████████████████████▊                   | 23/30 [07:20<01:49, 15.67s/it]"
     ]
    },
    {
     "name": "stdout",
     "output_type": "stream",
     "text": [
      "/Hotel_Review-g186338-d1479614-Reviews-or110-Charlies_Hotel-London_England.html#REVIEWS Charlies is me darling.\n"
     ]
    },
    {
     "name": "stderr",
     "output_type": "stream",
     "text": [
      "\r",
      " 80%|█████████████████████████████████████████████████████████████████▌                | 24/30 [07:43<01:47, 17.99s/it]"
     ]
    },
    {
     "name": "stdout",
     "output_type": "stream",
     "text": [
      "/Hotel_Review-g186338-d1479614-Reviews-or115-Charlies_Hotel-London_England.html#REVIEWS It grew on us.\n"
     ]
    },
    {
     "name": "stderr",
     "output_type": "stream",
     "text": [
      "\r",
      " 83%|████████████████████████████████████████████████████████████████████▎             | 25/30 [07:57<01:23, 16.67s/it]"
     ]
    },
    {
     "name": "stdout",
     "output_type": "stream",
     "text": [
      "/Hotel_Review-g186338-d1479614-Reviews-or120-Charlies_Hotel-London_England.html#REVIEWS London\n"
     ]
    },
    {
     "name": "stderr",
     "output_type": "stream",
     "text": [
      "\r",
      " 87%|███████████████████████████████████████████████████████████████████████           | 26/30 [08:08<01:00, 15.07s/it]"
     ]
    },
    {
     "name": "stdout",
     "output_type": "stream",
     "text": [
      "/Hotel_Review-g186338-d1479614-Reviews-or125-Charlies_Hotel-London_England.html#REVIEWS Dingy hovel. dont go there !!\n"
     ]
    },
    {
     "name": "stderr",
     "output_type": "stream",
     "text": [
      "\r",
      " 90%|█████████████████████████████████████████████████████████████████████████▊        | 27/30 [08:35<00:56, 18.68s/it]"
     ]
    },
    {
     "name": "stdout",
     "output_type": "stream",
     "text": [
      "/Hotel_Review-g186338-d1479614-Reviews-or130-Charlies_Hotel-London_England.html#REVIEWS Great place to stay for the budget traveller\n"
     ]
    },
    {
     "name": "stderr",
     "output_type": "stream",
     "text": [
      "\r",
      " 93%|████████████████████████████████████████████████████████████████████████████▌     | 28/30 [09:01<00:41, 20.77s/it]"
     ]
    },
    {
     "name": "stdout",
     "output_type": "stream",
     "text": [
      "/Hotel_Review-g186338-d1479614-Reviews-or135-Charlies_Hotel-London_England.html#REVIEWS DON'T TOUCH WITH A BARGEPOLE!!!\n"
     ]
    },
    {
     "name": "stderr",
     "output_type": "stream",
     "text": [
      "\r",
      " 97%|███████████████████████████████████████████████████████████████████████████████▎  | 29/30 [09:07<00:16, 16.49s/it]"
     ]
    },
    {
     "name": "stdout",
     "output_type": "stream",
     "text": [
      "/Hotel_Review-g186338-d1479614-Reviews-or140-Charlies_Hotel-London_England.html#REVIEWS Hotel does not live up to website information\n"
     ]
    },
    {
     "name": "stderr",
     "output_type": "stream",
     "text": [
      "100%|██████████████████████████████████████████████████████████████████████████████████| 30/30 [09:27<00:00, 18.92s/it]\n",
      "  0%|                                                                                           | 0/29 [00:00<?, ?it/s]"
     ]
    },
    {
     "name": "stdout",
     "output_type": "stream",
     "text": [
      "/Hotel_Review-g186338-d1479614-Reviews-or145-Charlies_Hotel-London_England.html#REVIEWS Do not use this hotel unless you really have too! Never again!\n",
      "big sleep\n"
     ]
    },
    {
     "name": "stderr",
     "output_type": "stream",
     "text": [
      "\r",
      "  3%|██▊                                                                                | 1/29 [00:23<11:09, 23.91s/it]"
     ]
    },
    {
     "name": "stdout",
     "output_type": "stream",
     "text": [
      "/Hotel_Review-g186338-d215498-Reviews-or0-Hyde_Park_Hostel-London_England.html#REVIEWS Poor experience\n"
     ]
    },
    {
     "name": "stderr",
     "output_type": "stream",
     "text": [
      "\r",
      "  7%|█████▋                                                                             | 2/29 [00:47<10:34, 23.50s/it]"
     ]
    },
    {
     "name": "stdout",
     "output_type": "stream",
     "text": [
      "/Hotel_Review-g186338-d215498-Reviews-or5-Hyde_Park_Hostel-London_England.html#REVIEWS Pareil à éviter \n"
     ]
    },
    {
     "name": "stderr",
     "output_type": "stream",
     "text": [
      "\r",
      " 10%|████████▌                                                                          | 3/29 [00:57<07:37, 17.58s/it]"
     ]
    },
    {
     "name": "stdout",
     "output_type": "stream",
     "text": [
      "/Hotel_Review-g186338-d215498-Reviews-or10-Hyde_Park_Hostel-London_England.html#REVIEWS Péssima escolha, não indico a ninguem!!!\n"
     ]
    },
    {
     "name": "stderr",
     "output_type": "stream",
     "text": [
      "\r",
      " 14%|███████████▍                                                                       | 4/29 [01:09<06:17, 15.12s/it]"
     ]
    },
    {
     "name": "stdout",
     "output_type": "stream",
     "text": [
      "/Hotel_Review-g186338-d215498-Reviews-or15-Hyde_Park_Hostel-London_England.html#REVIEWS Horrible\n"
     ]
    },
    {
     "name": "stderr",
     "output_type": "stream",
     "text": [
      "\r",
      " 17%|██████████████▎                                                                    | 5/29 [01:28<06:39, 16.65s/it]"
     ]
    },
    {
     "name": "stdout",
     "output_type": "stream",
     "text": [
      "/Hotel_Review-g186338-d215498-Reviews-or20-Hyde_Park_Hostel-London_England.html#REVIEWS Slechte hostel op een ideale locatie\n"
     ]
    },
    {
     "name": "stderr",
     "output_type": "stream",
     "text": [
      "\r",
      " 21%|█████████████████▏                                                                 | 6/29 [01:41<05:57, 15.53s/it]"
     ]
    },
    {
     "name": "stdout",
     "output_type": "stream",
     "text": [
      "/Hotel_Review-g186338-d215498-Reviews-or25-Hyde_Park_Hostel-London_England.html#REVIEWS Atroce\n"
     ]
    },
    {
     "name": "stderr",
     "output_type": "stream",
     "text": [
      "\r",
      " 24%|████████████████████                                                               | 7/29 [02:05<06:39, 18.15s/it]"
     ]
    },
    {
     "name": "stdout",
     "output_type": "stream",
     "text": [
      "/Hotel_Review-g186338-d215498-Reviews-or30-Hyde_Park_Hostel-London_England.html#REVIEWS La scarsa pulizia regna sovrana...\n"
     ]
    },
    {
     "name": "stderr",
     "output_type": "stream",
     "text": [
      "\r",
      " 28%|██████████████████████▉                                                            | 8/29 [02:12<05:10, 14.77s/it]"
     ]
    },
    {
     "name": "stdout",
     "output_type": "stream",
     "text": [
      "/Hotel_Review-g186338-d215498-Reviews-or35-Hyde_Park_Hostel-London_England.html#REVIEWS Muy dejado, mala atención\n"
     ]
    },
    {
     "name": "stderr",
     "output_type": "stream",
     "text": [
      "\r",
      " 31%|█████████████████████████▊                                                         | 9/29 [02:33<05:31, 16.57s/it]"
     ]
    },
    {
     "name": "stdout",
     "output_type": "stream",
     "text": [
      "/Hotel_Review-g186338-d215498-Reviews-or40-Hyde_Park_Hostel-London_England.html#REVIEWS WARNING ! DANGER ! Auberge à éviter !!\n"
     ]
    },
    {
     "name": "stderr",
     "output_type": "stream",
     "text": [
      "\r",
      " 34%|████████████████████████████▎                                                     | 10/29 [02:40<04:19, 13.66s/it]"
     ]
    },
    {
     "name": "stdout",
     "output_type": "stream",
     "text": [
      "/Hotel_Review-g186338-d215498-Reviews-or45-Hyde_Park_Hostel-London_England.html#REVIEWS bed bugs\n"
     ]
    },
    {
     "name": "stderr",
     "output_type": "stream",
     "text": [
      "\r",
      " 38%|███████████████████████████████                                                   | 11/29 [03:08<05:27, 18.19s/it]"
     ]
    },
    {
     "name": "stdout",
     "output_type": "stream",
     "text": [
      "/Hotel_Review-g186338-d215498-Reviews-or50-Hyde_Park_Hostel-London_England.html#REVIEWS Worst hostel ever\n"
     ]
    },
    {
     "name": "stderr",
     "output_type": "stream",
     "text": [
      "\r",
      " 41%|█████████████████████████████████▉                                                | 12/29 [03:24<04:54, 17.34s/it]"
     ]
    },
    {
     "name": "stdout",
     "output_type": "stream",
     "text": [
      "/Hotel_Review-g186338-d215498-Reviews-or55-Hyde_Park_Hostel-London_England.html#REVIEWS Scabbia\n"
     ]
    },
    {
     "name": "stderr",
     "output_type": "stream",
     "text": [
      "\r",
      " 45%|████████████████████████████████████▊                                             | 13/29 [03:33<03:59, 14.94s/it]"
     ]
    },
    {
     "name": "stdout",
     "output_type": "stream",
     "text": [
      "/Hotel_Review-g186338-d215498-Reviews-or60-Hyde_Park_Hostel-London_England.html#REVIEWS Affreux \n"
     ]
    },
    {
     "name": "stderr",
     "output_type": "stream",
     "text": [
      "\r",
      " 48%|███████████████████████████████████████▌                                          | 14/29 [03:53<04:07, 16.49s/it]"
     ]
    },
    {
     "name": "stdout",
     "output_type": "stream",
     "text": [
      "/Hotel_Review-g186338-d215498-Reviews-or65-Hyde_Park_Hostel-London_England.html#REVIEWS Minging\n"
     ]
    },
    {
     "name": "stderr",
     "output_type": "stream",
     "text": [
      "\r",
      " 52%|██████████████████████████████████████████▍                                       | 15/29 [04:04<03:26, 14.76s/it]"
     ]
    },
    {
     "name": "stdout",
     "output_type": "stream",
     "text": [
      "/Hotel_Review-g186338-d215498-Reviews-or70-Hyde_Park_Hostel-London_England.html#REVIEWS Très bien situé mais ...\n"
     ]
    },
    {
     "name": "stderr",
     "output_type": "stream",
     "text": [
      "\r",
      " 55%|█████████████████████████████████████████████▏                                    | 16/29 [04:12<02:46, 12.81s/it]"
     ]
    },
    {
     "name": "stdout",
     "output_type": "stream",
     "text": [
      "/Hotel_Review-g186338-d215498-Reviews-or75-Hyde_Park_Hostel-London_England.html#REVIEWS è un ostello\n"
     ]
    },
    {
     "name": "stderr",
     "output_type": "stream",
     "text": [
      "\r",
      " 59%|████████████████████████████████████████████████                                  | 17/29 [04:41<03:30, 17.56s/it]"
     ]
    },
    {
     "name": "stdout",
     "output_type": "stream",
     "text": [
      "/Hotel_Review-g186338-d215498-Reviews-or80-Hyde_Park_Hostel-London_England.html#REVIEWS Not A Place For Travellers\n"
     ]
    },
    {
     "name": "stderr",
     "output_type": "stream",
     "text": [
      "\r",
      " 62%|██████████████████████████████████████████████████▉                               | 18/29 [05:11<03:52, 21.17s/it]"
     ]
    },
    {
     "name": "stdout",
     "output_type": "stream",
     "text": [
      "/Hotel_Review-g186338-d215498-Reviews-or85-Hyde_Park_Hostel-London_England.html#REVIEWS Nasty encounter\n"
     ]
    },
    {
     "name": "stderr",
     "output_type": "stream",
     "text": [
      "\r",
      " 66%|█████████████████████████████████████████████████████▋                            | 19/29 [05:37<03:46, 22.69s/it]"
     ]
    },
    {
     "name": "stdout",
     "output_type": "stream",
     "text": [
      "/Hotel_Review-g186338-d215498-Reviews-or90-Hyde_Park_Hostel-London_England.html#REVIEWS Worst experience ever!\n"
     ]
    },
    {
     "name": "stderr",
     "output_type": "stream",
     "text": [
      "\r",
      " 69%|████████████████████████████████████████████████████████▌                         | 20/29 [05:58<03:20, 22.30s/it]"
     ]
    },
    {
     "name": "stdout",
     "output_type": "stream",
     "text": [
      "/Hotel_Review-g186338-d215498-Reviews-or95-Hyde_Park_Hostel-London_England.html#REVIEWS Terrível!!!\n"
     ]
    },
    {
     "name": "stderr",
     "output_type": "stream",
     "text": [
      "\r",
      " 72%|███████████████████████████████████████████████████████████▍                      | 21/29 [06:22<03:01, 22.64s/it]"
     ]
    },
    {
     "name": "stdout",
     "output_type": "stream",
     "text": [
      "/Hotel_Review-g186338-d215498-Reviews-or100-Hyde_Park_Hostel-London_England.html#REVIEWS Pior experiência\n"
     ]
    },
    {
     "name": "stderr",
     "output_type": "stream",
     "text": [
      "\r",
      " 76%|██████████████████████████████████████████████████████████████▏                   | 22/29 [06:44<02:37, 22.57s/it]"
     ]
    },
    {
     "name": "stdout",
     "output_type": "stream",
     "text": [
      "/Hotel_Review-g186338-d215498-Reviews-or105-Hyde_Park_Hostel-London_England.html#REVIEWS Atmosfera da HOSTEL il film.\n"
     ]
    },
    {
     "name": "stderr",
     "output_type": "stream",
     "text": [
      "\r",
      " 79%|█████████████████████████████████████████████████████████████████                 | 23/29 [07:01<02:04, 20.76s/it]"
     ]
    },
    {
     "name": "stdout",
     "output_type": "stream",
     "text": [
      "/Hotel_Review-g186338-d215498-Reviews-or110-Hyde_Park_Hostel-London_England.html#REVIEWS Cheap - didn't expect much but got even less!\n"
     ]
    },
    {
     "name": "stderr",
     "output_type": "stream",
     "text": [
      "\r",
      " 83%|███████████████████████████████████████████████████████████████████▊              | 24/29 [07:10<01:26, 17.31s/it]"
     ]
    },
    {
     "name": "stdout",
     "output_type": "stream",
     "text": [
      "/Hotel_Review-g186338-d215498-Reviews-or115-Hyde_Park_Hostel-London_England.html#REVIEWS Don't stay here\n"
     ]
    },
    {
     "name": "stderr",
     "output_type": "stream",
     "text": [
      "\r",
      " 86%|██████████████████████████████████████████████████████████████████████▋           | 25/29 [07:20<01:01, 15.29s/it]"
     ]
    },
    {
     "name": "stdout",
     "output_type": "stream",
     "text": [
      "/Hotel_Review-g186338-d215498-Reviews-or120-Hyde_Park_Hostel-London_England.html#REVIEWS Preco médio, localizacao boa porem longe do metro\n"
     ]
    },
    {
     "name": "stderr",
     "output_type": "stream",
     "text": [
      "\r",
      " 90%|█████████████████████████████████████████████████████████████████████████▌        | 26/29 [07:39<00:48, 16.29s/it]"
     ]
    },
    {
     "name": "stdout",
     "output_type": "stream",
     "text": [
      "/Hotel_Review-g186338-d215498-Reviews-or125-Hyde_Park_Hostel-London_England.html#REVIEWS Pior hostel de todos\n"
     ]
    },
    {
     "name": "stderr",
     "output_type": "stream",
     "text": [
      "\r",
      " 93%|████████████████████████████████████████████████████████████████████████████▎     | 27/29 [07:52<00:30, 15.31s/it]"
     ]
    },
    {
     "name": "stdout",
     "output_type": "stream",
     "text": [
      "/Hotel_Review-g186338-d215498-Reviews-or130-Hyde_Park_Hostel-London_England.html#REVIEWS Worst Hostel I've Ever Come Across\n"
     ]
    },
    {
     "name": "stderr",
     "output_type": "stream",
     "text": [
      "\r",
      " 97%|███████████████████████████████████████████████████████████████████████████████▏  | 28/29 [08:02<00:13, 13.56s/it]"
     ]
    },
    {
     "name": "stdout",
     "output_type": "stream",
     "text": [
      "/Hotel_Review-g186338-d215498-Reviews-or135-Hyde_Park_Hostel-London_England.html#REVIEWS You get what you pay for\n"
     ]
    },
    {
     "name": "stderr",
     "output_type": "stream",
     "text": [
      "100%|██████████████████████████████████████████████████████████████████████████████████| 29/29 [08:10<00:00, 16.91s/it]\n",
      "  0%|                                                                                           | 0/28 [00:00<?, ?it/s]"
     ]
    },
    {
     "name": "stdout",
     "output_type": "stream",
     "text": [
      "/Hotel_Review-g186338-d215498-Reviews-or140-Hyde_Park_Hostel-London_England.html#REVIEWS Superb location, shocking cleanliness\n",
      "big sleep\n"
     ]
    },
    {
     "name": "stderr",
     "output_type": "stream",
     "text": [
      "\r",
      "  4%|██▉                                                                                | 1/28 [00:26<11:58, 26.61s/it]"
     ]
    },
    {
     "name": "stdout",
     "output_type": "stream",
     "text": [
      "/Hotel_Review-g186338-d192100-Reviews-or0-OYO_Boston_Court_Hotel-London_England.html#REVIEWS Return visit.\n"
     ]
    },
    {
     "name": "stderr",
     "output_type": "stream",
     "text": [
      "\r",
      "  7%|█████▉                                                                             | 2/28 [00:40<08:23, 19.35s/it]"
     ]
    },
    {
     "name": "stdout",
     "output_type": "stream",
     "text": [
      "/Hotel_Review-g186338-d192100-Reviews-or5-OYO_Boston_Court_Hotel-London_England.html#REVIEWS Not the ritz but good for the price \n"
     ]
    },
    {
     "name": "stderr",
     "output_type": "stream",
     "text": [
      "\r",
      " 11%|████████▉                                                                          | 3/28 [01:00<08:06, 19.45s/it]"
     ]
    },
    {
     "name": "stdout",
     "output_type": "stream",
     "text": [
      "/Hotel_Review-g186338-d192100-Reviews-or10-OYO_Boston_Court_Hotel-London_England.html#REVIEWS Cheap hotel near oxford street\n"
     ]
    },
    {
     "name": "stderr",
     "output_type": "stream",
     "text": [
      "\r",
      " 14%|███████████▊                                                                       | 4/28 [01:28<09:10, 22.95s/it]"
     ]
    },
    {
     "name": "stdout",
     "output_type": "stream",
     "text": [
      "/Hotel_Review-g186338-d192100-Reviews-or15-OYO_Boston_Court_Hotel-London_England.html#REVIEWS Functional\n"
     ]
    },
    {
     "name": "stderr",
     "output_type": "stream",
     "text": [
      "\r",
      " 18%|██████████████▊                                                                    | 5/28 [01:45<07:58, 20.81s/it]"
     ]
    },
    {
     "name": "stdout",
     "output_type": "stream",
     "text": [
      "/Hotel_Review-g186338-d192100-Reviews-or20-OYO_Boston_Court_Hotel-London_England.html#REVIEWS Loved this place\n"
     ]
    },
    {
     "name": "stderr",
     "output_type": "stream",
     "text": [
      "\r",
      " 21%|█████████████████▊                                                                 | 6/28 [01:58<06:36, 18.03s/it]"
     ]
    },
    {
     "name": "stdout",
     "output_type": "stream",
     "text": [
      "/Hotel_Review-g186338-d192100-Reviews-or25-OYO_Boston_Court_Hotel-London_England.html#REVIEWS Terrible \n"
     ]
    },
    {
     "name": "stderr",
     "output_type": "stream",
     "text": [
      "\r",
      " 25%|████████████████████▊                                                              | 7/28 [02:11<05:41, 16.28s/it]"
     ]
    },
    {
     "name": "stdout",
     "output_type": "stream",
     "text": [
      "/Hotel_Review-g186338-d192100-Reviews-or30-OYO_Boston_Court_Hotel-London_England.html#REVIEWS Near all which you want too be at a good price\n"
     ]
    },
    {
     "name": "stderr",
     "output_type": "stream",
     "text": [
      "\r",
      " 29%|███████████████████████▋                                                           | 8/28 [02:36<06:25, 19.29s/it]"
     ]
    },
    {
     "name": "stdout",
     "output_type": "stream",
     "text": [
      "/Hotel_Review-g186338-d192100-Reviews-or35-OYO_Boston_Court_Hotel-London_England.html#REVIEWS Personal space and personable staff\n"
     ]
    },
    {
     "name": "stderr",
     "output_type": "stream",
     "text": [
      "\r",
      " 32%|██████████████████████████▋                                                        | 9/28 [02:43<04:52, 15.38s/it]"
     ]
    },
    {
     "name": "stdout",
     "output_type": "stream",
     "text": [
      "/Hotel_Review-g186338-d192100-Reviews-or40-OYO_Boston_Court_Hotel-London_England.html#REVIEWS Cheap, central, that's it\n"
     ]
    },
    {
     "name": "stderr",
     "output_type": "stream",
     "text": [
      "\r",
      " 36%|█████████████████████████████▎                                                    | 10/28 [03:11<05:47, 19.30s/it]"
     ]
    },
    {
     "name": "stdout",
     "output_type": "stream",
     "text": [
      "/Hotel_Review-g186338-d192100-Reviews-or45-OYO_Boston_Court_Hotel-London_England.html#REVIEWS Terrible \n"
     ]
    },
    {
     "name": "stderr",
     "output_type": "stream",
     "text": [
      "\r",
      " 39%|████████████████████████████████▏                                                 | 11/28 [03:29<05:22, 18.98s/it]"
     ]
    },
    {
     "name": "stdout",
     "output_type": "stream",
     "text": [
      "/Hotel_Review-g186338-d192100-Reviews-or50-OYO_Boston_Court_Hotel-London_England.html#REVIEWS Not good atall \n"
     ]
    },
    {
     "name": "stderr",
     "output_type": "stream",
     "text": [
      "\r",
      " 43%|███████████████████████████████████▏                                              | 12/28 [03:38<04:13, 15.86s/it]"
     ]
    },
    {
     "name": "stdout",
     "output_type": "stream",
     "text": [
      "/Hotel_Review-g186338-d192100-Reviews-or55-OYO_Boston_Court_Hotel-London_England.html#REVIEWS GIVE THIS HOTEL A MISS\n"
     ]
    },
    {
     "name": "stderr",
     "output_type": "stream",
     "text": [
      "\r",
      " 46%|██████████████████████████████████████                                            | 13/28 [04:00<04:24, 17.64s/it]"
     ]
    },
    {
     "name": "stdout",
     "output_type": "stream",
     "text": [
      "/Hotel_Review-g186338-d192100-Reviews-or60-OYO_Boston_Court_Hotel-London_England.html#REVIEWS Mixed feelings\n"
     ]
    },
    {
     "name": "stderr",
     "output_type": "stream",
     "text": [
      "\r",
      " 50%|█████████████████████████████████████████                                         | 14/28 [04:28<04:53, 20.95s/it]"
     ]
    },
    {
     "name": "stdout",
     "output_type": "stream",
     "text": [
      "/Hotel_Review-g186338-d192100-Reviews-or65-OYO_Boston_Court_Hotel-London_England.html#REVIEWS One night stay\n"
     ]
    },
    {
     "name": "stderr",
     "output_type": "stream",
     "text": [
      "\r",
      " 54%|███████████████████████████████████████████▉                                      | 15/28 [04:40<03:55, 18.08s/it]"
     ]
    },
    {
     "name": "stdout",
     "output_type": "stream",
     "text": [
      "/Hotel_Review-g186338-d192100-Reviews-or70-OYO_Boston_Court_Hotel-London_England.html#REVIEWS Get what you pay for\n"
     ]
    },
    {
     "name": "stderr",
     "output_type": "stream",
     "text": [
      "\r",
      " 57%|██████████████████████████████████████████████▊                                   | 16/28 [04:50<03:09, 15.75s/it]"
     ]
    },
    {
     "name": "stdout",
     "output_type": "stream",
     "text": [
      "/Hotel_Review-g186338-d192100-Reviews-or75-OYO_Boston_Court_Hotel-London_England.html#REVIEWS Perfect place for a cheap London holiday!\n"
     ]
    },
    {
     "name": "stderr",
     "output_type": "stream",
     "text": [
      "\r",
      " 61%|█████████████████████████████████████████████████▊                                | 17/28 [05:06<02:54, 15.87s/it]"
     ]
    },
    {
     "name": "stdout",
     "output_type": "stream",
     "text": [
      "/Hotel_Review-g186338-d192100-Reviews-or80-OYO_Boston_Court_Hotel-London_England.html#REVIEWS The worst hotel I have ever stayed in!\n"
     ]
    },
    {
     "name": "stderr",
     "output_type": "stream",
     "text": [
      "\r",
      " 64%|████████████████████████████████████████████████████▋                             | 18/28 [05:23<02:39, 15.96s/it]"
     ]
    },
    {
     "name": "stdout",
     "output_type": "stream",
     "text": [
      "/Hotel_Review-g186338-d192100-Reviews-or85-OYO_Boston_Court_Hotel-London_England.html#REVIEWS Cheap for the location\n"
     ]
    },
    {
     "name": "stderr",
     "output_type": "stream",
     "text": [
      "\r",
      " 68%|███████████████████████████████████████████████████████▋                          | 19/28 [05:30<02:00, 13.39s/it]"
     ]
    },
    {
     "name": "stdout",
     "output_type": "stream",
     "text": [
      "/Hotel_Review-g186338-d192100-Reviews-or90-OYO_Boston_Court_Hotel-London_England.html#REVIEWS throwback to the 70's\n"
     ]
    },
    {
     "name": "stderr",
     "output_type": "stream",
     "text": [
      "\r",
      " 71%|██████████████████████████████████████████████████████████▌                       | 20/28 [05:47<01:56, 14.50s/it]"
     ]
    },
    {
     "name": "stdout",
     "output_type": "stream",
     "text": [
      "/Hotel_Review-g186338-d192100-Reviews-or95-OYO_Boston_Court_Hotel-London_England.html#REVIEWS shocking,\n"
     ]
    },
    {
     "name": "stderr",
     "output_type": "stream",
     "text": [
      "\r",
      " 75%|█████████████████████████████████████████████████████████████▌                    | 21/28 [06:07<01:52, 16.08s/it]"
     ]
    },
    {
     "name": "stdout",
     "output_type": "stream",
     "text": [
      "/Hotel_Review-g186338-d192100-Reviews-or100-OYO_Boston_Court_Hotel-London_England.html#REVIEWS Affordable, comfortable.\n"
     ]
    },
    {
     "name": "stderr",
     "output_type": "stream",
     "text": [
      "\r",
      " 79%|████████████████████████████████████████████████████████████████▍                 | 22/28 [06:14<01:20, 13.38s/it]"
     ]
    },
    {
     "name": "stdout",
     "output_type": "stream",
     "text": [
      "/Hotel_Review-g186338-d192100-Reviews-or105-OYO_Boston_Court_Hotel-London_England.html#REVIEWS No comparison to my Paris hotel\n"
     ]
    },
    {
     "name": "stderr",
     "output_type": "stream",
     "text": [
      "\r",
      " 82%|███████████████████████████████████████████████████████████████████▎              | 23/28 [06:23<01:01, 12.23s/it]"
     ]
    },
    {
     "name": "stdout",
     "output_type": "stream",
     "text": [
      "/Hotel_Review-g186338-d192100-Reviews-or110-OYO_Boston_Court_Hotel-London_England.html#REVIEWS Don't go there !\n"
     ]
    },
    {
     "name": "stderr",
     "output_type": "stream",
     "text": [
      "\r",
      " 86%|██████████████████████████████████████████████████████████████████████▎           | 24/28 [06:34<00:46, 11.74s/it]"
     ]
    },
    {
     "name": "stdout",
     "output_type": "stream",
     "text": [
      "/Hotel_Review-g186338-d192100-Reviews-or115-OYO_Boston_Court_Hotel-London_England.html#REVIEWS Absolutely discusting\n"
     ]
    },
    {
     "name": "stderr",
     "output_type": "stream",
     "text": [
      "\r",
      " 89%|█████████████████████████████████████████████████████████████████████████▏        | 25/28 [06:59<00:47, 15.70s/it]"
     ]
    },
    {
     "name": "stdout",
     "output_type": "stream",
     "text": [
      "/Hotel_Review-g186338-d192100-Reviews-or120-OYO_Boston_Court_Hotel-London_England.html#REVIEWS Not that bad!!\n"
     ]
    },
    {
     "name": "stderr",
     "output_type": "stream",
     "text": [
      "\r",
      " 93%|████████████████████████████████████████████████████████████████████████████▏     | 26/28 [07:11<00:29, 14.51s/it]"
     ]
    },
    {
     "name": "stdout",
     "output_type": "stream",
     "text": [
      "/Hotel_Review-g186338-d192100-Reviews-or125-OYO_Boston_Court_Hotel-London_England.html#REVIEWS The Hotel is the worst hotel ever.\n"
     ]
    },
    {
     "name": "stderr",
     "output_type": "stream",
     "text": [
      "\r",
      " 96%|███████████████████████████████████████████████████████████████████████████████   | 27/28 [07:23<00:13, 13.82s/it]"
     ]
    },
    {
     "name": "stdout",
     "output_type": "stream",
     "text": [
      "/Hotel_Review-g186338-d192100-Reviews-or130-OYO_Boston_Court_Hotel-London_England.html#REVIEWS Yikes!\n"
     ]
    },
    {
     "name": "stderr",
     "output_type": "stream",
     "text": [
      "100%|██████████████████████████████████████████████████████████████████████████████████| 28/28 [07:50<00:00, 16.81s/it]\n",
      "  0%|                                                                                           | 0/28 [00:00<?, ?it/s]"
     ]
    },
    {
     "name": "stdout",
     "output_type": "stream",
     "text": [
      "/Hotel_Review-g186338-d192100-Reviews-or135-OYO_Boston_Court_Hotel-London_England.html#REVIEWS Very basic hotel, but great location and price\n",
      "big sleep\n"
     ]
    },
    {
     "name": "stderr",
     "output_type": "stream",
     "text": [
      "\r",
      "  4%|██▉                                                                                | 1/28 [00:23<10:35, 23.55s/it]"
     ]
    },
    {
     "name": "stdout",
     "output_type": "stream",
     "text": [
      "/Hotel_Review-g186338-d190072-Reviews-or0-159_Knightbridge_Hotel-London_England.html#REVIEWS Avoid\n"
     ]
    },
    {
     "name": "stderr",
     "output_type": "stream",
     "text": [
      "\r",
      "  7%|█████▉                                                                             | 2/28 [00:31<06:19, 14.61s/it]"
     ]
    },
    {
     "name": "stdout",
     "output_type": "stream",
     "text": [
      "/Hotel_Review-g186338-d190072-Reviews-or5-159_Knightbridge_Hotel-London_England.html#REVIEWS Don't stay here!\n"
     ]
    },
    {
     "name": "stderr",
     "output_type": "stream",
     "text": [
      "\r",
      " 11%|████████▉                                                                          | 3/28 [00:44<05:39, 13.58s/it]"
     ]
    },
    {
     "name": "stdout",
     "output_type": "stream",
     "text": [
      "/Hotel_Review-g186338-d190072-Reviews-or10-159_Knightbridge_Hotel-London_England.html#REVIEWS Daniil\n"
     ]
    },
    {
     "name": "stderr",
     "output_type": "stream",
     "text": [
      "\r",
      " 14%|███████████▊                                                                       | 4/28 [01:03<06:20, 15.85s/it]"
     ]
    },
    {
     "name": "stdout",
     "output_type": "stream",
     "text": [
      "/Hotel_Review-g186338-d190072-Reviews-or15-159_Knightbridge_Hotel-London_England.html#REVIEWS Hotel of horrors...\n"
     ]
    },
    {
     "name": "stderr",
     "output_type": "stream",
     "text": [
      "\r",
      " 18%|██████████████▊                                                                    | 5/28 [01:19<06:08, 16.03s/it]"
     ]
    },
    {
     "name": "stdout",
     "output_type": "stream",
     "text": [
      "/Hotel_Review-g186338-d190072-Reviews-or20-159_Knightbridge_Hotel-London_England.html#REVIEWS This Hotel is Awful\n"
     ]
    },
    {
     "name": "stderr",
     "output_type": "stream",
     "text": [
      "\r",
      " 21%|█████████████████▊                                                                 | 6/28 [01:44<06:55, 18.90s/it]"
     ]
    },
    {
     "name": "stdout",
     "output_type": "stream",
     "text": [
      "/Hotel_Review-g186338-d190072-Reviews-or25-159_Knightbridge_Hotel-London_England.html#REVIEWS AWFUL! \n"
     ]
    },
    {
     "name": "stderr",
     "output_type": "stream",
     "text": [
      "\r",
      " 25%|████████████████████▊                                                              | 7/28 [01:58<06:02, 17.26s/it]"
     ]
    },
    {
     "name": "stdout",
     "output_type": "stream",
     "text": [
      "/Hotel_Review-g186338-d190072-Reviews-or30-159_Knightbridge_Hotel-London_England.html#REVIEWS SCAM\n"
     ]
    },
    {
     "name": "stderr",
     "output_type": "stream",
     "text": [
      "\r",
      " 29%|███████████████████████▋                                                           | 8/28 [02:20<06:17, 18.86s/it]"
     ]
    },
    {
     "name": "stdout",
     "output_type": "stream",
     "text": [
      "/Hotel_Review-g186338-d190072-Reviews-or35-159_Knightbridge_Hotel-London_England.html#REVIEWS RECOMMENDED ON THE QANTAS WEB SITE!!!!!!!!!!!!!!!!!\n"
     ]
    },
    {
     "name": "stderr",
     "output_type": "stream",
     "text": [
      "\r",
      " 32%|██████████████████████████▋                                                        | 9/28 [02:47<06:48, 21.48s/it]"
     ]
    },
    {
     "name": "stdout",
     "output_type": "stream",
     "text": [
      "/Hotel_Review-g186338-d190072-Reviews-or40-159_Knightbridge_Hotel-London_England.html#REVIEWS Very disappointing 4* hotel\n"
     ]
    },
    {
     "name": "stderr",
     "output_type": "stream",
     "text": [
      "\r",
      " 36%|█████████████████████████████▎                                                    | 10/28 [03:09<06:27, 21.50s/it]"
     ]
    },
    {
     "name": "stdout",
     "output_type": "stream",
     "text": [
      "/Hotel_Review-g186338-d190072-Reviews-or45-159_Knightbridge_Hotel-London_England.html#REVIEWS Never again\n"
     ]
    },
    {
     "name": "stderr",
     "output_type": "stream",
     "text": [
      "\r",
      " 39%|████████████████████████████████▏                                                 | 11/28 [03:21<05:17, 18.68s/it]"
     ]
    },
    {
     "name": "stdout",
     "output_type": "stream",
     "text": [
      "/Hotel_Review-g186338-d190072-Reviews-or50-159_Knightbridge_Hotel-London_England.html#REVIEWS Lovely stay\n"
     ]
    },
    {
     "name": "stderr",
     "output_type": "stream",
     "text": [
      "\r",
      " 43%|███████████████████████████████████▏                                              | 12/28 [03:49<05:45, 21.58s/it]"
     ]
    },
    {
     "name": "stdout",
     "output_type": "stream",
     "text": [
      "/Hotel_Review-g186338-d190072-Reviews-or55-159_Knightbridge_Hotel-London_England.html#REVIEWS Not worth the money...unfortunately\n"
     ]
    },
    {
     "name": "stderr",
     "output_type": "stream",
     "text": [
      "\r",
      " 46%|██████████████████████████████████████                                            | 13/28 [04:17<05:50, 23.38s/it]"
     ]
    },
    {
     "name": "stdout",
     "output_type": "stream",
     "text": [
      "/Hotel_Review-g186338-d190072-Reviews-or60-159_Knightbridge_Hotel-London_England.html#REVIEWS BITTEN BY BED BUGS\n"
     ]
    },
    {
     "name": "stderr",
     "output_type": "stream",
     "text": [
      "\r",
      " 50%|█████████████████████████████████████████                                         | 14/28 [04:32<04:52, 20.91s/it]"
     ]
    },
    {
     "name": "stdout",
     "output_type": "stream",
     "text": [
      "/Hotel_Review-g186338-d190072-Reviews-or65-159_Knightbridge_Hotel-London_England.html#REVIEWS Clean, Friendly and excellent position\n"
     ]
    },
    {
     "name": "stderr",
     "output_type": "stream",
     "text": [
      "\r",
      " 54%|███████████████████████████████████████████▉                                      | 15/28 [04:58<04:52, 22.51s/it]"
     ]
    },
    {
     "name": "stdout",
     "output_type": "stream",
     "text": [
      "/Hotel_Review-g186338-d190072-Reviews-or70-159_Knightbridge_Hotel-London_England.html#REVIEWS This place is allot worse than a travel lodge!\n"
     ]
    },
    {
     "name": "stderr",
     "output_type": "stream",
     "text": [
      "\r",
      " 57%|██████████████████████████████████████████████▊                                   | 16/28 [05:15<04:07, 20.62s/it]"
     ]
    },
    {
     "name": "stdout",
     "output_type": "stream",
     "text": [
      "/Hotel_Review-g186338-d190072-Reviews-or75-159_Knightbridge_Hotel-London_England.html#REVIEWS Good location \n"
     ]
    },
    {
     "name": "stderr",
     "output_type": "stream",
     "text": [
      "\r",
      " 61%|█████████████████████████████████████████████████▊                                | 17/28 [05:27<03:19, 18.15s/it]"
     ]
    },
    {
     "name": "stdout",
     "output_type": "stream",
     "text": [
      "/Hotel_Review-g186338-d190072-Reviews-or80-159_Knightbridge_Hotel-London_England.html#REVIEWS Worst hotel I have ever been in\n"
     ]
    },
    {
     "name": "stderr",
     "output_type": "stream",
     "text": [
      "\r",
      " 64%|████████████████████████████████████████████████████▋                             | 18/28 [05:36<02:34, 15.43s/it]"
     ]
    },
    {
     "name": "stdout",
     "output_type": "stream",
     "text": [
      "/Hotel_Review-g186338-d190072-Reviews-or85-159_Knightbridge_Hotel-London_England.html#REVIEWS Marie o callaghan\n"
     ]
    },
    {
     "name": "stderr",
     "output_type": "stream",
     "text": [
      "\r",
      " 68%|███████████████████████████████████████████████████████▋                          | 19/28 [05:54<02:24, 16.05s/it]"
     ]
    },
    {
     "name": "stdout",
     "output_type": "stream",
     "text": [
      "/Hotel_Review-g186338-d190072-Reviews-or90-159_Knightbridge_Hotel-London_England.html#REVIEWS Awful Hotel - Do not stay here!!\n"
     ]
    },
    {
     "name": "stderr",
     "output_type": "stream",
     "text": [
      "\r",
      " 71%|██████████████████████████████████████████████████████████▌                       | 20/28 [06:21<02:35, 19.43s/it]"
     ]
    },
    {
     "name": "stdout",
     "output_type": "stream",
     "text": [
      "/Hotel_Review-g186338-d190072-Reviews-or95-159_Knightbridge_Hotel-London_England.html#REVIEWS Horrific Nightmare in Knightsbridge\n"
     ]
    },
    {
     "name": "stderr",
     "output_type": "stream",
     "text": [
      "\r",
      " 75%|█████████████████████████████████████████████████████████████▌                    | 21/28 [06:38<02:11, 18.77s/it]"
     ]
    },
    {
     "name": "stdout",
     "output_type": "stream",
     "text": [
      "/Hotel_Review-g186338-d190072-Reviews-or100-159_Knightbridge_Hotel-London_England.html#REVIEWS They canceled my reservation right before my trip\n"
     ]
    },
    {
     "name": "stderr",
     "output_type": "stream",
     "text": [
      "\r",
      " 79%|████████████████████████████████████████████████████████████████▍                 | 22/28 [07:00<01:58, 19.82s/it]"
     ]
    },
    {
     "name": "stdout",
     "output_type": "stream",
     "text": [
      "/Hotel_Review-g186338-d190072-Reviews-or105-159_Knightbridge_Hotel-London_England.html#REVIEWS AWFUL HOTEL !!!\n"
     ]
    },
    {
     "name": "stderr",
     "output_type": "stream",
     "text": [
      "\r",
      " 82%|███████████████████████████████████████████████████████████████████▎              | 23/28 [07:28<01:50, 22.10s/it]"
     ]
    },
    {
     "name": "stdout",
     "output_type": "stream",
     "text": [
      "/Hotel_Review-g186338-d190072-Reviews-or110-159_Knightbridge_Hotel-London_England.html#REVIEWS a nice place,,very good location,\n"
     ]
    },
    {
     "name": "stderr",
     "output_type": "stream",
     "text": [
      "\r",
      " 86%|██████████████████████████████████████████████████████████████████████▎           | 24/28 [07:38<01:14, 18.52s/it]"
     ]
    },
    {
     "name": "stdout",
     "output_type": "stream",
     "text": [
      "/Hotel_Review-g186338-d190072-Reviews-or115-159_Knightbridge_Hotel-London_England.html#REVIEWS Utter Nightmare\n"
     ]
    },
    {
     "name": "stderr",
     "output_type": "stream",
     "text": [
      "\r",
      " 89%|█████████████████████████████████████████████████████████████████████████▏        | 25/28 [07:48<00:48, 16.04s/it]"
     ]
    },
    {
     "name": "stdout",
     "output_type": "stream",
     "text": [
      "/Hotel_Review-g186338-d190072-Reviews-or120-159_Knightbridge_Hotel-London_England.html#REVIEWS One night stay and afternoon tea (with prosecco) for two.\n"
     ]
    },
    {
     "name": "stderr",
     "output_type": "stream",
     "text": [
      "\r",
      " 93%|████████████████████████████████████████████████████████████████████████████▏     | 26/28 [08:12<00:37, 18.51s/it]"
     ]
    },
    {
     "name": "stdout",
     "output_type": "stream",
     "text": [
      "/Hotel_Review-g186338-d190072-Reviews-or125-159_Knightbridge_Hotel-London_England.html#REVIEWS Marie\n"
     ]
    },
    {
     "name": "stderr",
     "output_type": "stream",
     "text": [
      "\r",
      " 96%|███████████████████████████████████████████████████████████████████████████████   | 27/28 [08:21<00:15, 15.42s/it]"
     ]
    },
    {
     "name": "stdout",
     "output_type": "stream",
     "text": [
      "/Hotel_Review-g186338-d190072-Reviews-or130-159_Knightbridge_Hotel-London_England.html#REVIEWS The worst experience of my life\n"
     ]
    },
    {
     "name": "stderr",
     "output_type": "stream",
     "text": [
      "100%|██████████████████████████████████████████████████████████████████████████████████| 28/28 [08:30<00:00, 18.22s/it]\n",
      "  0%|                                                                                           | 0/27 [00:00<?, ?it/s]"
     ]
    },
    {
     "name": "stdout",
     "output_type": "stream",
     "text": [
      "/Hotel_Review-g186338-d190072-Reviews-or135-159_Knightbridge_Hotel-London_England.html#REVIEWS VERY BAD CUSTOMER SERVICE!!!\n",
      "big sleep\n"
     ]
    },
    {
     "name": "stderr",
     "output_type": "stream",
     "text": [
      "\r",
      "  4%|███                                                                                | 1/27 [00:08<03:37,  8.36s/it]"
     ]
    },
    {
     "name": "stdout",
     "output_type": "stream",
     "text": [
      "/Hotel_Review-g186338-d1502057-Reviews-or0-Dylan_Apartments_Kensington-London_England.html#REVIEWS This place is filthy and disgusting\n"
     ]
    },
    {
     "name": "stderr",
     "output_type": "stream",
     "text": [
      "\r",
      "  7%|██████▏                                                                            | 2/27 [00:25<05:38, 13.52s/it]"
     ]
    },
    {
     "name": "stdout",
     "output_type": "stream",
     "text": [
      "/Hotel_Review-g186338-d1502057-Reviews-or5-Dylan_Apartments_Kensington-London_England.html#REVIEWS Pictures they show are not the units they have\n"
     ]
    },
    {
     "name": "stderr",
     "output_type": "stream",
     "text": [
      "\r",
      " 11%|█████████▏                                                                         | 3/27 [00:40<05:43, 14.29s/it]"
     ]
    },
    {
     "name": "stdout",
     "output_type": "stream",
     "text": [
      "/Hotel_Review-g186338-d1502057-Reviews-or10-Dylan_Apartments_Kensington-London_England.html#REVIEWS God awful \n"
     ]
    },
    {
     "name": "stderr",
     "output_type": "stream",
     "text": [
      "\r",
      " 15%|████████████▎                                                                      | 4/27 [00:52<05:02, 13.16s/it]"
     ]
    },
    {
     "name": "stdout",
     "output_type": "stream",
     "text": [
      "/Hotel_Review-g186338-d1502057-Reviews-or15-Dylan_Apartments_Kensington-London_England.html#REVIEWS Really bad\n"
     ]
    },
    {
     "name": "stderr",
     "output_type": "stream",
     "text": [
      "\r",
      " 19%|███████████████▎                                                                   | 5/27 [01:11<05:35, 15.25s/it]"
     ]
    },
    {
     "name": "stdout",
     "output_type": "stream",
     "text": [
      "/Hotel_Review-g186338-d1502057-Reviews-or20-Dylan_Apartments_Kensington-London_England.html#REVIEWS Its like an haunted/abandoned room\n"
     ]
    },
    {
     "name": "stderr",
     "output_type": "stream",
     "text": [
      "\r",
      " 22%|██████████████████▍                                                                | 6/27 [01:37<06:37, 18.95s/it]"
     ]
    },
    {
     "name": "stdout",
     "output_type": "stream",
     "text": [
      "/Hotel_Review-g186338-d1502057-Reviews-or25-Dylan_Apartments_Kensington-London_England.html#REVIEWS Cheap, and close to the tube\n"
     ]
    },
    {
     "name": "stderr",
     "output_type": "stream",
     "text": [
      "\r",
      " 26%|█████████████████████▌                                                             | 7/27 [01:55<06:14, 18.71s/it]"
     ]
    },
    {
     "name": "stdout",
     "output_type": "stream",
     "text": [
      "/Hotel_Review-g186338-d1502057-Reviews-or30-Dylan_Apartments_Kensington-London_England.html#REVIEWS London weekend\n"
     ]
    },
    {
     "name": "stderr",
     "output_type": "stream",
     "text": [
      "\r",
      " 30%|████████████████████████▌                                                          | 8/27 [02:01<04:38, 14.67s/it]"
     ]
    },
    {
     "name": "stdout",
     "output_type": "stream",
     "text": [
      "/Hotel_Review-g186338-d1502057-Reviews-or35-Dylan_Apartments_Kensington-London_England.html#REVIEWS disgusting!!!!!!!\n"
     ]
    },
    {
     "name": "stderr",
     "output_type": "stream",
     "text": [
      "\r",
      " 33%|███████████████████████████▋                                                       | 9/27 [02:27<05:29, 18.31s/it]"
     ]
    },
    {
     "name": "stdout",
     "output_type": "stream",
     "text": [
      "/Hotel_Review-g186338-d1502057-Reviews-or40-Dylan_Apartments_Kensington-London_England.html#REVIEWS Shocking\n"
     ]
    },
    {
     "name": "stderr",
     "output_type": "stream",
     "text": [
      "\r",
      " 37%|██████████████████████████████▎                                                   | 10/27 [02:42<04:54, 17.34s/it]"
     ]
    },
    {
     "name": "stdout",
     "output_type": "stream",
     "text": [
      "/Hotel_Review-g186338-d1502057-Reviews-or45-Dylan_Apartments_Kensington-London_England.html#REVIEWS comfy room\n"
     ]
    },
    {
     "name": "stderr",
     "output_type": "stream",
     "text": [
      "\r",
      " 41%|█████████████████████████████████▍                                                | 11/27 [03:00<04:40, 17.56s/it]"
     ]
    },
    {
     "name": "stdout",
     "output_type": "stream",
     "text": [
      "/Hotel_Review-g186338-d1502057-Reviews-or50-Dylan_Apartments_Kensington-London_England.html#REVIEWS Dirty and expensive!!! \n"
     ]
    },
    {
     "name": "stderr",
     "output_type": "stream",
     "text": [
      "\r",
      " 44%|████████████████████████████████████▍                                             | 12/27 [03:08<03:39, 14.65s/it]"
     ]
    },
    {
     "name": "stdout",
     "output_type": "stream",
     "text": [
      "/Hotel_Review-g186338-d1502057-Reviews-or55-Dylan_Apartments_Kensington-London_England.html#REVIEWS This apartment is really awesome !\n"
     ]
    },
    {
     "name": "stderr",
     "output_type": "stream",
     "text": [
      "\r",
      " 48%|███████████████████████████████████████▍                                          | 13/27 [03:17<02:58, 12.72s/it]"
     ]
    },
    {
     "name": "stdout",
     "output_type": "stream",
     "text": [
      "/Hotel_Review-g186338-d1502057-Reviews-or60-Dylan_Apartments_Kensington-London_England.html#REVIEWS Don't stay here\n"
     ]
    },
    {
     "name": "stderr",
     "output_type": "stream",
     "text": [
      "\r",
      " 52%|██████████████████████████████████████████▌                                       | 14/27 [03:38<03:19, 15.32s/it]"
     ]
    },
    {
     "name": "stdout",
     "output_type": "stream",
     "text": [
      "/Hotel_Review-g186338-d1502057-Reviews-or65-Dylan_Apartments_Kensington-London_England.html#REVIEWS Pictures are misleading, but it's adequate enough!! Do not stay in summer!\n"
     ]
    },
    {
     "name": "stderr",
     "output_type": "stream",
     "text": [
      "\r",
      " 56%|█████████████████████████████████████████████▌                                    | 15/27 [04:03<03:39, 18.28s/it]"
     ]
    },
    {
     "name": "stdout",
     "output_type": "stream",
     "text": [
      "/Hotel_Review-g186338-d1502057-Reviews-or70-Dylan_Apartments_Kensington-London_England.html#REVIEWS Complete Indifference to Serious Complaints Dylan Kensington\n"
     ]
    },
    {
     "name": "stderr",
     "output_type": "stream",
     "text": [
      "\r",
      " 59%|████████████████████████████████████████████████▌                                 | 16/27 [04:27<03:38, 19.88s/it]"
     ]
    },
    {
     "name": "stdout",
     "output_type": "stream",
     "text": [
      "/Hotel_Review-g186338-d1502057-Reviews-or75-Dylan_Apartments_Kensington-London_England.html#REVIEWS What a dump.\n"
     ]
    },
    {
     "name": "stderr",
     "output_type": "stream",
     "text": [
      "\r",
      " 63%|███████████████████████████████████████████████████▋                              | 17/27 [04:39<02:56, 17.64s/it]"
     ]
    },
    {
     "name": "stdout",
     "output_type": "stream",
     "text": [
      "/Hotel_Review-g186338-d1502057-Reviews-or80-Dylan_Apartments_Kensington-London_England.html#REVIEWS Had to move out\n"
     ]
    },
    {
     "name": "stderr",
     "output_type": "stream",
     "text": [
      "\r",
      " 67%|██████████████████████████████████████████████████████▋                           | 18/27 [05:03<02:54, 19.36s/it]"
     ]
    },
    {
     "name": "stdout",
     "output_type": "stream",
     "text": [
      "/Hotel_Review-g186338-d1502057-Reviews-or85-Dylan_Apartments_Kensington-London_England.html#REVIEWS Don't know where these photos were taken but it wasn't at this hotel!!\n"
     ]
    },
    {
     "name": "stderr",
     "output_type": "stream",
     "text": [
      "\r",
      " 70%|█████████████████████████████████████████████████████████▋                        | 19/27 [05:21<02:32, 19.01s/it]"
     ]
    },
    {
     "name": "stdout",
     "output_type": "stream",
     "text": [
      "/Hotel_Review-g186338-d1502057-Reviews-or90-Dylan_Apartments_Kensington-London_England.html#REVIEWS nice stay in good apartment hotel\n"
     ]
    },
    {
     "name": "stderr",
     "output_type": "stream",
     "text": [
      "\r",
      " 74%|████████████████████████████████████████████████████████████▋                     | 20/27 [05:50<02:34, 22.04s/it]"
     ]
    },
    {
     "name": "stdout",
     "output_type": "stream",
     "text": [
      "/Hotel_Review-g186338-d1502057-Reviews-or95-Dylan_Apartments_Kensington-London_England.html#REVIEWS Not worth the risk!\n"
     ]
    },
    {
     "name": "stderr",
     "output_type": "stream",
     "text": [
      "\r",
      " 78%|███████████████████████████████████████████████████████████████▊                  | 21/27 [06:17<02:21, 23.56s/it]"
     ]
    },
    {
     "name": "stdout",
     "output_type": "stream",
     "text": [
      "/Hotel_Review-g186338-d1502057-Reviews-or100-Dylan_Apartments_Kensington-London_England.html#REVIEWS Crap !!\n"
     ]
    },
    {
     "name": "stderr",
     "output_type": "stream",
     "text": [
      "\r",
      " 81%|██████████████████████████████████████████████████████████████████▊               | 22/27 [06:45<02:04, 24.95s/it]"
     ]
    },
    {
     "name": "stdout",
     "output_type": "stream",
     "text": [
      "/Hotel_Review-g186338-d1502057-Reviews-or105-Dylan_Apartments_Kensington-London_England.html#REVIEWS 1/10 DUMP\n"
     ]
    },
    {
     "name": "stderr",
     "output_type": "stream",
     "text": [
      "\r",
      " 85%|█████████████████████████████████████████████████████████████████████▊            | 23/27 [07:07<01:35, 23.91s/it]"
     ]
    },
    {
     "name": "stdout",
     "output_type": "stream",
     "text": [
      "/Hotel_Review-g186338-d1502057-Reviews-or110-Dylan_Apartments_Kensington-London_England.html#REVIEWS Noisy, hot & dirty\n"
     ]
    },
    {
     "name": "stderr",
     "output_type": "stream",
     "text": [
      "\r",
      " 89%|████████████████████████████████████████████████████████████████████████▉         | 24/27 [07:32<01:12, 24.26s/it]"
     ]
    },
    {
     "name": "stdout",
     "output_type": "stream",
     "text": [
      "/Hotel_Review-g186338-d1502057-Reviews-or115-Dylan_Apartments_Kensington-London_England.html#REVIEWS Looks good in the Entrance Hall BUT that is where it stops!\n"
     ]
    },
    {
     "name": "stderr",
     "output_type": "stream",
     "text": [
      "\r",
      " 93%|███████████████████████████████████████████████████████████████████████████▉      | 25/27 [07:55<00:48, 24.02s/it]"
     ]
    },
    {
     "name": "stdout",
     "output_type": "stream",
     "text": [
      "/Hotel_Review-g186338-d1502057-Reviews-or120-Dylan_Apartments_Kensington-London_England.html#REVIEWS Anyone who reccomend this hotel should be shot!\n"
     ]
    },
    {
     "name": "stderr",
     "output_type": "stream",
     "text": [
      "\r",
      " 96%|██████████████████████████████████████████████████████████████████████████████▉   | 26/27 [08:12<00:21, 21.93s/it]"
     ]
    },
    {
     "name": "stdout",
     "output_type": "stream",
     "text": [
      "/Hotel_Review-g186338-d1502057-Reviews-or125-Dylan_Apartments_Kensington-London_England.html#REVIEWS This Hotel is a disgrace\n"
     ]
    },
    {
     "name": "stderr",
     "output_type": "stream",
     "text": [
      "100%|██████████████████████████████████████████████████████████████████████████████████| 27/27 [08:37<00:00, 19.16s/it]\n",
      "  0%|                                                                                           | 0/25 [00:00<?, ?it/s]"
     ]
    },
    {
     "name": "stdout",
     "output_type": "stream",
     "text": [
      "/Hotel_Review-g186338-d1502057-Reviews-or130-Dylan_Apartments_Kensington-London_England.html#REVIEWS Don't bother with this one - it's not good value for money!\n",
      "big sleep\n"
     ]
    },
    {
     "name": "stderr",
     "output_type": "stream",
     "text": [
      "\r",
      "  4%|███▎                                                                               | 1/25 [00:11<04:38, 11.59s/it]"
     ]
    },
    {
     "name": "stdout",
     "output_type": "stream",
     "text": [
      "/Hotel_Review-g186338-d581725-Reviews-or0-Beaconsfield_Hotel-London_England.html#REVIEWS Great stay and service\n"
     ]
    },
    {
     "name": "stderr",
     "output_type": "stream",
     "text": [
      "\r",
      "  8%|██████▋                                                                            | 2/25 [00:34<07:02, 18.37s/it]"
     ]
    },
    {
     "name": "stdout",
     "output_type": "stream",
     "text": [
      "/Hotel_Review-g186338-d581725-Reviews-or5-Beaconsfield_Hotel-London_England.html#REVIEWS DO NOT GO HERE\n"
     ]
    },
    {
     "name": "stderr",
     "output_type": "stream",
     "text": [
      "\r",
      " 12%|█████████▉                                                                         | 3/25 [00:44<05:21, 14.62s/it]"
     ]
    },
    {
     "name": "stdout",
     "output_type": "stream",
     "text": [
      "/Hotel_Review-g186338-d581725-Reviews-or10-Beaconsfield_Hotel-London_England.html#REVIEWS NO RUNNING WATER\n"
     ]
    },
    {
     "name": "stderr",
     "output_type": "stream",
     "text": [
      "\r",
      " 16%|█████████████▎                                                                     | 4/25 [01:14<07:08, 20.41s/it]"
     ]
    },
    {
     "name": "stdout",
     "output_type": "stream",
     "text": [
      "/Hotel_Review-g186338-d581725-Reviews-or15-Beaconsfield_Hotel-London_England.html#REVIEWS IS THIS EVEN LEGAL?\n"
     ]
    },
    {
     "name": "stderr",
     "output_type": "stream",
     "text": [
      "\r",
      " 20%|████████████████▌                                                                  | 5/25 [01:36<07:01, 21.09s/it]"
     ]
    },
    {
     "name": "stdout",
     "output_type": "stream",
     "text": [
      "/Hotel_Review-g186338-d581725-Reviews-or20-Beaconsfield_Hotel-London_England.html#REVIEWS Terrible\n"
     ]
    },
    {
     "name": "stderr",
     "output_type": "stream",
     "text": [
      "\r",
      " 24%|███████████████████▉                                                               | 6/25 [02:04<07:25, 23.47s/it]"
     ]
    },
    {
     "name": "stdout",
     "output_type": "stream",
     "text": [
      "/Hotel_Review-g186338-d581725-Reviews-or25-Beaconsfield_Hotel-London_England.html#REVIEWS Liars and\n"
     ]
    },
    {
     "name": "stderr",
     "output_type": "stream",
     "text": [
      "\r",
      " 28%|███████████████████████▏                                                           | 7/25 [02:26<06:56, 23.13s/it]"
     ]
    },
    {
     "name": "stdout",
     "output_type": "stream",
     "text": [
      "/Hotel_Review-g186338-d581725-Reviews-or30-Beaconsfield_Hotel-London_England.html#REVIEWS Not your normal hotel, but as long as you accept that its good.\n"
     ]
    },
    {
     "name": "stderr",
     "output_type": "stream",
     "text": [
      "\r",
      " 32%|██████████████████████████▌                                                        | 8/25 [02:48<06:23, 22.56s/it]"
     ]
    },
    {
     "name": "stdout",
     "output_type": "stream",
     "text": [
      "/Hotel_Review-g186338-d581725-Reviews-or35-Beaconsfield_Hotel-London_England.html#REVIEWS Good stay but a little overpriced\n"
     ]
    },
    {
     "name": "stderr",
     "output_type": "stream",
     "text": [
      "\r",
      " 36%|█████████████████████████████▉                                                     | 9/25 [02:56<04:48, 18.05s/it]"
     ]
    },
    {
     "name": "stdout",
     "output_type": "stream",
     "text": [
      "/Hotel_Review-g186338-d581725-Reviews-or40-Beaconsfield_Hotel-London_England.html#REVIEWS Disgusting \n"
     ]
    },
    {
     "name": "stderr",
     "output_type": "stream",
     "text": [
      "\r",
      " 40%|████████████████████████████████▊                                                 | 10/25 [03:11<04:16, 17.11s/it]"
     ]
    },
    {
     "name": "stdout",
     "output_type": "stream",
     "text": [
      "/Hotel_Review-g186338-d581725-Reviews-or45-Beaconsfield_Hotel-London_England.html#REVIEWS ABSOLUTELY HORRIBLE! DO NOT BOOK!\n"
     ]
    },
    {
     "name": "stderr",
     "output_type": "stream",
     "text": [
      "\r",
      " 44%|████████████████████████████████████                                              | 11/25 [03:34<04:25, 18.94s/it]"
     ]
    },
    {
     "name": "stdout",
     "output_type": "stream",
     "text": [
      "/Hotel_Review-g186338-d581725-Reviews-or50-Beaconsfield_Hotel-London_England.html#REVIEWS Looks nothing like the pictures and its above a pub\n"
     ]
    },
    {
     "name": "stderr",
     "output_type": "stream",
     "text": [
      "\r",
      " 48%|███████████████████████████████████████▎                                          | 12/25 [03:51<03:59, 18.40s/it]"
     ]
    },
    {
     "name": "stdout",
     "output_type": "stream",
     "text": [
      "/Hotel_Review-g186338-d581725-Reviews-or55-Beaconsfield_Hotel-London_England.html#REVIEWS No nice to stay \n"
     ]
    },
    {
     "name": "stderr",
     "output_type": "stream",
     "text": [
      "\r",
      " 52%|██████████████████████████████████████████▋                                       | 13/25 [04:14<03:55, 19.58s/it]"
     ]
    },
    {
     "name": "stdout",
     "output_type": "stream",
     "text": [
      "/Hotel_Review-g186338-d581725-Reviews-or60-Beaconsfield_Hotel-London_England.html#REVIEWS Overnight no plm great drink then up bed\n"
     ]
    },
    {
     "name": "stderr",
     "output_type": "stream",
     "text": [
      "\r",
      " 56%|█████████████████████████████████████████████▉                                    | 14/25 [04:27<03:14, 17.69s/it]"
     ]
    },
    {
     "name": "stdout",
     "output_type": "stream",
     "text": [
      "/Hotel_Review-g186338-d581725-Reviews-or65-Beaconsfield_Hotel-London_England.html#REVIEWS Oh my GOD !!!!\n"
     ]
    },
    {
     "name": "stderr",
     "output_type": "stream",
     "text": [
      "\r",
      " 60%|█████████████████████████████████████████████████▏                                | 15/25 [04:43<02:53, 17.32s/it]"
     ]
    },
    {
     "name": "stdout",
     "output_type": "stream",
     "text": [
      "/Hotel_Review-g186338-d581725-Reviews-or70-Beaconsfield_Hotel-London_England.html#REVIEWS Handy for The Ally Pally\n"
     ]
    },
    {
     "name": "stderr",
     "output_type": "stream",
     "text": [
      "\r",
      " 64%|████████████████████████████████████████████████████▍                             | 16/25 [05:13<03:09, 21.07s/it]"
     ]
    },
    {
     "name": "stdout",
     "output_type": "stream",
     "text": [
      "/Hotel_Review-g186338-d581725-Reviews-or75-Beaconsfield_Hotel-London_England.html#REVIEWS Worst Apartments (!!??) EVER\n"
     ]
    },
    {
     "name": "stderr",
     "output_type": "stream",
     "text": [
      "\r",
      " 68%|███████████████████████████████████████████████████████▊                          | 17/25 [05:42<03:07, 23.46s/it]"
     ]
    },
    {
     "name": "stdout",
     "output_type": "stream",
     "text": [
      "/Hotel_Review-g186338-d581725-Reviews-or80-Beaconsfield_Hotel-London_England.html#REVIEWS Horrendous\n"
     ]
    },
    {
     "name": "stderr",
     "output_type": "stream",
     "text": [
      "\r",
      " 72%|███████████████████████████████████████████████████████████                       | 18/25 [05:55<02:22, 20.38s/it]"
     ]
    },
    {
     "name": "stdout",
     "output_type": "stream",
     "text": [
      "/Hotel_Review-g186338-d581725-Reviews-or85-Beaconsfield_Hotel-London_England.html#REVIEWS Fab weekend\n"
     ]
    },
    {
     "name": "stderr",
     "output_type": "stream",
     "text": [
      "\r",
      " 76%|██████████████████████████████████████████████████████████████▎                   | 19/25 [06:12<01:55, 19.17s/it]"
     ]
    },
    {
     "name": "stdout",
     "output_type": "stream",
     "text": [
      "/Hotel_Review-g186338-d581725-Reviews-or90-Beaconsfield_Hotel-London_England.html#REVIEWS Appalling\n"
     ]
    },
    {
     "name": "stderr",
     "output_type": "stream",
     "text": [
      "\r",
      " 80%|█████████████████████████████████████████████████████████████████▌                | 20/25 [06:21<01:20, 16.14s/it]"
     ]
    },
    {
     "name": "stdout",
     "output_type": "stream",
     "text": [
      "/Hotel_Review-g186338-d581725-Reviews-or95-Beaconsfield_Hotel-London_England.html#REVIEWS Cheap and near to London\n"
     ]
    },
    {
     "name": "stderr",
     "output_type": "stream",
     "text": [
      "\r",
      " 84%|████████████████████████████████████████████████████████████████████▉             | 21/25 [06:29<00:55, 13.76s/it]"
     ]
    },
    {
     "name": "stdout",
     "output_type": "stream",
     "text": [
      "/Hotel_Review-g186338-d581725-Reviews-or100-Beaconsfield_Hotel-London_England.html#REVIEWS For short stays\n"
     ]
    },
    {
     "name": "stderr",
     "output_type": "stream",
     "text": [
      "\r",
      " 88%|████████████████████████████████████████████████████████████████████████▏         | 22/25 [06:44<00:42, 14.20s/it]"
     ]
    },
    {
     "name": "stdout",
     "output_type": "stream",
     "text": [
      "/Hotel_Review-g186338-d581725-Reviews-or105-Beaconsfield_Hotel-London_England.html#REVIEWS If you get what you pay for, this place should be much cheaper.\n"
     ]
    },
    {
     "name": "stderr",
     "output_type": "stream",
     "text": [
      "\r",
      " 92%|███████████████████████████████████████████████████████████████████████████▍      | 23/25 [07:12<00:36, 18.38s/it]"
     ]
    },
    {
     "name": "stdout",
     "output_type": "stream",
     "text": [
      "/Hotel_Review-g186338-d581725-Reviews-or110-Beaconsfield_Hotel-London_England.html#REVIEWS Nothing special but reasonable\n"
     ]
    },
    {
     "name": "stderr",
     "output_type": "stream",
     "text": [
      "\r",
      " 96%|██████████████████████████████████████████████████████████████████████████████▋   | 24/25 [07:20<00:15, 15.05s/it]"
     ]
    },
    {
     "name": "stdout",
     "output_type": "stream",
     "text": [
      "/Hotel_Review-g186338-d581725-Reviews-or115-Beaconsfield_Hotel-London_England.html#REVIEWS Beaconsfield Hotel\n"
     ]
    },
    {
     "name": "stderr",
     "output_type": "stream",
     "text": [
      "100%|██████████████████████████████████████████████████████████████████████████████████| 25/25 [07:47<00:00, 18.70s/it]\n",
      "  0%|                                                                                           | 0/25 [00:00<?, ?it/s]"
     ]
    },
    {
     "name": "stdout",
     "output_type": "stream",
     "text": [
      "/Hotel_Review-g186338-d581725-Reviews-or120-Beaconsfield_Hotel-London_England.html#REVIEWS dirty not a hotel is a pub\n",
      "big sleep\n"
     ]
    },
    {
     "name": "stderr",
     "output_type": "stream",
     "text": [
      "\r",
      "  4%|███▎                                                                               | 1/25 [00:06<02:34,  6.44s/it]"
     ]
    },
    {
     "name": "stdout",
     "output_type": "stream",
     "text": [
      "/Hotel_Review-g186338-d3245012-Reviews-or0-Baytree_Hotel-London_England.html#REVIEWS You get what you pay for (by London standards)\n"
     ]
    },
    {
     "name": "stderr",
     "output_type": "stream",
     "text": [
      "\r",
      "  8%|██████▋                                                                            | 2/25 [00:28<05:58, 15.58s/it]"
     ]
    },
    {
     "name": "stdout",
     "output_type": "stream",
     "text": [
      "/Hotel_Review-g186338-d3245012-Reviews-or5-Baytree_Hotel-London_England.html#REVIEWS Basic hotel on a  budget\n"
     ]
    },
    {
     "name": "stderr",
     "output_type": "stream",
     "text": [
      "\r",
      " 12%|█████████▉                                                                         | 3/25 [00:52<07:12, 19.66s/it]"
     ]
    },
    {
     "name": "stdout",
     "output_type": "stream",
     "text": [
      "/Hotel_Review-g186338-d3245012-Reviews-or10-Baytree_Hotel-London_England.html#REVIEWS Overpriced & very scruffy hotel\n"
     ]
    },
    {
     "name": "stderr",
     "output_type": "stream",
     "text": [
      "\r",
      " 16%|█████████████▎                                                                     | 4/25 [01:01<05:16, 15.08s/it]"
     ]
    },
    {
     "name": "stdout",
     "output_type": "stream",
     "text": [
      "/Hotel_Review-g186338-d3245012-Reviews-or15-Baytree_Hotel-London_England.html#REVIEWS One to avoid...\n"
     ]
    },
    {
     "name": "stderr",
     "output_type": "stream",
     "text": [
      "\r",
      " 20%|████████████████▌                                                                  | 5/25 [01:12<04:34, 13.72s/it]"
     ]
    },
    {
     "name": "stdout",
     "output_type": "stream",
     "text": [
      "/Hotel_Review-g186338-d3245012-Reviews-or20-Baytree_Hotel-London_England.html#REVIEWS It's absolutely disgusting. \n"
     ]
    },
    {
     "name": "stderr",
     "output_type": "stream",
     "text": [
      "\r",
      " 24%|███████████████████▉                                                               | 6/25 [01:18<03:33, 11.24s/it]"
     ]
    },
    {
     "name": "stdout",
     "output_type": "stream",
     "text": [
      "/Hotel_Review-g186338-d3245012-Reviews-or25-Baytree_Hotel-London_England.html#REVIEWS Horrendous\n"
     ]
    },
    {
     "name": "stderr",
     "output_type": "stream",
     "text": [
      "\r",
      " 28%|███████████████████████▏                                                           | 7/25 [01:31<03:32, 11.81s/it]"
     ]
    },
    {
     "name": "stdout",
     "output_type": "stream",
     "text": [
      "/Hotel_Review-g186338-d3245012-Reviews-or30-Baytree_Hotel-London_England.html#REVIEWS Not cheap but nasty\n"
     ]
    },
    {
     "name": "stderr",
     "output_type": "stream",
     "text": [
      "\r",
      " 32%|██████████████████████████▌                                                        | 8/25 [01:58<04:40, 16.47s/it]"
     ]
    },
    {
     "name": "stdout",
     "output_type": "stream",
     "text": [
      "/Hotel_Review-g186338-d3245012-Reviews-or35-Baytree_Hotel-London_England.html#REVIEWS Absolutely vile !!!!!!!\n"
     ]
    },
    {
     "name": "stderr",
     "output_type": "stream",
     "text": [
      "\r",
      " 36%|█████████████████████████████▉                                                     | 9/25 [02:06<03:41, 13.86s/it]"
     ]
    },
    {
     "name": "stdout",
     "output_type": "stream",
     "text": [
      "/Hotel_Review-g186338-d3245012-Reviews-or40-Baytree_Hotel-London_England.html#REVIEWS STAY AWAY!\n"
     ]
    },
    {
     "name": "stderr",
     "output_type": "stream",
     "text": [
      "\r",
      " 40%|████████████████████████████████▊                                                 | 10/25 [02:20<03:28, 13.92s/it]"
     ]
    },
    {
     "name": "stdout",
     "output_type": "stream",
     "text": [
      "/Hotel_Review-g186338-d3245012-Reviews-or45-Baytree_Hotel-London_England.html#REVIEWS OK FOR 1 NIGHTS SLEEP\n"
     ]
    },
    {
     "name": "stderr",
     "output_type": "stream",
     "text": [
      "\r",
      " 44%|████████████████████████████████████                                              | 11/25 [02:29<02:56, 12.58s/it]"
     ]
    },
    {
     "name": "stdout",
     "output_type": "stream",
     "text": [
      "/Hotel_Review-g186338-d3245012-Reviews-or50-Baytree_Hotel-London_England.html#REVIEWS You get what you pay for!\n"
     ]
    },
    {
     "name": "stderr",
     "output_type": "stream",
     "text": [
      "\r",
      " 48%|███████████████████████████████████████▎                                          | 12/25 [02:54<03:32, 16.33s/it]"
     ]
    },
    {
     "name": "stdout",
     "output_type": "stream",
     "text": [
      "/Hotel_Review-g186338-d3245012-Reviews-or55-Baytree_Hotel-London_England.html#REVIEWS Stay away. Is not worth it.\n"
     ]
    },
    {
     "name": "stderr",
     "output_type": "stream",
     "text": [
      "\r",
      " 52%|██████████████████████████████████████████▋                                       | 13/25 [03:22<03:56, 19.72s/it]"
     ]
    },
    {
     "name": "stdout",
     "output_type": "stream",
     "text": [
      "/Hotel_Review-g186338-d3245012-Reviews-or60-Baytree_Hotel-London_England.html#REVIEWS baytree hotel london\n"
     ]
    },
    {
     "name": "stderr",
     "output_type": "stream",
     "text": [
      "\r",
      " 56%|█████████████████████████████████████████████▉                                    | 14/25 [03:47<03:55, 21.37s/it]"
     ]
    },
    {
     "name": "stdout",
     "output_type": "stream",
     "text": [
      "/Hotel_Review-g186338-d3245012-Reviews-or65-Baytree_Hotel-London_England.html#REVIEWS Avoid this hotel\n"
     ]
    },
    {
     "name": "stderr",
     "output_type": "stream",
     "text": [
      "\r",
      " 60%|█████████████████████████████████████████████████▏                                | 15/25 [04:08<03:33, 21.40s/it]"
     ]
    },
    {
     "name": "stdout",
     "output_type": "stream",
     "text": [
      "/Hotel_Review-g186338-d3245012-Reviews-or70-Baytree_Hotel-London_England.html#REVIEWS Not upto standard \n"
     ]
    },
    {
     "name": "stderr",
     "output_type": "stream",
     "text": [
      "\r",
      " 64%|████████████████████████████████████████████████████▍                             | 16/25 [04:21<02:47, 18.64s/it]"
     ]
    },
    {
     "name": "stdout",
     "output_type": "stream",
     "text": [
      "/Hotel_Review-g186338-d3245012-Reviews-or75-Baytree_Hotel-London_England.html#REVIEWS Doss house.\n"
     ]
    },
    {
     "name": "stderr",
     "output_type": "stream",
     "text": [
      "\r",
      " 68%|███████████████████████████████████████████████████████▊                          | 17/25 [04:43<02:37, 19.72s/it]"
     ]
    },
    {
     "name": "stdout",
     "output_type": "stream",
     "text": [
      "/Hotel_Review-g186338-d3245012-Reviews-or80-Baytree_Hotel-London_England.html#REVIEWS Low Budget hotel\n"
     ]
    },
    {
     "name": "stderr",
     "output_type": "stream",
     "text": [
      "\r",
      " 72%|███████████████████████████████████████████████████████████                       | 18/25 [05:03<02:19, 19.91s/it]"
     ]
    },
    {
     "name": "stdout",
     "output_type": "stream",
     "text": [
      "/Hotel_Review-g186338-d3245012-Reviews-or85-Baytree_Hotel-London_England.html#REVIEWS Wouldn't keep my dog in it\n"
     ]
    },
    {
     "name": "stderr",
     "output_type": "stream",
     "text": [
      "\r",
      " 76%|██████████████████████████████████████████████████████████████▎                   | 19/25 [05:33<02:17, 23.00s/it]"
     ]
    },
    {
     "name": "stdout",
     "output_type": "stream",
     "text": [
      "/Hotel_Review-g186338-d3245012-Reviews-or90-Baytree_Hotel-London_England.html#REVIEWS Nice Break\n"
     ]
    },
    {
     "name": "stderr",
     "output_type": "stream",
     "text": [
      "\r",
      " 80%|█████████████████████████████████████████████████████████████████▌                | 20/25 [05:46<01:39, 19.82s/it]"
     ]
    },
    {
     "name": "stdout",
     "output_type": "stream",
     "text": [
      "/Hotel_Review-g186338-d3245012-Reviews-or95-Baytree_Hotel-London_England.html#REVIEWS Never ever\n"
     ]
    },
    {
     "name": "stderr",
     "output_type": "stream",
     "text": [
      "\r",
      " 84%|████████████████████████████████████████████████████████████████████▉             | 21/25 [06:08<01:22, 20.60s/it]"
     ]
    },
    {
     "name": "stdout",
     "output_type": "stream",
     "text": [
      "/Hotel_Review-g186338-d3245012-Reviews-or100-Baytree_Hotel-London_England.html#REVIEWS Comfortable with a great location\n"
     ]
    },
    {
     "name": "stderr",
     "output_type": "stream",
     "text": [
      "\r",
      " 88%|████████████████████████████████████████████████████████████████████████▏         | 22/25 [06:17<00:50, 16.93s/it]"
     ]
    },
    {
     "name": "stdout",
     "output_type": "stream",
     "text": [
      "/Hotel_Review-g186338-d3245012-Reviews-or105-Baytree_Hotel-London_England.html#REVIEWS Wouldn't be first choice\n"
     ]
    },
    {
     "name": "stderr",
     "output_type": "stream",
     "text": [
      "\r",
      " 92%|███████████████████████████████████████████████████████████████████████████▍      | 23/25 [06:45<00:40, 20.31s/it]"
     ]
    },
    {
     "name": "stdout",
     "output_type": "stream",
     "text": [
      "/Hotel_Review-g186338-d3245012-Reviews-or110-Baytree_Hotel-London_England.html#REVIEWS Will do the job\n"
     ]
    },
    {
     "name": "stderr",
     "output_type": "stream",
     "text": [
      "\r",
      " 96%|██████████████████████████████████████████████████████████████████████████████▋   | 24/25 [06:54<00:17, 17.10s/it]"
     ]
    },
    {
     "name": "stdout",
     "output_type": "stream",
     "text": [
      "/Hotel_Review-g186338-d3245012-Reviews-or115-Baytree_Hotel-London_England.html#REVIEWS Amazing stay\n"
     ]
    },
    {
     "name": "stderr",
     "output_type": "stream",
     "text": [
      "100%|██████████████████████████████████████████████████████████████████████████████████| 25/25 [07:09<00:00, 17.16s/it]\n",
      "  0%|                                                                                           | 0/24 [00:00<?, ?it/s]"
     ]
    },
    {
     "name": "stdout",
     "output_type": "stream",
     "text": [
      "/Hotel_Review-g186338-d3245012-Reviews-or120-Baytree_Hotel-London_England.html#REVIEWS Really nice pictures - but reality is a little less than luxury\n",
      "big sleep\n"
     ]
    },
    {
     "name": "stderr",
     "output_type": "stream",
     "text": [
      "\r",
      "  4%|███▍                                                                               | 1/24 [00:10<04:04, 10.62s/it]"
     ]
    },
    {
     "name": "stdout",
     "output_type": "stream",
     "text": [
      "/Hotel_Review-g186338-d596248-Reviews-or0-Four_Stars_Hotel-London_England.html#REVIEWS Bargain \n"
     ]
    },
    {
     "name": "stderr",
     "output_type": "stream",
     "text": [
      "\r",
      "  8%|██████▉                                                                            | 2/24 [00:36<07:08, 19.48s/it]"
     ]
    },
    {
     "name": "stdout",
     "output_type": "stream",
     "text": [
      "/Hotel_Review-g186338-d596248-Reviews-or5-Four_Stars_Hotel-London_England.html#REVIEWS Rude staff and disgusting rooms!\n"
     ]
    },
    {
     "name": "stderr",
     "output_type": "stream",
     "text": [
      "\r",
      " 12%|██████████▍                                                                        | 3/24 [00:53<06:30, 18.59s/it]"
     ]
    },
    {
     "name": "stdout",
     "output_type": "stream",
     "text": [
      "/Hotel_Review-g186338-d596248-Reviews-or10-Four_Stars_Hotel-London_England.html#REVIEWS DO NOT STAY HERE\n"
     ]
    },
    {
     "name": "stderr",
     "output_type": "stream",
     "text": [
      "\r",
      " 17%|█████████████▊                                                                     | 4/24 [01:19<07:11, 21.58s/it]"
     ]
    },
    {
     "name": "stdout",
     "output_type": "stream",
     "text": [
      "/Hotel_Review-g186338-d596248-Reviews-or15-Four_Stars_Hotel-London_England.html#REVIEWS Basic\n"
     ]
    },
    {
     "name": "stderr",
     "output_type": "stream",
     "text": [
      "\r",
      " 21%|█████████████████▎                                                                 | 5/24 [01:40<06:43, 21.21s/it]"
     ]
    },
    {
     "name": "stdout",
     "output_type": "stream",
     "text": [
      "/Hotel_Review-g186338-d596248-Reviews-or20-Four_Stars_Hotel-London_England.html#REVIEWS SCAM HOTEL!!!!!!\n"
     ]
    },
    {
     "name": "stderr",
     "output_type": "stream",
     "text": [
      "\r",
      " 25%|████████████████████▊                                                              | 6/24 [02:07<06:57, 23.20s/it]"
     ]
    },
    {
     "name": "stdout",
     "output_type": "stream",
     "text": [
      "/Hotel_Review-g186338-d596248-Reviews-or25-Four_Stars_Hotel-London_England.html#REVIEWS Basic B&B, not very good.\n"
     ]
    },
    {
     "name": "stderr",
     "output_type": "stream",
     "text": [
      "\r",
      " 29%|████████████████████████▏                                                          | 7/24 [02:26<06:12, 21.92s/it]"
     ]
    },
    {
     "name": "stdout",
     "output_type": "stream",
     "text": [
      "/Hotel_Review-g186338-d596248-Reviews-or30-Four_Stars_Hotel-London_England.html#REVIEWS Remember how much (little) you paid\n"
     ]
    },
    {
     "name": "stderr",
     "output_type": "stream",
     "text": [
      "\r",
      " 33%|███████████████████████████▋                                                       | 8/24 [02:39<05:02, 18.89s/it]"
     ]
    },
    {
     "name": "stdout",
     "output_type": "stream",
     "text": [
      "/Hotel_Review-g186338-d596248-Reviews-or35-Four_Stars_Hotel-London_England.html#REVIEWS RUN AS FAR AWAY AS POSSIBLE\n"
     ]
    },
    {
     "name": "stderr",
     "output_type": "stream",
     "text": [
      "\r",
      " 38%|███████████████████████████████▏                                                   | 9/24 [02:58<04:45, 19.07s/it]"
     ]
    },
    {
     "name": "stdout",
     "output_type": "stream",
     "text": [
      "/Hotel_Review-g186338-d596248-Reviews-or40-Four_Stars_Hotel-London_England.html#REVIEWS Terrible\n"
     ]
    },
    {
     "name": "stderr",
     "output_type": "stream",
     "text": [
      "\r",
      " 42%|██████████████████████████████████▏                                               | 10/24 [03:06<03:35, 15.42s/it]"
     ]
    },
    {
     "name": "stdout",
     "output_type": "stream",
     "text": [
      "/Hotel_Review-g186338-d596248-Reviews-or45-Four_Stars_Hotel-London_England.html#REVIEWS Room Was Good Value... When It Was Finally Ready\n"
     ]
    },
    {
     "name": "stderr",
     "output_type": "stream",
     "text": [
      "\r",
      " 46%|█████████████████████████████████████▌                                            | 11/24 [03:31<03:59, 18.46s/it]"
     ]
    },
    {
     "name": "stdout",
     "output_type": "stream",
     "text": [
      "/Hotel_Review-g186338-d596248-Reviews-or50-Four_Stars_Hotel-London_England.html#REVIEWS Central, very basic but super friendly\n"
     ]
    },
    {
     "name": "stderr",
     "output_type": "stream",
     "text": [
      "\r",
      " 50%|█████████████████████████████████████████                                         | 12/24 [04:00<04:20, 21.71s/it]"
     ]
    },
    {
     "name": "stdout",
     "output_type": "stream",
     "text": [
      "/Hotel_Review-g186338-d596248-Reviews-or55-Four_Stars_Hotel-London_England.html#REVIEWS A cheap but ok hotell\n"
     ]
    },
    {
     "name": "stderr",
     "output_type": "stream",
     "text": [
      "\r",
      " 54%|████████████████████████████████████████████▍                                     | 13/24 [04:29<04:23, 23.93s/it]"
     ]
    },
    {
     "name": "stdout",
     "output_type": "stream",
     "text": [
      "/Hotel_Review-g186338-d596248-Reviews-or60-Four_Stars_Hotel-London_England.html#REVIEWS Don't believe all you read!\n"
     ]
    },
    {
     "name": "stderr",
     "output_type": "stream",
     "text": [
      "\r",
      " 58%|███████████████████████████████████████████████▊                                  | 14/24 [04:47<03:42, 22.20s/it]"
     ]
    },
    {
     "name": "stdout",
     "output_type": "stream",
     "text": [
      "/Hotel_Review-g186338-d596248-Reviews-or65-Four_Stars_Hotel-London_England.html#REVIEWS It is not surprising that you have to pay in advance & no refunds given.\n"
     ]
    },
    {
     "name": "stderr",
     "output_type": "stream",
     "text": [
      "\r",
      " 62%|███████████████████████████████████████████████████▎                              | 15/24 [05:01<02:58, 19.78s/it]"
     ]
    },
    {
     "name": "stdout",
     "output_type": "stream",
     "text": [
      "/Hotel_Review-g186338-d596248-Reviews-or70-Four_Stars_Hotel-London_England.html#REVIEWS Beware!\n"
     ]
    },
    {
     "name": "stderr",
     "output_type": "stream",
     "text": [
      "\r",
      " 67%|██████████████████████████████████████████████████████▋                           | 16/24 [05:18<02:29, 18.71s/it]"
     ]
    },
    {
     "name": "stdout",
     "output_type": "stream",
     "text": [
      "/Hotel_Review-g186338-d596248-Reviews-or75-Four_Stars_Hotel-London_England.html#REVIEWS from Aslan =) lived there for 2 weeks\n"
     ]
    },
    {
     "name": "stderr",
     "output_type": "stream",
     "text": [
      "\r",
      " 71%|██████████████████████████████████████████████████████████                        | 17/24 [05:26<01:49, 15.60s/it]"
     ]
    },
    {
     "name": "stdout",
     "output_type": "stream",
     "text": [
      "/Hotel_Review-g186338-d596248-Reviews-or80-Four_Stars_Hotel-London_England.html#REVIEWS avoid avoid like the plaque please\n"
     ]
    },
    {
     "name": "stderr",
     "output_type": "stream",
     "text": [
      "\r",
      " 75%|█████████████████████████████████████████████████████████████▌                    | 18/24 [05:38<01:26, 14.38s/it]"
     ]
    },
    {
     "name": "stdout",
     "output_type": "stream",
     "text": [
      "/Hotel_Review-g186338-d596248-Reviews-or85-Four_Stars_Hotel-London_England.html#REVIEWS Wouldn't recommend\n"
     ]
    },
    {
     "name": "stderr",
     "output_type": "stream",
     "text": [
      "\r",
      " 79%|████████████████████████████████████████████████████████████████▉                 | 19/24 [05:49<01:07, 13.42s/it]"
     ]
    },
    {
     "name": "stdout",
     "output_type": "stream",
     "text": [
      "/Hotel_Review-g186338-d596248-Reviews-or90-Four_Stars_Hotel-London_England.html#REVIEWS I would recomend it...and have done.\n"
     ]
    },
    {
     "name": "stderr",
     "output_type": "stream",
     "text": [
      "\r",
      " 83%|████████████████████████████████████████████████████████████████████▎             | 20/24 [06:10<01:02, 15.73s/it]"
     ]
    },
    {
     "name": "stdout",
     "output_type": "stream",
     "text": [
      "/Hotel_Review-g186338-d596248-Reviews-or95-Four_Stars_Hotel-London_England.html#REVIEWS Name of hotel sound pleasant but not that pleasant at all\n"
     ]
    },
    {
     "name": "stderr",
     "output_type": "stream",
     "text": [
      "\r",
      " 88%|███████████████████████████████████████████████████████████████████████▊          | 21/24 [06:17<00:39, 13.05s/it]"
     ]
    },
    {
     "name": "stdout",
     "output_type": "stream",
     "text": [
      "/Hotel_Review-g186338-d596248-Reviews-or100-Four_Stars_Hotel-London_England.html#REVIEWS It is most definately NOT four stars!\n"
     ]
    },
    {
     "name": "stderr",
     "output_type": "stream",
     "text": [
      "\r",
      " 92%|███████████████████████████████████████████████████████████████████████████▏      | 22/24 [06:36<00:30, 15.05s/it]"
     ]
    },
    {
     "name": "stdout",
     "output_type": "stream",
     "text": [
      "/Hotel_Review-g186338-d596248-Reviews-or105-Four_Stars_Hotel-London_England.html#REVIEWS Horrible place- don't come here!\n"
     ]
    },
    {
     "name": "stderr",
     "output_type": "stream",
     "text": [
      "\r",
      " 96%|██████████████████████████████████████████████████████████████████████████████▌   | 23/24 [06:57<00:16, 16.75s/it]"
     ]
    },
    {
     "name": "stdout",
     "output_type": "stream",
     "text": [
      "/Hotel_Review-g186338-d596248-Reviews-or110-Four_Stars_Hotel-London_England.html#REVIEWS old but cheap, clean and in a good location!\n"
     ]
    },
    {
     "name": "stderr",
     "output_type": "stream",
     "text": [
      "100%|██████████████████████████████████████████████████████████████████████████████████| 24/24 [07:10<00:00, 17.92s/it]"
     ]
    },
    {
     "name": "stdout",
     "output_type": "stream",
     "text": [
      "/Hotel_Review-g186338-d596248-Reviews-or115-Four_Stars_Hotel-London_England.html#REVIEWS Anon\n",
      "big sleep\n"
     ]
    },
    {
     "name": "stderr",
     "output_type": "stream",
     "text": [
      "\n"
     ]
    }
   ],
   "source": [
    "# web scraping review data for each hotel. \n",
    "\n",
    "\n",
    "status = []\n",
    "\n",
    "# loop through each hotel incramentally using index and link in the hotel dictionary scraped data\n",
    "for i in [788,  789,  761,  791,  778, 1060,  772,  766,  769, 1058,\n",
    "             747,  765,  776,  768, 1243, 1236,  758,  786,  773]:\n",
    "    hotel = df_hotel_dict.iloc[i]\n",
    "    link_list = hotel.link.split('-')\n",
    "    name = hotel.hotel_name\n",
    "    num_reviews = eval(hotel.top_lang_reviews)['English']\n",
    "    \n",
    "    # set-up review data dictionary\n",
    "    review_dict = {'link':[],\n",
    "            'hotel_name':[],\n",
    "             'review_headline': [],\n",
    "               'review': [],\n",
    "               'review_date': [],\n",
    "               'review_score': []\n",
    "             }\n",
    "    \n",
    "    # each page displays 5 reviews at a time, increment by 5\n",
    "    for j in tqdm(range(0, num_reviews, 5)):\n",
    "        link_list.insert(4, f'or{j}')\n",
    "        link = '-'.join(link_list)\n",
    "        del link_list[4]\n",
    "        \n",
    "        sleep(np.random.randint(5, 30))#(25,45))\n",
    "        try:\n",
    "            r = requests.get(f'https://www.tripadvisor.co.uk/{link}')\n",
    "        except:\n",
    "            print('page not found')\n",
    "        status.append(r.status_code)\n",
    "        soup = BeautifulSoup(r.text, 'html.parser')\n",
    "        \n",
    "        try:            \n",
    "            page_reviews = get_reviews(soup)\n",
    "            \n",
    "            for k in range(len(page_reviews)):\n",
    "                try:\n",
    "                    review_dict['link'].append(link)\n",
    "                    review_dict['hotel_name'].append(name)\n",
    "                    review_dict['review_headline'].append(review_headline(page_reviews[k]))\n",
    "                    review_dict['review'].append(review(page_reviews[k]))\n",
    "                    review_dict['review_date'].append(review_date(page_reviews[k]))\n",
    "                    review_dict['review_score'].append(review_score(page_reviews[k]))\n",
    "\n",
    "                    #sleep(np.random.randint(15,45))\n",
    "                except:\n",
    "                    print('error with review_dict')\n",
    "                    sleep(np.random.randint(100,200))\n",
    "        except:\n",
    "            print('error with for loop')\n",
    "            sleep(np.random.randint(100,200))\n",
    "        \n",
    "        # save data into csv fater each incrementation\n",
    "        df_review_dict = pd.DataFrame(review_dict)\n",
    "        df_review_dict.to_csv(f'TripAdvisor_Reviews_London_20210608_{i}_lr_0_{num_reviews}')\n",
    "        \n",
    "        print(link, review_dict['review_headline'][-1])\n",
    "    \n",
    "    print('big sleep')\n",
    "    #sleep(np.random.randint(100,150))"
   ]
  },
  {
   "cell_type": "markdown",
   "id": "77fae370",
   "metadata": {},
   "source": [
    "<a name='review_load'></a>\n",
    "### 4.2 Load review data from CSV"
   ]
  },
  {
   "cell_type": "code",
   "execution_count": 10,
   "id": "d8f5062a",
   "metadata": {},
   "outputs": [],
   "source": [
    "# load in review data and save as dataframe\n",
    "review_datasets = [file for file in os.listdir('data/') if 'Reviews_' in file]\n",
    "df_review_dict = pd.DataFrame()\n",
    "for dataset in review_datasets:\n",
    "    df_dataset = pd.read_csv('data/' + dataset)\n",
    "    df_review_dict = pd.concat([df_review_dict, df_dataset], ignore_index=True)\n",
    "    \n",
    "# drop duplicates\n",
    "df_review_dict.drop_duplicates(inplace=True)"
   ]
  },
  {
   "cell_type": "code",
   "execution_count": 11,
   "id": "e6a0833b",
   "metadata": {},
   "outputs": [
    {
     "data": {
      "text/html": [
       "<div>\n",
       "<style scoped>\n",
       "    .dataframe tbody tr th:only-of-type {\n",
       "        vertical-align: middle;\n",
       "    }\n",
       "\n",
       "    .dataframe tbody tr th {\n",
       "        vertical-align: top;\n",
       "    }\n",
       "\n",
       "    .dataframe thead th {\n",
       "        text-align: right;\n",
       "    }\n",
       "</style>\n",
       "<table border=\"1\" class=\"dataframe\">\n",
       "  <thead>\n",
       "    <tr style=\"text-align: right;\">\n",
       "      <th></th>\n",
       "      <th>Unnamed: 0</th>\n",
       "      <th>link</th>\n",
       "      <th>hotel_name</th>\n",
       "      <th>review_headline</th>\n",
       "      <th>review</th>\n",
       "      <th>review_date</th>\n",
       "      <th>review_score</th>\n",
       "    </tr>\n",
       "  </thead>\n",
       "  <tbody>\n",
       "    <tr>\n",
       "      <th>0</th>\n",
       "      <td>0</td>\n",
       "      <td>/Hotel_Review-g186338-d1371050-Reviews-or0-The...</td>\n",
       "      <td>The Kensington Hotel Reviews, London</td>\n",
       "      <td>TheKensington</td>\n",
       "      <td>Amazing hotel professional staff who could not...</td>\n",
       "      <td>Date of stay: May 2021</td>\n",
       "      <td>5.0</td>\n",
       "    </tr>\n",
       "    <tr>\n",
       "      <th>1</th>\n",
       "      <td>1</td>\n",
       "      <td>/Hotel_Review-g186338-d1371050-Reviews-or0-The...</td>\n",
       "      <td>The Kensington Hotel Reviews, London</td>\n",
       "      <td>Love this place</td>\n",
       "      <td>Stayed here as a family of four with two small...</td>\n",
       "      <td>Date of stay: June 2021</td>\n",
       "      <td>5.0</td>\n",
       "    </tr>\n",
       "    <tr>\n",
       "      <th>2</th>\n",
       "      <td>2</td>\n",
       "      <td>/Hotel_Review-g186338-d1371050-Reviews-or0-The...</td>\n",
       "      <td>The Kensington Hotel Reviews, London</td>\n",
       "      <td>Amazing afternoon tea on Saturday 29th May</td>\n",
       "      <td>Our son and his girlfriend treated us to after...</td>\n",
       "      <td>Date of stay: May 2021</td>\n",
       "      <td>5.0</td>\n",
       "    </tr>\n",
       "    <tr>\n",
       "      <th>3</th>\n",
       "      <td>3</td>\n",
       "      <td>/Hotel_Review-g186338-d1371050-Reviews-or0-The...</td>\n",
       "      <td>The Kensington Hotel Reviews, London</td>\n",
       "      <td>A home in London</td>\n",
       "      <td>This Hotel is first class Mr Tardelli , the Ge...</td>\n",
       "      <td>Date of stay: May 2021</td>\n",
       "      <td>5.0</td>\n",
       "    </tr>\n",
       "    <tr>\n",
       "      <th>4</th>\n",
       "      <td>4</td>\n",
       "      <td>/Hotel_Review-g186338-d1371050-Reviews-or0-The...</td>\n",
       "      <td>The Kensington Hotel Reviews, London</td>\n",
       "      <td>Excellent hotel and great location</td>\n",
       "      <td>I found this hotel on booking.com and was draw...</td>\n",
       "      <td>Date of stay: May 2021</td>\n",
       "      <td>5.0</td>\n",
       "    </tr>\n",
       "  </tbody>\n",
       "</table>\n",
       "</div>"
      ],
      "text/plain": [
       "   Unnamed: 0                                               link  \\\n",
       "0           0  /Hotel_Review-g186338-d1371050-Reviews-or0-The...   \n",
       "1           1  /Hotel_Review-g186338-d1371050-Reviews-or0-The...   \n",
       "2           2  /Hotel_Review-g186338-d1371050-Reviews-or0-The...   \n",
       "3           3  /Hotel_Review-g186338-d1371050-Reviews-or0-The...   \n",
       "4           4  /Hotel_Review-g186338-d1371050-Reviews-or0-The...   \n",
       "\n",
       "                             hotel_name  \\\n",
       "0  The Kensington Hotel Reviews, London   \n",
       "1  The Kensington Hotel Reviews, London   \n",
       "2  The Kensington Hotel Reviews, London   \n",
       "3  The Kensington Hotel Reviews, London   \n",
       "4  The Kensington Hotel Reviews, London   \n",
       "\n",
       "                              review_headline  \\\n",
       "0                               TheKensington   \n",
       "1                             Love this place   \n",
       "2  Amazing afternoon tea on Saturday 29th May   \n",
       "3                            A home in London   \n",
       "4          Excellent hotel and great location   \n",
       "\n",
       "                                              review              review_date  \\\n",
       "0  Amazing hotel professional staff who could not...   Date of stay: May 2021   \n",
       "1  Stayed here as a family of four with two small...  Date of stay: June 2021   \n",
       "2  Our son and his girlfriend treated us to after...   Date of stay: May 2021   \n",
       "3  This Hotel is first class Mr Tardelli , the Ge...   Date of stay: May 2021   \n",
       "4  I found this hotel on booking.com and was draw...   Date of stay: May 2021   \n",
       "\n",
       "   review_score  \n",
       "0           5.0  \n",
       "1           5.0  \n",
       "2           5.0  \n",
       "3           5.0  \n",
       "4           5.0  "
      ]
     },
     "execution_count": 11,
     "metadata": {},
     "output_type": "execute_result"
    }
   ],
   "source": [
    "df_review_dict.head()"
   ]
  },
  {
   "cell_type": "code",
   "execution_count": 129,
   "id": "58405570",
   "metadata": {},
   "outputs": [
    {
     "data": {
      "text/plain": [
       "283624"
      ]
     },
     "execution_count": 129,
     "metadata": {},
     "output_type": "execute_result"
    }
   ],
   "source": [
    "# total number of reviews\n",
    "len(df_review_dict)"
   ]
  },
  {
   "cell_type": "code",
   "execution_count": 16,
   "id": "131017b3",
   "metadata": {},
   "outputs": [
    {
     "data": {
      "text/plain": [
       "5.0    113847\n",
       "4.0     97743\n",
       "3.0     47241\n",
       "1.0     24924\n",
       "2.0     22024\n",
       "Name: review_score, dtype: int64"
      ]
     },
     "execution_count": 16,
     "metadata": {},
     "output_type": "execute_result"
    }
   ],
   "source": [
    "# reviews split by score\n",
    "df_review_dict.review_score.value_counts()"
   ]
  },
  {
   "cell_type": "code",
   "execution_count": 17,
   "id": "3e95f070",
   "metadata": {},
   "outputs": [
    {
     "data": {
      "text/plain": [
       "5.0    0.372318\n",
       "4.0    0.319652\n",
       "3.0    0.154494\n",
       "1.0    0.081510\n",
       "2.0    0.072026\n",
       "Name: review_score, dtype: float64"
      ]
     },
     "execution_count": 17,
     "metadata": {},
     "output_type": "execute_result"
    }
   ],
   "source": [
    "# reviews split by score and normalized. Baseline for data-set is 0.372\n",
    "df_review_dict.review_score.value_counts(normalize=True)"
   ]
  }
 ],
 "metadata": {
  "kernelspec": {
   "display_name": "Python 3",
   "language": "python",
   "name": "python3"
  },
  "language_info": {
   "codemirror_mode": {
    "name": "ipython",
    "version": 3
   },
   "file_extension": ".py",
   "mimetype": "text/x-python",
   "name": "python",
   "nbconvert_exporter": "python",
   "pygments_lexer": "ipython3",
   "version": "3.8.8"
  }
 },
 "nbformat": 4,
 "nbformat_minor": 5
}
